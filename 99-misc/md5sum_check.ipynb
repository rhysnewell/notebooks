{
 "cells": [
  {
   "cell_type": "code",
   "execution_count": 1,
   "metadata": {},
   "outputs": [],
   "source": [
    "library(data.table)\n",
    "library(stringr)\n",
    "check_md5 <- function(ace_path, cmr_path) {\n",
    "    ace<- fread(ace_path, header=FALSE)\n",
    "    cmr <- fread(cmr_path, header=FALSE)\n",
    "    ace[, V2:=str_replace(V2, '/30days/qut/', '')]\n",
    "    all.equal(ace, cmr, ignore.row.order=TRUE)\n",
    "}\n"
   ]
  },
  {
   "cell_type": "code",
   "execution_count": 12,
   "metadata": {},
   "outputs": [
    {
     "data": {
      "text/html": [
       "<table>\n",
       "<thead><tr><th scope=col>V2</th><th scope=col>V1</th></tr></thead>\n",
       "<tbody>\n",
       "\t<tr><td>abisko1.tar-13                  </td><td>353d0210d74f91f555e00e0860ad7fe9</td></tr>\n",
       "\t<tr><td>abisko1.tar-15                  </td><td>a348f71890bac2f879efb37ebda5d09a</td></tr>\n",
       "\t<tr><td>abisko1.tar-16                  </td><td>1c84f226be70a2e62edeb9e4be337d43</td></tr>\n",
       "\t<tr><td>abisko1.tar-11                  </td><td>fb7ca68c02278ecd8b4d8f996945d0e3</td></tr>\n",
       "\t<tr><td>abisko1.tar-14                  </td><td>e50967346a5305f9c6f64af1b2a99741</td></tr>\n",
       "\t<tr><td>abisko1.tar-12                  </td><td>f64383ebf7ef9c5c24df49f530f20535</td></tr>\n",
       "\t<tr><td>abisko1.tar-10                  </td><td>6e9a9eb044da18d8ee63501b3bfe4be7</td></tr>\n",
       "\t<tr><td>abisko1.tar                     </td><td>84fce966111aa7bf3bb2f3e4c420f754</td></tr>\n",
       "\t<tr><td>abisko1.tar-19                  </td><td>4526452dd3195b614272907bb4e834a1</td></tr>\n",
       "\t<tr><td>abisko1.tar-21                  </td><td>374e9bb114f6a541c35a4a9341bc0b75</td></tr>\n",
       "\t<tr><td>abisko1.tar-17                  </td><td>38123c08833f415fb28c45163afa4a5f</td></tr>\n",
       "\t<tr><td>abisko1.tar-20                  </td><td>1db5e65c8c40fd1626099266d17bd4c3</td></tr>\n",
       "\t<tr><td>abisko1.tar-18                  </td><td>0f5c12dd146c985f04ce0eb4791dba09</td></tr>\n",
       "\t<tr><td>abisko1.tar-22                  </td><td>0733bc5f707d224a68f614a71678d57d</td></tr>\n",
       "\t<tr><td>abisko1.tar-23                  </td><td>efe186ecc09c67e05aaa2c71dccb585e</td></tr>\n",
       "\t<tr><td>abisko1.tar-2                   </td><td>beeb12798e20064d095f5cdab00e5fd2</td></tr>\n",
       "\t<tr><td>abisko1.tar-26                  </td><td>65768026047d538beef1fd1d609ecdd4</td></tr>\n",
       "\t<tr><td>abisko1.tar-25                  </td><td>c8c872d1ad3b7a9ef9ddd39b731a6400</td></tr>\n",
       "\t<tr><td>abisko1.tar-28                  </td><td>f38ab9d0510384e60aa86a4bca89cef1</td></tr>\n",
       "\t<tr><td>abisko1.tar-24                  </td><td>ea65a1c36b0d00d0af50b59438d894d4</td></tr>\n",
       "\t<tr><td>abisko1.tar-29                  </td><td>422d3e77bd30d25b59c40f4a4cad3e36</td></tr>\n",
       "\t<tr><td>abisko1.tar-27                  </td><td>cfc10cbf949809b66194809e8014411a</td></tr>\n",
       "\t<tr><td>abisko1.tar-30                  </td><td>2fe8c518321aba24f4a4acddc961f164</td></tr>\n",
       "\t<tr><td>abisko1.tar-3                   </td><td>831362e41b9b7309fa4603a4977b9e25</td></tr>\n",
       "\t<tr><td>abisko1.tar-33                  </td><td>ff6a35d727c26804148320c373ece8ce</td></tr>\n",
       "\t<tr><td>abisko1.tar-32                  </td><td>a706e9d768df4fa025ec6f745885be54</td></tr>\n",
       "\t<tr><td>abisko1.tar-34                  </td><td>a3c706d3be522a248eec8296d08f9b0a</td></tr>\n",
       "\t<tr><td>abisko1.tar-35                  </td><td>b6eb09deb832c57265654d61f7520cc3</td></tr>\n",
       "\t<tr><td>abisko1.tar-36                  </td><td>11fa5d46330ec9345500feaec6d469b7</td></tr>\n",
       "\t<tr><td>abisko1.tar-31                  </td><td>1262e1bb11f52f85161dd05fc1f76b23</td></tr>\n",
       "\t<tr><td>...</td><td>...</td></tr>\n",
       "\t<tr><td>abisko1.tar-38                  </td><td>a179e5424e4d0cf6ce38ca79bdc9074e</td></tr>\n",
       "\t<tr><td>abisko1.tar-39                  </td><td>1ffc150c0cc8725d43a64683c9b996ca</td></tr>\n",
       "\t<tr><td>abisko1.tar-4                   </td><td>43f93d1b39fc4a188dab5b1f0758688a</td></tr>\n",
       "\t<tr><td>abisko1.tar-5                   </td><td>77a24094ba03a83aa4da8d6ce0ec2151</td></tr>\n",
       "\t<tr><td>abisko1.tar-7                   </td><td>1267dd04d95cbeba27d11755be6307f5</td></tr>\n",
       "\t<tr><td>abisko1.tar-6                   </td><td>8038d62e8fe0f4c69773d92d47bbcd84</td></tr>\n",
       "\t<tr><td>abisko1.tar-8                   </td><td>ee8ee03e8c6e298a0922e3982d1ec246</td></tr>\n",
       "\t<tr><td>abisko1.tar-9                   </td><td>8d95af11bc1ddad778cc4baf83c85cb1</td></tr>\n",
       "\t<tr><td>abisko_data.tar                 </td><td>2627a86ffda14d79572ba5ea0498b271</td></tr>\n",
       "\t<tr><td>abisko_data.tar-10              </td><td>b33308b7ae23c6cd13b7fadaec534e37</td></tr>\n",
       "\t<tr><td>abisko_data.tar-11              </td><td>3dfa21693ea898d66ceef29f115f94a6</td></tr>\n",
       "\t<tr><td>abisko_data.tar-12              </td><td>21c00f35fa5e31f65bd1330a4e34c9b8</td></tr>\n",
       "\t<tr><td>abisko_data.tar-13              </td><td>d6a2fa584276c851cb7df32118a5d80e</td></tr>\n",
       "\t<tr><td>abisko_data.tar-14              </td><td>ba4f4935ccec83ee83d228ccf31bd751</td></tr>\n",
       "\t<tr><td>abisko_data.tar-15              </td><td>1dd6e673dffa2d2b31050ce30d01a5d4</td></tr>\n",
       "\t<tr><td>abisko_data.tar-16              </td><td>437d325a474854057aa1c9000a4729c1</td></tr>\n",
       "\t<tr><td>abisko_data.tar-17              </td><td>60e77ece877cb1cab56742e807eb88cf</td></tr>\n",
       "\t<tr><td>abisko_data.tar-18              </td><td>9ff000df3e41bbe94daafddf40c376ad</td></tr>\n",
       "\t<tr><td>abisko_data.tar-19              </td><td>64b7fb9f3438a1e20ff1ebf924520915</td></tr>\n",
       "\t<tr><td>abisko_data.tar-2               </td><td>5827a4380847995a0a4fbacad6907db9</td></tr>\n",
       "\t<tr><td>abisko_data.tar-20              </td><td>aa3c36582e42baf8d179a8daa069b5b3</td></tr>\n",
       "\t<tr><td>abisko_data.tar-21              </td><td>75d3ebba5b2fcf400fa9b45b6c9d0048</td></tr>\n",
       "\t<tr><td>abisko_data.tar-22              </td><td>0396dfa4bd294f163994fe8f1ebd9fd9</td></tr>\n",
       "\t<tr><td>abisko_data.tar-3               </td><td>5b00d7b63aed5fc346909b7c60c18227</td></tr>\n",
       "\t<tr><td>abisko_data.tar-4               </td><td>b9b221ae59432f172a00bf6e311fcb12</td></tr>\n",
       "\t<tr><td>abisko_data.tar-5               </td><td>2c8473aa06622d393eeda49f9553c2d8</td></tr>\n",
       "\t<tr><td>abisko_data.tar-6               </td><td>2a6225e59692d2e83b2bb568a96c6729</td></tr>\n",
       "\t<tr><td>abisko_data.tar-7               </td><td>2c4b5607401e2e1eb3465cb4ecafc862</td></tr>\n",
       "\t<tr><td>abisko_data.tar-8               </td><td>33cd1f33cd86875f71d53ec8700fd4ec</td></tr>\n",
       "\t<tr><td>abisko_data.tar-9               </td><td>d3400d4fb90cbeddf25d7547947a159d</td></tr>\n",
       "</tbody>\n",
       "</table>\n"
      ],
      "text/latex": [
       "\\begin{tabular}{r|ll}\n",
       " V2 & V1\\\\\n",
       "\\hline\n",
       "\t abisko1.tar-13                   & 353d0210d74f91f555e00e0860ad7fe9\\\\\n",
       "\t abisko1.tar-15                   & a348f71890bac2f879efb37ebda5d09a\\\\\n",
       "\t abisko1.tar-16                   & 1c84f226be70a2e62edeb9e4be337d43\\\\\n",
       "\t abisko1.tar-11                   & fb7ca68c02278ecd8b4d8f996945d0e3\\\\\n",
       "\t abisko1.tar-14                   & e50967346a5305f9c6f64af1b2a99741\\\\\n",
       "\t abisko1.tar-12                   & f64383ebf7ef9c5c24df49f530f20535\\\\\n",
       "\t abisko1.tar-10                   & 6e9a9eb044da18d8ee63501b3bfe4be7\\\\\n",
       "\t abisko1.tar                      & 84fce966111aa7bf3bb2f3e4c420f754\\\\\n",
       "\t abisko1.tar-19                   & 4526452dd3195b614272907bb4e834a1\\\\\n",
       "\t abisko1.tar-21                   & 374e9bb114f6a541c35a4a9341bc0b75\\\\\n",
       "\t abisko1.tar-17                   & 38123c08833f415fb28c45163afa4a5f\\\\\n",
       "\t abisko1.tar-20                   & 1db5e65c8c40fd1626099266d17bd4c3\\\\\n",
       "\t abisko1.tar-18                   & 0f5c12dd146c985f04ce0eb4791dba09\\\\\n",
       "\t abisko1.tar-22                   & 0733bc5f707d224a68f614a71678d57d\\\\\n",
       "\t abisko1.tar-23                   & efe186ecc09c67e05aaa2c71dccb585e\\\\\n",
       "\t abisko1.tar-2                    & beeb12798e20064d095f5cdab00e5fd2\\\\\n",
       "\t abisko1.tar-26                   & 65768026047d538beef1fd1d609ecdd4\\\\\n",
       "\t abisko1.tar-25                   & c8c872d1ad3b7a9ef9ddd39b731a6400\\\\\n",
       "\t abisko1.tar-28                   & f38ab9d0510384e60aa86a4bca89cef1\\\\\n",
       "\t abisko1.tar-24                   & ea65a1c36b0d00d0af50b59438d894d4\\\\\n",
       "\t abisko1.tar-29                   & 422d3e77bd30d25b59c40f4a4cad3e36\\\\\n",
       "\t abisko1.tar-27                   & cfc10cbf949809b66194809e8014411a\\\\\n",
       "\t abisko1.tar-30                   & 2fe8c518321aba24f4a4acddc961f164\\\\\n",
       "\t abisko1.tar-3                    & 831362e41b9b7309fa4603a4977b9e25\\\\\n",
       "\t abisko1.tar-33                   & ff6a35d727c26804148320c373ece8ce\\\\\n",
       "\t abisko1.tar-32                   & a706e9d768df4fa025ec6f745885be54\\\\\n",
       "\t abisko1.tar-34                   & a3c706d3be522a248eec8296d08f9b0a\\\\\n",
       "\t abisko1.tar-35                   & b6eb09deb832c57265654d61f7520cc3\\\\\n",
       "\t abisko1.tar-36                   & 11fa5d46330ec9345500feaec6d469b7\\\\\n",
       "\t abisko1.tar-31                   & 1262e1bb11f52f85161dd05fc1f76b23\\\\\n",
       "\t ... & ...\\\\\n",
       "\t abisko1.tar-38                   & a179e5424e4d0cf6ce38ca79bdc9074e\\\\\n",
       "\t abisko1.tar-39                   & 1ffc150c0cc8725d43a64683c9b996ca\\\\\n",
       "\t abisko1.tar-4                    & 43f93d1b39fc4a188dab5b1f0758688a\\\\\n",
       "\t abisko1.tar-5                    & 77a24094ba03a83aa4da8d6ce0ec2151\\\\\n",
       "\t abisko1.tar-7                    & 1267dd04d95cbeba27d11755be6307f5\\\\\n",
       "\t abisko1.tar-6                    & 8038d62e8fe0f4c69773d92d47bbcd84\\\\\n",
       "\t abisko1.tar-8                    & ee8ee03e8c6e298a0922e3982d1ec246\\\\\n",
       "\t abisko1.tar-9                    & 8d95af11bc1ddad778cc4baf83c85cb1\\\\\n",
       "\t abisko\\_data.tar                & 2627a86ffda14d79572ba5ea0498b271\\\\\n",
       "\t abisko\\_data.tar-10             & b33308b7ae23c6cd13b7fadaec534e37\\\\\n",
       "\t abisko\\_data.tar-11             & 3dfa21693ea898d66ceef29f115f94a6\\\\\n",
       "\t abisko\\_data.tar-12             & 21c00f35fa5e31f65bd1330a4e34c9b8\\\\\n",
       "\t abisko\\_data.tar-13             & d6a2fa584276c851cb7df32118a5d80e\\\\\n",
       "\t abisko\\_data.tar-14             & ba4f4935ccec83ee83d228ccf31bd751\\\\\n",
       "\t abisko\\_data.tar-15             & 1dd6e673dffa2d2b31050ce30d01a5d4\\\\\n",
       "\t abisko\\_data.tar-16             & 437d325a474854057aa1c9000a4729c1\\\\\n",
       "\t abisko\\_data.tar-17             & 60e77ece877cb1cab56742e807eb88cf\\\\\n",
       "\t abisko\\_data.tar-18             & 9ff000df3e41bbe94daafddf40c376ad\\\\\n",
       "\t abisko\\_data.tar-19             & 64b7fb9f3438a1e20ff1ebf924520915\\\\\n",
       "\t abisko\\_data.tar-2              & 5827a4380847995a0a4fbacad6907db9\\\\\n",
       "\t abisko\\_data.tar-20             & aa3c36582e42baf8d179a8daa069b5b3\\\\\n",
       "\t abisko\\_data.tar-21             & 75d3ebba5b2fcf400fa9b45b6c9d0048\\\\\n",
       "\t abisko\\_data.tar-22             & 0396dfa4bd294f163994fe8f1ebd9fd9\\\\\n",
       "\t abisko\\_data.tar-3              & 5b00d7b63aed5fc346909b7c60c18227\\\\\n",
       "\t abisko\\_data.tar-4              & b9b221ae59432f172a00bf6e311fcb12\\\\\n",
       "\t abisko\\_data.tar-5              & 2c8473aa06622d393eeda49f9553c2d8\\\\\n",
       "\t abisko\\_data.tar-6              & 2a6225e59692d2e83b2bb568a96c6729\\\\\n",
       "\t abisko\\_data.tar-7              & 2c4b5607401e2e1eb3465cb4ecafc862\\\\\n",
       "\t abisko\\_data.tar-8              & 33cd1f33cd86875f71d53ec8700fd4ec\\\\\n",
       "\t abisko\\_data.tar-9              & d3400d4fb90cbeddf25d7547947a159d\\\\\n",
       "\\end{tabular}\n"
      ],
      "text/markdown": [
       "\n",
       "| V2 | V1 |\n",
       "|---|---|\n",
       "| abisko1.tar-13                   | 353d0210d74f91f555e00e0860ad7fe9 |\n",
       "| abisko1.tar-15                   | a348f71890bac2f879efb37ebda5d09a |\n",
       "| abisko1.tar-16                   | 1c84f226be70a2e62edeb9e4be337d43 |\n",
       "| abisko1.tar-11                   | fb7ca68c02278ecd8b4d8f996945d0e3 |\n",
       "| abisko1.tar-14                   | e50967346a5305f9c6f64af1b2a99741 |\n",
       "| abisko1.tar-12                   | f64383ebf7ef9c5c24df49f530f20535 |\n",
       "| abisko1.tar-10                   | 6e9a9eb044da18d8ee63501b3bfe4be7 |\n",
       "| abisko1.tar                      | 84fce966111aa7bf3bb2f3e4c420f754 |\n",
       "| abisko1.tar-19                   | 4526452dd3195b614272907bb4e834a1 |\n",
       "| abisko1.tar-21                   | 374e9bb114f6a541c35a4a9341bc0b75 |\n",
       "| abisko1.tar-17                   | 38123c08833f415fb28c45163afa4a5f |\n",
       "| abisko1.tar-20                   | 1db5e65c8c40fd1626099266d17bd4c3 |\n",
       "| abisko1.tar-18                   | 0f5c12dd146c985f04ce0eb4791dba09 |\n",
       "| abisko1.tar-22                   | 0733bc5f707d224a68f614a71678d57d |\n",
       "| abisko1.tar-23                   | efe186ecc09c67e05aaa2c71dccb585e |\n",
       "| abisko1.tar-2                    | beeb12798e20064d095f5cdab00e5fd2 |\n",
       "| abisko1.tar-26                   | 65768026047d538beef1fd1d609ecdd4 |\n",
       "| abisko1.tar-25                   | c8c872d1ad3b7a9ef9ddd39b731a6400 |\n",
       "| abisko1.tar-28                   | f38ab9d0510384e60aa86a4bca89cef1 |\n",
       "| abisko1.tar-24                   | ea65a1c36b0d00d0af50b59438d894d4 |\n",
       "| abisko1.tar-29                   | 422d3e77bd30d25b59c40f4a4cad3e36 |\n",
       "| abisko1.tar-27                   | cfc10cbf949809b66194809e8014411a |\n",
       "| abisko1.tar-30                   | 2fe8c518321aba24f4a4acddc961f164 |\n",
       "| abisko1.tar-3                    | 831362e41b9b7309fa4603a4977b9e25 |\n",
       "| abisko1.tar-33                   | ff6a35d727c26804148320c373ece8ce |\n",
       "| abisko1.tar-32                   | a706e9d768df4fa025ec6f745885be54 |\n",
       "| abisko1.tar-34                   | a3c706d3be522a248eec8296d08f9b0a |\n",
       "| abisko1.tar-35                   | b6eb09deb832c57265654d61f7520cc3 |\n",
       "| abisko1.tar-36                   | 11fa5d46330ec9345500feaec6d469b7 |\n",
       "| abisko1.tar-31                   | 1262e1bb11f52f85161dd05fc1f76b23 |\n",
       "| ... | ... |\n",
       "| abisko1.tar-38                   | a179e5424e4d0cf6ce38ca79bdc9074e |\n",
       "| abisko1.tar-39                   | 1ffc150c0cc8725d43a64683c9b996ca |\n",
       "| abisko1.tar-4                    | 43f93d1b39fc4a188dab5b1f0758688a |\n",
       "| abisko1.tar-5                    | 77a24094ba03a83aa4da8d6ce0ec2151 |\n",
       "| abisko1.tar-7                    | 1267dd04d95cbeba27d11755be6307f5 |\n",
       "| abisko1.tar-6                    | 8038d62e8fe0f4c69773d92d47bbcd84 |\n",
       "| abisko1.tar-8                    | ee8ee03e8c6e298a0922e3982d1ec246 |\n",
       "| abisko1.tar-9                    | 8d95af11bc1ddad778cc4baf83c85cb1 |\n",
       "| abisko_data.tar                  | 2627a86ffda14d79572ba5ea0498b271 |\n",
       "| abisko_data.tar-10               | b33308b7ae23c6cd13b7fadaec534e37 |\n",
       "| abisko_data.tar-11               | 3dfa21693ea898d66ceef29f115f94a6 |\n",
       "| abisko_data.tar-12               | 21c00f35fa5e31f65bd1330a4e34c9b8 |\n",
       "| abisko_data.tar-13               | d6a2fa584276c851cb7df32118a5d80e |\n",
       "| abisko_data.tar-14               | ba4f4935ccec83ee83d228ccf31bd751 |\n",
       "| abisko_data.tar-15               | 1dd6e673dffa2d2b31050ce30d01a5d4 |\n",
       "| abisko_data.tar-16               | 437d325a474854057aa1c9000a4729c1 |\n",
       "| abisko_data.tar-17               | 60e77ece877cb1cab56742e807eb88cf |\n",
       "| abisko_data.tar-18               | 9ff000df3e41bbe94daafddf40c376ad |\n",
       "| abisko_data.tar-19               | 64b7fb9f3438a1e20ff1ebf924520915 |\n",
       "| abisko_data.tar-2                | 5827a4380847995a0a4fbacad6907db9 |\n",
       "| abisko_data.tar-20               | aa3c36582e42baf8d179a8daa069b5b3 |\n",
       "| abisko_data.tar-21               | 75d3ebba5b2fcf400fa9b45b6c9d0048 |\n",
       "| abisko_data.tar-22               | 0396dfa4bd294f163994fe8f1ebd9fd9 |\n",
       "| abisko_data.tar-3                | 5b00d7b63aed5fc346909b7c60c18227 |\n",
       "| abisko_data.tar-4                | b9b221ae59432f172a00bf6e311fcb12 |\n",
       "| abisko_data.tar-5                | 2c8473aa06622d393eeda49f9553c2d8 |\n",
       "| abisko_data.tar-6                | 2a6225e59692d2e83b2bb568a96c6729 |\n",
       "| abisko_data.tar-7                | 2c4b5607401e2e1eb3465cb4ecafc862 |\n",
       "| abisko_data.tar-8                | 33cd1f33cd86875f71d53ec8700fd4ec |\n",
       "| abisko_data.tar-9                | d3400d4fb90cbeddf25d7547947a159d |\n",
       "\n"
      ],
      "text/plain": [
       "    V2                 V1                              \n",
       "1   abisko1.tar-13     353d0210d74f91f555e00e0860ad7fe9\n",
       "2   abisko1.tar-15     a348f71890bac2f879efb37ebda5d09a\n",
       "3   abisko1.tar-16     1c84f226be70a2e62edeb9e4be337d43\n",
       "4   abisko1.tar-11     fb7ca68c02278ecd8b4d8f996945d0e3\n",
       "5   abisko1.tar-14     e50967346a5305f9c6f64af1b2a99741\n",
       "6   abisko1.tar-12     f64383ebf7ef9c5c24df49f530f20535\n",
       "7   abisko1.tar-10     6e9a9eb044da18d8ee63501b3bfe4be7\n",
       "8   abisko1.tar        84fce966111aa7bf3bb2f3e4c420f754\n",
       "9   abisko1.tar-19     4526452dd3195b614272907bb4e834a1\n",
       "10  abisko1.tar-21     374e9bb114f6a541c35a4a9341bc0b75\n",
       "11  abisko1.tar-17     38123c08833f415fb28c45163afa4a5f\n",
       "12  abisko1.tar-20     1db5e65c8c40fd1626099266d17bd4c3\n",
       "13  abisko1.tar-18     0f5c12dd146c985f04ce0eb4791dba09\n",
       "14  abisko1.tar-22     0733bc5f707d224a68f614a71678d57d\n",
       "15  abisko1.tar-23     efe186ecc09c67e05aaa2c71dccb585e\n",
       "16  abisko1.tar-2      beeb12798e20064d095f5cdab00e5fd2\n",
       "17  abisko1.tar-26     65768026047d538beef1fd1d609ecdd4\n",
       "18  abisko1.tar-25     c8c872d1ad3b7a9ef9ddd39b731a6400\n",
       "19  abisko1.tar-28     f38ab9d0510384e60aa86a4bca89cef1\n",
       "20  abisko1.tar-24     ea65a1c36b0d00d0af50b59438d894d4\n",
       "21  abisko1.tar-29     422d3e77bd30d25b59c40f4a4cad3e36\n",
       "22  abisko1.tar-27     cfc10cbf949809b66194809e8014411a\n",
       "23  abisko1.tar-30     2fe8c518321aba24f4a4acddc961f164\n",
       "24  abisko1.tar-3      831362e41b9b7309fa4603a4977b9e25\n",
       "25  abisko1.tar-33     ff6a35d727c26804148320c373ece8ce\n",
       "26  abisko1.tar-32     a706e9d768df4fa025ec6f745885be54\n",
       "27  abisko1.tar-34     a3c706d3be522a248eec8296d08f9b0a\n",
       "28  abisko1.tar-35     b6eb09deb832c57265654d61f7520cc3\n",
       "29  abisko1.tar-36     11fa5d46330ec9345500feaec6d469b7\n",
       "30  abisko1.tar-31     1262e1bb11f52f85161dd05fc1f76b23\n",
       "... ...                ...                             \n",
       "32  abisko1.tar-38     a179e5424e4d0cf6ce38ca79bdc9074e\n",
       "33  abisko1.tar-39     1ffc150c0cc8725d43a64683c9b996ca\n",
       "34  abisko1.tar-4      43f93d1b39fc4a188dab5b1f0758688a\n",
       "35  abisko1.tar-5      77a24094ba03a83aa4da8d6ce0ec2151\n",
       "36  abisko1.tar-7      1267dd04d95cbeba27d11755be6307f5\n",
       "37  abisko1.tar-6      8038d62e8fe0f4c69773d92d47bbcd84\n",
       "38  abisko1.tar-8      ee8ee03e8c6e298a0922e3982d1ec246\n",
       "39  abisko1.tar-9      8d95af11bc1ddad778cc4baf83c85cb1\n",
       "40  abisko_data.tar    2627a86ffda14d79572ba5ea0498b271\n",
       "41  abisko_data.tar-10 b33308b7ae23c6cd13b7fadaec534e37\n",
       "42  abisko_data.tar-11 3dfa21693ea898d66ceef29f115f94a6\n",
       "43  abisko_data.tar-12 21c00f35fa5e31f65bd1330a4e34c9b8\n",
       "44  abisko_data.tar-13 d6a2fa584276c851cb7df32118a5d80e\n",
       "45  abisko_data.tar-14 ba4f4935ccec83ee83d228ccf31bd751\n",
       "46  abisko_data.tar-15 1dd6e673dffa2d2b31050ce30d01a5d4\n",
       "47  abisko_data.tar-16 437d325a474854057aa1c9000a4729c1\n",
       "48  abisko_data.tar-17 60e77ece877cb1cab56742e807eb88cf\n",
       "49  abisko_data.tar-18 9ff000df3e41bbe94daafddf40c376ad\n",
       "50  abisko_data.tar-19 64b7fb9f3438a1e20ff1ebf924520915\n",
       "51  abisko_data.tar-2  5827a4380847995a0a4fbacad6907db9\n",
       "52  abisko_data.tar-20 aa3c36582e42baf8d179a8daa069b5b3\n",
       "53  abisko_data.tar-21 75d3ebba5b2fcf400fa9b45b6c9d0048\n",
       "54  abisko_data.tar-22 0396dfa4bd294f163994fe8f1ebd9fd9\n",
       "55  abisko_data.tar-3  5b00d7b63aed5fc346909b7c60c18227\n",
       "56  abisko_data.tar-4  b9b221ae59432f172a00bf6e311fcb12\n",
       "57  abisko_data.tar-5  2c8473aa06622d393eeda49f9553c2d8\n",
       "58  abisko_data.tar-6  2a6225e59692d2e83b2bb568a96c6729\n",
       "59  abisko_data.tar-7  2c4b5607401e2e1eb3465cb4ecafc862\n",
       "60  abisko_data.tar-8  33cd1f33cd86875f71d53ec8700fd4ec\n",
       "61  abisko_data.tar-9  d3400d4fb90cbeddf25d7547947a159d"
      ]
     },
     "metadata": {},
     "output_type": "display_data"
    },
    {
     "data": {
      "text/html": [
       "<table>\n",
       "<thead><tr><th scope=col>V2</th><th scope=col>V1</th></tr></thead>\n",
       "<tbody>\n",
       "\t<tr><td>abisko1.tar-39                  </td><td>1ffc150c0cc8725d43a64683c9b996ca</td></tr>\n",
       "\t<tr><td>abisko_data.tar-22              </td><td>0396dfa4bd294f163994fe8f1ebd9fd9</td></tr>\n",
       "\t<tr><td>abisko1.tar-20                  </td><td>1db5e65c8c40fd1626099266d17bd4c3</td></tr>\n",
       "\t<tr><td>abisko1.tar-35                  </td><td>b6eb09deb832c57265654d61f7520cc3</td></tr>\n",
       "\t<tr><td>abisko_data.tar-14              </td><td>ba4f4935ccec83ee83d228ccf31bd751</td></tr>\n",
       "\t<tr><td>abisko_data.tar-16              </td><td>437d325a474854057aa1c9000a4729c1</td></tr>\n",
       "\t<tr><td>abisko1.tar-3                   </td><td>831362e41b9b7309fa4603a4977b9e25</td></tr>\n",
       "\t<tr><td>abisko1.tar-36                  </td><td>11fa5d46330ec9345500feaec6d469b7</td></tr>\n",
       "\t<tr><td>abisko_data.tar-8               </td><td>33cd1f33cd86875f71d53ec8700fd4ec</td></tr>\n",
       "\t<tr><td>abisko_data.tar-4               </td><td>b9b221ae59432f172a00bf6e311fcb12</td></tr>\n",
       "\t<tr><td>abisko_data.tar-11              </td><td>3dfa21693ea898d66ceef29f115f94a6</td></tr>\n",
       "\t<tr><td>abisko1.tar-31                  </td><td>1262e1bb11f52f85161dd05fc1f76b23</td></tr>\n",
       "\t<tr><td>abisko1.tar-26                  </td><td>65768026047d538beef1fd1d609ecdd4</td></tr>\n",
       "\t<tr><td>abisko1.tar-17                  </td><td>38123c08833f415fb28c45163afa4a5f</td></tr>\n",
       "\t<tr><td>abisko1.tar-32                  </td><td>a706e9d768df4fa025ec6f745885be54</td></tr>\n",
       "\t<tr><td>abisko1.tar-10                  </td><td>6e9a9eb044da18d8ee63501b3bfe4be7</td></tr>\n",
       "\t<tr><td>abisko1.tar-30                  </td><td>2fe8c518321aba24f4a4acddc961f164</td></tr>\n",
       "\t<tr><td>abisko_data.tar-2               </td><td>5827a4380847995a0a4fbacad6907db9</td></tr>\n",
       "\t<tr><td>abisko_data.tar-9               </td><td>d3400d4fb90cbeddf25d7547947a159d</td></tr>\n",
       "\t<tr><td>abisko1.tar-4                   </td><td>43f93d1b39fc4a188dab5b1f0758688a</td></tr>\n",
       "\t<tr><td>abisko_data.tar-15              </td><td>1dd6e673dffa2d2b31050ce30d01a5d4</td></tr>\n",
       "\t<tr><td>abisko1.tar-2                   </td><td>beeb12798e20064d095f5cdab00e5fd2</td></tr>\n",
       "\t<tr><td>abisko1.tar                     </td><td>84fce966111aa7bf3bb2f3e4c420f754</td></tr>\n",
       "\t<tr><td>abisko_data.tar                 </td><td>2627a86ffda14d79572ba5ea0498b271</td></tr>\n",
       "\t<tr><td>abisko_data.tar-13              </td><td>d6a2fa584276c851cb7df32118a5d80e</td></tr>\n",
       "\t<tr><td>abisko_data.tar-21              </td><td>75d3ebba5b2fcf400fa9b45b6c9d0048</td></tr>\n",
       "\t<tr><td>abisko_data.tar-3               </td><td>5b00d7b63aed5fc346909b7c60c18227</td></tr>\n",
       "\t<tr><td>abisko1.tar-5                   </td><td>77a24094ba03a83aa4da8d6ce0ec2151</td></tr>\n",
       "\t<tr><td>abisko1.tar-22                  </td><td>0733bc5f707d224a68f614a71678d57d</td></tr>\n",
       "\t<tr><td>abisko1.tar-11                  </td><td>fb7ca68c02278ecd8b4d8f996945d0e3</td></tr>\n",
       "\t<tr><td>...</td><td>...</td></tr>\n",
       "\t<tr><td>abisko1.tar-15                  </td><td>a348f71890bac2f879efb37ebda5d09a</td></tr>\n",
       "\t<tr><td>abisko1.tar-34                  </td><td>a3c706d3be522a248eec8296d08f9b0a</td></tr>\n",
       "\t<tr><td>abisko_data.tar-20              </td><td>aa3c36582e42baf8d179a8daa069b5b3</td></tr>\n",
       "\t<tr><td>abisko_data.tar-6               </td><td>2a6225e59692d2e83b2bb568a96c6729</td></tr>\n",
       "\t<tr><td>abisko1.tar-9                   </td><td>8d95af11bc1ddad778cc4baf83c85cb1</td></tr>\n",
       "\t<tr><td>abisko_data.tar-7               </td><td>2c4b5607401e2e1eb3465cb4ecafc862</td></tr>\n",
       "\t<tr><td>abisko1.tar-37                  </td><td>dd3a36ad12cac0111a5ff5e3b94fc256</td></tr>\n",
       "\t<tr><td>abisko1.tar-38                  </td><td>a179e5424e4d0cf6ce38ca79bdc9074e</td></tr>\n",
       "\t<tr><td>abisko1.tar-28                  </td><td>f38ab9d0510384e60aa86a4bca89cef1</td></tr>\n",
       "\t<tr><td>abisko1.tar-25                  </td><td>c8c872d1ad3b7a9ef9ddd39b731a6400</td></tr>\n",
       "\t<tr><td>abisko1.tar-16                  </td><td>1c84f226be70a2e62edeb9e4be337d43</td></tr>\n",
       "\t<tr><td>abisko1.tar-27                  </td><td>cfc10cbf949809b66194809e8014411a</td></tr>\n",
       "\t<tr><td>abisko_data.tar-12              </td><td>21c00f35fa5e31f65bd1330a4e34c9b8</td></tr>\n",
       "\t<tr><td>abisko1.tar-33                  </td><td>ff6a35d727c26804148320c373ece8ce</td></tr>\n",
       "\t<tr><td>abisko1.tar-23                  </td><td>efe186ecc09c67e05aaa2c71dccb585e</td></tr>\n",
       "\t<tr><td>abisko1.tar-19                  </td><td>4526452dd3195b614272907bb4e834a1</td></tr>\n",
       "\t<tr><td>abisko1.tar-24                  </td><td>ea65a1c36b0d00d0af50b59438d894d4</td></tr>\n",
       "\t<tr><td>abisko_data.tar-18              </td><td>9ff000df3e41bbe94daafddf40c376ad</td></tr>\n",
       "\t<tr><td>abisko1.tar-12                  </td><td>f64383ebf7ef9c5c24df49f530f20535</td></tr>\n",
       "\t<tr><td>abisko1.tar-18                  </td><td>0f5c12dd146c985f04ce0eb4791dba09</td></tr>\n",
       "\t<tr><td>abisko1.tar-6                   </td><td>8038d62e8fe0f4c69773d92d47bbcd84</td></tr>\n",
       "\t<tr><td>abisko1.tar-13                  </td><td>353d0210d74f91f555e00e0860ad7fe9</td></tr>\n",
       "\t<tr><td>abisko_data.tar-17              </td><td>60e77ece877cb1cab56742e807eb88cf</td></tr>\n",
       "\t<tr><td>abisko1.tar-21                  </td><td>374e9bb114f6a541c35a4a9341bc0b75</td></tr>\n",
       "\t<tr><td>abisko_data.tar-5               </td><td>2c8473aa06622d393eeda49f9553c2d8</td></tr>\n",
       "\t<tr><td>abisko1.tar-14                  </td><td>e50967346a5305f9c6f64af1b2a99741</td></tr>\n",
       "\t<tr><td>abisko1.tar-29                  </td><td>422d3e77bd30d25b59c40f4a4cad3e36</td></tr>\n",
       "\t<tr><td>abisko_data.tar-19              </td><td>64b7fb9f3438a1e20ff1ebf924520915</td></tr>\n",
       "\t<tr><td>abisko1.tar-7                   </td><td>1267dd04d95cbeba27d11755be6307f5</td></tr>\n",
       "\t<tr><td>abisko1.tar-8                   </td><td>ee8ee03e8c6e298a0922e3982d1ec246</td></tr>\n",
       "</tbody>\n",
       "</table>\n"
      ],
      "text/latex": [
       "\\begin{tabular}{r|ll}\n",
       " V2 & V1\\\\\n",
       "\\hline\n",
       "\t abisko1.tar-39                   & 1ffc150c0cc8725d43a64683c9b996ca\\\\\n",
       "\t abisko\\_data.tar-22             & 0396dfa4bd294f163994fe8f1ebd9fd9\\\\\n",
       "\t abisko1.tar-20                   & 1db5e65c8c40fd1626099266d17bd4c3\\\\\n",
       "\t abisko1.tar-35                   & b6eb09deb832c57265654d61f7520cc3\\\\\n",
       "\t abisko\\_data.tar-14             & ba4f4935ccec83ee83d228ccf31bd751\\\\\n",
       "\t abisko\\_data.tar-16             & 437d325a474854057aa1c9000a4729c1\\\\\n",
       "\t abisko1.tar-3                    & 831362e41b9b7309fa4603a4977b9e25\\\\\n",
       "\t abisko1.tar-36                   & 11fa5d46330ec9345500feaec6d469b7\\\\\n",
       "\t abisko\\_data.tar-8              & 33cd1f33cd86875f71d53ec8700fd4ec\\\\\n",
       "\t abisko\\_data.tar-4              & b9b221ae59432f172a00bf6e311fcb12\\\\\n",
       "\t abisko\\_data.tar-11             & 3dfa21693ea898d66ceef29f115f94a6\\\\\n",
       "\t abisko1.tar-31                   & 1262e1bb11f52f85161dd05fc1f76b23\\\\\n",
       "\t abisko1.tar-26                   & 65768026047d538beef1fd1d609ecdd4\\\\\n",
       "\t abisko1.tar-17                   & 38123c08833f415fb28c45163afa4a5f\\\\\n",
       "\t abisko1.tar-32                   & a706e9d768df4fa025ec6f745885be54\\\\\n",
       "\t abisko1.tar-10                   & 6e9a9eb044da18d8ee63501b3bfe4be7\\\\\n",
       "\t abisko1.tar-30                   & 2fe8c518321aba24f4a4acddc961f164\\\\\n",
       "\t abisko\\_data.tar-2              & 5827a4380847995a0a4fbacad6907db9\\\\\n",
       "\t abisko\\_data.tar-9              & d3400d4fb90cbeddf25d7547947a159d\\\\\n",
       "\t abisko1.tar-4                    & 43f93d1b39fc4a188dab5b1f0758688a\\\\\n",
       "\t abisko\\_data.tar-15             & 1dd6e673dffa2d2b31050ce30d01a5d4\\\\\n",
       "\t abisko1.tar-2                    & beeb12798e20064d095f5cdab00e5fd2\\\\\n",
       "\t abisko1.tar                      & 84fce966111aa7bf3bb2f3e4c420f754\\\\\n",
       "\t abisko\\_data.tar                & 2627a86ffda14d79572ba5ea0498b271\\\\\n",
       "\t abisko\\_data.tar-13             & d6a2fa584276c851cb7df32118a5d80e\\\\\n",
       "\t abisko\\_data.tar-21             & 75d3ebba5b2fcf400fa9b45b6c9d0048\\\\\n",
       "\t abisko\\_data.tar-3              & 5b00d7b63aed5fc346909b7c60c18227\\\\\n",
       "\t abisko1.tar-5                    & 77a24094ba03a83aa4da8d6ce0ec2151\\\\\n",
       "\t abisko1.tar-22                   & 0733bc5f707d224a68f614a71678d57d\\\\\n",
       "\t abisko1.tar-11                   & fb7ca68c02278ecd8b4d8f996945d0e3\\\\\n",
       "\t ... & ...\\\\\n",
       "\t abisko1.tar-15                   & a348f71890bac2f879efb37ebda5d09a\\\\\n",
       "\t abisko1.tar-34                   & a3c706d3be522a248eec8296d08f9b0a\\\\\n",
       "\t abisko\\_data.tar-20             & aa3c36582e42baf8d179a8daa069b5b3\\\\\n",
       "\t abisko\\_data.tar-6              & 2a6225e59692d2e83b2bb568a96c6729\\\\\n",
       "\t abisko1.tar-9                    & 8d95af11bc1ddad778cc4baf83c85cb1\\\\\n",
       "\t abisko\\_data.tar-7              & 2c4b5607401e2e1eb3465cb4ecafc862\\\\\n",
       "\t abisko1.tar-37                   & dd3a36ad12cac0111a5ff5e3b94fc256\\\\\n",
       "\t abisko1.tar-38                   & a179e5424e4d0cf6ce38ca79bdc9074e\\\\\n",
       "\t abisko1.tar-28                   & f38ab9d0510384e60aa86a4bca89cef1\\\\\n",
       "\t abisko1.tar-25                   & c8c872d1ad3b7a9ef9ddd39b731a6400\\\\\n",
       "\t abisko1.tar-16                   & 1c84f226be70a2e62edeb9e4be337d43\\\\\n",
       "\t abisko1.tar-27                   & cfc10cbf949809b66194809e8014411a\\\\\n",
       "\t abisko\\_data.tar-12             & 21c00f35fa5e31f65bd1330a4e34c9b8\\\\\n",
       "\t abisko1.tar-33                   & ff6a35d727c26804148320c373ece8ce\\\\\n",
       "\t abisko1.tar-23                   & efe186ecc09c67e05aaa2c71dccb585e\\\\\n",
       "\t abisko1.tar-19                   & 4526452dd3195b614272907bb4e834a1\\\\\n",
       "\t abisko1.tar-24                   & ea65a1c36b0d00d0af50b59438d894d4\\\\\n",
       "\t abisko\\_data.tar-18             & 9ff000df3e41bbe94daafddf40c376ad\\\\\n",
       "\t abisko1.tar-12                   & f64383ebf7ef9c5c24df49f530f20535\\\\\n",
       "\t abisko1.tar-18                   & 0f5c12dd146c985f04ce0eb4791dba09\\\\\n",
       "\t abisko1.tar-6                    & 8038d62e8fe0f4c69773d92d47bbcd84\\\\\n",
       "\t abisko1.tar-13                   & 353d0210d74f91f555e00e0860ad7fe9\\\\\n",
       "\t abisko\\_data.tar-17             & 60e77ece877cb1cab56742e807eb88cf\\\\\n",
       "\t abisko1.tar-21                   & 374e9bb114f6a541c35a4a9341bc0b75\\\\\n",
       "\t abisko\\_data.tar-5              & 2c8473aa06622d393eeda49f9553c2d8\\\\\n",
       "\t abisko1.tar-14                   & e50967346a5305f9c6f64af1b2a99741\\\\\n",
       "\t abisko1.tar-29                   & 422d3e77bd30d25b59c40f4a4cad3e36\\\\\n",
       "\t abisko\\_data.tar-19             & 64b7fb9f3438a1e20ff1ebf924520915\\\\\n",
       "\t abisko1.tar-7                    & 1267dd04d95cbeba27d11755be6307f5\\\\\n",
       "\t abisko1.tar-8                    & ee8ee03e8c6e298a0922e3982d1ec246\\\\\n",
       "\\end{tabular}\n"
      ],
      "text/markdown": [
       "\n",
       "| V2 | V1 |\n",
       "|---|---|\n",
       "| abisko1.tar-39                   | 1ffc150c0cc8725d43a64683c9b996ca |\n",
       "| abisko_data.tar-22               | 0396dfa4bd294f163994fe8f1ebd9fd9 |\n",
       "| abisko1.tar-20                   | 1db5e65c8c40fd1626099266d17bd4c3 |\n",
       "| abisko1.tar-35                   | b6eb09deb832c57265654d61f7520cc3 |\n",
       "| abisko_data.tar-14               | ba4f4935ccec83ee83d228ccf31bd751 |\n",
       "| abisko_data.tar-16               | 437d325a474854057aa1c9000a4729c1 |\n",
       "| abisko1.tar-3                    | 831362e41b9b7309fa4603a4977b9e25 |\n",
       "| abisko1.tar-36                   | 11fa5d46330ec9345500feaec6d469b7 |\n",
       "| abisko_data.tar-8                | 33cd1f33cd86875f71d53ec8700fd4ec |\n",
       "| abisko_data.tar-4                | b9b221ae59432f172a00bf6e311fcb12 |\n",
       "| abisko_data.tar-11               | 3dfa21693ea898d66ceef29f115f94a6 |\n",
       "| abisko1.tar-31                   | 1262e1bb11f52f85161dd05fc1f76b23 |\n",
       "| abisko1.tar-26                   | 65768026047d538beef1fd1d609ecdd4 |\n",
       "| abisko1.tar-17                   | 38123c08833f415fb28c45163afa4a5f |\n",
       "| abisko1.tar-32                   | a706e9d768df4fa025ec6f745885be54 |\n",
       "| abisko1.tar-10                   | 6e9a9eb044da18d8ee63501b3bfe4be7 |\n",
       "| abisko1.tar-30                   | 2fe8c518321aba24f4a4acddc961f164 |\n",
       "| abisko_data.tar-2                | 5827a4380847995a0a4fbacad6907db9 |\n",
       "| abisko_data.tar-9                | d3400d4fb90cbeddf25d7547947a159d |\n",
       "| abisko1.tar-4                    | 43f93d1b39fc4a188dab5b1f0758688a |\n",
       "| abisko_data.tar-15               | 1dd6e673dffa2d2b31050ce30d01a5d4 |\n",
       "| abisko1.tar-2                    | beeb12798e20064d095f5cdab00e5fd2 |\n",
       "| abisko1.tar                      | 84fce966111aa7bf3bb2f3e4c420f754 |\n",
       "| abisko_data.tar                  | 2627a86ffda14d79572ba5ea0498b271 |\n",
       "| abisko_data.tar-13               | d6a2fa584276c851cb7df32118a5d80e |\n",
       "| abisko_data.tar-21               | 75d3ebba5b2fcf400fa9b45b6c9d0048 |\n",
       "| abisko_data.tar-3                | 5b00d7b63aed5fc346909b7c60c18227 |\n",
       "| abisko1.tar-5                    | 77a24094ba03a83aa4da8d6ce0ec2151 |\n",
       "| abisko1.tar-22                   | 0733bc5f707d224a68f614a71678d57d |\n",
       "| abisko1.tar-11                   | fb7ca68c02278ecd8b4d8f996945d0e3 |\n",
       "| ... | ... |\n",
       "| abisko1.tar-15                   | a348f71890bac2f879efb37ebda5d09a |\n",
       "| abisko1.tar-34                   | a3c706d3be522a248eec8296d08f9b0a |\n",
       "| abisko_data.tar-20               | aa3c36582e42baf8d179a8daa069b5b3 |\n",
       "| abisko_data.tar-6                | 2a6225e59692d2e83b2bb568a96c6729 |\n",
       "| abisko1.tar-9                    | 8d95af11bc1ddad778cc4baf83c85cb1 |\n",
       "| abisko_data.tar-7                | 2c4b5607401e2e1eb3465cb4ecafc862 |\n",
       "| abisko1.tar-37                   | dd3a36ad12cac0111a5ff5e3b94fc256 |\n",
       "| abisko1.tar-38                   | a179e5424e4d0cf6ce38ca79bdc9074e |\n",
       "| abisko1.tar-28                   | f38ab9d0510384e60aa86a4bca89cef1 |\n",
       "| abisko1.tar-25                   | c8c872d1ad3b7a9ef9ddd39b731a6400 |\n",
       "| abisko1.tar-16                   | 1c84f226be70a2e62edeb9e4be337d43 |\n",
       "| abisko1.tar-27                   | cfc10cbf949809b66194809e8014411a |\n",
       "| abisko_data.tar-12               | 21c00f35fa5e31f65bd1330a4e34c9b8 |\n",
       "| abisko1.tar-33                   | ff6a35d727c26804148320c373ece8ce |\n",
       "| abisko1.tar-23                   | efe186ecc09c67e05aaa2c71dccb585e |\n",
       "| abisko1.tar-19                   | 4526452dd3195b614272907bb4e834a1 |\n",
       "| abisko1.tar-24                   | ea65a1c36b0d00d0af50b59438d894d4 |\n",
       "| abisko_data.tar-18               | 9ff000df3e41bbe94daafddf40c376ad |\n",
       "| abisko1.tar-12                   | f64383ebf7ef9c5c24df49f530f20535 |\n",
       "| abisko1.tar-18                   | 0f5c12dd146c985f04ce0eb4791dba09 |\n",
       "| abisko1.tar-6                    | 8038d62e8fe0f4c69773d92d47bbcd84 |\n",
       "| abisko1.tar-13                   | 353d0210d74f91f555e00e0860ad7fe9 |\n",
       "| abisko_data.tar-17               | 60e77ece877cb1cab56742e807eb88cf |\n",
       "| abisko1.tar-21                   | 374e9bb114f6a541c35a4a9341bc0b75 |\n",
       "| abisko_data.tar-5                | 2c8473aa06622d393eeda49f9553c2d8 |\n",
       "| abisko1.tar-14                   | e50967346a5305f9c6f64af1b2a99741 |\n",
       "| abisko1.tar-29                   | 422d3e77bd30d25b59c40f4a4cad3e36 |\n",
       "| abisko_data.tar-19               | 64b7fb9f3438a1e20ff1ebf924520915 |\n",
       "| abisko1.tar-7                    | 1267dd04d95cbeba27d11755be6307f5 |\n",
       "| abisko1.tar-8                    | ee8ee03e8c6e298a0922e3982d1ec246 |\n",
       "\n"
      ],
      "text/plain": [
       "    V2                 V1                              \n",
       "1   abisko1.tar-39     1ffc150c0cc8725d43a64683c9b996ca\n",
       "2   abisko_data.tar-22 0396dfa4bd294f163994fe8f1ebd9fd9\n",
       "3   abisko1.tar-20     1db5e65c8c40fd1626099266d17bd4c3\n",
       "4   abisko1.tar-35     b6eb09deb832c57265654d61f7520cc3\n",
       "5   abisko_data.tar-14 ba4f4935ccec83ee83d228ccf31bd751\n",
       "6   abisko_data.tar-16 437d325a474854057aa1c9000a4729c1\n",
       "7   abisko1.tar-3      831362e41b9b7309fa4603a4977b9e25\n",
       "8   abisko1.tar-36     11fa5d46330ec9345500feaec6d469b7\n",
       "9   abisko_data.tar-8  33cd1f33cd86875f71d53ec8700fd4ec\n",
       "10  abisko_data.tar-4  b9b221ae59432f172a00bf6e311fcb12\n",
       "11  abisko_data.tar-11 3dfa21693ea898d66ceef29f115f94a6\n",
       "12  abisko1.tar-31     1262e1bb11f52f85161dd05fc1f76b23\n",
       "13  abisko1.tar-26     65768026047d538beef1fd1d609ecdd4\n",
       "14  abisko1.tar-17     38123c08833f415fb28c45163afa4a5f\n",
       "15  abisko1.tar-32     a706e9d768df4fa025ec6f745885be54\n",
       "16  abisko1.tar-10     6e9a9eb044da18d8ee63501b3bfe4be7\n",
       "17  abisko1.tar-30     2fe8c518321aba24f4a4acddc961f164\n",
       "18  abisko_data.tar-2  5827a4380847995a0a4fbacad6907db9\n",
       "19  abisko_data.tar-9  d3400d4fb90cbeddf25d7547947a159d\n",
       "20  abisko1.tar-4      43f93d1b39fc4a188dab5b1f0758688a\n",
       "21  abisko_data.tar-15 1dd6e673dffa2d2b31050ce30d01a5d4\n",
       "22  abisko1.tar-2      beeb12798e20064d095f5cdab00e5fd2\n",
       "23  abisko1.tar        84fce966111aa7bf3bb2f3e4c420f754\n",
       "24  abisko_data.tar    2627a86ffda14d79572ba5ea0498b271\n",
       "25  abisko_data.tar-13 d6a2fa584276c851cb7df32118a5d80e\n",
       "26  abisko_data.tar-21 75d3ebba5b2fcf400fa9b45b6c9d0048\n",
       "27  abisko_data.tar-3  5b00d7b63aed5fc346909b7c60c18227\n",
       "28  abisko1.tar-5      77a24094ba03a83aa4da8d6ce0ec2151\n",
       "29  abisko1.tar-22     0733bc5f707d224a68f614a71678d57d\n",
       "30  abisko1.tar-11     fb7ca68c02278ecd8b4d8f996945d0e3\n",
       "... ...                ...                             \n",
       "32  abisko1.tar-15     a348f71890bac2f879efb37ebda5d09a\n",
       "33  abisko1.tar-34     a3c706d3be522a248eec8296d08f9b0a\n",
       "34  abisko_data.tar-20 aa3c36582e42baf8d179a8daa069b5b3\n",
       "35  abisko_data.tar-6  2a6225e59692d2e83b2bb568a96c6729\n",
       "36  abisko1.tar-9      8d95af11bc1ddad778cc4baf83c85cb1\n",
       "37  abisko_data.tar-7  2c4b5607401e2e1eb3465cb4ecafc862\n",
       "38  abisko1.tar-37     dd3a36ad12cac0111a5ff5e3b94fc256\n",
       "39  abisko1.tar-38     a179e5424e4d0cf6ce38ca79bdc9074e\n",
       "40  abisko1.tar-28     f38ab9d0510384e60aa86a4bca89cef1\n",
       "41  abisko1.tar-25     c8c872d1ad3b7a9ef9ddd39b731a6400\n",
       "42  abisko1.tar-16     1c84f226be70a2e62edeb9e4be337d43\n",
       "43  abisko1.tar-27     cfc10cbf949809b66194809e8014411a\n",
       "44  abisko_data.tar-12 21c00f35fa5e31f65bd1330a4e34c9b8\n",
       "45  abisko1.tar-33     ff6a35d727c26804148320c373ece8ce\n",
       "46  abisko1.tar-23     efe186ecc09c67e05aaa2c71dccb585e\n",
       "47  abisko1.tar-19     4526452dd3195b614272907bb4e834a1\n",
       "48  abisko1.tar-24     ea65a1c36b0d00d0af50b59438d894d4\n",
       "49  abisko_data.tar-18 9ff000df3e41bbe94daafddf40c376ad\n",
       "50  abisko1.tar-12     f64383ebf7ef9c5c24df49f530f20535\n",
       "51  abisko1.tar-18     0f5c12dd146c985f04ce0eb4791dba09\n",
       "52  abisko1.tar-6      8038d62e8fe0f4c69773d92d47bbcd84\n",
       "53  abisko1.tar-13     353d0210d74f91f555e00e0860ad7fe9\n",
       "54  abisko_data.tar-17 60e77ece877cb1cab56742e807eb88cf\n",
       "55  abisko1.tar-21     374e9bb114f6a541c35a4a9341bc0b75\n",
       "56  abisko_data.tar-5  2c8473aa06622d393eeda49f9553c2d8\n",
       "57  abisko1.tar-14     e50967346a5305f9c6f64af1b2a99741\n",
       "58  abisko1.tar-29     422d3e77bd30d25b59c40f4a4cad3e36\n",
       "59  abisko_data.tar-19 64b7fb9f3438a1e20ff1ebf924520915\n",
       "60  abisko1.tar-7      1267dd04d95cbeba27d11755be6307f5\n",
       "61  abisko1.tar-8      ee8ee03e8c6e298a0922e3982d1ec246"
      ]
     },
     "metadata": {},
     "output_type": "display_data"
    }
   ],
   "source": [
    "abisko_copied <- fread(\"/work/microbiome/abisko/abisko_copy.md5\", header=FALSE)\n",
    "abisko_1 <- fread(\"/work/microbiome/abisko/abisko1.md5\", header=FALSE)\n",
    "abisko_2 <- fread(\"/work/microbiome/abisko/abisko_data.md5\", header=FALSE)\n",
    "abisko_real <- rbind(abisko_1, abisko_2)\n",
    "abisko_real[, .SD, by=V2]\n",
    "abisko_copied[, .SD, by=V2]"
   ]
  },
  {
   "cell_type": "code",
   "execution_count": 13,
   "metadata": {},
   "outputs": [
    {
     "data": {
      "text/html": [
       "TRUE"
      ],
      "text/latex": [
       "TRUE"
      ],
      "text/markdown": [
       "TRUE"
      ],
      "text/plain": [
       "[1] TRUE"
      ]
     },
     "metadata": {},
     "output_type": "display_data"
    }
   ],
   "source": [
    "all.equal(abisko_copied, abisko_real, ignore.row.order=TRUE)"
   ]
  },
  {
   "cell_type": "code",
   "execution_count": 8,
   "metadata": {},
   "outputs": [
    {
     "data": {
      "text/html": [
       "<table>\n",
       "<thead><tr><th scope=col>V2</th><th scope=col>V1</th></tr></thead>\n",
       "<tbody>\n",
       "\t<tr><td>abisko_rhys.tar                 </td><td>7050b620fbad65a10dc5d5a59efc417e</td></tr>\n",
       "\t<tr><td>abisko_rhys.tar-2               </td><td>c27ecf3ee5ab8194d027dd2f382cf10c</td></tr>\n",
       "\t<tr><td>abisko_rhys.tar-3               </td><td>45518faf4f47b4df0e0f43125aca0562</td></tr>\n",
       "\t<tr><td>abisko_rhys.tar-4               </td><td>aee66fe8626778cbecfbe5a826544a32</td></tr>\n",
       "\t<tr><td>abisko_rhys.tar-5               </td><td>b73d7beead4a15fa4f5361c0b5946790</td></tr>\n",
       "\t<tr><td>abisko_rhys.tar-6               </td><td>6ed40095b2ea72f0f92cefbb9d2b1a5b</td></tr>\n",
       "\t<tr><td>abisko_rhys.tar-7               </td><td>6b3877f71d89cf41c68a5ab04e5dee42</td></tr>\n",
       "\t<tr><td>abisko_rhys.tar-8               </td><td>ae79d76c58e0658a798874d60e57be01</td></tr>\n",
       "</tbody>\n",
       "</table>\n"
      ],
      "text/latex": [
       "\\begin{tabular}{r|ll}\n",
       " V2 & V1\\\\\n",
       "\\hline\n",
       "\t abisko\\_rhys.tar                & 7050b620fbad65a10dc5d5a59efc417e\\\\\n",
       "\t abisko\\_rhys.tar-2              & c27ecf3ee5ab8194d027dd2f382cf10c\\\\\n",
       "\t abisko\\_rhys.tar-3              & 45518faf4f47b4df0e0f43125aca0562\\\\\n",
       "\t abisko\\_rhys.tar-4              & aee66fe8626778cbecfbe5a826544a32\\\\\n",
       "\t abisko\\_rhys.tar-5              & b73d7beead4a15fa4f5361c0b5946790\\\\\n",
       "\t abisko\\_rhys.tar-6              & 6ed40095b2ea72f0f92cefbb9d2b1a5b\\\\\n",
       "\t abisko\\_rhys.tar-7              & 6b3877f71d89cf41c68a5ab04e5dee42\\\\\n",
       "\t abisko\\_rhys.tar-8              & ae79d76c58e0658a798874d60e57be01\\\\\n",
       "\\end{tabular}\n"
      ],
      "text/markdown": [
       "\n",
       "| V2 | V1 |\n",
       "|---|---|\n",
       "| abisko_rhys.tar                  | 7050b620fbad65a10dc5d5a59efc417e |\n",
       "| abisko_rhys.tar-2                | c27ecf3ee5ab8194d027dd2f382cf10c |\n",
       "| abisko_rhys.tar-3                | 45518faf4f47b4df0e0f43125aca0562 |\n",
       "| abisko_rhys.tar-4                | aee66fe8626778cbecfbe5a826544a32 |\n",
       "| abisko_rhys.tar-5                | b73d7beead4a15fa4f5361c0b5946790 |\n",
       "| abisko_rhys.tar-6                | 6ed40095b2ea72f0f92cefbb9d2b1a5b |\n",
       "| abisko_rhys.tar-7                | 6b3877f71d89cf41c68a5ab04e5dee42 |\n",
       "| abisko_rhys.tar-8                | ae79d76c58e0658a798874d60e57be01 |\n",
       "\n"
      ],
      "text/plain": [
       "  V2                V1                              \n",
       "1 abisko_rhys.tar   7050b620fbad65a10dc5d5a59efc417e\n",
       "2 abisko_rhys.tar-2 c27ecf3ee5ab8194d027dd2f382cf10c\n",
       "3 abisko_rhys.tar-3 45518faf4f47b4df0e0f43125aca0562\n",
       "4 abisko_rhys.tar-4 aee66fe8626778cbecfbe5a826544a32\n",
       "5 abisko_rhys.tar-5 b73d7beead4a15fa4f5361c0b5946790\n",
       "6 abisko_rhys.tar-6 6ed40095b2ea72f0f92cefbb9d2b1a5b\n",
       "7 abisko_rhys.tar-7 6b3877f71d89cf41c68a5ab04e5dee42\n",
       "8 abisko_rhys.tar-8 ae79d76c58e0658a798874d60e57be01"
      ]
     },
     "metadata": {},
     "output_type": "display_data"
    },
    {
     "data": {
      "text/html": [
       "<table>\n",
       "<thead><tr><th scope=col>V2</th><th scope=col>V1</th></tr></thead>\n",
       "<tbody>\n",
       "\t<tr><td>abisko_rhys.tar                 </td><td>7050b620fbad65a10dc5d5a59efc417e</td></tr>\n",
       "\t<tr><td>abisko_rhys.tar-2               </td><td>c27ecf3ee5ab8194d027dd2f382cf10c</td></tr>\n",
       "\t<tr><td>abisko_rhys.tar-3               </td><td>45518faf4f47b4df0e0f43125aca0562</td></tr>\n",
       "\t<tr><td>abisko_rhys.tar-4               </td><td>aee66fe8626778cbecfbe5a826544a32</td></tr>\n",
       "\t<tr><td>abisko_rhys.tar-5               </td><td>b73d7beead4a15fa4f5361c0b5946790</td></tr>\n",
       "\t<tr><td>abisko_rhys.tar-6               </td><td>6ed40095b2ea72f0f92cefbb9d2b1a5b</td></tr>\n",
       "\t<tr><td>abisko_rhys.tar-7               </td><td>6b3877f71d89cf41c68a5ab04e5dee42</td></tr>\n",
       "\t<tr><td>abisko_rhys.tar-8               </td><td>ae79d76c58e0658a798874d60e57be01</td></tr>\n",
       "</tbody>\n",
       "</table>\n"
      ],
      "text/latex": [
       "\\begin{tabular}{r|ll}\n",
       " V2 & V1\\\\\n",
       "\\hline\n",
       "\t abisko\\_rhys.tar                & 7050b620fbad65a10dc5d5a59efc417e\\\\\n",
       "\t abisko\\_rhys.tar-2              & c27ecf3ee5ab8194d027dd2f382cf10c\\\\\n",
       "\t abisko\\_rhys.tar-3              & 45518faf4f47b4df0e0f43125aca0562\\\\\n",
       "\t abisko\\_rhys.tar-4              & aee66fe8626778cbecfbe5a826544a32\\\\\n",
       "\t abisko\\_rhys.tar-5              & b73d7beead4a15fa4f5361c0b5946790\\\\\n",
       "\t abisko\\_rhys.tar-6              & 6ed40095b2ea72f0f92cefbb9d2b1a5b\\\\\n",
       "\t abisko\\_rhys.tar-7              & 6b3877f71d89cf41c68a5ab04e5dee42\\\\\n",
       "\t abisko\\_rhys.tar-8              & ae79d76c58e0658a798874d60e57be01\\\\\n",
       "\\end{tabular}\n"
      ],
      "text/markdown": [
       "\n",
       "| V2 | V1 |\n",
       "|---|---|\n",
       "| abisko_rhys.tar                  | 7050b620fbad65a10dc5d5a59efc417e |\n",
       "| abisko_rhys.tar-2                | c27ecf3ee5ab8194d027dd2f382cf10c |\n",
       "| abisko_rhys.tar-3                | 45518faf4f47b4df0e0f43125aca0562 |\n",
       "| abisko_rhys.tar-4                | aee66fe8626778cbecfbe5a826544a32 |\n",
       "| abisko_rhys.tar-5                | b73d7beead4a15fa4f5361c0b5946790 |\n",
       "| abisko_rhys.tar-6                | 6ed40095b2ea72f0f92cefbb9d2b1a5b |\n",
       "| abisko_rhys.tar-7                | 6b3877f71d89cf41c68a5ab04e5dee42 |\n",
       "| abisko_rhys.tar-8                | ae79d76c58e0658a798874d60e57be01 |\n",
       "\n"
      ],
      "text/plain": [
       "  V2                V1                              \n",
       "1 abisko_rhys.tar   7050b620fbad65a10dc5d5a59efc417e\n",
       "2 abisko_rhys.tar-2 c27ecf3ee5ab8194d027dd2f382cf10c\n",
       "3 abisko_rhys.tar-3 45518faf4f47b4df0e0f43125aca0562\n",
       "4 abisko_rhys.tar-4 aee66fe8626778cbecfbe5a826544a32\n",
       "5 abisko_rhys.tar-5 b73d7beead4a15fa4f5361c0b5946790\n",
       "6 abisko_rhys.tar-6 6ed40095b2ea72f0f92cefbb9d2b1a5b\n",
       "7 abisko_rhys.tar-7 6b3877f71d89cf41c68a5ab04e5dee42\n",
       "8 abisko_rhys.tar-8 ae79d76c58e0658a798874d60e57be01"
      ]
     },
     "metadata": {},
     "output_type": "display_data"
    },
    {
     "data": {
      "text/html": [
       "TRUE"
      ],
      "text/latex": [
       "TRUE"
      ],
      "text/markdown": [
       "TRUE"
      ],
      "text/plain": [
       "[1] TRUE"
      ]
     },
     "metadata": {},
     "output_type": "display_data"
    }
   ],
   "source": [
    "abisko_rhys_copied <- fread(\"/work/microbiome/abisko/abisko_rhys_copy.md5\", header=FALSE)\n",
    "abisko_rhys <- fread(\"/work/microbiome/abisko/abisko_rhys.md5\", header=FALSE)\n",
    "abisko_rhys[, V2:=str_replace(V2, '/30days/qut/', '')]\n",
    "abisko_rhys[, .SD, by=V2]\n",
    "abisko_rhys_copied[, .SD, by=V2]\n",
    "all.equal(abisko_rhys_copied, abisko_rhys, ignore.row.order=TRUE)"
   ]
  },
  {
   "cell_type": "code",
   "execution_count": 9,
   "metadata": {},
   "outputs": [
    {
     "data": {
      "text/html": [
       "<table>\n",
       "<thead><tr><th scope=col>V2</th><th scope=col>V1</th></tr></thead>\n",
       "<tbody>\n",
       "\t<tr><td>abisko_eilish.tar               </td><td>e74ace4ebd6d3c2b85f0a7c8d1224b37</td></tr>\n",
       "</tbody>\n",
       "</table>\n"
      ],
      "text/latex": [
       "\\begin{tabular}{r|ll}\n",
       " V2 & V1\\\\\n",
       "\\hline\n",
       "\t abisko\\_eilish.tar              & e74ace4ebd6d3c2b85f0a7c8d1224b37\\\\\n",
       "\\end{tabular}\n"
      ],
      "text/markdown": [
       "\n",
       "| V2 | V1 |\n",
       "|---|---|\n",
       "| abisko_eilish.tar                | e74ace4ebd6d3c2b85f0a7c8d1224b37 |\n",
       "\n"
      ],
      "text/plain": [
       "  V2                V1                              \n",
       "1 abisko_eilish.tar e74ace4ebd6d3c2b85f0a7c8d1224b37"
      ]
     },
     "metadata": {},
     "output_type": "display_data"
    },
    {
     "data": {
      "text/html": [
       "<table>\n",
       "<thead><tr><th scope=col>V2</th><th scope=col>V1</th></tr></thead>\n",
       "<tbody>\n",
       "\t<tr><td>abisko_eilish.tar               </td><td>e74ace4ebd6d3c2b85f0a7c8d1224b37</td></tr>\n",
       "</tbody>\n",
       "</table>\n"
      ],
      "text/latex": [
       "\\begin{tabular}{r|ll}\n",
       " V2 & V1\\\\\n",
       "\\hline\n",
       "\t abisko\\_eilish.tar              & e74ace4ebd6d3c2b85f0a7c8d1224b37\\\\\n",
       "\\end{tabular}\n"
      ],
      "text/markdown": [
       "\n",
       "| V2 | V1 |\n",
       "|---|---|\n",
       "| abisko_eilish.tar                | e74ace4ebd6d3c2b85f0a7c8d1224b37 |\n",
       "\n"
      ],
      "text/plain": [
       "  V2                V1                              \n",
       "1 abisko_eilish.tar e74ace4ebd6d3c2b85f0a7c8d1224b37"
      ]
     },
     "metadata": {},
     "output_type": "display_data"
    },
    {
     "data": {
      "text/html": [
       "TRUE"
      ],
      "text/latex": [
       "TRUE"
      ],
      "text/markdown": [
       "TRUE"
      ],
      "text/plain": [
       "[1] TRUE"
      ]
     },
     "metadata": {},
     "output_type": "display_data"
    }
   ],
   "source": [
    "abisko_eilish_copied <- fread(\"/work/microbiome/abisko/abisko_eilish_copy.md5\", header=FALSE)\n",
    "abisko_eilish <- fread(\"/work/microbiome/abisko/abisko_eilish.md5\", header=FALSE)\n",
    "abisko_eilish[, V2:=str_replace(V2, '/30days/qut/', '')]\n",
    "abisko_eilish[, .SD, by=V2]\n",
    "abisko_eilish_copied[, .SD, by=V2]\n",
    "all.equal(abisko_eilish_copied, abisko_eilish, ignore.row.order=TRUE)"
   ]
  },
  {
   "cell_type": "code",
   "execution_count": 18,
   "metadata": {},
   "outputs": [
    {
     "data": {
      "text/html": [
       "TRUE"
      ],
      "text/latex": [
       "TRUE"
      ],
      "text/markdown": [
       "TRUE"
      ],
      "text/plain": [
       "[1] TRUE"
      ]
     },
     "metadata": {},
     "output_type": "display_data"
    },
    {
     "data": {
      "text/html": [
       "<table>\n",
       "<thead><tr><th scope=col>V1</th><th scope=col>V2</th></tr></thead>\n",
       "<tbody>\n",
       "\t<tr><td>1bc791a78744772956de07ad5c73e720</td><td>assembly_pipeline.tar-6         </td></tr>\n",
       "\t<tr><td>b474622b7679e8fcb6f23aa238156135</td><td>assembly_pipeline.tar-5         </td></tr>\n",
       "\t<tr><td>1a66a8da53cfb6d5b0f1bb5b829b742f</td><td>assembly_pipeline.tar           </td></tr>\n",
       "\t<tr><td>f4b443e6b49b810f9c1ea3c753fc7eb5</td><td>assembly_pipeline.tar-3         </td></tr>\n",
       "\t<tr><td>3d212d968ecca34c0b754c9d894bf041</td><td>assembly_pipeline.tar-2         </td></tr>\n",
       "\t<tr><td>607e41a686f5f7c183aaa6646baa1eb5</td><td>assembly_pipeline.tar-4         </td></tr>\n",
       "</tbody>\n",
       "</table>\n"
      ],
      "text/latex": [
       "\\begin{tabular}{r|ll}\n",
       " V1 & V2\\\\\n",
       "\\hline\n",
       "\t 1bc791a78744772956de07ad5c73e720 & assembly\\_pipeline.tar-6       \\\\\n",
       "\t b474622b7679e8fcb6f23aa238156135 & assembly\\_pipeline.tar-5       \\\\\n",
       "\t 1a66a8da53cfb6d5b0f1bb5b829b742f & assembly\\_pipeline.tar         \\\\\n",
       "\t f4b443e6b49b810f9c1ea3c753fc7eb5 & assembly\\_pipeline.tar-3       \\\\\n",
       "\t 3d212d968ecca34c0b754c9d894bf041 & assembly\\_pipeline.tar-2       \\\\\n",
       "\t 607e41a686f5f7c183aaa6646baa1eb5 & assembly\\_pipeline.tar-4       \\\\\n",
       "\\end{tabular}\n"
      ],
      "text/markdown": [
       "\n",
       "| V1 | V2 |\n",
       "|---|---|\n",
       "| 1bc791a78744772956de07ad5c73e720 | assembly_pipeline.tar-6          |\n",
       "| b474622b7679e8fcb6f23aa238156135 | assembly_pipeline.tar-5          |\n",
       "| 1a66a8da53cfb6d5b0f1bb5b829b742f | assembly_pipeline.tar            |\n",
       "| f4b443e6b49b810f9c1ea3c753fc7eb5 | assembly_pipeline.tar-3          |\n",
       "| 3d212d968ecca34c0b754c9d894bf041 | assembly_pipeline.tar-2          |\n",
       "| 607e41a686f5f7c183aaa6646baa1eb5 | assembly_pipeline.tar-4          |\n",
       "\n"
      ],
      "text/plain": [
       "  V1                               V2                     \n",
       "1 1bc791a78744772956de07ad5c73e720 assembly_pipeline.tar-6\n",
       "2 b474622b7679e8fcb6f23aa238156135 assembly_pipeline.tar-5\n",
       "3 1a66a8da53cfb6d5b0f1bb5b829b742f assembly_pipeline.tar  \n",
       "4 f4b443e6b49b810f9c1ea3c753fc7eb5 assembly_pipeline.tar-3\n",
       "5 3d212d968ecca34c0b754c9d894bf041 assembly_pipeline.tar-2\n",
       "6 607e41a686f5f7c183aaa6646baa1eb5 assembly_pipeline.tar-4"
      ]
     },
     "metadata": {},
     "output_type": "display_data"
    },
    {
     "data": {
      "text/html": [
       "<table>\n",
       "<thead><tr><th scope=col>V1</th><th scope=col>V2</th></tr></thead>\n",
       "<tbody>\n",
       "\t<tr><td>1a66a8da53cfb6d5b0f1bb5b829b742f</td><td>assembly_pipeline.tar           </td></tr>\n",
       "\t<tr><td>3d212d968ecca34c0b754c9d894bf041</td><td>assembly_pipeline.tar-2         </td></tr>\n",
       "\t<tr><td>f4b443e6b49b810f9c1ea3c753fc7eb5</td><td>assembly_pipeline.tar-3         </td></tr>\n",
       "\t<tr><td>607e41a686f5f7c183aaa6646baa1eb5</td><td>assembly_pipeline.tar-4         </td></tr>\n",
       "\t<tr><td>b474622b7679e8fcb6f23aa238156135</td><td>assembly_pipeline.tar-5         </td></tr>\n",
       "\t<tr><td>1bc791a78744772956de07ad5c73e720</td><td>assembly_pipeline.tar-6         </td></tr>\n",
       "</tbody>\n",
       "</table>\n"
      ],
      "text/latex": [
       "\\begin{tabular}{r|ll}\n",
       " V1 & V2\\\\\n",
       "\\hline\n",
       "\t 1a66a8da53cfb6d5b0f1bb5b829b742f & assembly\\_pipeline.tar         \\\\\n",
       "\t 3d212d968ecca34c0b754c9d894bf041 & assembly\\_pipeline.tar-2       \\\\\n",
       "\t f4b443e6b49b810f9c1ea3c753fc7eb5 & assembly\\_pipeline.tar-3       \\\\\n",
       "\t 607e41a686f5f7c183aaa6646baa1eb5 & assembly\\_pipeline.tar-4       \\\\\n",
       "\t b474622b7679e8fcb6f23aa238156135 & assembly\\_pipeline.tar-5       \\\\\n",
       "\t 1bc791a78744772956de07ad5c73e720 & assembly\\_pipeline.tar-6       \\\\\n",
       "\\end{tabular}\n"
      ],
      "text/markdown": [
       "\n",
       "| V1 | V2 |\n",
       "|---|---|\n",
       "| 1a66a8da53cfb6d5b0f1bb5b829b742f | assembly_pipeline.tar            |\n",
       "| 3d212d968ecca34c0b754c9d894bf041 | assembly_pipeline.tar-2          |\n",
       "| f4b443e6b49b810f9c1ea3c753fc7eb5 | assembly_pipeline.tar-3          |\n",
       "| 607e41a686f5f7c183aaa6646baa1eb5 | assembly_pipeline.tar-4          |\n",
       "| b474622b7679e8fcb6f23aa238156135 | assembly_pipeline.tar-5          |\n",
       "| 1bc791a78744772956de07ad5c73e720 | assembly_pipeline.tar-6          |\n",
       "\n"
      ],
      "text/plain": [
       "  V1                               V2                     \n",
       "1 1a66a8da53cfb6d5b0f1bb5b829b742f assembly_pipeline.tar  \n",
       "2 3d212d968ecca34c0b754c9d894bf041 assembly_pipeline.tar-2\n",
       "3 f4b443e6b49b810f9c1ea3c753fc7eb5 assembly_pipeline.tar-3\n",
       "4 607e41a686f5f7c183aaa6646baa1eb5 assembly_pipeline.tar-4\n",
       "5 b474622b7679e8fcb6f23aa238156135 assembly_pipeline.tar-5\n",
       "6 1bc791a78744772956de07ad5c73e720 assembly_pipeline.tar-6"
      ]
     },
     "metadata": {},
     "output_type": "display_data"
    }
   ],
   "source": [
    "assembly_copy <- fread(\"/work/microbiome/assembly_pipeline/assembly_pipeline_copy.md5\", header=FALSE)\n",
    "assembly_real <- fread(\"/work/microbiome/assembly_pipeline/assembly_pipeline.md5\", header=FALSE)\n",
    "all.equal(assembly_copy, assembly_real, ignore.row.order=TRUE)\n",
    "assembly_copy\n",
    "assembly_real"
   ]
  },
  {
   "cell_type": "code",
   "execution_count": 18,
   "metadata": {},
   "outputs": [
    {
     "data": {
      "text/html": [
       "'Different number of rows'"
      ],
      "text/latex": [
       "'Different number of rows'"
      ],
      "text/markdown": [
       "'Different number of rows'"
      ],
      "text/plain": [
       "[1] \"Different number of rows\""
      ]
     },
     "metadata": {},
     "output_type": "display_data"
    },
    {
     "data": {
      "text/html": [
       "<table>\n",
       "<thead><tr><th scope=col>V1</th><th scope=col>V2</th></tr></thead>\n",
       "<tbody>\n",
       "\t<tr><td>ac37030c554862c24f89f55e7d9c6efa</td><td>coral_Discovery_project.tar     </td></tr>\n",
       "\t<tr><td>f72cbb8c9edaa1886e972da664eeeb25</td><td>coral_Discovery_project.tar-2   </td></tr>\n",
       "</tbody>\n",
       "</table>\n"
      ],
      "text/latex": [
       "\\begin{tabular}{r|ll}\n",
       " V1 & V2\\\\\n",
       "\\hline\n",
       "\t ac37030c554862c24f89f55e7d9c6efa  & coral\\_Discovery\\_project.tar  \\\\\n",
       "\t f72cbb8c9edaa1886e972da664eeeb25  & coral\\_Discovery\\_project.tar-2\\\\\n",
       "\\end{tabular}\n"
      ],
      "text/markdown": [
       "\n",
       "| V1 | V2 |\n",
       "|---|---|\n",
       "| ac37030c554862c24f89f55e7d9c6efa | coral_Discovery_project.tar      |\n",
       "| f72cbb8c9edaa1886e972da664eeeb25 | coral_Discovery_project.tar-2    |\n",
       "\n"
      ],
      "text/plain": [
       "  V1                               V2                           \n",
       "1 ac37030c554862c24f89f55e7d9c6efa coral_Discovery_project.tar  \n",
       "2 f72cbb8c9edaa1886e972da664eeeb25 coral_Discovery_project.tar-2"
      ]
     },
     "metadata": {},
     "output_type": "display_data"
    },
    {
     "data": {
      "text/html": [
       "<table>\n",
       "<thead><tr><th scope=col>V1</th><th scope=col>V2</th></tr></thead>\n",
       "<tbody>\n",
       "\t<tr><td>35d9b2fde1b3d6f0f7c68cb888ebce41</td><td>coral_steve_data.tar            </td></tr>\n",
       "\t<tr><td>a6735d6fbc54c9274d6dd722ab52e1a3</td><td>coral_steve_data.tar-2          </td></tr>\n",
       "\t<tr><td>562f005601399e4a3389f4bb953abdad</td><td>coral_steve_data.tar-3          </td></tr>\n",
       "</tbody>\n",
       "</table>\n"
      ],
      "text/latex": [
       "\\begin{tabular}{r|ll}\n",
       " V1 & V2\\\\\n",
       "\\hline\n",
       "\t 35d9b2fde1b3d6f0f7c68cb888ebce41 & coral\\_steve\\_data.tar        \\\\\n",
       "\t a6735d6fbc54c9274d6dd722ab52e1a3 & coral\\_steve\\_data.tar-2      \\\\\n",
       "\t 562f005601399e4a3389f4bb953abdad & coral\\_steve\\_data.tar-3      \\\\\n",
       "\\end{tabular}\n"
      ],
      "text/markdown": [
       "\n",
       "| V1 | V2 |\n",
       "|---|---|\n",
       "| 35d9b2fde1b3d6f0f7c68cb888ebce41 | coral_steve_data.tar             |\n",
       "| a6735d6fbc54c9274d6dd722ab52e1a3 | coral_steve_data.tar-2           |\n",
       "| 562f005601399e4a3389f4bb953abdad | coral_steve_data.tar-3           |\n",
       "\n"
      ],
      "text/plain": [
       "  V1                               V2                    \n",
       "1 35d9b2fde1b3d6f0f7c68cb888ebce41 coral_steve_data.tar  \n",
       "2 a6735d6fbc54c9274d6dd722ab52e1a3 coral_steve_data.tar-2\n",
       "3 562f005601399e4a3389f4bb953abdad coral_steve_data.tar-3"
      ]
     },
     "metadata": {},
     "output_type": "display_data"
    }
   ],
   "source": [
    "ace_accelerate <- fread(\"/work/microbiome/coral/ace_md5/coral_steve.md5\", header=FALSE)\n",
    "cmr_accelerate <- fread(\"/work/microbiome/coral/coral_steve.md5\", header=FALSE)\n",
    "ace_accelerate[, V2:=str_replace(V2, '/30days/qut/', '')]\n",
    "all.equal(ace_accelerate, cmr_accelerate, ignore.row.order=TRUE)\n",
    "ace_accelerate\n",
    "cmr_accelerate"
   ]
  },
  {
   "cell_type": "code",
   "execution_count": 2,
   "metadata": {},
   "outputs": [
    {
     "data": {
      "text/html": [
       "TRUE"
      ],
      "text/latex": [
       "TRUE"
      ],
      "text/markdown": [
       "TRUE"
      ],
      "text/plain": [
       "[1] TRUE"
      ]
     },
     "metadata": {},
     "output_type": "display_data"
    },
    {
     "data": {
      "text/html": [
       "TRUE"
      ],
      "text/latex": [
       "TRUE"
      ],
      "text/markdown": [
       "TRUE"
      ],
      "text/plain": [
       "[1] TRUE"
      ]
     },
     "metadata": {},
     "output_type": "display_data"
    },
    {
     "data": {
      "text/html": [
       "'Different number of rows'"
      ],
      "text/latex": [
       "'Different number of rows'"
      ],
      "text/markdown": [
       "'Different number of rows'"
      ],
      "text/plain": [
       "[1] \"Different number of rows\""
      ]
     },
     "metadata": {},
     "output_type": "display_data"
    },
    {
     "data": {
      "text/html": [
       "TRUE"
      ],
      "text/latex": [
       "TRUE"
      ],
      "text/markdown": [
       "TRUE"
      ],
      "text/plain": [
       "[1] TRUE"
      ]
     },
     "metadata": {},
     "output_type": "display_data"
    },
    {
     "data": {
      "text/html": [
       "TRUE"
      ],
      "text/latex": [
       "TRUE"
      ],
      "text/markdown": [
       "TRUE"
      ],
      "text/plain": [
       "[1] TRUE"
      ]
     },
     "metadata": {},
     "output_type": "display_data"
    },
    {
     "data": {
      "text/html": [
       "TRUE"
      ],
      "text/latex": [
       "TRUE"
      ],
      "text/markdown": [
       "TRUE"
      ],
      "text/plain": [
       "[1] TRUE"
      ]
     },
     "metadata": {},
     "output_type": "display_data"
    },
    {
     "data": {
      "text/html": [
       "TRUE"
      ],
      "text/latex": [
       "TRUE"
      ],
      "text/markdown": [
       "TRUE"
      ],
      "text/plain": [
       "[1] TRUE"
      ]
     },
     "metadata": {},
     "output_type": "display_data"
    },
    {
     "data": {
      "text/html": [
       "TRUE"
      ],
      "text/latex": [
       "TRUE"
      ],
      "text/markdown": [
       "TRUE"
      ],
      "text/plain": [
       "[1] TRUE"
      ]
     },
     "metadata": {},
     "output_type": "display_data"
    },
    {
     "data": {
      "text/html": [
       "TRUE"
      ],
      "text/latex": [
       "TRUE"
      ],
      "text/markdown": [
       "TRUE"
      ],
      "text/plain": [
       "[1] TRUE"
      ]
     },
     "metadata": {},
     "output_type": "display_data"
    }
   ],
   "source": [
    "check_md5(\"/work/microbiome/coral/ace_md5/coral_Seaquence_project.md5\", \"/work/microbiome/coral/seaquence_project.md5\")\n",
    "check_md5(\"/work/microbiome/coral/ace_md5/coral_accelerate.md5\", \"/work/microbiome/coral//coral_accelerate.md5\")\n",
    "check_md5(\"/work/microbiome/coral/ace_md5/coral_steve.md5\", \"/work/microbiome/coral//coral_steve.md5\")\n",
    "check_md5(\"/work/microbiome/coral/ace_md5/coral_discovery.md5\", \"/work/microbiome/coral//coral_discovery.md5\")\n",
    "check_md5(\"/work/microbiome/coral/ace_md5/coral_caitlin.md5\", \"/work/microbiome/coral//coral_caitlin.md5\")\n",
    "check_md5(\"/work/microbiome/coral/ace_md5/coral_aileen.md5\", \"/work/microbiome/coral//coral_aileen.md5\")\n",
    "check_md5(\"/work/microbiome/coral/ace_md5/coral_database.md5\", \"/work/microbiome/coral//coral_databases.md5\")\n",
    "check_md5(\"/work/microbiome/coral/ace_md5/coral_extraction.md5\", \"/work/microbiome/coral//coral_extraction.md5\")\n",
    "\n",
    "check_md5(\"/work/microbiome/coral/ace_md5/coral_accelerate_project.md5\", \"/work/microbiome/coral//coral_accelerate_project.md5\")\n"
   ]
  }
 ],
 "metadata": {
  "kernelspec": {
   "display_name": "R",
   "language": "R",
   "name": "ir"
  },
  "language_info": {
   "codemirror_mode": "r",
   "file_extension": ".r",
   "mimetype": "text/x-r-source",
   "name": "R",
   "pygments_lexer": "r",
   "version": "3.6.3"
  },
  "varInspector": {
   "cols": {
    "lenName": 16,
    "lenType": 16,
    "lenVar": 40
   },
   "kernels_config": {
    "python": {
     "delete_cmd_postfix": "",
     "delete_cmd_prefix": "del ",
     "library": "var_list.py",
     "varRefreshCmd": "print(var_dic_list())"
    },
    "r": {
     "delete_cmd_postfix": ") ",
     "delete_cmd_prefix": "rm(",
     "library": "var_list.r",
     "varRefreshCmd": "cat(var_dic_list()) "
    }
   },
   "types_to_exclude": [
    "module",
    "function",
    "builtin_function_or_method",
    "instance",
    "_Feature"
   ],
   "window_display": false
  }
 },
 "nbformat": 4,
 "nbformat_minor": 4
}
