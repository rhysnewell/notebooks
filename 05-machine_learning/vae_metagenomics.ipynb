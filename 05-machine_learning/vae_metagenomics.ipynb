{
 "cells": [
  {
   "cell_type": "markdown",
   "metadata": {},
   "source": [
    "## MMD-VAE Usage\n",
    "\n",
    "This notebook is going to be used to try and implement Ariane's MMD-VAE setup: https://github.com/ArianeMora/scivae\n",
    "The github repo is cloned in `~/git/scivae/`\n",
    "\n",
    "The aim is to try and applya s imple version of this NN to some multi-omic datasets as was done in: https://bmcgenomics.biomedcentral.com/articles/10.1186/s12864-020-6652-7\n",
    "\n",
    "At the same time, we will be keeping note of the common pitfalls fledgling machine learning practicioners seem to fall into outline here: https://www.nature.com/articles/s41563-018-0241-z"
   ]
  },
  {
   "cell_type": "code",
   "execution_count": null,
   "metadata": {},
   "outputs": [],
   "source": [
    "from scivae import *"
   ]
  }
 ],
 "metadata": {
  "kernelspec": {
   "display_name": "tensorflow",
   "language": "python",
   "name": "tensorflow"
  },
  "language_info": {
   "codemirror_mode": {
    "name": "ipython",
    "version": 3
   },
   "file_extension": ".py",
   "mimetype": "text/x-python",
   "name": "python",
   "nbconvert_exporter": "python",
   "pygments_lexer": "ipython3",
   "version": "3.6.11"
  }
 },
 "nbformat": 4,
 "nbformat_minor": 4
}
