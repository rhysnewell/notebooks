{
 "cells": [
  {
   "cell_type": "code",
   "execution_count": 1,
   "metadata": {},
   "outputs": [
    {
     "name": "stderr",
     "output_type": "stream",
     "text": [
      "\n",
      "Attaching package: ‘dplyr’\n",
      "\n",
      "The following objects are masked from ‘package:data.table’:\n",
      "\n",
      "    between, first, last\n",
      "\n",
      "The following objects are masked from ‘package:stats’:\n",
      "\n",
      "    filter, lag\n",
      "\n",
      "The following objects are masked from ‘package:base’:\n",
      "\n",
      "    intersect, setdiff, setequal, union\n",
      "\n"
     ]
    }
   ],
   "source": [
    "source('setup.R')\n",
    "theme_set(theme_bw())"
   ]
  },
  {
   "cell_type": "code",
   "execution_count": 2,
   "metadata": {
    "scrolled": true
   },
   "outputs": [
    {
     "name": "stderr",
     "output_type": "stream",
     "text": [
      "Warning message in fread(all_path):\n",
      "“Discarded single-line footer: <<[2021-12-11 03:26:53] INFO: { Current stage: 0:02:28.497 || Total: 1:05:14.326 }>>”Joining, by = \"binner\"\n",
      "Warning message in `[.data.table`(output, , `:=`(t2, N)):\n",
      "“Invalid .internal.selfref detected and fixed by taking a (shallow) copy of the data.table so that := can add this new column by reference. At an earlier point, this data.table has been copied by R (or was created manually using structure() or similar). Avoid names<- and attr<- which in R currently (and oddly) may copy the whole data.table. Use set* syntax instead to avoid copying: ?set, ?setnames and ?setattr. If this message doesn't help, please report your use case to the data.table issue tracker so the root cause can be fixed or this message improved.”Joining, by = \"binner\"\n",
      "Warning message in `[.data.table`(output, , `:=`(t3, N)):\n",
      "“Invalid .internal.selfref detected and fixed by taking a (shallow) copy of the data.table so that := can add this new column by reference. At an earlier point, this data.table has been copied by R (or was created manually using structure() or similar). Avoid names<- and attr<- which in R currently (and oddly) may copy the whole data.table. Use set* syntax instead to avoid copying: ?set, ?setnames and ?setattr. If this message doesn't help, please report your use case to the data.table issue tracker so the root cause can be fixed or this message improved.”Joining, by = \"binner\"\n",
      "Warning message in `[.data.table`(output, , `:=`(t4, N)):\n",
      "“Invalid .internal.selfref detected and fixed by taking a (shallow) copy of the data.table so that := can add this new column by reference. At an earlier point, this data.table has been copied by R (or was created manually using structure() or similar). Avoid names<- and attr<- which in R currently (and oddly) may copy the whole data.table. Use set* syntax instead to avoid copying: ?set, ?setnames and ?setattr. If this message doesn't help, please report your use case to the data.table issue tracker so the root cause can be fixed or this message improved.”Joining, by = \"binner\"\n",
      "Warning message in `[.data.table`(output, , `:=`(t5, N)):\n",
      "“Invalid .internal.selfref detected and fixed by taking a (shallow) copy of the data.table so that := can add this new column by reference. At an earlier point, this data.table has been copied by R (or was created manually using structure() or similar). Avoid names<- and attr<- which in R currently (and oddly) may copy the whole data.table. Use set* syntax instead to avoid copying: ?set, ?setnames and ?setattr. If this message doesn't help, please report your use case to the data.table issue tracker so the root cause can be fixed or this message improved.”Joining, by = \"binner\"\n",
      "Warning message in `[.data.table`(output, , `:=`(t2, N)):\n",
      "“Invalid .internal.selfref detected and fixed by taking a (shallow) copy of the data.table so that := can add this new column by reference. At an earlier point, this data.table has been copied by R (or was created manually using structure() or similar). Avoid names<- and attr<- which in R currently (and oddly) may copy the whole data.table. Use set* syntax instead to avoid copying: ?set, ?setnames and ?setattr. If this message doesn't help, please report your use case to the data.table issue tracker so the root cause can be fixed or this message improved.”Joining, by = \"binner\"\n",
      "Warning message in `[.data.table`(output, , `:=`(t3, N)):\n",
      "“Invalid .internal.selfref detected and fixed by taking a (shallow) copy of the data.table so that := can add this new column by reference. At an earlier point, this data.table has been copied by R (or was created manually using structure() or similar). Avoid names<- and attr<- which in R currently (and oddly) may copy the whole data.table. Use set* syntax instead to avoid copying: ?set, ?setnames and ?setattr. If this message doesn't help, please report your use case to the data.table issue tracker so the root cause can be fixed or this message improved.”Joining, by = \"binner\"\n",
      "Warning message in `[.data.table`(output, , `:=`(t4, N)):\n",
      "“Invalid .internal.selfref detected and fixed by taking a (shallow) copy of the data.table so that := can add this new column by reference. At an earlier point, this data.table has been copied by R (or was created manually using structure() or similar). Avoid names<- and attr<- which in R currently (and oddly) may copy the whole data.table. Use set* syntax instead to avoid copying: ?set, ?setnames and ?setattr. If this message doesn't help, please report your use case to the data.table issue tracker so the root cause can be fixed or this message improved.”Joining, by = \"binner\"\n",
      "Warning message in `[.data.table`(output, , `:=`(t5, N)):\n",
      "“Invalid .internal.selfref detected and fixed by taking a (shallow) copy of the data.table so that := can add this new column by reference. At an earlier point, this data.table has been copied by R (or was created manually using structure() or similar). Avoid names<- and attr<- which in R currently (and oddly) may copy the whole data.table. Use set* syntax instead to avoid copying: ?set, ?setnames and ?setattr. If this message doesn't help, please report your use case to the data.table issue tracker so the root cause can be fixed or this message improved.”Joining, by = \"binner\"\n",
      "Warning message in `[.data.table`(output, , `:=`(t2, N)):\n",
      "“Invalid .internal.selfref detected and fixed by taking a (shallow) copy of the data.table so that := can add this new column by reference. At an earlier point, this data.table has been copied by R (or was created manually using structure() or similar). Avoid names<- and attr<- which in R currently (and oddly) may copy the whole data.table. Use set* syntax instead to avoid copying: ?set, ?setnames and ?setattr. If this message doesn't help, please report your use case to the data.table issue tracker so the root cause can be fixed or this message improved.”Joining, by = \"binner\"\n",
      "Warning message in `[.data.table`(output, , `:=`(t3, N)):\n",
      "“Invalid .internal.selfref detected and fixed by taking a (shallow) copy of the data.table so that := can add this new column by reference. At an earlier point, this data.table has been copied by R (or was created manually using structure() or similar). Avoid names<- and attr<- which in R currently (and oddly) may copy the whole data.table. Use set* syntax instead to avoid copying: ?set, ?setnames and ?setattr. If this message doesn't help, please report your use case to the data.table issue tracker so the root cause can be fixed or this message improved.”Joining, by = \"binner\"\n",
      "Warning message in `[.data.table`(output, , `:=`(t4, N)):\n",
      "“Invalid .internal.selfref detected and fixed by taking a (shallow) copy of the data.table so that := can add this new column by reference. At an earlier point, this data.table has been copied by R (or was created manually using structure() or similar). Avoid names<- and attr<- which in R currently (and oddly) may copy the whole data.table. Use set* syntax instead to avoid copying: ?set, ?setnames and ?setattr. If this message doesn't help, please report your use case to the data.table issue tracker so the root cause can be fixed or this message improved.”Joining, by = \"binner\"\n",
      "Warning message in `[.data.table`(output, , `:=`(t5, N)):\n",
      "“Invalid .internal.selfref detected and fixed by taking a (shallow) copy of the data.table so that := can add this new column by reference. At an earlier point, this data.table has been copied by R (or was created manually using structure() or similar). Avoid names<- and attr<- which in R currently (and oddly) may copy the whole data.table. Use set* syntax instead to avoid copying: ?set, ?setnames and ?setattr. If this message doesn't help, please report your use case to the data.table issue tracker so the root cause can be fixed or this message improved.”Warning message in fread(all_path):\n",
      "“Discarded single-line footer: <<[2021-11-26 18:24:46] INFO: { Current stage: 0:02:54.425 || Total: 0:51:26.089 }>>”Joining, by = \"binner\"\n",
      "Warning message in `[.data.table`(output, , `:=`(t2, N)):\n"
     ]
    },
    {
     "name": "stderr",
     "output_type": "stream",
     "text": [
      "“Invalid .internal.selfref detected and fixed by taking a (shallow) copy of the data.table so that := can add this new column by reference. At an earlier point, this data.table has been copied by R (or was created manually using structure() or similar). Avoid names<- and attr<- which in R currently (and oddly) may copy the whole data.table. Use set* syntax instead to avoid copying: ?set, ?setnames and ?setattr. If this message doesn't help, please report your use case to the data.table issue tracker so the root cause can be fixed or this message improved.”Joining, by = \"binner\"\n",
      "Warning message in `[.data.table`(output, , `:=`(t3, N)):\n",
      "“Invalid .internal.selfref detected and fixed by taking a (shallow) copy of the data.table so that := can add this new column by reference. At an earlier point, this data.table has been copied by R (or was created manually using structure() or similar). Avoid names<- and attr<- which in R currently (and oddly) may copy the whole data.table. Use set* syntax instead to avoid copying: ?set, ?setnames and ?setattr. If this message doesn't help, please report your use case to the data.table issue tracker so the root cause can be fixed or this message improved.”Joining, by = \"binner\"\n",
      "Warning message in `[.data.table`(output, , `:=`(t4, N)):\n",
      "“Invalid .internal.selfref detected and fixed by taking a (shallow) copy of the data.table so that := can add this new column by reference. At an earlier point, this data.table has been copied by R (or was created manually using structure() or similar). Avoid names<- and attr<- which in R currently (and oddly) may copy the whole data.table. Use set* syntax instead to avoid copying: ?set, ?setnames and ?setattr. If this message doesn't help, please report your use case to the data.table issue tracker so the root cause can be fixed or this message improved.”Joining, by = \"binner\"\n",
      "Warning message in `[.data.table`(output, , `:=`(t5, N)):\n",
      "“Invalid .internal.selfref detected and fixed by taking a (shallow) copy of the data.table so that := can add this new column by reference. At an earlier point, this data.table has been copied by R (or was created manually using structure() or similar). Avoid names<- and attr<- which in R currently (and oddly) may copy the whole data.table. Use set* syntax instead to avoid copying: ?set, ?setnames and ?setattr. If this message doesn't help, please report your use case to the data.table issue tracker so the root cause can be fixed or this message improved.”Joining, by = \"binner\"\n",
      "Warning message in `[.data.table`(output, , `:=`(t2, N)):\n",
      "“Invalid .internal.selfref detected and fixed by taking a (shallow) copy of the data.table so that := can add this new column by reference. At an earlier point, this data.table has been copied by R (or was created manually using structure() or similar). Avoid names<- and attr<- which in R currently (and oddly) may copy the whole data.table. Use set* syntax instead to avoid copying: ?set, ?setnames and ?setattr. If this message doesn't help, please report your use case to the data.table issue tracker so the root cause can be fixed or this message improved.”Joining, by = \"binner\"\n",
      "Warning message in `[.data.table`(output, , `:=`(t3, N)):\n",
      "“Invalid .internal.selfref detected and fixed by taking a (shallow) copy of the data.table so that := can add this new column by reference. At an earlier point, this data.table has been copied by R (or was created manually using structure() or similar). Avoid names<- and attr<- which in R currently (and oddly) may copy the whole data.table. Use set* syntax instead to avoid copying: ?set, ?setnames and ?setattr. If this message doesn't help, please report your use case to the data.table issue tracker so the root cause can be fixed or this message improved.”Joining, by = \"binner\"\n",
      "Warning message in `[.data.table`(output, , `:=`(t4, N)):\n",
      "“Invalid .internal.selfref detected and fixed by taking a (shallow) copy of the data.table so that := can add this new column by reference. At an earlier point, this data.table has been copied by R (or was created manually using structure() or similar). Avoid names<- and attr<- which in R currently (and oddly) may copy the whole data.table. Use set* syntax instead to avoid copying: ?set, ?setnames and ?setattr. If this message doesn't help, please report your use case to the data.table issue tracker so the root cause can be fixed or this message improved.”Joining, by = \"binner\"\n",
      "Warning message in `[.data.table`(output, , `:=`(t5, N)):\n",
      "“Invalid .internal.selfref detected and fixed by taking a (shallow) copy of the data.table so that := can add this new column by reference. At an earlier point, this data.table has been copied by R (or was created manually using structure() or similar). Avoid names<- and attr<- which in R currently (and oddly) may copy the whole data.table. Use set* syntax instead to avoid copying: ?set, ?setnames and ?setattr. If this message doesn't help, please report your use case to the data.table issue tracker so the root cause can be fixed or this message improved.”Joining, by = \"binner\"\n",
      "Warning message in `[.data.table`(output, , `:=`(t2, N)):\n",
      "“Invalid .internal.selfref detected and fixed by taking a (shallow) copy of the data.table so that := can add this new column by reference. At an earlier point, this data.table has been copied by R (or was created manually using structure() or similar). Avoid names<- and attr<- which in R currently (and oddly) may copy the whole data.table. Use set* syntax instead to avoid copying: ?set, ?setnames and ?setattr. If this message doesn't help, please report your use case to the data.table issue tracker so the root cause can be fixed or this message improved.”Joining, by = \"binner\"\n",
      "Warning message in `[.data.table`(output, , `:=`(t3, N)):\n",
      "“Invalid .internal.selfref detected and fixed by taking a (shallow) copy of the data.table so that := can add this new column by reference. At an earlier point, this data.table has been copied by R (or was created manually using structure() or similar). Avoid names<- and attr<- which in R currently (and oddly) may copy the whole data.table. Use set* syntax instead to avoid copying: ?set, ?setnames and ?setattr. If this message doesn't help, please report your use case to the data.table issue tracker so the root cause can be fixed or this message improved.”Joining, by = \"binner\"\n",
      "Warning message in `[.data.table`(output, , `:=`(t4, N)):\n",
      "“Invalid .internal.selfref detected and fixed by taking a (shallow) copy of the data.table so that := can add this new column by reference. At an earlier point, this data.table has been copied by R (or was created manually using structure() or similar). Avoid names<- and attr<- which in R currently (and oddly) may copy the whole data.table. Use set* syntax instead to avoid copying: ?set, ?setnames and ?setattr. If this message doesn't help, please report your use case to the data.table issue tracker so the root cause can be fixed or this message improved.”Joining, by = \"binner\"\n",
      "Warning message in `[.data.table`(output, , `:=`(t5, N)):\n",
      "“Invalid .internal.selfref detected and fixed by taking a (shallow) copy of the data.table so that := can add this new column by reference. At an earlier point, this data.table has been copied by R (or was created manually using structure() or similar). Avoid names<- and attr<- which in R currently (and oddly) may copy the whole data.table. Use set* syntax instead to avoid copying: ?set, ?setnames and ?setattr. If this message doesn't help, please report your use case to the data.table issue tracker so the root cause can be fixed or this message improved.”Warning message in fread(all_path):\n",
      "“Discarded single-line footer: <<[2021-12-11 07:17:31] INFO: { Current stage: 0:02:56.752 || Total: 1:16:55.170 }>>”Joining, by = \"binner\"\n",
      "Warning message in `[.data.table`(output, , `:=`(t2, N)):\n"
     ]
    },
    {
     "name": "stderr",
     "output_type": "stream",
     "text": [
      "“Invalid .internal.selfref detected and fixed by taking a (shallow) copy of the data.table so that := can add this new column by reference. At an earlier point, this data.table has been copied by R (or was created manually using structure() or similar). Avoid names<- and attr<- which in R currently (and oddly) may copy the whole data.table. Use set* syntax instead to avoid copying: ?set, ?setnames and ?setattr. If this message doesn't help, please report your use case to the data.table issue tracker so the root cause can be fixed or this message improved.”Joining, by = \"binner\"\n",
      "Warning message in `[.data.table`(output, , `:=`(t3, N)):\n",
      "“Invalid .internal.selfref detected and fixed by taking a (shallow) copy of the data.table so that := can add this new column by reference. At an earlier point, this data.table has been copied by R (or was created manually using structure() or similar). Avoid names<- and attr<- which in R currently (and oddly) may copy the whole data.table. Use set* syntax instead to avoid copying: ?set, ?setnames and ?setattr. If this message doesn't help, please report your use case to the data.table issue tracker so the root cause can be fixed or this message improved.”Joining, by = \"binner\"\n",
      "Warning message in `[.data.table`(output, , `:=`(t4, N)):\n",
      "“Invalid .internal.selfref detected and fixed by taking a (shallow) copy of the data.table so that := can add this new column by reference. At an earlier point, this data.table has been copied by R (or was created manually using structure() or similar). Avoid names<- and attr<- which in R currently (and oddly) may copy the whole data.table. Use set* syntax instead to avoid copying: ?set, ?setnames and ?setattr. If this message doesn't help, please report your use case to the data.table issue tracker so the root cause can be fixed or this message improved.”Joining, by = \"binner\"\n",
      "Warning message in `[.data.table`(output, , `:=`(t5, N)):\n",
      "“Invalid .internal.selfref detected and fixed by taking a (shallow) copy of the data.table so that := can add this new column by reference. At an earlier point, this data.table has been copied by R (or was created manually using structure() or similar). Avoid names<- and attr<- which in R currently (and oddly) may copy the whole data.table. Use set* syntax instead to avoid copying: ?set, ?setnames and ?setattr. If this message doesn't help, please report your use case to the data.table issue tracker so the root cause can be fixed or this message improved.”Joining, by = \"binner\"\n",
      "Warning message in `[.data.table`(output, , `:=`(t2, N)):\n",
      "“Invalid .internal.selfref detected and fixed by taking a (shallow) copy of the data.table so that := can add this new column by reference. At an earlier point, this data.table has been copied by R (or was created manually using structure() or similar). Avoid names<- and attr<- which in R currently (and oddly) may copy the whole data.table. Use set* syntax instead to avoid copying: ?set, ?setnames and ?setattr. If this message doesn't help, please report your use case to the data.table issue tracker so the root cause can be fixed or this message improved.”Joining, by = \"binner\"\n",
      "Warning message in `[.data.table`(output, , `:=`(t3, N)):\n",
      "“Invalid .internal.selfref detected and fixed by taking a (shallow) copy of the data.table so that := can add this new column by reference. At an earlier point, this data.table has been copied by R (or was created manually using structure() or similar). Avoid names<- and attr<- which in R currently (and oddly) may copy the whole data.table. Use set* syntax instead to avoid copying: ?set, ?setnames and ?setattr. If this message doesn't help, please report your use case to the data.table issue tracker so the root cause can be fixed or this message improved.”Joining, by = \"binner\"\n",
      "Warning message in `[.data.table`(output, , `:=`(t4, N)):\n",
      "“Invalid .internal.selfref detected and fixed by taking a (shallow) copy of the data.table so that := can add this new column by reference. At an earlier point, this data.table has been copied by R (or was created manually using structure() or similar). Avoid names<- and attr<- which in R currently (and oddly) may copy the whole data.table. Use set* syntax instead to avoid copying: ?set, ?setnames and ?setattr. If this message doesn't help, please report your use case to the data.table issue tracker so the root cause can be fixed or this message improved.”Joining, by = \"binner\"\n",
      "Warning message in `[.data.table`(output, , `:=`(t5, N)):\n",
      "“Invalid .internal.selfref detected and fixed by taking a (shallow) copy of the data.table so that := can add this new column by reference. At an earlier point, this data.table has been copied by R (or was created manually using structure() or similar). Avoid names<- and attr<- which in R currently (and oddly) may copy the whole data.table. Use set* syntax instead to avoid copying: ?set, ?setnames and ?setattr. If this message doesn't help, please report your use case to the data.table issue tracker so the root cause can be fixed or this message improved.”Joining, by = \"binner\"\n",
      "Warning message in `[.data.table`(output, , `:=`(t2, N)):\n",
      "“Invalid .internal.selfref detected and fixed by taking a (shallow) copy of the data.table so that := can add this new column by reference. At an earlier point, this data.table has been copied by R (or was created manually using structure() or similar). Avoid names<- and attr<- which in R currently (and oddly) may copy the whole data.table. Use set* syntax instead to avoid copying: ?set, ?setnames and ?setattr. If this message doesn't help, please report your use case to the data.table issue tracker so the root cause can be fixed or this message improved.”Joining, by = \"binner\"\n",
      "Warning message in `[.data.table`(output, , `:=`(t3, N)):\n",
      "“Invalid .internal.selfref detected and fixed by taking a (shallow) copy of the data.table so that := can add this new column by reference. At an earlier point, this data.table has been copied by R (or was created manually using structure() or similar). Avoid names<- and attr<- which in R currently (and oddly) may copy the whole data.table. Use set* syntax instead to avoid copying: ?set, ?setnames and ?setattr. If this message doesn't help, please report your use case to the data.table issue tracker so the root cause can be fixed or this message improved.”Joining, by = \"binner\"\n",
      "Warning message in `[.data.table`(output, , `:=`(t4, N)):\n",
      "“Invalid .internal.selfref detected and fixed by taking a (shallow) copy of the data.table so that := can add this new column by reference. At an earlier point, this data.table has been copied by R (or was created manually using structure() or similar). Avoid names<- and attr<- which in R currently (and oddly) may copy the whole data.table. Use set* syntax instead to avoid copying: ?set, ?setnames and ?setattr. If this message doesn't help, please report your use case to the data.table issue tracker so the root cause can be fixed or this message improved.”Joining, by = \"binner\"\n",
      "Warning message in `[.data.table`(output, , `:=`(t5, N)):\n",
      "“Invalid .internal.selfref detected and fixed by taking a (shallow) copy of the data.table so that := can add this new column by reference. At an earlier point, this data.table has been copied by R (or was created manually using structure() or similar). Avoid names<- and attr<- which in R currently (and oddly) may copy the whole data.table. Use set* syntax instead to avoid copying: ?set, ?setnames and ?setattr. If this message doesn't help, please report your use case to the data.table issue tracker so the root cause can be fixed or this message improved.”Warning message in fread(all_path):\n",
      "“Discarded single-line footer: <<[2021-12-12 00:41:08] INFO: { Current stage: 0:04:45.202 || Total: 2:09:09.434 }>>”Joining, by = \"binner\"\n",
      "Warning message in `[.data.table`(output, , `:=`(t2, N)):\n"
     ]
    },
    {
     "name": "stderr",
     "output_type": "stream",
     "text": [
      "“Invalid .internal.selfref detected and fixed by taking a (shallow) copy of the data.table so that := can add this new column by reference. At an earlier point, this data.table has been copied by R (or was created manually using structure() or similar). Avoid names<- and attr<- which in R currently (and oddly) may copy the whole data.table. Use set* syntax instead to avoid copying: ?set, ?setnames and ?setattr. If this message doesn't help, please report your use case to the data.table issue tracker so the root cause can be fixed or this message improved.”Joining, by = \"binner\"\n",
      "Warning message in `[.data.table`(output, , `:=`(t3, N)):\n",
      "“Invalid .internal.selfref detected and fixed by taking a (shallow) copy of the data.table so that := can add this new column by reference. At an earlier point, this data.table has been copied by R (or was created manually using structure() or similar). Avoid names<- and attr<- which in R currently (and oddly) may copy the whole data.table. Use set* syntax instead to avoid copying: ?set, ?setnames and ?setattr. If this message doesn't help, please report your use case to the data.table issue tracker so the root cause can be fixed or this message improved.”Joining, by = \"binner\"\n",
      "Warning message in `[.data.table`(output, , `:=`(t4, N)):\n",
      "“Invalid .internal.selfref detected and fixed by taking a (shallow) copy of the data.table so that := can add this new column by reference. At an earlier point, this data.table has been copied by R (or was created manually using structure() or similar). Avoid names<- and attr<- which in R currently (and oddly) may copy the whole data.table. Use set* syntax instead to avoid copying: ?set, ?setnames and ?setattr. If this message doesn't help, please report your use case to the data.table issue tracker so the root cause can be fixed or this message improved.”Joining, by = \"binner\"\n",
      "Warning message in `[.data.table`(output, , `:=`(t5, N)):\n",
      "“Invalid .internal.selfref detected and fixed by taking a (shallow) copy of the data.table so that := can add this new column by reference. At an earlier point, this data.table has been copied by R (or was created manually using structure() or similar). Avoid names<- and attr<- which in R currently (and oddly) may copy the whole data.table. Use set* syntax instead to avoid copying: ?set, ?setnames and ?setattr. If this message doesn't help, please report your use case to the data.table issue tracker so the root cause can be fixed or this message improved.”Joining, by = \"binner\"\n",
      "Warning message in `[.data.table`(output, , `:=`(t2, N)):\n",
      "“Invalid .internal.selfref detected and fixed by taking a (shallow) copy of the data.table so that := can add this new column by reference. At an earlier point, this data.table has been copied by R (or was created manually using structure() or similar). Avoid names<- and attr<- which in R currently (and oddly) may copy the whole data.table. Use set* syntax instead to avoid copying: ?set, ?setnames and ?setattr. If this message doesn't help, please report your use case to the data.table issue tracker so the root cause can be fixed or this message improved.”Joining, by = \"binner\"\n",
      "Warning message in `[.data.table`(output, , `:=`(t3, N)):\n",
      "“Invalid .internal.selfref detected and fixed by taking a (shallow) copy of the data.table so that := can add this new column by reference. At an earlier point, this data.table has been copied by R (or was created manually using structure() or similar). Avoid names<- and attr<- which in R currently (and oddly) may copy the whole data.table. Use set* syntax instead to avoid copying: ?set, ?setnames and ?setattr. If this message doesn't help, please report your use case to the data.table issue tracker so the root cause can be fixed or this message improved.”Joining, by = \"binner\"\n",
      "Warning message in `[.data.table`(output, , `:=`(t4, N)):\n",
      "“Invalid .internal.selfref detected and fixed by taking a (shallow) copy of the data.table so that := can add this new column by reference. At an earlier point, this data.table has been copied by R (or was created manually using structure() or similar). Avoid names<- and attr<- which in R currently (and oddly) may copy the whole data.table. Use set* syntax instead to avoid copying: ?set, ?setnames and ?setattr. If this message doesn't help, please report your use case to the data.table issue tracker so the root cause can be fixed or this message improved.”Joining, by = \"binner\"\n",
      "Warning message in `[.data.table`(output, , `:=`(t5, N)):\n",
      "“Invalid .internal.selfref detected and fixed by taking a (shallow) copy of the data.table so that := can add this new column by reference. At an earlier point, this data.table has been copied by R (or was created manually using structure() or similar). Avoid names<- and attr<- which in R currently (and oddly) may copy the whole data.table. Use set* syntax instead to avoid copying: ?set, ?setnames and ?setattr. If this message doesn't help, please report your use case to the data.table issue tracker so the root cause can be fixed or this message improved.”Joining, by = \"binner\"\n",
      "Warning message in `[.data.table`(output, , `:=`(t2, N)):\n",
      "“Invalid .internal.selfref detected and fixed by taking a (shallow) copy of the data.table so that := can add this new column by reference. At an earlier point, this data.table has been copied by R (or was created manually using structure() or similar). Avoid names<- and attr<- which in R currently (and oddly) may copy the whole data.table. Use set* syntax instead to avoid copying: ?set, ?setnames and ?setattr. If this message doesn't help, please report your use case to the data.table issue tracker so the root cause can be fixed or this message improved.”Joining, by = \"binner\"\n",
      "Warning message in `[.data.table`(output, , `:=`(t3, N)):\n",
      "“Invalid .internal.selfref detected and fixed by taking a (shallow) copy of the data.table so that := can add this new column by reference. At an earlier point, this data.table has been copied by R (or was created manually using structure() or similar). Avoid names<- and attr<- which in R currently (and oddly) may copy the whole data.table. Use set* syntax instead to avoid copying: ?set, ?setnames and ?setattr. If this message doesn't help, please report your use case to the data.table issue tracker so the root cause can be fixed or this message improved.”Joining, by = \"binner\"\n",
      "Warning message in `[.data.table`(output, , `:=`(t4, N)):\n",
      "“Invalid .internal.selfref detected and fixed by taking a (shallow) copy of the data.table so that := can add this new column by reference. At an earlier point, this data.table has been copied by R (or was created manually using structure() or similar). Avoid names<- and attr<- which in R currently (and oddly) may copy the whole data.table. Use set* syntax instead to avoid copying: ?set, ?setnames and ?setattr. If this message doesn't help, please report your use case to the data.table issue tracker so the root cause can be fixed or this message improved.”Joining, by = \"binner\"\n",
      "Warning message in `[.data.table`(output, , `:=`(t5, N)):\n",
      "“Invalid .internal.selfref detected and fixed by taking a (shallow) copy of the data.table so that := can add this new column by reference. At an earlier point, this data.table has been copied by R (or was created manually using structure() or similar). Avoid names<- and attr<- which in R currently (and oddly) may copy the whole data.table. Use set* syntax instead to avoid copying: ?set, ?setnames and ?setattr. If this message doesn't help, please report your use case to the data.table issue tracker so the root cause can be fixed or this message improved.”Warning message in fread(all_path):\n",
      "“Discarded single-line footer: <<[2021-12-11 22:18:30] INFO: { Current stage: 0:04:20.504 || Total: 2:15:50.828 }>>”Joining, by = \"binner\"\n",
      "Warning message in `[.data.table`(output, , `:=`(t2, N)):\n"
     ]
    },
    {
     "name": "stderr",
     "output_type": "stream",
     "text": [
      "“Invalid .internal.selfref detected and fixed by taking a (shallow) copy of the data.table so that := can add this new column by reference. At an earlier point, this data.table has been copied by R (or was created manually using structure() or similar). Avoid names<- and attr<- which in R currently (and oddly) may copy the whole data.table. Use set* syntax instead to avoid copying: ?set, ?setnames and ?setattr. If this message doesn't help, please report your use case to the data.table issue tracker so the root cause can be fixed or this message improved.”Joining, by = \"binner\"\n",
      "Warning message in `[.data.table`(output, , `:=`(t3, N)):\n",
      "“Invalid .internal.selfref detected and fixed by taking a (shallow) copy of the data.table so that := can add this new column by reference. At an earlier point, this data.table has been copied by R (or was created manually using structure() or similar). Avoid names<- and attr<- which in R currently (and oddly) may copy the whole data.table. Use set* syntax instead to avoid copying: ?set, ?setnames and ?setattr. If this message doesn't help, please report your use case to the data.table issue tracker so the root cause can be fixed or this message improved.”Joining, by = \"binner\"\n",
      "Warning message in `[.data.table`(output, , `:=`(t4, N)):\n",
      "“Invalid .internal.selfref detected and fixed by taking a (shallow) copy of the data.table so that := can add this new column by reference. At an earlier point, this data.table has been copied by R (or was created manually using structure() or similar). Avoid names<- and attr<- which in R currently (and oddly) may copy the whole data.table. Use set* syntax instead to avoid copying: ?set, ?setnames and ?setattr. If this message doesn't help, please report your use case to the data.table issue tracker so the root cause can be fixed or this message improved.”Joining, by = \"binner\"\n",
      "Warning message in `[.data.table`(output, , `:=`(t5, N)):\n",
      "“Invalid .internal.selfref detected and fixed by taking a (shallow) copy of the data.table so that := can add this new column by reference. At an earlier point, this data.table has been copied by R (or was created manually using structure() or similar). Avoid names<- and attr<- which in R currently (and oddly) may copy the whole data.table. Use set* syntax instead to avoid copying: ?set, ?setnames and ?setattr. If this message doesn't help, please report your use case to the data.table issue tracker so the root cause can be fixed or this message improved.”Joining, by = \"binner\"\n",
      "Warning message in `[.data.table`(output, , `:=`(t2, N)):\n",
      "“Invalid .internal.selfref detected and fixed by taking a (shallow) copy of the data.table so that := can add this new column by reference. At an earlier point, this data.table has been copied by R (or was created manually using structure() or similar). Avoid names<- and attr<- which in R currently (and oddly) may copy the whole data.table. Use set* syntax instead to avoid copying: ?set, ?setnames and ?setattr. If this message doesn't help, please report your use case to the data.table issue tracker so the root cause can be fixed or this message improved.”Joining, by = \"binner\"\n",
      "Warning message in `[.data.table`(output, , `:=`(t3, N)):\n",
      "“Invalid .internal.selfref detected and fixed by taking a (shallow) copy of the data.table so that := can add this new column by reference. At an earlier point, this data.table has been copied by R (or was created manually using structure() or similar). Avoid names<- and attr<- which in R currently (and oddly) may copy the whole data.table. Use set* syntax instead to avoid copying: ?set, ?setnames and ?setattr. If this message doesn't help, please report your use case to the data.table issue tracker so the root cause can be fixed or this message improved.”Joining, by = \"binner\"\n",
      "Warning message in `[.data.table`(output, , `:=`(t4, N)):\n",
      "“Invalid .internal.selfref detected and fixed by taking a (shallow) copy of the data.table so that := can add this new column by reference. At an earlier point, this data.table has been copied by R (or was created manually using structure() or similar). Avoid names<- and attr<- which in R currently (and oddly) may copy the whole data.table. Use set* syntax instead to avoid copying: ?set, ?setnames and ?setattr. If this message doesn't help, please report your use case to the data.table issue tracker so the root cause can be fixed or this message improved.”Joining, by = \"binner\"\n",
      "Warning message in `[.data.table`(output, , `:=`(t5, N)):\n",
      "“Invalid .internal.selfref detected and fixed by taking a (shallow) copy of the data.table so that := can add this new column by reference. At an earlier point, this data.table has been copied by R (or was created manually using structure() or similar). Avoid names<- and attr<- which in R currently (and oddly) may copy the whole data.table. Use set* syntax instead to avoid copying: ?set, ?setnames and ?setattr. If this message doesn't help, please report your use case to the data.table issue tracker so the root cause can be fixed or this message improved.”Joining, by = \"binner\"\n",
      "Warning message in `[.data.table`(output, , `:=`(t2, N)):\n",
      "“Invalid .internal.selfref detected and fixed by taking a (shallow) copy of the data.table so that := can add this new column by reference. At an earlier point, this data.table has been copied by R (or was created manually using structure() or similar). Avoid names<- and attr<- which in R currently (and oddly) may copy the whole data.table. Use set* syntax instead to avoid copying: ?set, ?setnames and ?setattr. If this message doesn't help, please report your use case to the data.table issue tracker so the root cause can be fixed or this message improved.”Joining, by = \"binner\"\n",
      "Warning message in `[.data.table`(output, , `:=`(t3, N)):\n",
      "“Invalid .internal.selfref detected and fixed by taking a (shallow) copy of the data.table so that := can add this new column by reference. At an earlier point, this data.table has been copied by R (or was created manually using structure() or similar). Avoid names<- and attr<- which in R currently (and oddly) may copy the whole data.table. Use set* syntax instead to avoid copying: ?set, ?setnames and ?setattr. If this message doesn't help, please report your use case to the data.table issue tracker so the root cause can be fixed or this message improved.”Joining, by = \"binner\"\n",
      "Warning message in `[.data.table`(output, , `:=`(t4, N)):\n",
      "“Invalid .internal.selfref detected and fixed by taking a (shallow) copy of the data.table so that := can add this new column by reference. At an earlier point, this data.table has been copied by R (or was created manually using structure() or similar). Avoid names<- and attr<- which in R currently (and oddly) may copy the whole data.table. Use set* syntax instead to avoid copying: ?set, ?setnames and ?setattr. If this message doesn't help, please report your use case to the data.table issue tracker so the root cause can be fixed or this message improved.”Joining, by = \"binner\"\n",
      "Warning message in `[.data.table`(output, , `:=`(t5, N)):\n",
      "“Invalid .internal.selfref detected and fixed by taking a (shallow) copy of the data.table so that := can add this new column by reference. At an earlier point, this data.table has been copied by R (or was created manually using structure() or similar). Avoid names<- and attr<- which in R currently (and oddly) may copy the whole data.table. Use set* syntax instead to avoid copying: ?set, ?setnames and ?setattr. If this message doesn't help, please report your use case to the data.table issue tracker so the root cause can be fixed or this message improved.”"
     ]
    }
   ],
   "source": [
    "sample_1 <- generate_plots('/lustre/scratch/microbiome/n10853499/01-eilish_paper/00-assembly/01-assemblies/20140700_S16')\n",
    "sample_1_all <- generate_plots('/lustre/scratch/microbiome/n10853499/01-eilish_paper/00-assembly/01-assemblies/20140700_S16_all_reads')\n",
    "sample_2 <- generate_plots('/lustre/scratch/microbiome/n10853499/01-eilish_paper/00-assembly/01-assemblies/20140700_S26')\n",
    "sample_3 <- generate_plots('/lustre/scratch/microbiome/n10853499/01-eilish_paper/00-assembly/01-assemblies/20140700_S34')\n",
    "sample_4 <- generate_plots('/lustre/scratch/microbiome/n10853499/01-eilish_paper/00-assembly/01-assemblies/20140700_S35')"
   ]
  },
  {
   "cell_type": "code",
   "execution_count": 3,
   "metadata": {},
   "outputs": [
    {
     "data": {
      "text/html": [
       "<table>\n",
       "<thead><tr><th scope=col>binner</th><th scope=col>t1</th><th scope=col>t2</th><th scope=col>t3</th><th scope=col>t4</th><th scope=col>t5</th></tr></thead>\n",
       "<tbody>\n",
       "\t<tr><td>CONCOCT           </td><td>3                 </td><td> 7                </td><td>10                </td><td>11                </td><td>15                </td></tr>\n",
       "\t<tr><td>MaxBin2           </td><td>1                 </td><td> 6                </td><td>13                </td><td>15                </td><td>17                </td></tr>\n",
       "\t<tr><td>MetaBAT Sens.     </td><td>6                 </td><td>12                </td><td>18                </td><td>23                </td><td>32                </td></tr>\n",
       "\t<tr><td>MetaBAT Spec.     </td><td>6                 </td><td>11                </td><td>17                </td><td>22                </td><td>31                </td></tr>\n",
       "\t<tr><td>MetaBAT SuperSens.</td><td>6                 </td><td>11                </td><td>17                </td><td>22                </td><td>31                </td></tr>\n",
       "\t<tr><td>MetaBAT SuperSpec.</td><td>6                 </td><td>13                </td><td>21                </td><td>26                </td><td>35                </td></tr>\n",
       "\t<tr><td>MetaBAT2          </td><td>6                 </td><td>16                </td><td>26                </td><td>31                </td><td>43                </td></tr>\n",
       "\t<tr><td>Rosella           </td><td>2                 </td><td> 3                </td><td>10                </td><td>15                </td><td>24                </td></tr>\n",
       "\t<tr><td>VAMB              </td><td>2                 </td><td> 6                </td><td>11                </td><td>12                </td><td>27                </td></tr>\n",
       "</tbody>\n",
       "</table>\n"
      ],
      "text/latex": [
       "\\begin{tabular}{r|llllll}\n",
       " binner & t1 & t2 & t3 & t4 & t5\\\\\n",
       "\\hline\n",
       "\t CONCOCT            & 3                  &  7                 & 10                 & 11                 & 15                \\\\\n",
       "\t MaxBin2            & 1                  &  6                 & 13                 & 15                 & 17                \\\\\n",
       "\t MetaBAT Sens.      & 6                  & 12                 & 18                 & 23                 & 32                \\\\\n",
       "\t MetaBAT Spec.      & 6                  & 11                 & 17                 & 22                 & 31                \\\\\n",
       "\t MetaBAT SuperSens. & 6                  & 11                 & 17                 & 22                 & 31                \\\\\n",
       "\t MetaBAT SuperSpec. & 6                  & 13                 & 21                 & 26                 & 35                \\\\\n",
       "\t MetaBAT2           & 6                  & 16                 & 26                 & 31                 & 43                \\\\\n",
       "\t Rosella            & 2                  &  3                 & 10                 & 15                 & 24                \\\\\n",
       "\t VAMB               & 2                  &  6                 & 11                 & 12                 & 27                \\\\\n",
       "\\end{tabular}\n"
      ],
      "text/markdown": [
       "\n",
       "| binner | t1 | t2 | t3 | t4 | t5 |\n",
       "|---|---|---|---|---|---|\n",
       "| CONCOCT            | 3                  |  7                 | 10                 | 11                 | 15                 |\n",
       "| MaxBin2            | 1                  |  6                 | 13                 | 15                 | 17                 |\n",
       "| MetaBAT Sens.      | 6                  | 12                 | 18                 | 23                 | 32                 |\n",
       "| MetaBAT Spec.      | 6                  | 11                 | 17                 | 22                 | 31                 |\n",
       "| MetaBAT SuperSens. | 6                  | 11                 | 17                 | 22                 | 31                 |\n",
       "| MetaBAT SuperSpec. | 6                  | 13                 | 21                 | 26                 | 35                 |\n",
       "| MetaBAT2           | 6                  | 16                 | 26                 | 31                 | 43                 |\n",
       "| Rosella            | 2                  |  3                 | 10                 | 15                 | 24                 |\n",
       "| VAMB               | 2                  |  6                 | 11                 | 12                 | 27                 |\n",
       "\n"
      ],
      "text/plain": [
       "  binner             t1 t2 t3 t4 t5\n",
       "1 CONCOCT            3   7 10 11 15\n",
       "2 MaxBin2            1   6 13 15 17\n",
       "3 MetaBAT Sens.      6  12 18 23 32\n",
       "4 MetaBAT Spec.      6  11 17 22 31\n",
       "5 MetaBAT SuperSens. 6  11 17 22 31\n",
       "6 MetaBAT SuperSpec. 6  13 21 26 35\n",
       "7 MetaBAT2           6  16 26 31 43\n",
       "8 Rosella            2   3 10 15 24\n",
       "9 VAMB               2   6 11 12 27"
      ]
     },
     "metadata": {},
     "output_type": "display_data"
    },
    {
     "data": {
      "text/html": [
       "<table>\n",
       "<thead><tr><th scope=col>binner</th><th scope=col>t1</th><th scope=col>t2</th><th scope=col>t3</th><th scope=col>t4</th><th scope=col>t5</th></tr></thead>\n",
       "<tbody>\n",
       "\t<tr><td>DASTool w/ Rosella</td><td>4                 </td><td>18                </td><td>25                </td><td>30                </td><td>36                </td></tr>\n",
       "</tbody>\n",
       "</table>\n"
      ],
      "text/latex": [
       "\\begin{tabular}{r|llllll}\n",
       " binner & t1 & t2 & t3 & t4 & t5\\\\\n",
       "\\hline\n",
       "\t DASTool w/ Rosella & 4                  & 18                 & 25                 & 30                 & 36                \\\\\n",
       "\\end{tabular}\n"
      ],
      "text/markdown": [
       "\n",
       "| binner | t1 | t2 | t3 | t4 | t5 |\n",
       "|---|---|---|---|---|---|\n",
       "| DASTool w/ Rosella | 4                  | 18                 | 25                 | 30                 | 36                 |\n",
       "\n"
      ],
      "text/plain": [
       "  binner             t1 t2 t3 t4 t5\n",
       "1 DASTool w/ Rosella 4  18 25 30 36"
      ]
     },
     "metadata": {},
     "output_type": "display_data"
    },
    {
     "data": {
      "text/html": [
       "<table>\n",
       "<thead><tr><th scope=col>binner</th><th scope=col>t1</th><th scope=col>t2</th><th scope=col>t3</th><th scope=col>t4</th><th scope=col>t5</th></tr></thead>\n",
       "<tbody>\n",
       "\t<tr><td>DASTool w/o Rosella</td><td>4                  </td><td>20                 </td><td>26                 </td><td>31                 </td><td>37                 </td></tr>\n",
       "</tbody>\n",
       "</table>\n"
      ],
      "text/latex": [
       "\\begin{tabular}{r|llllll}\n",
       " binner & t1 & t2 & t3 & t4 & t5\\\\\n",
       "\\hline\n",
       "\t DASTool w/o Rosella & 4                   & 20                  & 26                  & 31                  & 37                 \\\\\n",
       "\\end{tabular}\n"
      ],
      "text/markdown": [
       "\n",
       "| binner | t1 | t2 | t3 | t4 | t5 |\n",
       "|---|---|---|---|---|---|\n",
       "| DASTool w/o Rosella | 4                   | 20                  | 26                  | 31                  | 37                  |\n",
       "\n"
      ],
      "text/plain": [
       "  binner              t1 t2 t3 t4 t5\n",
       "1 DASTool w/o Rosella 4  20 26 31 37"
      ]
     },
     "metadata": {},
     "output_type": "display_data"
    }
   ],
   "source": [
    "\n",
    "sample_1[[3]]\n",
    "sample_1[[4]]\n",
    "sample_1[[5]]\n",
    "# ggarrange(sample_1[[1]], sample_1[[2]], common.legend=T)"
   ]
  },
  {
   "cell_type": "code",
   "execution_count": 4,
   "metadata": {},
   "outputs": [
    {
     "data": {
      "text/html": [
       "<table>\n",
       "<thead><tr><th scope=col>binner</th><th scope=col>t1</th><th scope=col>t2</th><th scope=col>t3</th><th scope=col>t4</th><th scope=col>t5</th></tr></thead>\n",
       "<tbody>\n",
       "\t<tr><td>CONCOCT           </td><td>6                 </td><td>14                </td><td>21                </td><td>27                </td><td>36                </td></tr>\n",
       "\t<tr><td>MaxBin2           </td><td>2                 </td><td>13                </td><td>18                </td><td>23                </td><td>25                </td></tr>\n",
       "\t<tr><td>MetaBAT Sens.     </td><td>7                 </td><td>22                </td><td>31                </td><td>41                </td><td>50                </td></tr>\n",
       "\t<tr><td>MetaBAT Spec.     </td><td>7                 </td><td>22                </td><td>31                </td><td>41                </td><td>50                </td></tr>\n",
       "\t<tr><td>MetaBAT SuperSens.</td><td>7                 </td><td>22                </td><td>31                </td><td>41                </td><td>50                </td></tr>\n",
       "\t<tr><td>MetaBAT SuperSpec.</td><td>8                 </td><td>16                </td><td>30                </td><td>37                </td><td>46                </td></tr>\n",
       "\t<tr><td>MetaBAT2          </td><td>8                 </td><td>19                </td><td>27                </td><td>39                </td><td>50                </td></tr>\n",
       "\t<tr><td>Rosella           </td><td>2                 </td><td> 2                </td><td> 5                </td><td>12                </td><td>25                </td></tr>\n",
       "\t<tr><td>VAMB              </td><td>4                 </td><td> 8                </td><td>14                </td><td>21                </td><td>34                </td></tr>\n",
       "</tbody>\n",
       "</table>\n"
      ],
      "text/latex": [
       "\\begin{tabular}{r|llllll}\n",
       " binner & t1 & t2 & t3 & t4 & t5\\\\\n",
       "\\hline\n",
       "\t CONCOCT            & 6                  & 14                 & 21                 & 27                 & 36                \\\\\n",
       "\t MaxBin2            & 2                  & 13                 & 18                 & 23                 & 25                \\\\\n",
       "\t MetaBAT Sens.      & 7                  & 22                 & 31                 & 41                 & 50                \\\\\n",
       "\t MetaBAT Spec.      & 7                  & 22                 & 31                 & 41                 & 50                \\\\\n",
       "\t MetaBAT SuperSens. & 7                  & 22                 & 31                 & 41                 & 50                \\\\\n",
       "\t MetaBAT SuperSpec. & 8                  & 16                 & 30                 & 37                 & 46                \\\\\n",
       "\t MetaBAT2           & 8                  & 19                 & 27                 & 39                 & 50                \\\\\n",
       "\t Rosella            & 2                  &  2                 &  5                 & 12                 & 25                \\\\\n",
       "\t VAMB               & 4                  &  8                 & 14                 & 21                 & 34                \\\\\n",
       "\\end{tabular}\n"
      ],
      "text/markdown": [
       "\n",
       "| binner | t1 | t2 | t3 | t4 | t5 |\n",
       "|---|---|---|---|---|---|\n",
       "| CONCOCT            | 6                  | 14                 | 21                 | 27                 | 36                 |\n",
       "| MaxBin2            | 2                  | 13                 | 18                 | 23                 | 25                 |\n",
       "| MetaBAT Sens.      | 7                  | 22                 | 31                 | 41                 | 50                 |\n",
       "| MetaBAT Spec.      | 7                  | 22                 | 31                 | 41                 | 50                 |\n",
       "| MetaBAT SuperSens. | 7                  | 22                 | 31                 | 41                 | 50                 |\n",
       "| MetaBAT SuperSpec. | 8                  | 16                 | 30                 | 37                 | 46                 |\n",
       "| MetaBAT2           | 8                  | 19                 | 27                 | 39                 | 50                 |\n",
       "| Rosella            | 2                  |  2                 |  5                 | 12                 | 25                 |\n",
       "| VAMB               | 4                  |  8                 | 14                 | 21                 | 34                 |\n",
       "\n"
      ],
      "text/plain": [
       "  binner             t1 t2 t3 t4 t5\n",
       "1 CONCOCT            6  14 21 27 36\n",
       "2 MaxBin2            2  13 18 23 25\n",
       "3 MetaBAT Sens.      7  22 31 41 50\n",
       "4 MetaBAT Spec.      7  22 31 41 50\n",
       "5 MetaBAT SuperSens. 7  22 31 41 50\n",
       "6 MetaBAT SuperSpec. 8  16 30 37 46\n",
       "7 MetaBAT2           8  19 27 39 50\n",
       "8 Rosella            2   2  5 12 25\n",
       "9 VAMB               4   8 14 21 34"
      ]
     },
     "metadata": {},
     "output_type": "display_data"
    },
    {
     "data": {
      "text/html": [
       "<table>\n",
       "<thead><tr><th scope=col>binner</th><th scope=col>t1</th><th scope=col>t2</th><th scope=col>t3</th><th scope=col>t4</th><th scope=col>t5</th></tr></thead>\n",
       "<tbody>\n",
       "\t<tr><td>DASTool w/ Rosella</td><td>8                 </td><td>22                </td><td>33                </td><td>43                </td><td>51                </td></tr>\n",
       "</tbody>\n",
       "</table>\n"
      ],
      "text/latex": [
       "\\begin{tabular}{r|llllll}\n",
       " binner & t1 & t2 & t3 & t4 & t5\\\\\n",
       "\\hline\n",
       "\t DASTool w/ Rosella & 8                  & 22                 & 33                 & 43                 & 51                \\\\\n",
       "\\end{tabular}\n"
      ],
      "text/markdown": [
       "\n",
       "| binner | t1 | t2 | t3 | t4 | t5 |\n",
       "|---|---|---|---|---|---|\n",
       "| DASTool w/ Rosella | 8                  | 22                 | 33                 | 43                 | 51                 |\n",
       "\n"
      ],
      "text/plain": [
       "  binner             t1 t2 t3 t4 t5\n",
       "1 DASTool w/ Rosella 8  22 33 43 51"
      ]
     },
     "metadata": {},
     "output_type": "display_data"
    },
    {
     "data": {
      "text/html": [
       "<table>\n",
       "<thead><tr><th scope=col>binner</th><th scope=col>t1</th><th scope=col>t2</th><th scope=col>t3</th><th scope=col>t4</th><th scope=col>t5</th></tr></thead>\n",
       "<tbody>\n",
       "\t<tr><td>DASTool w/o Rosella</td><td>7                  </td><td>22                 </td><td>33                 </td><td>43                 </td><td>51                 </td></tr>\n",
       "</tbody>\n",
       "</table>\n"
      ],
      "text/latex": [
       "\\begin{tabular}{r|llllll}\n",
       " binner & t1 & t2 & t3 & t4 & t5\\\\\n",
       "\\hline\n",
       "\t DASTool w/o Rosella & 7                   & 22                  & 33                  & 43                  & 51                 \\\\\n",
       "\\end{tabular}\n"
      ],
      "text/markdown": [
       "\n",
       "| binner | t1 | t2 | t3 | t4 | t5 |\n",
       "|---|---|---|---|---|---|\n",
       "| DASTool w/o Rosella | 7                   | 22                  | 33                  | 43                  | 51                  |\n",
       "\n"
      ],
      "text/plain": [
       "  binner              t1 t2 t3 t4 t5\n",
       "1 DASTool w/o Rosella 7  22 33 43 51"
      ]
     },
     "metadata": {},
     "output_type": "display_data"
    }
   ],
   "source": [
    "sample_1_all[[3]]\n",
    "sample_1_all[[4]]\n",
    "sample_1_all[[5]]"
   ]
  },
  {
   "cell_type": "code",
   "execution_count": 5,
   "metadata": {},
   "outputs": [
    {
     "data": {
      "text/html": [
       "<table>\n",
       "<thead><tr><th scope=col>binner</th><th scope=col>t1</th><th scope=col>t2</th><th scope=col>t3</th><th scope=col>t4</th><th scope=col>t5</th></tr></thead>\n",
       "<tbody>\n",
       "\t<tr><td>CONCOCT           </td><td> 3                </td><td> 8                </td><td>10                </td><td>11                </td><td>11                </td></tr>\n",
       "\t<tr><td>MaxBin2           </td><td> 2                </td><td>14                </td><td>17                </td><td>20                </td><td>20                </td></tr>\n",
       "\t<tr><td>MetaBAT Sens.     </td><td> 5                </td><td>14                </td><td>18                </td><td>20                </td><td>25                </td></tr>\n",
       "\t<tr><td>MetaBAT Spec.     </td><td> 5                </td><td>14                </td><td>18                </td><td>20                </td><td>26                </td></tr>\n",
       "\t<tr><td>MetaBAT SuperSens.</td><td> 5                </td><td>14                </td><td>17                </td><td>19                </td><td>24                </td></tr>\n",
       "\t<tr><td>MetaBAT SuperSpec.</td><td> 6                </td><td>16                </td><td>24                </td><td>28                </td><td>33                </td></tr>\n",
       "\t<tr><td>MetaBAT2          </td><td> 6                </td><td>17                </td><td>30                </td><td>38                </td><td>50                </td></tr>\n",
       "\t<tr><td>Rosella           </td><td> 1                </td><td> 6                </td><td> 9                </td><td>18                </td><td>28                </td></tr>\n",
       "\t<tr><td>VAMB              </td><td>NA                </td><td> 7                </td><td>12                </td><td>18                </td><td>26                </td></tr>\n",
       "</tbody>\n",
       "</table>\n"
      ],
      "text/latex": [
       "\\begin{tabular}{r|llllll}\n",
       " binner & t1 & t2 & t3 & t4 & t5\\\\\n",
       "\\hline\n",
       "\t CONCOCT            &  3                 &  8                 & 10                 & 11                 & 11                \\\\\n",
       "\t MaxBin2            &  2                 & 14                 & 17                 & 20                 & 20                \\\\\n",
       "\t MetaBAT Sens.      &  5                 & 14                 & 18                 & 20                 & 25                \\\\\n",
       "\t MetaBAT Spec.      &  5                 & 14                 & 18                 & 20                 & 26                \\\\\n",
       "\t MetaBAT SuperSens. &  5                 & 14                 & 17                 & 19                 & 24                \\\\\n",
       "\t MetaBAT SuperSpec. &  6                 & 16                 & 24                 & 28                 & 33                \\\\\n",
       "\t MetaBAT2           &  6                 & 17                 & 30                 & 38                 & 50                \\\\\n",
       "\t Rosella            &  1                 &  6                 &  9                 & 18                 & 28                \\\\\n",
       "\t VAMB               & NA                 &  7                 & 12                 & 18                 & 26                \\\\\n",
       "\\end{tabular}\n"
      ],
      "text/markdown": [
       "\n",
       "| binner | t1 | t2 | t3 | t4 | t5 |\n",
       "|---|---|---|---|---|---|\n",
       "| CONCOCT            |  3                 |  8                 | 10                 | 11                 | 11                 |\n",
       "| MaxBin2            |  2                 | 14                 | 17                 | 20                 | 20                 |\n",
       "| MetaBAT Sens.      |  5                 | 14                 | 18                 | 20                 | 25                 |\n",
       "| MetaBAT Spec.      |  5                 | 14                 | 18                 | 20                 | 26                 |\n",
       "| MetaBAT SuperSens. |  5                 | 14                 | 17                 | 19                 | 24                 |\n",
       "| MetaBAT SuperSpec. |  6                 | 16                 | 24                 | 28                 | 33                 |\n",
       "| MetaBAT2           |  6                 | 17                 | 30                 | 38                 | 50                 |\n",
       "| Rosella            |  1                 |  6                 |  9                 | 18                 | 28                 |\n",
       "| VAMB               | NA                 |  7                 | 12                 | 18                 | 26                 |\n",
       "\n"
      ],
      "text/plain": [
       "  binner             t1 t2 t3 t4 t5\n",
       "1 CONCOCT             3  8 10 11 11\n",
       "2 MaxBin2             2 14 17 20 20\n",
       "3 MetaBAT Sens.       5 14 18 20 25\n",
       "4 MetaBAT Spec.       5 14 18 20 26\n",
       "5 MetaBAT SuperSens.  5 14 17 19 24\n",
       "6 MetaBAT SuperSpec.  6 16 24 28 33\n",
       "7 MetaBAT2            6 17 30 38 50\n",
       "8 Rosella             1  6  9 18 28\n",
       "9 VAMB               NA  7 12 18 26"
      ]
     },
     "metadata": {},
     "output_type": "display_data"
    },
    {
     "data": {
      "text/html": [
       "<table>\n",
       "<thead><tr><th scope=col>binner</th><th scope=col>t1</th><th scope=col>t2</th><th scope=col>t3</th><th scope=col>t4</th><th scope=col>t5</th></tr></thead>\n",
       "<tbody>\n",
       "\t<tr><td>DASTool w/ Rosella</td><td>6                 </td><td>24                </td><td>33                </td><td>39                </td><td>44                </td></tr>\n",
       "</tbody>\n",
       "</table>\n"
      ],
      "text/latex": [
       "\\begin{tabular}{r|llllll}\n",
       " binner & t1 & t2 & t3 & t4 & t5\\\\\n",
       "\\hline\n",
       "\t DASTool w/ Rosella & 6                  & 24                 & 33                 & 39                 & 44                \\\\\n",
       "\\end{tabular}\n"
      ],
      "text/markdown": [
       "\n",
       "| binner | t1 | t2 | t3 | t4 | t5 |\n",
       "|---|---|---|---|---|---|\n",
       "| DASTool w/ Rosella | 6                  | 24                 | 33                 | 39                 | 44                 |\n",
       "\n"
      ],
      "text/plain": [
       "  binner             t1 t2 t3 t4 t5\n",
       "1 DASTool w/ Rosella 6  24 33 39 44"
      ]
     },
     "metadata": {},
     "output_type": "display_data"
    },
    {
     "data": {
      "text/html": [
       "<table>\n",
       "<thead><tr><th scope=col>binner</th><th scope=col>t1</th><th scope=col>t2</th><th scope=col>t3</th><th scope=col>t4</th><th scope=col>t5</th></tr></thead>\n",
       "<tbody>\n",
       "\t<tr><td>DASTool w/o Rosella</td><td>6                  </td><td>22                 </td><td>32                 </td><td>37                 </td><td>41                 </td></tr>\n",
       "</tbody>\n",
       "</table>\n"
      ],
      "text/latex": [
       "\\begin{tabular}{r|llllll}\n",
       " binner & t1 & t2 & t3 & t4 & t5\\\\\n",
       "\\hline\n",
       "\t DASTool w/o Rosella & 6                   & 22                  & 32                  & 37                  & 41                 \\\\\n",
       "\\end{tabular}\n"
      ],
      "text/markdown": [
       "\n",
       "| binner | t1 | t2 | t3 | t4 | t5 |\n",
       "|---|---|---|---|---|---|\n",
       "| DASTool w/o Rosella | 6                   | 22                  | 32                  | 37                  | 41                  |\n",
       "\n"
      ],
      "text/plain": [
       "  binner              t1 t2 t3 t4 t5\n",
       "1 DASTool w/o Rosella 6  22 32 37 41"
      ]
     },
     "metadata": {},
     "output_type": "display_data"
    }
   ],
   "source": [
    "sample_2[[3]]\n",
    "sample_2[[4]]\n",
    "sample_2[[5]]"
   ]
  },
  {
   "cell_type": "code",
   "execution_count": 6,
   "metadata": {},
   "outputs": [
    {
     "data": {
      "text/html": [
       "<table>\n",
       "<thead><tr><th scope=col>binner</th><th scope=col>t1</th><th scope=col>t2</th><th scope=col>t3</th><th scope=col>t4</th><th scope=col>t5</th></tr></thead>\n",
       "<tbody>\n",
       "\t<tr><td>CONCOCT           </td><td> 7                </td><td>14                </td><td>15                </td><td>18                </td><td>18                </td></tr>\n",
       "\t<tr><td>MaxBin2           </td><td> 7                </td><td>20                </td><td>26                </td><td>31                </td><td>38                </td></tr>\n",
       "\t<tr><td>MetaBAT Sens.     </td><td>10                </td><td>22                </td><td>27                </td><td>30                </td><td>38                </td></tr>\n",
       "\t<tr><td>MetaBAT Spec.     </td><td>10                </td><td>22                </td><td>27                </td><td>30                </td><td>38                </td></tr>\n",
       "\t<tr><td>MetaBAT SuperSens.</td><td>10                </td><td>22                </td><td>27                </td><td>30                </td><td>37                </td></tr>\n",
       "\t<tr><td>MetaBAT SuperSpec.</td><td>10                </td><td>22                </td><td>28                </td><td>35                </td><td>49                </td></tr>\n",
       "\t<tr><td>MetaBAT2          </td><td>10                </td><td>27                </td><td>53                </td><td>69                </td><td>83                </td></tr>\n",
       "\t<tr><td>Rosella           </td><td>NA                </td><td> 5                </td><td>13                </td><td>20                </td><td>32                </td></tr>\n",
       "\t<tr><td>VAMB              </td><td> 2                </td><td> 3                </td><td>15                </td><td>20                </td><td>42                </td></tr>\n",
       "</tbody>\n",
       "</table>\n"
      ],
      "text/latex": [
       "\\begin{tabular}{r|llllll}\n",
       " binner & t1 & t2 & t3 & t4 & t5\\\\\n",
       "\\hline\n",
       "\t CONCOCT            &  7                 & 14                 & 15                 & 18                 & 18                \\\\\n",
       "\t MaxBin2            &  7                 & 20                 & 26                 & 31                 & 38                \\\\\n",
       "\t MetaBAT Sens.      & 10                 & 22                 & 27                 & 30                 & 38                \\\\\n",
       "\t MetaBAT Spec.      & 10                 & 22                 & 27                 & 30                 & 38                \\\\\n",
       "\t MetaBAT SuperSens. & 10                 & 22                 & 27                 & 30                 & 37                \\\\\n",
       "\t MetaBAT SuperSpec. & 10                 & 22                 & 28                 & 35                 & 49                \\\\\n",
       "\t MetaBAT2           & 10                 & 27                 & 53                 & 69                 & 83                \\\\\n",
       "\t Rosella            & NA                 &  5                 & 13                 & 20                 & 32                \\\\\n",
       "\t VAMB               &  2                 &  3                 & 15                 & 20                 & 42                \\\\\n",
       "\\end{tabular}\n"
      ],
      "text/markdown": [
       "\n",
       "| binner | t1 | t2 | t3 | t4 | t5 |\n",
       "|---|---|---|---|---|---|\n",
       "| CONCOCT            |  7                 | 14                 | 15                 | 18                 | 18                 |\n",
       "| MaxBin2            |  7                 | 20                 | 26                 | 31                 | 38                 |\n",
       "| MetaBAT Sens.      | 10                 | 22                 | 27                 | 30                 | 38                 |\n",
       "| MetaBAT Spec.      | 10                 | 22                 | 27                 | 30                 | 38                 |\n",
       "| MetaBAT SuperSens. | 10                 | 22                 | 27                 | 30                 | 37                 |\n",
       "| MetaBAT SuperSpec. | 10                 | 22                 | 28                 | 35                 | 49                 |\n",
       "| MetaBAT2           | 10                 | 27                 | 53                 | 69                 | 83                 |\n",
       "| Rosella            | NA                 |  5                 | 13                 | 20                 | 32                 |\n",
       "| VAMB               |  2                 |  3                 | 15                 | 20                 | 42                 |\n",
       "\n"
      ],
      "text/plain": [
       "  binner             t1 t2 t3 t4 t5\n",
       "1 CONCOCT             7 14 15 18 18\n",
       "2 MaxBin2             7 20 26 31 38\n",
       "3 MetaBAT Sens.      10 22 27 30 38\n",
       "4 MetaBAT Spec.      10 22 27 30 38\n",
       "5 MetaBAT SuperSens. 10 22 27 30 37\n",
       "6 MetaBAT SuperSpec. 10 22 28 35 49\n",
       "7 MetaBAT2           10 27 53 69 83\n",
       "8 Rosella            NA  5 13 20 32\n",
       "9 VAMB                2  3 15 20 42"
      ]
     },
     "metadata": {},
     "output_type": "display_data"
    },
    {
     "data": {
      "text/html": [
       "<table>\n",
       "<thead><tr><th scope=col>binner</th><th scope=col>t1</th><th scope=col>t2</th><th scope=col>t3</th><th scope=col>t4</th><th scope=col>t5</th></tr></thead>\n",
       "<tbody>\n",
       "\t<tr><td>DASTool w/ Rosella</td><td>14                </td><td>35                </td><td>49                </td><td>63                </td><td>80                </td></tr>\n",
       "</tbody>\n",
       "</table>\n"
      ],
      "text/latex": [
       "\\begin{tabular}{r|llllll}\n",
       " binner & t1 & t2 & t3 & t4 & t5\\\\\n",
       "\\hline\n",
       "\t DASTool w/ Rosella & 14                 & 35                 & 49                 & 63                 & 80                \\\\\n",
       "\\end{tabular}\n"
      ],
      "text/markdown": [
       "\n",
       "| binner | t1 | t2 | t3 | t4 | t5 |\n",
       "|---|---|---|---|---|---|\n",
       "| DASTool w/ Rosella | 14                 | 35                 | 49                 | 63                 | 80                 |\n",
       "\n"
      ],
      "text/plain": [
       "  binner             t1 t2 t3 t4 t5\n",
       "1 DASTool w/ Rosella 14 35 49 63 80"
      ]
     },
     "metadata": {},
     "output_type": "display_data"
    },
    {
     "data": {
      "text/html": [
       "<table>\n",
       "<thead><tr><th scope=col>binner</th><th scope=col>t1</th><th scope=col>t2</th><th scope=col>t3</th><th scope=col>t4</th><th scope=col>t5</th></tr></thead>\n",
       "<tbody>\n",
       "\t<tr><td>DASTool w/o Rosella</td><td>14                 </td><td>35                 </td><td>50                 </td><td>64                 </td><td>78                 </td></tr>\n",
       "</tbody>\n",
       "</table>\n"
      ],
      "text/latex": [
       "\\begin{tabular}{r|llllll}\n",
       " binner & t1 & t2 & t3 & t4 & t5\\\\\n",
       "\\hline\n",
       "\t DASTool w/o Rosella & 14                  & 35                  & 50                  & 64                  & 78                 \\\\\n",
       "\\end{tabular}\n"
      ],
      "text/markdown": [
       "\n",
       "| binner | t1 | t2 | t3 | t4 | t5 |\n",
       "|---|---|---|---|---|---|\n",
       "| DASTool w/o Rosella | 14                  | 35                  | 50                  | 64                  | 78                  |\n",
       "\n"
      ],
      "text/plain": [
       "  binner              t1 t2 t3 t4 t5\n",
       "1 DASTool w/o Rosella 14 35 50 64 78"
      ]
     },
     "metadata": {},
     "output_type": "display_data"
    }
   ],
   "source": [
    "sample_3[[3]]\n",
    "sample_3[[4]]\n",
    "sample_3[[5]]"
   ]
  },
  {
   "cell_type": "code",
   "execution_count": 7,
   "metadata": {},
   "outputs": [
    {
     "data": {
      "text/html": [
       "<table>\n",
       "<thead><tr><th scope=col>binner</th><th scope=col>t1</th><th scope=col>t2</th><th scope=col>t3</th><th scope=col>t4</th><th scope=col>t5</th></tr></thead>\n",
       "<tbody>\n",
       "\t<tr><td>CONCOCT           </td><td> 5                </td><td> 9                </td><td>12                </td><td>14                </td><td>20                </td></tr>\n",
       "\t<tr><td>MaxBin2           </td><td> 6                </td><td>16                </td><td>21                </td><td>26                </td><td>31                </td></tr>\n",
       "\t<tr><td>MetaBAT Sens.     </td><td> 5                </td><td>10                </td><td>20                </td><td>27                </td><td>44                </td></tr>\n",
       "\t<tr><td>MetaBAT Spec.     </td><td> 5                </td><td>10                </td><td>20                </td><td>27                </td><td>44                </td></tr>\n",
       "\t<tr><td>MetaBAT SuperSens.</td><td> 5                </td><td>10                </td><td>20                </td><td>27                </td><td>44                </td></tr>\n",
       "\t<tr><td>MetaBAT SuperSpec.</td><td>10                </td><td>18                </td><td>32                </td><td>36                </td><td>52                </td></tr>\n",
       "\t<tr><td>MetaBAT2          </td><td> 8                </td><td>26                </td><td>47                </td><td>63                </td><td>89                </td></tr>\n",
       "\t<tr><td>Rosella           </td><td> 3                </td><td> 7                </td><td>14                </td><td>23                </td><td>37                </td></tr>\n",
       "\t<tr><td>VAMB              </td><td>NA                </td><td> 4                </td><td>13                </td><td>20                </td><td>42                </td></tr>\n",
       "</tbody>\n",
       "</table>\n"
      ],
      "text/latex": [
       "\\begin{tabular}{r|llllll}\n",
       " binner & t1 & t2 & t3 & t4 & t5\\\\\n",
       "\\hline\n",
       "\t CONCOCT            &  5                 &  9                 & 12                 & 14                 & 20                \\\\\n",
       "\t MaxBin2            &  6                 & 16                 & 21                 & 26                 & 31                \\\\\n",
       "\t MetaBAT Sens.      &  5                 & 10                 & 20                 & 27                 & 44                \\\\\n",
       "\t MetaBAT Spec.      &  5                 & 10                 & 20                 & 27                 & 44                \\\\\n",
       "\t MetaBAT SuperSens. &  5                 & 10                 & 20                 & 27                 & 44                \\\\\n",
       "\t MetaBAT SuperSpec. & 10                 & 18                 & 32                 & 36                 & 52                \\\\\n",
       "\t MetaBAT2           &  8                 & 26                 & 47                 & 63                 & 89                \\\\\n",
       "\t Rosella            &  3                 &  7                 & 14                 & 23                 & 37                \\\\\n",
       "\t VAMB               & NA                 &  4                 & 13                 & 20                 & 42                \\\\\n",
       "\\end{tabular}\n"
      ],
      "text/markdown": [
       "\n",
       "| binner | t1 | t2 | t3 | t4 | t5 |\n",
       "|---|---|---|---|---|---|\n",
       "| CONCOCT            |  5                 |  9                 | 12                 | 14                 | 20                 |\n",
       "| MaxBin2            |  6                 | 16                 | 21                 | 26                 | 31                 |\n",
       "| MetaBAT Sens.      |  5                 | 10                 | 20                 | 27                 | 44                 |\n",
       "| MetaBAT Spec.      |  5                 | 10                 | 20                 | 27                 | 44                 |\n",
       "| MetaBAT SuperSens. |  5                 | 10                 | 20                 | 27                 | 44                 |\n",
       "| MetaBAT SuperSpec. | 10                 | 18                 | 32                 | 36                 | 52                 |\n",
       "| MetaBAT2           |  8                 | 26                 | 47                 | 63                 | 89                 |\n",
       "| Rosella            |  3                 |  7                 | 14                 | 23                 | 37                 |\n",
       "| VAMB               | NA                 |  4                 | 13                 | 20                 | 42                 |\n",
       "\n"
      ],
      "text/plain": [
       "  binner             t1 t2 t3 t4 t5\n",
       "1 CONCOCT             5  9 12 14 20\n",
       "2 MaxBin2             6 16 21 26 31\n",
       "3 MetaBAT Sens.       5 10 20 27 44\n",
       "4 MetaBAT Spec.       5 10 20 27 44\n",
       "5 MetaBAT SuperSens.  5 10 20 27 44\n",
       "6 MetaBAT SuperSpec. 10 18 32 36 52\n",
       "7 MetaBAT2            8 26 47 63 89\n",
       "8 Rosella             3  7 14 23 37\n",
       "9 VAMB               NA  4 13 20 42"
      ]
     },
     "metadata": {},
     "output_type": "display_data"
    },
    {
     "data": {
      "text/html": [
       "<table>\n",
       "<thead><tr><th scope=col>binner</th><th scope=col>t1</th><th scope=col>t2</th><th scope=col>t3</th><th scope=col>t4</th><th scope=col>t5</th></tr></thead>\n",
       "<tbody>\n",
       "\t<tr><td>DASTool w/ Rosella</td><td>10                </td><td>25                </td><td>43                </td><td>59                </td><td>73                </td></tr>\n",
       "</tbody>\n",
       "</table>\n"
      ],
      "text/latex": [
       "\\begin{tabular}{r|llllll}\n",
       " binner & t1 & t2 & t3 & t4 & t5\\\\\n",
       "\\hline\n",
       "\t DASTool w/ Rosella & 10                 & 25                 & 43                 & 59                 & 73                \\\\\n",
       "\\end{tabular}\n"
      ],
      "text/markdown": [
       "\n",
       "| binner | t1 | t2 | t3 | t4 | t5 |\n",
       "|---|---|---|---|---|---|\n",
       "| DASTool w/ Rosella | 10                 | 25                 | 43                 | 59                 | 73                 |\n",
       "\n"
      ],
      "text/plain": [
       "  binner             t1 t2 t3 t4 t5\n",
       "1 DASTool w/ Rosella 10 25 43 59 73"
      ]
     },
     "metadata": {},
     "output_type": "display_data"
    },
    {
     "data": {
      "text/html": [
       "<table>\n",
       "<thead><tr><th scope=col>binner</th><th scope=col>t1</th><th scope=col>t2</th><th scope=col>t3</th><th scope=col>t4</th><th scope=col>t5</th></tr></thead>\n",
       "<tbody>\n",
       "\t<tr><td>DASTool w/o Rosella</td><td>10                 </td><td>25                 </td><td>42                 </td><td>58                 </td><td>71                 </td></tr>\n",
       "</tbody>\n",
       "</table>\n"
      ],
      "text/latex": [
       "\\begin{tabular}{r|llllll}\n",
       " binner & t1 & t2 & t3 & t4 & t5\\\\\n",
       "\\hline\n",
       "\t DASTool w/o Rosella & 10                  & 25                  & 42                  & 58                  & 71                 \\\\\n",
       "\\end{tabular}\n"
      ],
      "text/markdown": [
       "\n",
       "| binner | t1 | t2 | t3 | t4 | t5 |\n",
       "|---|---|---|---|---|---|\n",
       "| DASTool w/o Rosella | 10                  | 25                  | 42                  | 58                  | 71                  |\n",
       "\n"
      ],
      "text/plain": [
       "  binner              t1 t2 t3 t4 t5\n",
       "1 DASTool w/o Rosella 10 25 42 58 71"
      ]
     },
     "metadata": {},
     "output_type": "display_data"
    }
   ],
   "source": [
    "sample_4[[3]]\n",
    "sample_4[[4]]\n",
    "sample_4[[5]]"
   ]
  },
  {
   "cell_type": "code",
   "execution_count": 80,
   "metadata": {},
   "outputs": [
    {
     "name": "stderr",
     "output_type": "stream",
     "text": [
      "Warning message in fread(\"/lustre/scratch/microbiome/n10853499/01-eilish_paper/00-assembly/01-assemblies/20140700_S16_all_reads/data/all_bins/checkm.out\"):\n",
      "“Discarded single-line footer: <<[2021-11-24 18:06:25] INFO: { Current stage: 0:02:55.864 || Total: 1:01:51.222 }>>”"
     ]
    }
   ],
   "source": [
    "sample_1_checkm <- fread(\"/lustre/scratch/microbiome/n10853499/01-eilish_paper/00-assembly/01-assemblies/20140700_S16_all_reads/data/all_bins/checkm.out\")"
   ]
  },
  {
   "cell_type": "code",
   "execution_count": 88,
   "metadata": {},
   "outputs": [
    {
     "data": {
      "text/html": [
       "<table>\n",
       "<thead><tr><th scope=col>Bin Id</th><th scope=col>Marker lineage</th><th scope=col># genomes</th><th scope=col># markers</th><th scope=col># marker sets</th><th scope=col>0</th><th scope=col>1</th><th scope=col>2</th><th scope=col>3</th><th scope=col>4</th><th scope=col>5+</th><th scope=col>Completeness</th><th scope=col>Contamination</th><th scope=col>Strain heterogeneity</th></tr></thead>\n",
       "<tbody>\n",
       "\t<tr><td>rosella_bin.1        </td><td>k__Archaea (UID2)    </td><td> 207                 </td><td>145                  </td><td>103                  </td><td>102                  </td><td> 43                  </td><td>0                    </td><td>0                    </td><td>0                    </td><td>0                    </td><td>31.39                </td><td>0.00                 </td><td> 0                   </td></tr>\n",
       "\t<tr><td>rosella_bin.10       </td><td>k__Archaea (UID2)    </td><td> 207                 </td><td>149                  </td><td>107                  </td><td> 22                  </td><td>121                  </td><td>6                    </td><td>0                    </td><td>0                    </td><td>0                    </td><td>90.73                </td><td>4.21                 </td><td> 0                   </td></tr>\n",
       "\t<tr><td>rosella_bin.1002     </td><td>k__Bacteria (UID203) </td><td>5449                 </td><td>104                  </td><td> 58                  </td><td>100                  </td><td>  4                  </td><td>0                    </td><td>0                    </td><td>0                    </td><td>0                    </td><td> 3.45                </td><td>0.00                 </td><td> 0                   </td></tr>\n",
       "\t<tr><td>rosella_bin.1004     </td><td>k__Bacteria (UID203) </td><td>5449                 </td><td>104                  </td><td> 58                  </td><td> 83                  </td><td> 20                  </td><td>1                    </td><td>0                    </td><td>0                    </td><td>0                    </td><td>29.31                </td><td>1.72                 </td><td> 0                   </td></tr>\n",
       "\t<tr><td>rosella_bin.1006     </td><td>k__Bacteria (UID203) </td><td>5449                 </td><td>104                  </td><td> 58                  </td><td>101                  </td><td>  3                  </td><td>0                    </td><td>0                    </td><td>0                    </td><td>0                    </td><td> 3.45                </td><td>0.00                 </td><td> 0                   </td></tr>\n",
       "\t<tr><td>rosella_bin.1009     </td><td>root (UID1)          </td><td>5656                 </td><td> 56                  </td><td> 24                  </td><td> 56                  </td><td>  0                  </td><td>0                    </td><td>0                    </td><td>0                    </td><td>0                    </td><td> 0.00                </td><td>0.00                 </td><td> 0                   </td></tr>\n",
       "\t<tr><td>rosella_bin.1010     </td><td>k__Bacteria (UID203) </td><td>5449                 </td><td>104                  </td><td> 58                  </td><td> 92                  </td><td> 10                  </td><td>2                    </td><td>0                    </td><td>0                    </td><td>0                    </td><td> 9.72                </td><td>3.45                 </td><td>50                   </td></tr>\n",
       "\t<tr><td>rosella_bin.1012     </td><td>k__Bacteria (UID3187)</td><td>2258                 </td><td>187                  </td><td>116                  </td><td>164                  </td><td> 23                  </td><td>0                    </td><td>0                    </td><td>0                    </td><td>0                    </td><td> 2.02                </td><td>0.00                 </td><td> 0                   </td></tr>\n",
       "\t<tr><td>rosella_bin.1019     </td><td>root (UID1)          </td><td>5656                 </td><td> 56                  </td><td> 24                  </td><td> 56                  </td><td>  0                  </td><td>0                    </td><td>0                    </td><td>0                    </td><td>0                    </td><td> 0.00                </td><td>0.00                 </td><td> 0                   </td></tr>\n",
       "\t<tr><td>rosella_bin.1025     </td><td>root (UID1)          </td><td>5656                 </td><td> 56                  </td><td> 24                  </td><td> 56                  </td><td>  0                  </td><td>0                    </td><td>0                    </td><td>0                    </td><td>0                    </td><td> 0.00                </td><td>0.00                 </td><td> 0                   </td></tr>\n",
       "\t<tr><td>rosella_bin.1027     </td><td>root (UID1)          </td><td>5656                 </td><td> 56                  </td><td> 24                  </td><td> 56                  </td><td>  0                  </td><td>0                    </td><td>0                    </td><td>0                    </td><td>0                    </td><td> 0.00                </td><td>0.00                 </td><td> 0                   </td></tr>\n",
       "\t<tr><td>rosella_bin.1029     </td><td>k__Bacteria (UID203) </td><td>5449                 </td><td>104                  </td><td> 58                  </td><td>100                  </td><td>  4                  </td><td>0                    </td><td>0                    </td><td>0                    </td><td>0                    </td><td> 6.90                </td><td>0.00                 </td><td> 0                   </td></tr>\n",
       "\t<tr><td>rosella_bin.1031     </td><td>root (UID1)          </td><td>5656                 </td><td> 56                  </td><td> 24                  </td><td> 56                  </td><td>  0                  </td><td>0                    </td><td>0                    </td><td>0                    </td><td>0                    </td><td> 0.00                </td><td>0.00                 </td><td> 0                   </td></tr>\n",
       "\t<tr><td>rosella_bin.1034     </td><td>root (UID1)          </td><td>5656                 </td><td> 56                  </td><td> 24                  </td><td> 56                  </td><td>  0                  </td><td>0                    </td><td>0                    </td><td>0                    </td><td>0                    </td><td> 0.00                </td><td>0.00                 </td><td> 0                   </td></tr>\n",
       "\t<tr><td>rosella_bin.1039     </td><td>root (UID1)          </td><td>5656                 </td><td> 56                  </td><td> 24                  </td><td> 56                  </td><td>  0                  </td><td>0                    </td><td>0                    </td><td>0                    </td><td>0                    </td><td> 0.00                </td><td>0.00                 </td><td> 0                   </td></tr>\n",
       "\t<tr><td>rosella_bin.1043     </td><td>root (UID1)          </td><td>5656                 </td><td> 56                  </td><td> 24                  </td><td> 56                  </td><td>  0                  </td><td>0                    </td><td>0                    </td><td>0                    </td><td>0                    </td><td> 0.00                </td><td>0.00                 </td><td> 0                   </td></tr>\n",
       "\t<tr><td>rosella_bin.1045     </td><td>root (UID1)          </td><td>5656                 </td><td> 56                  </td><td> 24                  </td><td> 56                  </td><td>  0                  </td><td>0                    </td><td>0                    </td><td>0                    </td><td>0                    </td><td> 0.00                </td><td>0.00                 </td><td> 0                   </td></tr>\n",
       "\t<tr><td>rosella_bin.1047     </td><td>root (UID1)          </td><td>5656                 </td><td> 56                  </td><td> 24                  </td><td> 56                  </td><td>  0                  </td><td>0                    </td><td>0                    </td><td>0                    </td><td>0                    </td><td> 0.00                </td><td>0.00                 </td><td> 0                   </td></tr>\n",
       "\t<tr><td>rosella_bin.105      </td><td>root (UID1)          </td><td>5656                 </td><td> 56                  </td><td> 24                  </td><td> 55                  </td><td>  1                  </td><td>0                    </td><td>0                    </td><td>0                    </td><td>0                    </td><td> 4.17                </td><td>0.00                 </td><td> 0                   </td></tr>\n",
       "\t<tr><td>rosella_bin.1050     </td><td>root (UID1)          </td><td>5656                 </td><td> 56                  </td><td> 24                  </td><td> 56                  </td><td>  0                  </td><td>0                    </td><td>0                    </td><td>0                    </td><td>0                    </td><td> 0.00                </td><td>0.00                 </td><td> 0                   </td></tr>\n",
       "\t<tr><td>rosella_bin.1051     </td><td>k__Archaea (UID2)    </td><td> 207                 </td><td>149                  </td><td>107                  </td><td>140                  </td><td>  9                  </td><td>0                    </td><td>0                    </td><td>0                    </td><td>0                    </td><td> 6.54                </td><td>0.00                 </td><td> 0                   </td></tr>\n",
       "\t<tr><td>rosella_bin.1054     </td><td>k__Bacteria (UID203) </td><td>5449                 </td><td>104                  </td><td> 58                  </td><td>101                  </td><td>  3                  </td><td>0                    </td><td>0                    </td><td>0                    </td><td>0                    </td><td> 3.45                </td><td>0.00                 </td><td> 0                   </td></tr>\n",
       "\t<tr><td>rosella_bin.1058     </td><td>root (UID1)          </td><td>5656                 </td><td> 56                  </td><td> 24                  </td><td> 56                  </td><td>  0                  </td><td>0                    </td><td>0                    </td><td>0                    </td><td>0                    </td><td> 0.00                </td><td>0.00                 </td><td> 0                   </td></tr>\n",
       "\t<tr><td>rosella_bin.1061     </td><td>k__Bacteria (UID203) </td><td>5449                 </td><td>104                  </td><td> 58                  </td><td>103                  </td><td>  1                  </td><td>0                    </td><td>0                    </td><td>0                    </td><td>0                    </td><td> 1.72                </td><td>0.00                 </td><td> 0                   </td></tr>\n",
       "\t<tr><td>rosella_bin.1064     </td><td>root (UID1)          </td><td>5656                 </td><td> 56                  </td><td> 24                  </td><td> 56                  </td><td>  0                  </td><td>0                    </td><td>0                    </td><td>0                    </td><td>0                    </td><td> 0.00                </td><td>0.00                 </td><td> 0                   </td></tr>\n",
       "\t<tr><td>rosella_bin.1067     </td><td>k__Bacteria (UID203) </td><td>5449                 </td><td>104                  </td><td> 58                  </td><td>100                  </td><td>  4                  </td><td>0                    </td><td>0                    </td><td>0                    </td><td>0                    </td><td> 6.90                </td><td>0.00                 </td><td> 0                   </td></tr>\n",
       "\t<tr><td>rosella_bin.1070     </td><td>root (UID1)          </td><td>5656                 </td><td> 56                  </td><td> 24                  </td><td> 56                  </td><td>  0                  </td><td>0                    </td><td>0                    </td><td>0                    </td><td>0                    </td><td> 0.00                </td><td>0.00                 </td><td> 0                   </td></tr>\n",
       "\t<tr><td>rosella_bin.1074     </td><td>k__Bacteria (UID2982)</td><td>  88                 </td><td>227                  </td><td>146                  </td><td>188                  </td><td> 39                  </td><td>0                    </td><td>0                    </td><td>0                    </td><td>0                    </td><td> 5.18                </td><td>0.00                 </td><td> 0                   </td></tr>\n",
       "\t<tr><td>rosella_bin.1076     </td><td>k__Bacteria (UID2982)</td><td>  88                 </td><td>230                  </td><td>148                  </td><td>201                  </td><td> 29                  </td><td>0                    </td><td>0                    </td><td>0                    </td><td>0                    </td><td> 8.11                </td><td>0.00                 </td><td> 0                   </td></tr>\n",
       "\t<tr><td>rosella_bin.1079     </td><td>root (UID1)          </td><td>5656                 </td><td> 56                  </td><td> 24                  </td><td> 56                  </td><td>  0                  </td><td>0                    </td><td>0                    </td><td>0                    </td><td>0                    </td><td> 0.00                </td><td>0.00                 </td><td> 0                   </td></tr>\n",
       "\t<tr><td>...</td><td>...</td><td>...</td><td>...</td><td>...</td><td>...</td><td>...</td><td>...</td><td>...</td><td>...</td><td>...</td><td>...</td><td>...</td><td>...</td></tr>\n",
       "\t<tr><td>rosella_bin.937               </td><td>root (UID1)                   </td><td>5656                          </td><td> 56                           </td><td> 24                           </td><td> 56                           </td><td>  0                           </td><td>0                             </td><td>0                             </td><td>0                             </td><td>0                             </td><td> 0.00                         </td><td>0.00                          </td><td>0                             </td></tr>\n",
       "\t<tr><td>rosella_bin.940               </td><td>root (UID1)                   </td><td>5656                          </td><td> 56                           </td><td> 24                           </td><td> 56                           </td><td>  0                           </td><td>0                             </td><td>0                             </td><td>0                             </td><td>0                             </td><td> 0.00                         </td><td>0.00                          </td><td>0                             </td></tr>\n",
       "\t<tr><td>rosella_bin.942               </td><td>k__Bacteria (UID203)          </td><td>5449                          </td><td>104                           </td><td> 58                           </td><td> 96                           </td><td>  6                           </td><td>2                             </td><td>0                             </td><td>0                             </td><td>0                             </td><td>13.79                         </td><td>3.45                          </td><td>0                             </td></tr>\n",
       "\t<tr><td>rosella_bin.943               </td><td>root (UID1)                   </td><td>5656                          </td><td> 56                           </td><td> 24                           </td><td> 55                           </td><td>  1                           </td><td>0                             </td><td>0                             </td><td>0                             </td><td>0                             </td><td> 4.17                         </td><td>0.00                          </td><td>0                             </td></tr>\n",
       "\t<tr><td>rosella_bin.946               </td><td>k__Bacteria (UID203)          </td><td>5449                          </td><td>104                           </td><td> 58                           </td><td> 80                           </td><td> 24                           </td><td>0                             </td><td>0                             </td><td>0                             </td><td>0                             </td><td>32.76                         </td><td>0.00                          </td><td>0                             </td></tr>\n",
       "\t<tr><td>rosella_bin.953               </td><td>root (UID1)                   </td><td>5656                          </td><td> 56                           </td><td> 24                           </td><td> 55                           </td><td>  1                           </td><td>0                             </td><td>0                             </td><td>0                             </td><td>0                             </td><td> 4.17                         </td><td>0.00                          </td><td>0                             </td></tr>\n",
       "\t<tr><td>rosella_bin.955               </td><td>k__Bacteria (UID203)          </td><td>5449                          </td><td>101                           </td><td> 57                           </td><td> 99                           </td><td>  2                           </td><td>0                             </td><td>0                             </td><td>0                             </td><td>0                             </td><td> 1.75                         </td><td>0.00                          </td><td>0                             </td></tr>\n",
       "\t<tr><td>rosella_bin.956               </td><td>root (UID1)                   </td><td>5656                          </td><td> 56                           </td><td> 24                           </td><td> 56                           </td><td>  0                           </td><td>0                             </td><td>0                             </td><td>0                             </td><td>0                             </td><td> 0.00                         </td><td>0.00                          </td><td>0                             </td></tr>\n",
       "\t<tr><td>rosella_bin.957               </td><td>root (UID1)                   </td><td>5656                          </td><td> 56                           </td><td> 24                           </td><td> 56                           </td><td>  0                           </td><td>0                             </td><td>0                             </td><td>0                             </td><td>0                             </td><td> 0.00                         </td><td>0.00                          </td><td>0                             </td></tr>\n",
       "\t<tr><td>rosella_bin.96                </td><td>k__Bacteria (UID203)          </td><td>5449                          </td><td>104                           </td><td> 58                           </td><td>103                           </td><td>  1                           </td><td>0                             </td><td>0                             </td><td>0                             </td><td>0                             </td><td> 0.57                         </td><td>0.00                          </td><td>0                             </td></tr>\n",
       "\t<tr><td>rosella_bin.960               </td><td>p__Euryarchaeota (UID3)       </td><td> 148                          </td><td>188                           </td><td>125                           </td><td>127                           </td><td> 61                           </td><td>0                             </td><td>0                             </td><td>0                             </td><td>0                             </td><td>29.47                         </td><td>0.00                          </td><td>0                             </td></tr>\n",
       "\t<tr><td>rosella_bin.961               </td><td>root (UID1)                   </td><td>5656                          </td><td> 56                           </td><td> 24                           </td><td> 55                           </td><td>  1                           </td><td>0                             </td><td>0                             </td><td>0                             </td><td>0                             </td><td> 4.17                         </td><td>0.00                          </td><td>0                             </td></tr>\n",
       "\t<tr><td>rosella_bin.964               </td><td>k__Bacteria (UID203)          </td><td>5449                          </td><td>104                           </td><td> 58                           </td><td> 82                           </td><td> 22                           </td><td>0                             </td><td>0                             </td><td>0                             </td><td>0                             </td><td>25.47                         </td><td>0.00                          </td><td>0                             </td></tr>\n",
       "\t<tr><td>rosella_bin.970               </td><td>k__Bacteria (UID203)          </td><td>5449                          </td><td>104                           </td><td> 58                           </td><td> 92                           </td><td> 12                           </td><td>0                             </td><td>0                             </td><td>0                             </td><td>0                             </td><td>16.38                         </td><td>0.00                          </td><td>0                             </td></tr>\n",
       "\t<tr><td>rosella_bin.972               </td><td>root (UID1)                   </td><td>5656                          </td><td> 56                           </td><td> 24                           </td><td> 56                           </td><td>  0                           </td><td>0                             </td><td>0                             </td><td>0                             </td><td>0                             </td><td> 0.00                         </td><td>0.00                          </td><td>0                             </td></tr>\n",
       "\t<tr><td>rosella_bin.973               </td><td>k__Bacteria (UID203)          </td><td>5449                          </td><td>104                           </td><td> 58                           </td><td> 98                           </td><td>  6                           </td><td>0                             </td><td>0                             </td><td>0                             </td><td>0                             </td><td> 9.48                         </td><td>0.00                          </td><td>0                             </td></tr>\n",
       "\t<tr><td>rosella_bin.976               </td><td>k__Bacteria (UID203)          </td><td>5449                          </td><td>104                           </td><td> 58                           </td><td> 98                           </td><td>  6                           </td><td>0                             </td><td>0                             </td><td>0                             </td><td>0                             </td><td>10.34                         </td><td>0.00                          </td><td>0                             </td></tr>\n",
       "\t<tr><td>rosella_bin.977               </td><td>k__Bacteria (UID203)          </td><td>5449                          </td><td>104                           </td><td> 58                           </td><td> 62                           </td><td> 42                           </td><td>0                             </td><td>0                             </td><td>0                             </td><td>0                             </td><td>59.48                         </td><td>0.00                          </td><td>0                             </td></tr>\n",
       "\t<tr><td>rosella_bin.979               </td><td>root (UID1)                   </td><td>5656                          </td><td> 56                           </td><td> 24                           </td><td> 56                           </td><td>  0                           </td><td>0                             </td><td>0                             </td><td>0                             </td><td>0                             </td><td> 0.00                         </td><td>0.00                          </td><td>0                             </td></tr>\n",
       "\t<tr><td>rosella_bin.980               </td><td>o__Rhizobiales (UID3654)      </td><td>  92                          </td><td>481                           </td><td>319                           </td><td>133                           </td><td>347                           </td><td>1                             </td><td>0                             </td><td>0                             </td><td>0                             </td><td>71.37                         </td><td>0.31                          </td><td>0                             </td></tr>\n",
       "\t<tr><td>rosella_bin.982               </td><td>root (UID1)                   </td><td>5656                          </td><td> 56                           </td><td> 24                           </td><td> 56                           </td><td>  0                           </td><td>0                             </td><td>0                             </td><td>0                             </td><td>0                             </td><td> 0.00                         </td><td>0.00                          </td><td>0                             </td></tr>\n",
       "\t<tr><td>rosella_bin.983               </td><td>f__Bradyrhizobiaceae (UID3695)</td><td>  47                          </td><td>693                           </td><td>296                           </td><td>101                           </td><td>587                           </td><td>5                             </td><td>0                             </td><td>0                             </td><td>0                             </td><td>83.84                         </td><td>1.01                          </td><td>0                             </td></tr>\n",
       "\t<tr><td>rosella_bin.987               </td><td>k__Bacteria (UID203)          </td><td>5449                          </td><td>104                           </td><td> 58                           </td><td>101                           </td><td>  3                           </td><td>0                             </td><td>0                             </td><td>0                             </td><td>0                             </td><td> 5.17                         </td><td>0.00                          </td><td>0                             </td></tr>\n",
       "\t<tr><td>rosella_bin.989               </td><td>root (UID1)                   </td><td>5656                          </td><td> 56                           </td><td> 24                           </td><td> 56                           </td><td>  0                           </td><td>0                             </td><td>0                             </td><td>0                             </td><td>0                             </td><td> 0.00                         </td><td>0.00                          </td><td>0                             </td></tr>\n",
       "\t<tr><td>rosella_bin.99                </td><td>k__Bacteria (UID2982)         </td><td>  88                          </td><td>230                           </td><td>148                           </td><td>119                           </td><td>109                           </td><td>2                             </td><td>0                             </td><td>0                             </td><td>0                             </td><td>50.77                         </td><td>0.68                          </td><td>0                             </td></tr>\n",
       "\t<tr><td>rosella_bin.992               </td><td>root (UID1)                   </td><td>5656                          </td><td> 56                           </td><td> 24                           </td><td> 56                           </td><td>  0                           </td><td>0                             </td><td>0                             </td><td>0                             </td><td>0                             </td><td> 0.00                         </td><td>0.00                          </td><td>0                             </td></tr>\n",
       "\t<tr><td>rosella_bin.994               </td><td>root (UID1)                   </td><td>5656                          </td><td> 56                           </td><td> 24                           </td><td> 56                           </td><td>  0                           </td><td>0                             </td><td>0                             </td><td>0                             </td><td>0                             </td><td> 0.00                         </td><td>0.00                          </td><td>0                             </td></tr>\n",
       "\t<tr><td>rosella_bin.995               </td><td>root (UID1)                   </td><td>5656                          </td><td> 56                           </td><td> 24                           </td><td> 55                           </td><td>  1                           </td><td>0                             </td><td>0                             </td><td>0                             </td><td>0                             </td><td> 4.17                         </td><td>0.00                          </td><td>0                             </td></tr>\n",
       "\t<tr><td>rosella_bin.997               </td><td>root (UID1)                   </td><td>5656                          </td><td> 56                           </td><td> 24                           </td><td> 56                           </td><td>  0                           </td><td>0                             </td><td>0                             </td><td>0                             </td><td>0                             </td><td> 0.00                         </td><td>0.00                          </td><td>0                             </td></tr>\n",
       "\t<tr><td>rosella_bin.999               </td><td>k__Bacteria (UID203)          </td><td>5449                          </td><td>104                           </td><td> 58                           </td><td>102                           </td><td>  2                           </td><td>0                             </td><td>0                             </td><td>0                             </td><td>0                             </td><td> 2.59                         </td><td>0.00                          </td><td>0                             </td></tr>\n",
       "</tbody>\n",
       "</table>\n"
      ],
      "text/latex": [
       "\\begin{tabular}{r|llllllllllllll}\n",
       " Bin Id & Marker lineage & \\# genomes & \\# markers & \\# marker sets & 0 & 1 & 2 & 3 & 4 & 5+ & Completeness & Contamination & Strain heterogeneity\\\\\n",
       "\\hline\n",
       "\t rosella\\_bin.1           & k\\_\\_Archaea (UID2)     &  207                      & 145                       & 103                       & 102                       &  43                       & 0                         & 0                         & 0                         & 0                         & 31.39                     & 0.00                      &  0                       \\\\\n",
       "\t rosella\\_bin.10          & k\\_\\_Archaea (UID2)     &  207                      & 149                       & 107                       &  22                       & 121                       & 6                         & 0                         & 0                         & 0                         & 90.73                     & 4.21                      &  0                       \\\\\n",
       "\t rosella\\_bin.1002        & k\\_\\_Bacteria (UID203)  & 5449                      & 104                       &  58                       & 100                       &   4                       & 0                         & 0                         & 0                         & 0                         &  3.45                     & 0.00                      &  0                       \\\\\n",
       "\t rosella\\_bin.1004        & k\\_\\_Bacteria (UID203)  & 5449                      & 104                       &  58                       &  83                       &  20                       & 1                         & 0                         & 0                         & 0                         & 29.31                     & 1.72                      &  0                       \\\\\n",
       "\t rosella\\_bin.1006        & k\\_\\_Bacteria (UID203)  & 5449                      & 104                       &  58                       & 101                       &   3                       & 0                         & 0                         & 0                         & 0                         &  3.45                     & 0.00                      &  0                       \\\\\n",
       "\t rosella\\_bin.1009    & root (UID1)           & 5656                  &  56                   &  24                   &  56                   &   0                   & 0                     & 0                     & 0                     & 0                     &  0.00                 & 0.00                  &  0                   \\\\\n",
       "\t rosella\\_bin.1010        & k\\_\\_Bacteria (UID203)  & 5449                      & 104                       &  58                       &  92                       &  10                       & 2                         & 0                         & 0                         & 0                         &  9.72                     & 3.45                      & 50                       \\\\\n",
       "\t rosella\\_bin.1012        & k\\_\\_Bacteria (UID3187) & 2258                      & 187                       & 116                       & 164                       &  23                       & 0                         & 0                         & 0                         & 0                         &  2.02                     & 0.00                      &  0                       \\\\\n",
       "\t rosella\\_bin.1019    & root (UID1)           & 5656                  &  56                   &  24                   &  56                   &   0                   & 0                     & 0                     & 0                     & 0                     &  0.00                 & 0.00                  &  0                   \\\\\n",
       "\t rosella\\_bin.1025    & root (UID1)           & 5656                  &  56                   &  24                   &  56                   &   0                   & 0                     & 0                     & 0                     & 0                     &  0.00                 & 0.00                  &  0                   \\\\\n",
       "\t rosella\\_bin.1027    & root (UID1)           & 5656                  &  56                   &  24                   &  56                   &   0                   & 0                     & 0                     & 0                     & 0                     &  0.00                 & 0.00                  &  0                   \\\\\n",
       "\t rosella\\_bin.1029        & k\\_\\_Bacteria (UID203)  & 5449                      & 104                       &  58                       & 100                       &   4                       & 0                         & 0                         & 0                         & 0                         &  6.90                     & 0.00                      &  0                       \\\\\n",
       "\t rosella\\_bin.1031    & root (UID1)           & 5656                  &  56                   &  24                   &  56                   &   0                   & 0                     & 0                     & 0                     & 0                     &  0.00                 & 0.00                  &  0                   \\\\\n",
       "\t rosella\\_bin.1034    & root (UID1)           & 5656                  &  56                   &  24                   &  56                   &   0                   & 0                     & 0                     & 0                     & 0                     &  0.00                 & 0.00                  &  0                   \\\\\n",
       "\t rosella\\_bin.1039    & root (UID1)           & 5656                  &  56                   &  24                   &  56                   &   0                   & 0                     & 0                     & 0                     & 0                     &  0.00                 & 0.00                  &  0                   \\\\\n",
       "\t rosella\\_bin.1043    & root (UID1)           & 5656                  &  56                   &  24                   &  56                   &   0                   & 0                     & 0                     & 0                     & 0                     &  0.00                 & 0.00                  &  0                   \\\\\n",
       "\t rosella\\_bin.1045    & root (UID1)           & 5656                  &  56                   &  24                   &  56                   &   0                   & 0                     & 0                     & 0                     & 0                     &  0.00                 & 0.00                  &  0                   \\\\\n",
       "\t rosella\\_bin.1047    & root (UID1)           & 5656                  &  56                   &  24                   &  56                   &   0                   & 0                     & 0                     & 0                     & 0                     &  0.00                 & 0.00                  &  0                   \\\\\n",
       "\t rosella\\_bin.105     & root (UID1)           & 5656                  &  56                   &  24                   &  55                   &   1                   & 0                     & 0                     & 0                     & 0                     &  4.17                 & 0.00                  &  0                   \\\\\n",
       "\t rosella\\_bin.1050    & root (UID1)           & 5656                  &  56                   &  24                   &  56                   &   0                   & 0                     & 0                     & 0                     & 0                     &  0.00                 & 0.00                  &  0                   \\\\\n",
       "\t rosella\\_bin.1051        & k\\_\\_Archaea (UID2)     &  207                      & 149                       & 107                       & 140                       &   9                       & 0                         & 0                         & 0                         & 0                         &  6.54                     & 0.00                      &  0                       \\\\\n",
       "\t rosella\\_bin.1054        & k\\_\\_Bacteria (UID203)  & 5449                      & 104                       &  58                       & 101                       &   3                       & 0                         & 0                         & 0                         & 0                         &  3.45                     & 0.00                      &  0                       \\\\\n",
       "\t rosella\\_bin.1058    & root (UID1)           & 5656                  &  56                   &  24                   &  56                   &   0                   & 0                     & 0                     & 0                     & 0                     &  0.00                 & 0.00                  &  0                   \\\\\n",
       "\t rosella\\_bin.1061        & k\\_\\_Bacteria (UID203)  & 5449                      & 104                       &  58                       & 103                       &   1                       & 0                         & 0                         & 0                         & 0                         &  1.72                     & 0.00                      &  0                       \\\\\n",
       "\t rosella\\_bin.1064    & root (UID1)           & 5656                  &  56                   &  24                   &  56                   &   0                   & 0                     & 0                     & 0                     & 0                     &  0.00                 & 0.00                  &  0                   \\\\\n",
       "\t rosella\\_bin.1067        & k\\_\\_Bacteria (UID203)  & 5449                      & 104                       &  58                       & 100                       &   4                       & 0                         & 0                         & 0                         & 0                         &  6.90                     & 0.00                      &  0                       \\\\\n",
       "\t rosella\\_bin.1070    & root (UID1)           & 5656                  &  56                   &  24                   &  56                   &   0                   & 0                     & 0                     & 0                     & 0                     &  0.00                 & 0.00                  &  0                   \\\\\n",
       "\t rosella\\_bin.1074        & k\\_\\_Bacteria (UID2982) &   88                      & 227                       & 146                       & 188                       &  39                       & 0                         & 0                         & 0                         & 0                         &  5.18                     & 0.00                      &  0                       \\\\\n",
       "\t rosella\\_bin.1076        & k\\_\\_Bacteria (UID2982) &   88                      & 230                       & 148                       & 201                       &  29                       & 0                         & 0                         & 0                         & 0                         &  8.11                     & 0.00                      &  0                       \\\\\n",
       "\t rosella\\_bin.1079    & root (UID1)           & 5656                  &  56                   &  24                   &  56                   &   0                   & 0                     & 0                     & 0                     & 0                     &  0.00                 & 0.00                  &  0                   \\\\\n",
       "\t ... & ... & ... & ... & ... & ... & ... & ... & ... & ... & ... & ... & ... & ...\\\\\n",
       "\t rosella\\_bin.937              & root (UID1)                    & 5656                           &  56                            &  24                            &  56                            &   0                            & 0                              & 0                              & 0                              & 0                              &  0.00                          & 0.00                           & 0                             \\\\\n",
       "\t rosella\\_bin.940              & root (UID1)                    & 5656                           &  56                            &  24                            &  56                            &   0                            & 0                              & 0                              & 0                              & 0                              &  0.00                          & 0.00                           & 0                             \\\\\n",
       "\t rosella\\_bin.942                  & k\\_\\_Bacteria (UID203)           & 5449                               & 104                                &  58                                &  96                                &   6                                & 2                                  & 0                                  & 0                                  & 0                                  & 13.79                              & 3.45                               & 0                                 \\\\\n",
       "\t rosella\\_bin.943              & root (UID1)                    & 5656                           &  56                            &  24                            &  55                            &   1                            & 0                              & 0                              & 0                              & 0                              &  4.17                          & 0.00                           & 0                             \\\\\n",
       "\t rosella\\_bin.946                  & k\\_\\_Bacteria (UID203)           & 5449                               & 104                                &  58                                &  80                                &  24                                & 0                                  & 0                                  & 0                                  & 0                                  & 32.76                              & 0.00                               & 0                                 \\\\\n",
       "\t rosella\\_bin.953              & root (UID1)                    & 5656                           &  56                            &  24                            &  55                            &   1                            & 0                              & 0                              & 0                              & 0                              &  4.17                          & 0.00                           & 0                             \\\\\n",
       "\t rosella\\_bin.955                  & k\\_\\_Bacteria (UID203)           & 5449                               & 101                                &  57                                &  99                                &   2                                & 0                                  & 0                                  & 0                                  & 0                                  &  1.75                              & 0.00                               & 0                                 \\\\\n",
       "\t rosella\\_bin.956              & root (UID1)                    & 5656                           &  56                            &  24                            &  56                            &   0                            & 0                              & 0                              & 0                              & 0                              &  0.00                          & 0.00                           & 0                             \\\\\n",
       "\t rosella\\_bin.957              & root (UID1)                    & 5656                           &  56                            &  24                            &  56                            &   0                            & 0                              & 0                              & 0                              & 0                              &  0.00                          & 0.00                           & 0                             \\\\\n",
       "\t rosella\\_bin.96                   & k\\_\\_Bacteria (UID203)           & 5449                               & 104                                &  58                                & 103                                &   1                                & 0                                  & 0                                  & 0                                  & 0                                  &  0.57                              & 0.00                               & 0                                 \\\\\n",
       "\t rosella\\_bin.960                  & p\\_\\_Euryarchaeota (UID3)        &  148                               & 188                                & 125                                & 127                                &  61                                & 0                                  & 0                                  & 0                                  & 0                                  & 29.47                              & 0.00                               & 0                                 \\\\\n",
       "\t rosella\\_bin.961              & root (UID1)                    & 5656                           &  56                            &  24                            &  55                            &   1                            & 0                              & 0                              & 0                              & 0                              &  4.17                          & 0.00                           & 0                             \\\\\n",
       "\t rosella\\_bin.964                  & k\\_\\_Bacteria (UID203)           & 5449                               & 104                                &  58                                &  82                                &  22                                & 0                                  & 0                                  & 0                                  & 0                                  & 25.47                              & 0.00                               & 0                                 \\\\\n",
       "\t rosella\\_bin.970                  & k\\_\\_Bacteria (UID203)           & 5449                               & 104                                &  58                                &  92                                &  12                                & 0                                  & 0                                  & 0                                  & 0                                  & 16.38                              & 0.00                               & 0                                 \\\\\n",
       "\t rosella\\_bin.972              & root (UID1)                    & 5656                           &  56                            &  24                            &  56                            &   0                            & 0                              & 0                              & 0                              & 0                              &  0.00                          & 0.00                           & 0                             \\\\\n",
       "\t rosella\\_bin.973                  & k\\_\\_Bacteria (UID203)           & 5449                               & 104                                &  58                                &  98                                &   6                                & 0                                  & 0                                  & 0                                  & 0                                  &  9.48                              & 0.00                               & 0                                 \\\\\n",
       "\t rosella\\_bin.976                  & k\\_\\_Bacteria (UID203)           & 5449                               & 104                                &  58                                &  98                                &   6                                & 0                                  & 0                                  & 0                                  & 0                                  & 10.34                              & 0.00                               & 0                                 \\\\\n",
       "\t rosella\\_bin.977                  & k\\_\\_Bacteria (UID203)           & 5449                               & 104                                &  58                                &  62                                &  42                                & 0                                  & 0                                  & 0                                  & 0                                  & 59.48                              & 0.00                               & 0                                 \\\\\n",
       "\t rosella\\_bin.979              & root (UID1)                    & 5656                           &  56                            &  24                            &  56                            &   0                            & 0                              & 0                              & 0                              & 0                              &  0.00                          & 0.00                           & 0                             \\\\\n",
       "\t rosella\\_bin.980                  & o\\_\\_Rhizobiales (UID3654)       &   92                               & 481                                & 319                                & 133                                & 347                                & 1                                  & 0                                  & 0                                  & 0                                  & 71.37                              & 0.31                               & 0                                 \\\\\n",
       "\t rosella\\_bin.982              & root (UID1)                    & 5656                           &  56                            &  24                            &  56                            &   0                            & 0                              & 0                              & 0                              & 0                              &  0.00                          & 0.00                           & 0                             \\\\\n",
       "\t rosella\\_bin.983                  & f\\_\\_Bradyrhizobiaceae (UID3695) &   47                               & 693                                & 296                                & 101                                & 587                                & 5                                  & 0                                  & 0                                  & 0                                  & 83.84                              & 1.01                               & 0                                 \\\\\n",
       "\t rosella\\_bin.987                  & k\\_\\_Bacteria (UID203)           & 5449                               & 104                                &  58                                & 101                                &   3                                & 0                                  & 0                                  & 0                                  & 0                                  &  5.17                              & 0.00                               & 0                                 \\\\\n",
       "\t rosella\\_bin.989              & root (UID1)                    & 5656                           &  56                            &  24                            &  56                            &   0                            & 0                              & 0                              & 0                              & 0                              &  0.00                          & 0.00                           & 0                             \\\\\n",
       "\t rosella\\_bin.99                   & k\\_\\_Bacteria (UID2982)          &   88                               & 230                                & 148                                & 119                                & 109                                & 2                                  & 0                                  & 0                                  & 0                                  & 50.77                              & 0.68                               & 0                                 \\\\\n",
       "\t rosella\\_bin.992              & root (UID1)                    & 5656                           &  56                            &  24                            &  56                            &   0                            & 0                              & 0                              & 0                              & 0                              &  0.00                          & 0.00                           & 0                             \\\\\n",
       "\t rosella\\_bin.994              & root (UID1)                    & 5656                           &  56                            &  24                            &  56                            &   0                            & 0                              & 0                              & 0                              & 0                              &  0.00                          & 0.00                           & 0                             \\\\\n",
       "\t rosella\\_bin.995              & root (UID1)                    & 5656                           &  56                            &  24                            &  55                            &   1                            & 0                              & 0                              & 0                              & 0                              &  4.17                          & 0.00                           & 0                             \\\\\n",
       "\t rosella\\_bin.997              & root (UID1)                    & 5656                           &  56                            &  24                            &  56                            &   0                            & 0                              & 0                              & 0                              & 0                              &  0.00                          & 0.00                           & 0                             \\\\\n",
       "\t rosella\\_bin.999                  & k\\_\\_Bacteria (UID203)           & 5449                               & 104                                &  58                                & 102                                &   2                                & 0                                  & 0                                  & 0                                  & 0                                  &  2.59                              & 0.00                               & 0                                 \\\\\n",
       "\\end{tabular}\n"
      ],
      "text/markdown": [
       "\n",
       "| Bin Id | Marker lineage | # genomes | # markers | # marker sets | 0 | 1 | 2 | 3 | 4 | 5+ | Completeness | Contamination | Strain heterogeneity |\n",
       "|---|---|---|---|---|---|---|---|---|---|---|---|---|---|\n",
       "| rosella_bin.1         | k__Archaea (UID2)     |  207                  | 145                   | 103                   | 102                   |  43                   | 0                     | 0                     | 0                     | 0                     | 31.39                 | 0.00                  |  0                    |\n",
       "| rosella_bin.10        | k__Archaea (UID2)     |  207                  | 149                   | 107                   |  22                   | 121                   | 6                     | 0                     | 0                     | 0                     | 90.73                 | 4.21                  |  0                    |\n",
       "| rosella_bin.1002      | k__Bacteria (UID203)  | 5449                  | 104                   |  58                   | 100                   |   4                   | 0                     | 0                     | 0                     | 0                     |  3.45                 | 0.00                  |  0                    |\n",
       "| rosella_bin.1004      | k__Bacteria (UID203)  | 5449                  | 104                   |  58                   |  83                   |  20                   | 1                     | 0                     | 0                     | 0                     | 29.31                 | 1.72                  |  0                    |\n",
       "| rosella_bin.1006      | k__Bacteria (UID203)  | 5449                  | 104                   |  58                   | 101                   |   3                   | 0                     | 0                     | 0                     | 0                     |  3.45                 | 0.00                  |  0                    |\n",
       "| rosella_bin.1009      | root (UID1)           | 5656                  |  56                   |  24                   |  56                   |   0                   | 0                     | 0                     | 0                     | 0                     |  0.00                 | 0.00                  |  0                    |\n",
       "| rosella_bin.1010      | k__Bacteria (UID203)  | 5449                  | 104                   |  58                   |  92                   |  10                   | 2                     | 0                     | 0                     | 0                     |  9.72                 | 3.45                  | 50                    |\n",
       "| rosella_bin.1012      | k__Bacteria (UID3187) | 2258                  | 187                   | 116                   | 164                   |  23                   | 0                     | 0                     | 0                     | 0                     |  2.02                 | 0.00                  |  0                    |\n",
       "| rosella_bin.1019      | root (UID1)           | 5656                  |  56                   |  24                   |  56                   |   0                   | 0                     | 0                     | 0                     | 0                     |  0.00                 | 0.00                  |  0                    |\n",
       "| rosella_bin.1025      | root (UID1)           | 5656                  |  56                   |  24                   |  56                   |   0                   | 0                     | 0                     | 0                     | 0                     |  0.00                 | 0.00                  |  0                    |\n",
       "| rosella_bin.1027      | root (UID1)           | 5656                  |  56                   |  24                   |  56                   |   0                   | 0                     | 0                     | 0                     | 0                     |  0.00                 | 0.00                  |  0                    |\n",
       "| rosella_bin.1029      | k__Bacteria (UID203)  | 5449                  | 104                   |  58                   | 100                   |   4                   | 0                     | 0                     | 0                     | 0                     |  6.90                 | 0.00                  |  0                    |\n",
       "| rosella_bin.1031      | root (UID1)           | 5656                  |  56                   |  24                   |  56                   |   0                   | 0                     | 0                     | 0                     | 0                     |  0.00                 | 0.00                  |  0                    |\n",
       "| rosella_bin.1034      | root (UID1)           | 5656                  |  56                   |  24                   |  56                   |   0                   | 0                     | 0                     | 0                     | 0                     |  0.00                 | 0.00                  |  0                    |\n",
       "| rosella_bin.1039      | root (UID1)           | 5656                  |  56                   |  24                   |  56                   |   0                   | 0                     | 0                     | 0                     | 0                     |  0.00                 | 0.00                  |  0                    |\n",
       "| rosella_bin.1043      | root (UID1)           | 5656                  |  56                   |  24                   |  56                   |   0                   | 0                     | 0                     | 0                     | 0                     |  0.00                 | 0.00                  |  0                    |\n",
       "| rosella_bin.1045      | root (UID1)           | 5656                  |  56                   |  24                   |  56                   |   0                   | 0                     | 0                     | 0                     | 0                     |  0.00                 | 0.00                  |  0                    |\n",
       "| rosella_bin.1047      | root (UID1)           | 5656                  |  56                   |  24                   |  56                   |   0                   | 0                     | 0                     | 0                     | 0                     |  0.00                 | 0.00                  |  0                    |\n",
       "| rosella_bin.105       | root (UID1)           | 5656                  |  56                   |  24                   |  55                   |   1                   | 0                     | 0                     | 0                     | 0                     |  4.17                 | 0.00                  |  0                    |\n",
       "| rosella_bin.1050      | root (UID1)           | 5656                  |  56                   |  24                   |  56                   |   0                   | 0                     | 0                     | 0                     | 0                     |  0.00                 | 0.00                  |  0                    |\n",
       "| rosella_bin.1051      | k__Archaea (UID2)     |  207                  | 149                   | 107                   | 140                   |   9                   | 0                     | 0                     | 0                     | 0                     |  6.54                 | 0.00                  |  0                    |\n",
       "| rosella_bin.1054      | k__Bacteria (UID203)  | 5449                  | 104                   |  58                   | 101                   |   3                   | 0                     | 0                     | 0                     | 0                     |  3.45                 | 0.00                  |  0                    |\n",
       "| rosella_bin.1058      | root (UID1)           | 5656                  |  56                   |  24                   |  56                   |   0                   | 0                     | 0                     | 0                     | 0                     |  0.00                 | 0.00                  |  0                    |\n",
       "| rosella_bin.1061      | k__Bacteria (UID203)  | 5449                  | 104                   |  58                   | 103                   |   1                   | 0                     | 0                     | 0                     | 0                     |  1.72                 | 0.00                  |  0                    |\n",
       "| rosella_bin.1064      | root (UID1)           | 5656                  |  56                   |  24                   |  56                   |   0                   | 0                     | 0                     | 0                     | 0                     |  0.00                 | 0.00                  |  0                    |\n",
       "| rosella_bin.1067      | k__Bacteria (UID203)  | 5449                  | 104                   |  58                   | 100                   |   4                   | 0                     | 0                     | 0                     | 0                     |  6.90                 | 0.00                  |  0                    |\n",
       "| rosella_bin.1070      | root (UID1)           | 5656                  |  56                   |  24                   |  56                   |   0                   | 0                     | 0                     | 0                     | 0                     |  0.00                 | 0.00                  |  0                    |\n",
       "| rosella_bin.1074      | k__Bacteria (UID2982) |   88                  | 227                   | 146                   | 188                   |  39                   | 0                     | 0                     | 0                     | 0                     |  5.18                 | 0.00                  |  0                    |\n",
       "| rosella_bin.1076      | k__Bacteria (UID2982) |   88                  | 230                   | 148                   | 201                   |  29                   | 0                     | 0                     | 0                     | 0                     |  8.11                 | 0.00                  |  0                    |\n",
       "| rosella_bin.1079      | root (UID1)           | 5656                  |  56                   |  24                   |  56                   |   0                   | 0                     | 0                     | 0                     | 0                     |  0.00                 | 0.00                  |  0                    |\n",
       "| ... | ... | ... | ... | ... | ... | ... | ... | ... | ... | ... | ... | ... | ... |\n",
       "| rosella_bin.937                | root (UID1)                    | 5656                           |  56                            |  24                            |  56                            |   0                            | 0                              | 0                              | 0                              | 0                              |  0.00                          | 0.00                           | 0                              |\n",
       "| rosella_bin.940                | root (UID1)                    | 5656                           |  56                            |  24                            |  56                            |   0                            | 0                              | 0                              | 0                              | 0                              |  0.00                          | 0.00                           | 0                              |\n",
       "| rosella_bin.942                | k__Bacteria (UID203)           | 5449                           | 104                            |  58                            |  96                            |   6                            | 2                              | 0                              | 0                              | 0                              | 13.79                          | 3.45                           | 0                              |\n",
       "| rosella_bin.943                | root (UID1)                    | 5656                           |  56                            |  24                            |  55                            |   1                            | 0                              | 0                              | 0                              | 0                              |  4.17                          | 0.00                           | 0                              |\n",
       "| rosella_bin.946                | k__Bacteria (UID203)           | 5449                           | 104                            |  58                            |  80                            |  24                            | 0                              | 0                              | 0                              | 0                              | 32.76                          | 0.00                           | 0                              |\n",
       "| rosella_bin.953                | root (UID1)                    | 5656                           |  56                            |  24                            |  55                            |   1                            | 0                              | 0                              | 0                              | 0                              |  4.17                          | 0.00                           | 0                              |\n",
       "| rosella_bin.955                | k__Bacteria (UID203)           | 5449                           | 101                            |  57                            |  99                            |   2                            | 0                              | 0                              | 0                              | 0                              |  1.75                          | 0.00                           | 0                              |\n",
       "| rosella_bin.956                | root (UID1)                    | 5656                           |  56                            |  24                            |  56                            |   0                            | 0                              | 0                              | 0                              | 0                              |  0.00                          | 0.00                           | 0                              |\n",
       "| rosella_bin.957                | root (UID1)                    | 5656                           |  56                            |  24                            |  56                            |   0                            | 0                              | 0                              | 0                              | 0                              |  0.00                          | 0.00                           | 0                              |\n",
       "| rosella_bin.96                 | k__Bacteria (UID203)           | 5449                           | 104                            |  58                            | 103                            |   1                            | 0                              | 0                              | 0                              | 0                              |  0.57                          | 0.00                           | 0                              |\n",
       "| rosella_bin.960                | p__Euryarchaeota (UID3)        |  148                           | 188                            | 125                            | 127                            |  61                            | 0                              | 0                              | 0                              | 0                              | 29.47                          | 0.00                           | 0                              |\n",
       "| rosella_bin.961                | root (UID1)                    | 5656                           |  56                            |  24                            |  55                            |   1                            | 0                              | 0                              | 0                              | 0                              |  4.17                          | 0.00                           | 0                              |\n",
       "| rosella_bin.964                | k__Bacteria (UID203)           | 5449                           | 104                            |  58                            |  82                            |  22                            | 0                              | 0                              | 0                              | 0                              | 25.47                          | 0.00                           | 0                              |\n",
       "| rosella_bin.970                | k__Bacteria (UID203)           | 5449                           | 104                            |  58                            |  92                            |  12                            | 0                              | 0                              | 0                              | 0                              | 16.38                          | 0.00                           | 0                              |\n",
       "| rosella_bin.972                | root (UID1)                    | 5656                           |  56                            |  24                            |  56                            |   0                            | 0                              | 0                              | 0                              | 0                              |  0.00                          | 0.00                           | 0                              |\n",
       "| rosella_bin.973                | k__Bacteria (UID203)           | 5449                           | 104                            |  58                            |  98                            |   6                            | 0                              | 0                              | 0                              | 0                              |  9.48                          | 0.00                           | 0                              |\n",
       "| rosella_bin.976                | k__Bacteria (UID203)           | 5449                           | 104                            |  58                            |  98                            |   6                            | 0                              | 0                              | 0                              | 0                              | 10.34                          | 0.00                           | 0                              |\n",
       "| rosella_bin.977                | k__Bacteria (UID203)           | 5449                           | 104                            |  58                            |  62                            |  42                            | 0                              | 0                              | 0                              | 0                              | 59.48                          | 0.00                           | 0                              |\n",
       "| rosella_bin.979                | root (UID1)                    | 5656                           |  56                            |  24                            |  56                            |   0                            | 0                              | 0                              | 0                              | 0                              |  0.00                          | 0.00                           | 0                              |\n",
       "| rosella_bin.980                | o__Rhizobiales (UID3654)       |   92                           | 481                            | 319                            | 133                            | 347                            | 1                              | 0                              | 0                              | 0                              | 71.37                          | 0.31                           | 0                              |\n",
       "| rosella_bin.982                | root (UID1)                    | 5656                           |  56                            |  24                            |  56                            |   0                            | 0                              | 0                              | 0                              | 0                              |  0.00                          | 0.00                           | 0                              |\n",
       "| rosella_bin.983                | f__Bradyrhizobiaceae (UID3695) |   47                           | 693                            | 296                            | 101                            | 587                            | 5                              | 0                              | 0                              | 0                              | 83.84                          | 1.01                           | 0                              |\n",
       "| rosella_bin.987                | k__Bacteria (UID203)           | 5449                           | 104                            |  58                            | 101                            |   3                            | 0                              | 0                              | 0                              | 0                              |  5.17                          | 0.00                           | 0                              |\n",
       "| rosella_bin.989                | root (UID1)                    | 5656                           |  56                            |  24                            |  56                            |   0                            | 0                              | 0                              | 0                              | 0                              |  0.00                          | 0.00                           | 0                              |\n",
       "| rosella_bin.99                 | k__Bacteria (UID2982)          |   88                           | 230                            | 148                            | 119                            | 109                            | 2                              | 0                              | 0                              | 0                              | 50.77                          | 0.68                           | 0                              |\n",
       "| rosella_bin.992                | root (UID1)                    | 5656                           |  56                            |  24                            |  56                            |   0                            | 0                              | 0                              | 0                              | 0                              |  0.00                          | 0.00                           | 0                              |\n",
       "| rosella_bin.994                | root (UID1)                    | 5656                           |  56                            |  24                            |  56                            |   0                            | 0                              | 0                              | 0                              | 0                              |  0.00                          | 0.00                           | 0                              |\n",
       "| rosella_bin.995                | root (UID1)                    | 5656                           |  56                            |  24                            |  55                            |   1                            | 0                              | 0                              | 0                              | 0                              |  4.17                          | 0.00                           | 0                              |\n",
       "| rosella_bin.997                | root (UID1)                    | 5656                           |  56                            |  24                            |  56                            |   0                            | 0                              | 0                              | 0                              | 0                              |  0.00                          | 0.00                           | 0                              |\n",
       "| rosella_bin.999                | k__Bacteria (UID203)           | 5449                           | 104                            |  58                            | 102                            |   2                            | 0                              | 0                              | 0                              | 0                              |  2.59                          | 0.00                           | 0                              |\n",
       "\n"
      ],
      "text/plain": [
       "    Bin Id           Marker lineage                 # genomes # markers\n",
       "1   rosella_bin.1    k__Archaea (UID2)               207      145      \n",
       "2   rosella_bin.10   k__Archaea (UID2)               207      149      \n",
       "3   rosella_bin.1002 k__Bacteria (UID203)           5449      104      \n",
       "4   rosella_bin.1004 k__Bacteria (UID203)           5449      104      \n",
       "5   rosella_bin.1006 k__Bacteria (UID203)           5449      104      \n",
       "6   rosella_bin.1009 root (UID1)                    5656       56      \n",
       "7   rosella_bin.1010 k__Bacteria (UID203)           5449      104      \n",
       "8   rosella_bin.1012 k__Bacteria (UID3187)          2258      187      \n",
       "9   rosella_bin.1019 root (UID1)                    5656       56      \n",
       "10  rosella_bin.1025 root (UID1)                    5656       56      \n",
       "11  rosella_bin.1027 root (UID1)                    5656       56      \n",
       "12  rosella_bin.1029 k__Bacteria (UID203)           5449      104      \n",
       "13  rosella_bin.1031 root (UID1)                    5656       56      \n",
       "14  rosella_bin.1034 root (UID1)                    5656       56      \n",
       "15  rosella_bin.1039 root (UID1)                    5656       56      \n",
       "16  rosella_bin.1043 root (UID1)                    5656       56      \n",
       "17  rosella_bin.1045 root (UID1)                    5656       56      \n",
       "18  rosella_bin.1047 root (UID1)                    5656       56      \n",
       "19  rosella_bin.105  root (UID1)                    5656       56      \n",
       "20  rosella_bin.1050 root (UID1)                    5656       56      \n",
       "21  rosella_bin.1051 k__Archaea (UID2)               207      149      \n",
       "22  rosella_bin.1054 k__Bacteria (UID203)           5449      104      \n",
       "23  rosella_bin.1058 root (UID1)                    5656       56      \n",
       "24  rosella_bin.1061 k__Bacteria (UID203)           5449      104      \n",
       "25  rosella_bin.1064 root (UID1)                    5656       56      \n",
       "26  rosella_bin.1067 k__Bacteria (UID203)           5449      104      \n",
       "27  rosella_bin.1070 root (UID1)                    5656       56      \n",
       "28  rosella_bin.1074 k__Bacteria (UID2982)            88      227      \n",
       "29  rosella_bin.1076 k__Bacteria (UID2982)            88      230      \n",
       "30  rosella_bin.1079 root (UID1)                    5656       56      \n",
       "... ...              ...                            ...       ...      \n",
       "578 rosella_bin.937  root (UID1)                    5656       56      \n",
       "579 rosella_bin.940  root (UID1)                    5656       56      \n",
       "580 rosella_bin.942  k__Bacteria (UID203)           5449      104      \n",
       "581 rosella_bin.943  root (UID1)                    5656       56      \n",
       "582 rosella_bin.946  k__Bacteria (UID203)           5449      104      \n",
       "583 rosella_bin.953  root (UID1)                    5656       56      \n",
       "584 rosella_bin.955  k__Bacteria (UID203)           5449      101      \n",
       "585 rosella_bin.956  root (UID1)                    5656       56      \n",
       "586 rosella_bin.957  root (UID1)                    5656       56      \n",
       "587 rosella_bin.96   k__Bacteria (UID203)           5449      104      \n",
       "588 rosella_bin.960  p__Euryarchaeota (UID3)         148      188      \n",
       "589 rosella_bin.961  root (UID1)                    5656       56      \n",
       "590 rosella_bin.964  k__Bacteria (UID203)           5449      104      \n",
       "591 rosella_bin.970  k__Bacteria (UID203)           5449      104      \n",
       "592 rosella_bin.972  root (UID1)                    5656       56      \n",
       "593 rosella_bin.973  k__Bacteria (UID203)           5449      104      \n",
       "594 rosella_bin.976  k__Bacteria (UID203)           5449      104      \n",
       "595 rosella_bin.977  k__Bacteria (UID203)           5449      104      \n",
       "596 rosella_bin.979  root (UID1)                    5656       56      \n",
       "597 rosella_bin.980  o__Rhizobiales (UID3654)         92      481      \n",
       "598 rosella_bin.982  root (UID1)                    5656       56      \n",
       "599 rosella_bin.983  f__Bradyrhizobiaceae (UID3695)   47      693      \n",
       "600 rosella_bin.987  k__Bacteria (UID203)           5449      104      \n",
       "601 rosella_bin.989  root (UID1)                    5656       56      \n",
       "602 rosella_bin.99   k__Bacteria (UID2982)            88      230      \n",
       "603 rosella_bin.992  root (UID1)                    5656       56      \n",
       "604 rosella_bin.994  root (UID1)                    5656       56      \n",
       "605 rosella_bin.995  root (UID1)                    5656       56      \n",
       "606 rosella_bin.997  root (UID1)                    5656       56      \n",
       "607 rosella_bin.999  k__Bacteria (UID203)           5449      104      \n",
       "    # marker sets 0   1   2   3   4   5+  Completeness Contamination\n",
       "1   103           102  43 0   0   0   0   31.39        0.00         \n",
       "2   107            22 121 6   0   0   0   90.73        4.21         \n",
       "3    58           100   4 0   0   0   0    3.45        0.00         \n",
       "4    58            83  20 1   0   0   0   29.31        1.72         \n",
       "5    58           101   3 0   0   0   0    3.45        0.00         \n",
       "6    24            56   0 0   0   0   0    0.00        0.00         \n",
       "7    58            92  10 2   0   0   0    9.72        3.45         \n",
       "8   116           164  23 0   0   0   0    2.02        0.00         \n",
       "9    24            56   0 0   0   0   0    0.00        0.00         \n",
       "10   24            56   0 0   0   0   0    0.00        0.00         \n",
       "11   24            56   0 0   0   0   0    0.00        0.00         \n",
       "12   58           100   4 0   0   0   0    6.90        0.00         \n",
       "13   24            56   0 0   0   0   0    0.00        0.00         \n",
       "14   24            56   0 0   0   0   0    0.00        0.00         \n",
       "15   24            56   0 0   0   0   0    0.00        0.00         \n",
       "16   24            56   0 0   0   0   0    0.00        0.00         \n",
       "17   24            56   0 0   0   0   0    0.00        0.00         \n",
       "18   24            56   0 0   0   0   0    0.00        0.00         \n",
       "19   24            55   1 0   0   0   0    4.17        0.00         \n",
       "20   24            56   0 0   0   0   0    0.00        0.00         \n",
       "21  107           140   9 0   0   0   0    6.54        0.00         \n",
       "22   58           101   3 0   0   0   0    3.45        0.00         \n",
       "23   24            56   0 0   0   0   0    0.00        0.00         \n",
       "24   58           103   1 0   0   0   0    1.72        0.00         \n",
       "25   24            56   0 0   0   0   0    0.00        0.00         \n",
       "26   58           100   4 0   0   0   0    6.90        0.00         \n",
       "27   24            56   0 0   0   0   0    0.00        0.00         \n",
       "28  146           188  39 0   0   0   0    5.18        0.00         \n",
       "29  148           201  29 0   0   0   0    8.11        0.00         \n",
       "30   24            56   0 0   0   0   0    0.00        0.00         \n",
       "... ...           ... ... ... ... ... ... ...          ...          \n",
       "578  24            56   0 0   0   0   0    0.00        0.00         \n",
       "579  24            56   0 0   0   0   0    0.00        0.00         \n",
       "580  58            96   6 2   0   0   0   13.79        3.45         \n",
       "581  24            55   1 0   0   0   0    4.17        0.00         \n",
       "582  58            80  24 0   0   0   0   32.76        0.00         \n",
       "583  24            55   1 0   0   0   0    4.17        0.00         \n",
       "584  57            99   2 0   0   0   0    1.75        0.00         \n",
       "585  24            56   0 0   0   0   0    0.00        0.00         \n",
       "586  24            56   0 0   0   0   0    0.00        0.00         \n",
       "587  58           103   1 0   0   0   0    0.57        0.00         \n",
       "588 125           127  61 0   0   0   0   29.47        0.00         \n",
       "589  24            55   1 0   0   0   0    4.17        0.00         \n",
       "590  58            82  22 0   0   0   0   25.47        0.00         \n",
       "591  58            92  12 0   0   0   0   16.38        0.00         \n",
       "592  24            56   0 0   0   0   0    0.00        0.00         \n",
       "593  58            98   6 0   0   0   0    9.48        0.00         \n",
       "594  58            98   6 0   0   0   0   10.34        0.00         \n",
       "595  58            62  42 0   0   0   0   59.48        0.00         \n",
       "596  24            56   0 0   0   0   0    0.00        0.00         \n",
       "597 319           133 347 1   0   0   0   71.37        0.31         \n",
       "598  24            56   0 0   0   0   0    0.00        0.00         \n",
       "599 296           101 587 5   0   0   0   83.84        1.01         \n",
       "600  58           101   3 0   0   0   0    5.17        0.00         \n",
       "601  24            56   0 0   0   0   0    0.00        0.00         \n",
       "602 148           119 109 2   0   0   0   50.77        0.68         \n",
       "603  24            56   0 0   0   0   0    0.00        0.00         \n",
       "604  24            56   0 0   0   0   0    0.00        0.00         \n",
       "605  24            55   1 0   0   0   0    4.17        0.00         \n",
       "606  24            56   0 0   0   0   0    0.00        0.00         \n",
       "607  58           102   2 0   0   0   0    2.59        0.00         \n",
       "    Strain heterogeneity\n",
       "1    0                  \n",
       "2    0                  \n",
       "3    0                  \n",
       "4    0                  \n",
       "5    0                  \n",
       "6    0                  \n",
       "7   50                  \n",
       "8    0                  \n",
       "9    0                  \n",
       "10   0                  \n",
       "11   0                  \n",
       "12   0                  \n",
       "13   0                  \n",
       "14   0                  \n",
       "15   0                  \n",
       "16   0                  \n",
       "17   0                  \n",
       "18   0                  \n",
       "19   0                  \n",
       "20   0                  \n",
       "21   0                  \n",
       "22   0                  \n",
       "23   0                  \n",
       "24   0                  \n",
       "25   0                  \n",
       "26   0                  \n",
       "27   0                  \n",
       "28   0                  \n",
       "29   0                  \n",
       "30   0                  \n",
       "... ...                 \n",
       "578 0                   \n",
       "579 0                   \n",
       "580 0                   \n",
       "581 0                   \n",
       "582 0                   \n",
       "583 0                   \n",
       "584 0                   \n",
       "585 0                   \n",
       "586 0                   \n",
       "587 0                   \n",
       "588 0                   \n",
       "589 0                   \n",
       "590 0                   \n",
       "591 0                   \n",
       "592 0                   \n",
       "593 0                   \n",
       "594 0                   \n",
       "595 0                   \n",
       "596 0                   \n",
       "597 0                   \n",
       "598 0                   \n",
       "599 0                   \n",
       "600 0                   \n",
       "601 0                   \n",
       "602 0                   \n",
       "603 0                   \n",
       "604 0                   \n",
       "605 0                   \n",
       "606 0                   \n",
       "607 0                   "
      ]
     },
     "metadata": {},
     "output_type": "display_data"
    }
   ],
   "source": [
    "sample_1_checkm[`Bin Id` %like% \"rosella_bin\" & Contamination < 10]"
   ]
  },
  {
   "cell_type": "code",
   "execution_count": 91,
   "metadata": {},
   "outputs": [
    {
     "data": {
      "text/html": [
       "<table>\n",
       "<thead><tr><th scope=col>Bin Id</th><th scope=col>Marker lineage</th><th scope=col># genomes</th><th scope=col># markers</th><th scope=col># marker sets</th><th scope=col>0</th><th scope=col>1</th><th scope=col>2</th><th scope=col>3</th><th scope=col>4</th><th scope=col>5+</th><th scope=col>Completeness</th><th scope=col>Contamination</th><th scope=col>Strain heterogeneity</th></tr></thead>\n",
       "<tbody>\n",
       "\t<tr><td>binned_contigs.108.metabat2</td><td>k__Bacteria (UID3187)      </td><td>2258                       </td><td>184                        </td><td>114                        </td><td>3                          </td><td>167                        </td><td>13                         </td><td>1                          </td><td>0                          </td><td>0                          </td><td>97.37                      </td><td>7.31                       </td><td>62.5                       </td></tr>\n",
       "</tbody>\n",
       "</table>\n"
      ],
      "text/latex": [
       "\\begin{tabular}{r|llllllllllllll}\n",
       " Bin Id & Marker lineage & \\# genomes & \\# markers & \\# marker sets & 0 & 1 & 2 & 3 & 4 & 5+ & Completeness & Contamination & Strain heterogeneity\\\\\n",
       "\\hline\n",
       "\t binned\\_contigs.108.metabat2 & k\\_\\_Bacteria (UID3187)     & 2258                          & 184                           & 114                           & 3                             & 167                           & 13                            & 1                             & 0                             & 0                             & 97.37                         & 7.31                          & 62.5                         \\\\\n",
       "\\end{tabular}\n"
      ],
      "text/markdown": [
       "\n",
       "| Bin Id | Marker lineage | # genomes | # markers | # marker sets | 0 | 1 | 2 | 3 | 4 | 5+ | Completeness | Contamination | Strain heterogeneity |\n",
       "|---|---|---|---|---|---|---|---|---|---|---|---|---|---|\n",
       "| binned_contigs.108.metabat2 | k__Bacteria (UID3187)       | 2258                        | 184                         | 114                         | 3                           | 167                         | 13                          | 1                           | 0                           | 0                           | 97.37                       | 7.31                        | 62.5                        |\n",
       "\n"
      ],
      "text/plain": [
       "  Bin Id                      Marker lineage        # genomes # markers\n",
       "1 binned_contigs.108.metabat2 k__Bacteria (UID3187) 2258      184      \n",
       "  # marker sets 0 1   2  3 4 5+ Completeness Contamination Strain heterogeneity\n",
       "1 114           3 167 13 1 0 0  97.37        7.31          62.5                "
      ]
     },
     "metadata": {},
     "output_type": "display_data"
    }
   ],
   "source": [
    "sample_1_checkm[`Bin Id` %like% \".108.metabat2\"]"
   ]
  }
 ],
 "metadata": {
  "kernelspec": {
   "display_name": "R",
   "language": "R",
   "name": "ir"
  },
  "language_info": {
   "codemirror_mode": "r",
   "file_extension": ".r",
   "mimetype": "text/x-r-source",
   "name": "R",
   "pygments_lexer": "r",
   "version": "3.6.3"
  }
 },
 "nbformat": 4,
 "nbformat_minor": 4
}
