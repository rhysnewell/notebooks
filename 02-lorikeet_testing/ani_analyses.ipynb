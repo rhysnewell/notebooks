{
 "cells": [
  {
   "cell_type": "code",
   "execution_count": 62,
   "metadata": {},
   "outputs": [
    {
     "name": "stderr",
     "output_type": "stream",
     "text": [
      "========================================\n",
      "circlize version 0.4.14\n",
      "CRAN page: https://cran.r-project.org/package=circlize\n",
      "Github page: https://github.com/jokergoo/circlize\n",
      "Documentation: https://jokergoo.github.io/circlize_book/book/\n",
      "\n",
      "If you use it in published research, please cite:\n",
      "Gu, Z. circlize implements and enhances circular visualization\n",
      "  in R. Bioinformatics 2014.\n",
      "\n",
      "This message can be suppressed by:\n",
      "  suppressPackageStartupMessages(library(circlize))\n",
      "========================================\n",
      "\n",
      "\n",
      "\n",
      "Attaching package: ‘circlize’\n",
      "\n",
      "\n",
      "The following object is masked from ‘package:ape’:\n",
      "\n",
      "    degree\n",
      "\n",
      "\n"
     ]
    }
   ],
   "source": [
    "library(data.table)\n",
    "library(ggplot2)\n",
    "# library(hrbrthemes)\n",
    "library(reshape2)\n",
    "library(tidyverse)\n",
    "library(stringr)\n",
    "library(heatmaply)\n",
    "library(ape)\n",
    "library(phylogram)\n",
    "library(dendextend)\n",
    "# library(glob)\n",
    "library(tidyr)       # consistent data.frame cleaning\n",
    "library(gridExtra)   # a helper for arranging individual ggplot objects\n",
    "# library(ggthemes)    # has a clean theme for ggplot2\n",
    "# library(scales)\n",
    "library(ggpubr)\n",
    "library(circlize)\n",
    "library(ComplexHeatmap)\n",
    "theme_set(theme_bw())"
   ]
  },
  {
   "cell_type": "code",
   "execution_count": 56,
   "metadata": {},
   "outputs": [],
   "source": [
    "get_ani <- function(\n",
    "    path=\"/mnt/hpccs01/scratch/microbiome/n10853499/00-rosella_testing/02-activated_sludge/assembly/00-singleton_analysis/05-lorikeet_call/rosella_bin.1519_EsbE_18-Q3-R3-47\", \n",
    "    header=header,\n",
    "    ani_type=\"consensus\"\n",
    ") {\n",
    "\n",
    "    ani <- fread(Sys.glob(paste0(path, \"/\", \"*_\", ani_type, \"_ani.tsv\")), skip=\"SampleID\",)\n",
    "    colnames(ani) <- c(\"SampleID\", header$sample_name)\n",
    "    genome_name <- gsub(\"^.*/\", \"\", path)\n",
    "    # sample_labels\n",
    "    ani[, SampleID:=factor(SampleID)]\n",
    "    ani <- full_join(ani, header, by=c(\"SampleID\"))\n",
    "    ani[, genome:=genome_name]\n",
    "\n",
    "    return(ani)\n",
    "}\n",
    "\n",
    "get_all_ani_in_directory <- function(\n",
    "    directory=\"/mnt/hpccs01/scratch/microbiome/n10853499/00-rosella_testing/02-activated_sludge/assembly/00-singleton_analysis/05-lorikeet_call/\", \n",
    "    sample_ids=\"/mnt/hpccs01/scratch/microbiome/n10853499/00-rosella_testing/02-activated_sludge/assembly/00-singleton_analysis/sample_ids.txt\",\n",
    "    sample_to_sra=\"/mnt/hpccs01/scratch/microbiome/n10853499/00-rosella_testing/02-activated_sludge/assembly/00-singleton_analysis/sample_to_sra.tsv\",\n",
    "    coverages=\"/mnt/hpccs01/scratch/microbiome/n10853499/00-rosella_testing/02-activated_sludge/assembly/00-singleton_analysis/singleton_coverages.tsv\"\n",
    ") {\n",
    "    sample_to_sra <- fread(sample_to_sra, header=FALSE)\n",
    "    sample_to_sra[, sample_name:=V1]\n",
    "    sample_to_sra[, V1:=NULL]\n",
    "    header <- fread(sample_ids)\n",
    "    header[, SampleID:=factor(V1)]\n",
    "\n",
    "    header[, V1:=NULL]\n",
    "    header[, sra_id:=V2]\n",
    "    header[, V2:=NULL]\n",
    "\n",
    "    header <- inner_join(header, sample_to_sra, by=c(\"sra_id\" = \"V2\"))\n",
    "    coverages <- fread(coverages)\n",
    "    colnames(coverages) <- c(\"Genome\", sample_to_sra$sample_name)\n",
    "    \n",
    "    \n",
    "    all_con_ani <- lapply(list.dirs(directory, recursive=FALSE), function(x) {get_ani(x, header, ani_type=\"consensus\")})\n",
    "    all_con_ani <- do.call(rbind, all_con_ani)\n",
    "    all_con_ani <- full_join(all_con_ani, melt(coverages), by=c(\"genome\"=\"Genome\", \"sample_name\"=\"variable\"))\n",
    "    \n",
    "    all_pop_ani <- lapply(list.dirs(directory, recursive=FALSE), function(x) {get_ani(x, header, ani_type=\"population\")})\n",
    "    all_pop_ani <- do.call(rbind, all_pop_ani)\n",
    "    all_pop_ani <- full_join(all_pop_ani, melt(coverages), by=c(\"genome\"=\"Genome\", \"sample_name\"=\"variable\"))\n",
    "    \n",
    "    all_sub_ani <- lapply(list.dirs(directory, recursive=FALSE), function(x) {get_ani(x, header, ani_type=\"subpopulation\")})\n",
    "    all_sub_ani <- do.call(rbind, all_sub_ani)\n",
    "    all_sub_ani <- full_join(all_sub_ani, melt(coverages), by=c(\"genome\"=\"Genome\", \"sample_name\"=\"variable\"))\n",
    "    \n",
    "    return(list(con=all_con_ani, pop=all_pop_ani, sub=all_sub_ani))\n",
    "}"
   ]
  },
  {
   "cell_type": "code",
   "execution_count": 57,
   "metadata": {},
   "outputs": [
    {
     "name": "stderr",
     "output_type": "stream",
     "text": [
      "Warning message in `[.data.table`(ani, , `:=`(genome, genome_name)):\n",
      "“Invalid .internal.selfref detected and fixed by taking a (shallow) copy of the data.table so that := can add this new column by reference. At an earlier point, this data.table has been copied by R (or was created manually using structure() or similar). Avoid names<- and attr<- which in R currently (and oddly) may copy the whole data.table. Use set* syntax instead to avoid copying: ?set, ?setnames and ?setattr. If this message doesn't help, please report your use case to the data.table issue tracker so the root cause can be fixed or this message improved.”\n",
      "Warning message in `[.data.table`(ani, , `:=`(genome, genome_name)):\n",
      "“Invalid .internal.selfref detected and fixed by taking a (shallow) copy of the data.table so that := can add this new column by reference. At an earlier point, this data.table has been copied by R (or was created manually using structure() or similar). Avoid names<- and attr<- which in R currently (and oddly) may copy the whole data.table. Use set* syntax instead to avoid copying: ?set, ?setnames and ?setattr. If this message doesn't help, please report your use case to the data.table issue tracker so the root cause can be fixed or this message improved.”\n",
      "Warning message in `[.data.table`(ani, , `:=`(genome, genome_name)):\n",
      "“Invalid .internal.selfref detected and fixed by taking a (shallow) copy of the data.table so that := can add this new column by reference. At an earlier point, this data.table has been copied by R (or was created manually using structure() or similar). Avoid names<- and attr<- which in R currently (and oddly) may copy the whole data.table. Use set* syntax instead to avoid copying: ?set, ?setnames and ?setattr. If this message doesn't help, please report your use case to the data.table issue tracker so the root cause can be fixed or this message improved.”\n",
      "Warning message in `[.data.table`(ani, , `:=`(genome, genome_name)):\n",
      "“Invalid .internal.selfref detected and fixed by taking a (shallow) copy of the data.table so that := can add this new column by reference. At an earlier point, this data.table has been copied by R (or was created manually using structure() or similar). Avoid names<- and attr<- which in R currently (and oddly) may copy the whole data.table. Use set* syntax instead to avoid copying: ?set, ?setnames and ?setattr. If this message doesn't help, please report your use case to the data.table issue tracker so the root cause can be fixed or this message improved.”\n",
      "Warning message in `[.data.table`(ani, , `:=`(genome, genome_name)):\n",
      "“Invalid .internal.selfref detected and fixed by taking a (shallow) copy of the data.table so that := can add this new column by reference. At an earlier point, this data.table has been copied by R (or was created manually using structure() or similar). Avoid names<- and attr<- which in R currently (and oddly) may copy the whole data.table. Use set* syntax instead to avoid copying: ?set, ?setnames and ?setattr. If this message doesn't help, please report your use case to the data.table issue tracker so the root cause can be fixed or this message improved.”\n",
      "Warning message in `[.data.table`(ani, , `:=`(genome, genome_name)):\n",
      "“Invalid .internal.selfref detected and fixed by taking a (shallow) copy of the data.table so that := can add this new column by reference. At an earlier point, this data.table has been copied by R (or was created manually using structure() or similar). Avoid names<- and attr<- which in R currently (and oddly) may copy the whole data.table. Use set* syntax instead to avoid copying: ?set, ?setnames and ?setattr. If this message doesn't help, please report your use case to the data.table issue tracker so the root cause can be fixed or this message improved.”\n",
      "Warning message in `[.data.table`(ani, , `:=`(genome, genome_name)):\n",
      "“Invalid .internal.selfref detected and fixed by taking a (shallow) copy of the data.table so that := can add this new column by reference. At an earlier point, this data.table has been copied by R (or was created manually using structure() or similar). Avoid names<- and attr<- which in R currently (and oddly) may copy the whole data.table. Use set* syntax instead to avoid copying: ?set, ?setnames and ?setattr. If this message doesn't help, please report your use case to the data.table issue tracker so the root cause can be fixed or this message improved.”\n",
      "Warning message in `[.data.table`(ani, , `:=`(genome, genome_name)):\n",
      "“Invalid .internal.selfref detected and fixed by taking a (shallow) copy of the data.table so that := can add this new column by reference. At an earlier point, this data.table has been copied by R (or was created manually using structure() or similar). Avoid names<- and attr<- which in R currently (and oddly) may copy the whole data.table. Use set* syntax instead to avoid copying: ?set, ?setnames and ?setattr. If this message doesn't help, please report your use case to the data.table issue tracker so the root cause can be fixed or this message improved.”\n",
      "Warning message in `[.data.table`(ani, , `:=`(genome, genome_name)):\n",
      "“Invalid .internal.selfref detected and fixed by taking a (shallow) copy of the data.table so that := can add this new column by reference. At an earlier point, this data.table has been copied by R (or was created manually using structure() or similar). Avoid names<- and attr<- which in R currently (and oddly) may copy the whole data.table. Use set* syntax instead to avoid copying: ?set, ?setnames and ?setattr. If this message doesn't help, please report your use case to the data.table issue tracker so the root cause can be fixed or this message improved.”\n",
      "Warning message in `[.data.table`(ani, , `:=`(genome, genome_name)):\n",
      "“Invalid .internal.selfref detected and fixed by taking a (shallow) copy of the data.table so that := can add this new column by reference. At an earlier point, this data.table has been copied by R (or was created manually using structure() or similar). Avoid names<- and attr<- which in R currently (and oddly) may copy the whole data.table. Use set* syntax instead to avoid copying: ?set, ?setnames and ?setattr. If this message doesn't help, please report your use case to the data.table issue tracker so the root cause can be fixed or this message improved.”\n",
      "Warning message in `[.data.table`(ani, , `:=`(genome, genome_name)):\n",
      "“Invalid .internal.selfref detected and fixed by taking a (shallow) copy of the data.table so that := can add this new column by reference. At an earlier point, this data.table has been copied by R (or was created manually using structure() or similar). Avoid names<- and attr<- which in R currently (and oddly) may copy the whole data.table. Use set* syntax instead to avoid copying: ?set, ?setnames and ?setattr. If this message doesn't help, please report your use case to the data.table issue tracker so the root cause can be fixed or this message improved.”\n",
      "Warning message in `[.data.table`(ani, , `:=`(genome, genome_name)):\n",
      "“Invalid .internal.selfref detected and fixed by taking a (shallow) copy of the data.table so that := can add this new column by reference. At an earlier point, this data.table has been copied by R (or was created manually using structure() or similar). Avoid names<- and attr<- which in R currently (and oddly) may copy the whole data.table. Use set* syntax instead to avoid copying: ?set, ?setnames and ?setattr. If this message doesn't help, please report your use case to the data.table issue tracker so the root cause can be fixed or this message improved.”\n",
      "Warning message in `[.data.table`(ani, , `:=`(genome, genome_name)):\n",
      "“Invalid .internal.selfref detected and fixed by taking a (shallow) copy of the data.table so that := can add this new column by reference. At an earlier point, this data.table has been copied by R (or was created manually using structure() or similar). Avoid names<- and attr<- which in R currently (and oddly) may copy the whole data.table. Use set* syntax instead to avoid copying: ?set, ?setnames and ?setattr. If this message doesn't help, please report your use case to the data.table issue tracker so the root cause can be fixed or this message improved.”\n"
     ]
    },
    {
     "name": "stderr",
     "output_type": "stream",
     "text": [
      "Warning message in `[.data.table`(ani, , `:=`(genome, genome_name)):\n",
      "“Invalid .internal.selfref detected and fixed by taking a (shallow) copy of the data.table so that := can add this new column by reference. At an earlier point, this data.table has been copied by R (or was created manually using structure() or similar). Avoid names<- and attr<- which in R currently (and oddly) may copy the whole data.table. Use set* syntax instead to avoid copying: ?set, ?setnames and ?setattr. If this message doesn't help, please report your use case to the data.table issue tracker so the root cause can be fixed or this message improved.”\n",
      "Warning message in `[.data.table`(ani, , `:=`(genome, genome_name)):\n",
      "“Invalid .internal.selfref detected and fixed by taking a (shallow) copy of the data.table so that := can add this new column by reference. At an earlier point, this data.table has been copied by R (or was created manually using structure() or similar). Avoid names<- and attr<- which in R currently (and oddly) may copy the whole data.table. Use set* syntax instead to avoid copying: ?set, ?setnames and ?setattr. If this message doesn't help, please report your use case to the data.table issue tracker so the root cause can be fixed or this message improved.”\n",
      "Warning message in `[.data.table`(ani, , `:=`(genome, genome_name)):\n",
      "“Invalid .internal.selfref detected and fixed by taking a (shallow) copy of the data.table so that := can add this new column by reference. At an earlier point, this data.table has been copied by R (or was created manually using structure() or similar). Avoid names<- and attr<- which in R currently (and oddly) may copy the whole data.table. Use set* syntax instead to avoid copying: ?set, ?setnames and ?setattr. If this message doesn't help, please report your use case to the data.table issue tracker so the root cause can be fixed or this message improved.”\n",
      "Warning message in `[.data.table`(ani, , `:=`(genome, genome_name)):\n",
      "“Invalid .internal.selfref detected and fixed by taking a (shallow) copy of the data.table so that := can add this new column by reference. At an earlier point, this data.table has been copied by R (or was created manually using structure() or similar). Avoid names<- and attr<- which in R currently (and oddly) may copy the whole data.table. Use set* syntax instead to avoid copying: ?set, ?setnames and ?setattr. If this message doesn't help, please report your use case to the data.table issue tracker so the root cause can be fixed or this message improved.”\n",
      "Warning message in `[.data.table`(ani, , `:=`(genome, genome_name)):\n",
      "“Invalid .internal.selfref detected and fixed by taking a (shallow) copy of the data.table so that := can add this new column by reference. At an earlier point, this data.table has been copied by R (or was created manually using structure() or similar). Avoid names<- and attr<- which in R currently (and oddly) may copy the whole data.table. Use set* syntax instead to avoid copying: ?set, ?setnames and ?setattr. If this message doesn't help, please report your use case to the data.table issue tracker so the root cause can be fixed or this message improved.”\n",
      "Warning message in `[.data.table`(ani, , `:=`(genome, genome_name)):\n",
      "“Invalid .internal.selfref detected and fixed by taking a (shallow) copy of the data.table so that := can add this new column by reference. At an earlier point, this data.table has been copied by R (or was created manually using structure() or similar). Avoid names<- and attr<- which in R currently (and oddly) may copy the whole data.table. Use set* syntax instead to avoid copying: ?set, ?setnames and ?setattr. If this message doesn't help, please report your use case to the data.table issue tracker so the root cause can be fixed or this message improved.”\n",
      "Warning message in `[.data.table`(ani, , `:=`(genome, genome_name)):\n",
      "“Invalid .internal.selfref detected and fixed by taking a (shallow) copy of the data.table so that := can add this new column by reference. At an earlier point, this data.table has been copied by R (or was created manually using structure() or similar). Avoid names<- and attr<- which in R currently (and oddly) may copy the whole data.table. Use set* syntax instead to avoid copying: ?set, ?setnames and ?setattr. If this message doesn't help, please report your use case to the data.table issue tracker so the root cause can be fixed or this message improved.”\n",
      "Warning message in `[.data.table`(ani, , `:=`(genome, genome_name)):\n",
      "“Invalid .internal.selfref detected and fixed by taking a (shallow) copy of the data.table so that := can add this new column by reference. At an earlier point, this data.table has been copied by R (or was created manually using structure() or similar). Avoid names<- and attr<- which in R currently (and oddly) may copy the whole data.table. Use set* syntax instead to avoid copying: ?set, ?setnames and ?setattr. If this message doesn't help, please report your use case to the data.table issue tracker so the root cause can be fixed or this message improved.”\n",
      "Warning message in `[.data.table`(ani, , `:=`(genome, genome_name)):\n",
      "“Invalid .internal.selfref detected and fixed by taking a (shallow) copy of the data.table so that := can add this new column by reference. At an earlier point, this data.table has been copied by R (or was created manually using structure() or similar). Avoid names<- and attr<- which in R currently (and oddly) may copy the whole data.table. Use set* syntax instead to avoid copying: ?set, ?setnames and ?setattr. If this message doesn't help, please report your use case to the data.table issue tracker so the root cause can be fixed or this message improved.”\n",
      "Warning message in `[.data.table`(ani, , `:=`(genome, genome_name)):\n",
      "“Invalid .internal.selfref detected and fixed by taking a (shallow) copy of the data.table so that := can add this new column by reference. At an earlier point, this data.table has been copied by R (or was created manually using structure() or similar). Avoid names<- and attr<- which in R currently (and oddly) may copy the whole data.table. Use set* syntax instead to avoid copying: ?set, ?setnames and ?setattr. If this message doesn't help, please report your use case to the data.table issue tracker so the root cause can be fixed or this message improved.”\n",
      "Warning message in `[.data.table`(ani, , `:=`(genome, genome_name)):\n",
      "“Invalid .internal.selfref detected and fixed by taking a (shallow) copy of the data.table so that := can add this new column by reference. At an earlier point, this data.table has been copied by R (or was created manually using structure() or similar). Avoid names<- and attr<- which in R currently (and oddly) may copy the whole data.table. Use set* syntax instead to avoid copying: ?set, ?setnames and ?setattr. If this message doesn't help, please report your use case to the data.table issue tracker so the root cause can be fixed or this message improved.”\n",
      "Warning message in `[.data.table`(ani, , `:=`(genome, genome_name)):\n",
      "“Invalid .internal.selfref detected and fixed by taking a (shallow) copy of the data.table so that := can add this new column by reference. At an earlier point, this data.table has been copied by R (or was created manually using structure() or similar). Avoid names<- and attr<- which in R currently (and oddly) may copy the whole data.table. Use set* syntax instead to avoid copying: ?set, ?setnames and ?setattr. If this message doesn't help, please report your use case to the data.table issue tracker so the root cause can be fixed or this message improved.”\n",
      "Warning message in `[.data.table`(ani, , `:=`(genome, genome_name)):\n",
      "“Invalid .internal.selfref detected and fixed by taking a (shallow) copy of the data.table so that := can add this new column by reference. At an earlier point, this data.table has been copied by R (or was created manually using structure() or similar). Avoid names<- and attr<- which in R currently (and oddly) may copy the whole data.table. Use set* syntax instead to avoid copying: ?set, ?setnames and ?setattr. If this message doesn't help, please report your use case to the data.table issue tracker so the root cause can be fixed or this message improved.”\n"
     ]
    },
    {
     "name": "stderr",
     "output_type": "stream",
     "text": [
      "Warning message in `[.data.table`(ani, , `:=`(genome, genome_name)):\n",
      "“Invalid .internal.selfref detected and fixed by taking a (shallow) copy of the data.table so that := can add this new column by reference. At an earlier point, this data.table has been copied by R (or was created manually using structure() or similar). Avoid names<- and attr<- which in R currently (and oddly) may copy the whole data.table. Use set* syntax instead to avoid copying: ?set, ?setnames and ?setattr. If this message doesn't help, please report your use case to the data.table issue tracker so the root cause can be fixed or this message improved.”\n",
      "Warning message in `[.data.table`(ani, , `:=`(genome, genome_name)):\n",
      "“Invalid .internal.selfref detected and fixed by taking a (shallow) copy of the data.table so that := can add this new column by reference. At an earlier point, this data.table has been copied by R (or was created manually using structure() or similar). Avoid names<- and attr<- which in R currently (and oddly) may copy the whole data.table. Use set* syntax instead to avoid copying: ?set, ?setnames and ?setattr. If this message doesn't help, please report your use case to the data.table issue tracker so the root cause can be fixed or this message improved.”\n",
      "Warning message in `[.data.table`(ani, , `:=`(genome, genome_name)):\n",
      "“Invalid .internal.selfref detected and fixed by taking a (shallow) copy of the data.table so that := can add this new column by reference. At an earlier point, this data.table has been copied by R (or was created manually using structure() or similar). Avoid names<- and attr<- which in R currently (and oddly) may copy the whole data.table. Use set* syntax instead to avoid copying: ?set, ?setnames and ?setattr. If this message doesn't help, please report your use case to the data.table issue tracker so the root cause can be fixed or this message improved.”\n",
      "Warning message in `[.data.table`(ani, , `:=`(genome, genome_name)):\n",
      "“Invalid .internal.selfref detected and fixed by taking a (shallow) copy of the data.table so that := can add this new column by reference. At an earlier point, this data.table has been copied by R (or was created manually using structure() or similar). Avoid names<- and attr<- which in R currently (and oddly) may copy the whole data.table. Use set* syntax instead to avoid copying: ?set, ?setnames and ?setattr. If this message doesn't help, please report your use case to the data.table issue tracker so the root cause can be fixed or this message improved.”\n",
      "Warning message in `[.data.table`(ani, , `:=`(genome, genome_name)):\n",
      "“Invalid .internal.selfref detected and fixed by taking a (shallow) copy of the data.table so that := can add this new column by reference. At an earlier point, this data.table has been copied by R (or was created manually using structure() or similar). Avoid names<- and attr<- which in R currently (and oddly) may copy the whole data.table. Use set* syntax instead to avoid copying: ?set, ?setnames and ?setattr. If this message doesn't help, please report your use case to the data.table issue tracker so the root cause can be fixed or this message improved.”\n",
      "Warning message in `[.data.table`(ani, , `:=`(genome, genome_name)):\n",
      "“Invalid .internal.selfref detected and fixed by taking a (shallow) copy of the data.table so that := can add this new column by reference. At an earlier point, this data.table has been copied by R (or was created manually using structure() or similar). Avoid names<- and attr<- which in R currently (and oddly) may copy the whole data.table. Use set* syntax instead to avoid copying: ?set, ?setnames and ?setattr. If this message doesn't help, please report your use case to the data.table issue tracker so the root cause can be fixed or this message improved.”\n",
      "Warning message in `[.data.table`(ani, , `:=`(genome, genome_name)):\n",
      "“Invalid .internal.selfref detected and fixed by taking a (shallow) copy of the data.table so that := can add this new column by reference. At an earlier point, this data.table has been copied by R (or was created manually using structure() or similar). Avoid names<- and attr<- which in R currently (and oddly) may copy the whole data.table. Use set* syntax instead to avoid copying: ?set, ?setnames and ?setattr. If this message doesn't help, please report your use case to the data.table issue tracker so the root cause can be fixed or this message improved.”\n",
      "Warning message in `[.data.table`(ani, , `:=`(genome, genome_name)):\n",
      "“Invalid .internal.selfref detected and fixed by taking a (shallow) copy of the data.table so that := can add this new column by reference. At an earlier point, this data.table has been copied by R (or was created manually using structure() or similar). Avoid names<- and attr<- which in R currently (and oddly) may copy the whole data.table. Use set* syntax instead to avoid copying: ?set, ?setnames and ?setattr. If this message doesn't help, please report your use case to the data.table issue tracker so the root cause can be fixed or this message improved.”\n",
      "Warning message in `[.data.table`(ani, , `:=`(genome, genome_name)):\n",
      "“Invalid .internal.selfref detected and fixed by taking a (shallow) copy of the data.table so that := can add this new column by reference. At an earlier point, this data.table has been copied by R (or was created manually using structure() or similar). Avoid names<- and attr<- which in R currently (and oddly) may copy the whole data.table. Use set* syntax instead to avoid copying: ?set, ?setnames and ?setattr. If this message doesn't help, please report your use case to the data.table issue tracker so the root cause can be fixed or this message improved.”\n",
      "Warning message in `[.data.table`(ani, , `:=`(genome, genome_name)):\n",
      "“Invalid .internal.selfref detected and fixed by taking a (shallow) copy of the data.table so that := can add this new column by reference. At an earlier point, this data.table has been copied by R (or was created manually using structure() or similar). Avoid names<- and attr<- which in R currently (and oddly) may copy the whole data.table. Use set* syntax instead to avoid copying: ?set, ?setnames and ?setattr. If this message doesn't help, please report your use case to the data.table issue tracker so the root cause can be fixed or this message improved.”\n",
      "Warning message in `[.data.table`(ani, , `:=`(genome, genome_name)):\n",
      "“Invalid .internal.selfref detected and fixed by taking a (shallow) copy of the data.table so that := can add this new column by reference. At an earlier point, this data.table has been copied by R (or was created manually using structure() or similar). Avoid names<- and attr<- which in R currently (and oddly) may copy the whole data.table. Use set* syntax instead to avoid copying: ?set, ?setnames and ?setattr. If this message doesn't help, please report your use case to the data.table issue tracker so the root cause can be fixed or this message improved.”\n",
      "Warning message in `[.data.table`(ani, , `:=`(genome, genome_name)):\n",
      "“Invalid .internal.selfref detected and fixed by taking a (shallow) copy of the data.table so that := can add this new column by reference. At an earlier point, this data.table has been copied by R (or was created manually using structure() or similar). Avoid names<- and attr<- which in R currently (and oddly) may copy the whole data.table. Use set* syntax instead to avoid copying: ?set, ?setnames and ?setattr. If this message doesn't help, please report your use case to the data.table issue tracker so the root cause can be fixed or this message improved.”\n",
      "Warning message in `[.data.table`(ani, , `:=`(genome, genome_name)):\n",
      "“Invalid .internal.selfref detected and fixed by taking a (shallow) copy of the data.table so that := can add this new column by reference. At an earlier point, this data.table has been copied by R (or was created manually using structure() or similar). Avoid names<- and attr<- which in R currently (and oddly) may copy the whole data.table. Use set* syntax instead to avoid copying: ?set, ?setnames and ?setattr. If this message doesn't help, please report your use case to the data.table issue tracker so the root cause can be fixed or this message improved.”\n"
     ]
    },
    {
     "name": "stderr",
     "output_type": "stream",
     "text": [
      "Warning message in `[.data.table`(ani, , `:=`(genome, genome_name)):\n",
      "“Invalid .internal.selfref detected and fixed by taking a (shallow) copy of the data.table so that := can add this new column by reference. At an earlier point, this data.table has been copied by R (or was created manually using structure() or similar). Avoid names<- and attr<- which in R currently (and oddly) may copy the whole data.table. Use set* syntax instead to avoid copying: ?set, ?setnames and ?setattr. If this message doesn't help, please report your use case to the data.table issue tracker so the root cause can be fixed or this message improved.”\n",
      "Warning message in `[.data.table`(ani, , `:=`(genome, genome_name)):\n",
      "“Invalid .internal.selfref detected and fixed by taking a (shallow) copy of the data.table so that := can add this new column by reference. At an earlier point, this data.table has been copied by R (or was created manually using structure() or similar). Avoid names<- and attr<- which in R currently (and oddly) may copy the whole data.table. Use set* syntax instead to avoid copying: ?set, ?setnames and ?setattr. If this message doesn't help, please report your use case to the data.table issue tracker so the root cause can be fixed or this message improved.”\n",
      "Warning message in `[.data.table`(ani, , `:=`(genome, genome_name)):\n",
      "“Invalid .internal.selfref detected and fixed by taking a (shallow) copy of the data.table so that := can add this new column by reference. At an earlier point, this data.table has been copied by R (or was created manually using structure() or similar). Avoid names<- and attr<- which in R currently (and oddly) may copy the whole data.table. Use set* syntax instead to avoid copying: ?set, ?setnames and ?setattr. If this message doesn't help, please report your use case to the data.table issue tracker so the root cause can be fixed or this message improved.”\n",
      "Warning message in `[.data.table`(ani, , `:=`(genome, genome_name)):\n",
      "“Invalid .internal.selfref detected and fixed by taking a (shallow) copy of the data.table so that := can add this new column by reference. At an earlier point, this data.table has been copied by R (or was created manually using structure() or similar). Avoid names<- and attr<- which in R currently (and oddly) may copy the whole data.table. Use set* syntax instead to avoid copying: ?set, ?setnames and ?setattr. If this message doesn't help, please report your use case to the data.table issue tracker so the root cause can be fixed or this message improved.”\n",
      "Warning message in `[.data.table`(ani, , `:=`(genome, genome_name)):\n",
      "“Invalid .internal.selfref detected and fixed by taking a (shallow) copy of the data.table so that := can add this new column by reference. At an earlier point, this data.table has been copied by R (or was created manually using structure() or similar). Avoid names<- and attr<- which in R currently (and oddly) may copy the whole data.table. Use set* syntax instead to avoid copying: ?set, ?setnames and ?setattr. If this message doesn't help, please report your use case to the data.table issue tracker so the root cause can be fixed or this message improved.”\n",
      "Warning message in `[.data.table`(ani, , `:=`(genome, genome_name)):\n",
      "“Invalid .internal.selfref detected and fixed by taking a (shallow) copy of the data.table so that := can add this new column by reference. At an earlier point, this data.table has been copied by R (or was created manually using structure() or similar). Avoid names<- and attr<- which in R currently (and oddly) may copy the whole data.table. Use set* syntax instead to avoid copying: ?set, ?setnames and ?setattr. If this message doesn't help, please report your use case to the data.table issue tracker so the root cause can be fixed or this message improved.”\n",
      "Warning message in `[.data.table`(ani, , `:=`(genome, genome_name)):\n",
      "“Invalid .internal.selfref detected and fixed by taking a (shallow) copy of the data.table so that := can add this new column by reference. At an earlier point, this data.table has been copied by R (or was created manually using structure() or similar). Avoid names<- and attr<- which in R currently (and oddly) may copy the whole data.table. Use set* syntax instead to avoid copying: ?set, ?setnames and ?setattr. If this message doesn't help, please report your use case to the data.table issue tracker so the root cause can be fixed or this message improved.”\n",
      "Warning message in `[.data.table`(ani, , `:=`(genome, genome_name)):\n",
      "“Invalid .internal.selfref detected and fixed by taking a (shallow) copy of the data.table so that := can add this new column by reference. At an earlier point, this data.table has been copied by R (or was created manually using structure() or similar). Avoid names<- and attr<- which in R currently (and oddly) may copy the whole data.table. Use set* syntax instead to avoid copying: ?set, ?setnames and ?setattr. If this message doesn't help, please report your use case to the data.table issue tracker so the root cause can be fixed or this message improved.”\n",
      "Warning message in `[.data.table`(ani, , `:=`(genome, genome_name)):\n",
      "“Invalid .internal.selfref detected and fixed by taking a (shallow) copy of the data.table so that := can add this new column by reference. At an earlier point, this data.table has been copied by R (or was created manually using structure() or similar). Avoid names<- and attr<- which in R currently (and oddly) may copy the whole data.table. Use set* syntax instead to avoid copying: ?set, ?setnames and ?setattr. If this message doesn't help, please report your use case to the data.table issue tracker so the root cause can be fixed or this message improved.”\n",
      "Warning message in `[.data.table`(ani, , `:=`(genome, genome_name)):\n",
      "“Invalid .internal.selfref detected and fixed by taking a (shallow) copy of the data.table so that := can add this new column by reference. At an earlier point, this data.table has been copied by R (or was created manually using structure() or similar). Avoid names<- and attr<- which in R currently (and oddly) may copy the whole data.table. Use set* syntax instead to avoid copying: ?set, ?setnames and ?setattr. If this message doesn't help, please report your use case to the data.table issue tracker so the root cause can be fixed or this message improved.”\n",
      "Warning message in `[.data.table`(ani, , `:=`(genome, genome_name)):\n",
      "“Invalid .internal.selfref detected and fixed by taking a (shallow) copy of the data.table so that := can add this new column by reference. At an earlier point, this data.table has been copied by R (or was created manually using structure() or similar). Avoid names<- and attr<- which in R currently (and oddly) may copy the whole data.table. Use set* syntax instead to avoid copying: ?set, ?setnames and ?setattr. If this message doesn't help, please report your use case to the data.table issue tracker so the root cause can be fixed or this message improved.”\n",
      "Warning message in `[.data.table`(ani, , `:=`(genome, genome_name)):\n",
      "“Invalid .internal.selfref detected and fixed by taking a (shallow) copy of the data.table so that := can add this new column by reference. At an earlier point, this data.table has been copied by R (or was created manually using structure() or similar). Avoid names<- and attr<- which in R currently (and oddly) may copy the whole data.table. Use set* syntax instead to avoid copying: ?set, ?setnames and ?setattr. If this message doesn't help, please report your use case to the data.table issue tracker so the root cause can be fixed or this message improved.”\n",
      "Warning message in `[.data.table`(ani, , `:=`(genome, genome_name)):\n",
      "“Invalid .internal.selfref detected and fixed by taking a (shallow) copy of the data.table so that := can add this new column by reference. At an earlier point, this data.table has been copied by R (or was created manually using structure() or similar). Avoid names<- and attr<- which in R currently (and oddly) may copy the whole data.table. Use set* syntax instead to avoid copying: ?set, ?setnames and ?setattr. If this message doesn't help, please report your use case to the data.table issue tracker so the root cause can be fixed or this message improved.”\n"
     ]
    },
    {
     "name": "stderr",
     "output_type": "stream",
     "text": [
      "Warning message in `[.data.table`(ani, , `:=`(genome, genome_name)):\n",
      "“Invalid .internal.selfref detected and fixed by taking a (shallow) copy of the data.table so that := can add this new column by reference. At an earlier point, this data.table has been copied by R (or was created manually using structure() or similar). Avoid names<- and attr<- which in R currently (and oddly) may copy the whole data.table. Use set* syntax instead to avoid copying: ?set, ?setnames and ?setattr. If this message doesn't help, please report your use case to the data.table issue tracker so the root cause can be fixed or this message improved.”\n",
      "Warning message in `[.data.table`(ani, , `:=`(genome, genome_name)):\n",
      "“Invalid .internal.selfref detected and fixed by taking a (shallow) copy of the data.table so that := can add this new column by reference. At an earlier point, this data.table has been copied by R (or was created manually using structure() or similar). Avoid names<- and attr<- which in R currently (and oddly) may copy the whole data.table. Use set* syntax instead to avoid copying: ?set, ?setnames and ?setattr. If this message doesn't help, please report your use case to the data.table issue tracker so the root cause can be fixed or this message improved.”\n",
      "Warning message in `[.data.table`(ani, , `:=`(genome, genome_name)):\n",
      "“Invalid .internal.selfref detected and fixed by taking a (shallow) copy of the data.table so that := can add this new column by reference. At an earlier point, this data.table has been copied by R (or was created manually using structure() or similar). Avoid names<- and attr<- which in R currently (and oddly) may copy the whole data.table. Use set* syntax instead to avoid copying: ?set, ?setnames and ?setattr. If this message doesn't help, please report your use case to the data.table issue tracker so the root cause can be fixed or this message improved.”\n",
      "Using Genome as id variables\n",
      "\n",
      "Warning message in `[.data.table`(ani, , `:=`(genome, genome_name)):\n",
      "“Invalid .internal.selfref detected and fixed by taking a (shallow) copy of the data.table so that := can add this new column by reference. At an earlier point, this data.table has been copied by R (or was created manually using structure() or similar). Avoid names<- and attr<- which in R currently (and oddly) may copy the whole data.table. Use set* syntax instead to avoid copying: ?set, ?setnames and ?setattr. If this message doesn't help, please report your use case to the data.table issue tracker so the root cause can be fixed or this message improved.”\n",
      "Warning message in `[.data.table`(ani, , `:=`(genome, genome_name)):\n",
      "“Invalid .internal.selfref detected and fixed by taking a (shallow) copy of the data.table so that := can add this new column by reference. At an earlier point, this data.table has been copied by R (or was created manually using structure() or similar). Avoid names<- and attr<- which in R currently (and oddly) may copy the whole data.table. Use set* syntax instead to avoid copying: ?set, ?setnames and ?setattr. If this message doesn't help, please report your use case to the data.table issue tracker so the root cause can be fixed or this message improved.”\n",
      "Warning message in `[.data.table`(ani, , `:=`(genome, genome_name)):\n",
      "“Invalid .internal.selfref detected and fixed by taking a (shallow) copy of the data.table so that := can add this new column by reference. At an earlier point, this data.table has been copied by R (or was created manually using structure() or similar). Avoid names<- and attr<- which in R currently (and oddly) may copy the whole data.table. Use set* syntax instead to avoid copying: ?set, ?setnames and ?setattr. If this message doesn't help, please report your use case to the data.table issue tracker so the root cause can be fixed or this message improved.”\n",
      "Warning message in `[.data.table`(ani, , `:=`(genome, genome_name)):\n",
      "“Invalid .internal.selfref detected and fixed by taking a (shallow) copy of the data.table so that := can add this new column by reference. At an earlier point, this data.table has been copied by R (or was created manually using structure() or similar). Avoid names<- and attr<- which in R currently (and oddly) may copy the whole data.table. Use set* syntax instead to avoid copying: ?set, ?setnames and ?setattr. If this message doesn't help, please report your use case to the data.table issue tracker so the root cause can be fixed or this message improved.”\n",
      "Warning message in `[.data.table`(ani, , `:=`(genome, genome_name)):\n",
      "“Invalid .internal.selfref detected and fixed by taking a (shallow) copy of the data.table so that := can add this new column by reference. At an earlier point, this data.table has been copied by R (or was created manually using structure() or similar). Avoid names<- and attr<- which in R currently (and oddly) may copy the whole data.table. Use set* syntax instead to avoid copying: ?set, ?setnames and ?setattr. If this message doesn't help, please report your use case to the data.table issue tracker so the root cause can be fixed or this message improved.”\n",
      "Warning message in `[.data.table`(ani, , `:=`(genome, genome_name)):\n",
      "“Invalid .internal.selfref detected and fixed by taking a (shallow) copy of the data.table so that := can add this new column by reference. At an earlier point, this data.table has been copied by R (or was created manually using structure() or similar). Avoid names<- and attr<- which in R currently (and oddly) may copy the whole data.table. Use set* syntax instead to avoid copying: ?set, ?setnames and ?setattr. If this message doesn't help, please report your use case to the data.table issue tracker so the root cause can be fixed or this message improved.”\n",
      "Warning message in `[.data.table`(ani, , `:=`(genome, genome_name)):\n",
      "“Invalid .internal.selfref detected and fixed by taking a (shallow) copy of the data.table so that := can add this new column by reference. At an earlier point, this data.table has been copied by R (or was created manually using structure() or similar). Avoid names<- and attr<- which in R currently (and oddly) may copy the whole data.table. Use set* syntax instead to avoid copying: ?set, ?setnames and ?setattr. If this message doesn't help, please report your use case to the data.table issue tracker so the root cause can be fixed or this message improved.”\n",
      "Warning message in `[.data.table`(ani, , `:=`(genome, genome_name)):\n",
      "“Invalid .internal.selfref detected and fixed by taking a (shallow) copy of the data.table so that := can add this new column by reference. At an earlier point, this data.table has been copied by R (or was created manually using structure() or similar). Avoid names<- and attr<- which in R currently (and oddly) may copy the whole data.table. Use set* syntax instead to avoid copying: ?set, ?setnames and ?setattr. If this message doesn't help, please report your use case to the data.table issue tracker so the root cause can be fixed or this message improved.”\n",
      "Warning message in `[.data.table`(ani, , `:=`(genome, genome_name)):\n",
      "“Invalid .internal.selfref detected and fixed by taking a (shallow) copy of the data.table so that := can add this new column by reference. At an earlier point, this data.table has been copied by R (or was created manually using structure() or similar). Avoid names<- and attr<- which in R currently (and oddly) may copy the whole data.table. Use set* syntax instead to avoid copying: ?set, ?setnames and ?setattr. If this message doesn't help, please report your use case to the data.table issue tracker so the root cause can be fixed or this message improved.”\n",
      "Warning message in `[.data.table`(ani, , `:=`(genome, genome_name)):\n",
      "“Invalid .internal.selfref detected and fixed by taking a (shallow) copy of the data.table so that := can add this new column by reference. At an earlier point, this data.table has been copied by R (or was created manually using structure() or similar). Avoid names<- and attr<- which in R currently (and oddly) may copy the whole data.table. Use set* syntax instead to avoid copying: ?set, ?setnames and ?setattr. If this message doesn't help, please report your use case to the data.table issue tracker so the root cause can be fixed or this message improved.”\n"
     ]
    },
    {
     "name": "stderr",
     "output_type": "stream",
     "text": [
      "Warning message in `[.data.table`(ani, , `:=`(genome, genome_name)):\n",
      "“Invalid .internal.selfref detected and fixed by taking a (shallow) copy of the data.table so that := can add this new column by reference. At an earlier point, this data.table has been copied by R (or was created manually using structure() or similar). Avoid names<- and attr<- which in R currently (and oddly) may copy the whole data.table. Use set* syntax instead to avoid copying: ?set, ?setnames and ?setattr. If this message doesn't help, please report your use case to the data.table issue tracker so the root cause can be fixed or this message improved.”\n",
      "Warning message in `[.data.table`(ani, , `:=`(genome, genome_name)):\n",
      "“Invalid .internal.selfref detected and fixed by taking a (shallow) copy of the data.table so that := can add this new column by reference. At an earlier point, this data.table has been copied by R (or was created manually using structure() or similar). Avoid names<- and attr<- which in R currently (and oddly) may copy the whole data.table. Use set* syntax instead to avoid copying: ?set, ?setnames and ?setattr. If this message doesn't help, please report your use case to the data.table issue tracker so the root cause can be fixed or this message improved.”\n",
      "Warning message in `[.data.table`(ani, , `:=`(genome, genome_name)):\n",
      "“Invalid .internal.selfref detected and fixed by taking a (shallow) copy of the data.table so that := can add this new column by reference. At an earlier point, this data.table has been copied by R (or was created manually using structure() or similar). Avoid names<- and attr<- which in R currently (and oddly) may copy the whole data.table. Use set* syntax instead to avoid copying: ?set, ?setnames and ?setattr. If this message doesn't help, please report your use case to the data.table issue tracker so the root cause can be fixed or this message improved.”\n",
      "Warning message in `[.data.table`(ani, , `:=`(genome, genome_name)):\n",
      "“Invalid .internal.selfref detected and fixed by taking a (shallow) copy of the data.table so that := can add this new column by reference. At an earlier point, this data.table has been copied by R (or was created manually using structure() or similar). Avoid names<- and attr<- which in R currently (and oddly) may copy the whole data.table. Use set* syntax instead to avoid copying: ?set, ?setnames and ?setattr. If this message doesn't help, please report your use case to the data.table issue tracker so the root cause can be fixed or this message improved.”\n",
      "Warning message in `[.data.table`(ani, , `:=`(genome, genome_name)):\n",
      "“Invalid .internal.selfref detected and fixed by taking a (shallow) copy of the data.table so that := can add this new column by reference. At an earlier point, this data.table has been copied by R (or was created manually using structure() or similar). Avoid names<- and attr<- which in R currently (and oddly) may copy the whole data.table. Use set* syntax instead to avoid copying: ?set, ?setnames and ?setattr. If this message doesn't help, please report your use case to the data.table issue tracker so the root cause can be fixed or this message improved.”\n",
      "Warning message in `[.data.table`(ani, , `:=`(genome, genome_name)):\n",
      "“Invalid .internal.selfref detected and fixed by taking a (shallow) copy of the data.table so that := can add this new column by reference. At an earlier point, this data.table has been copied by R (or was created manually using structure() or similar). Avoid names<- and attr<- which in R currently (and oddly) may copy the whole data.table. Use set* syntax instead to avoid copying: ?set, ?setnames and ?setattr. If this message doesn't help, please report your use case to the data.table issue tracker so the root cause can be fixed or this message improved.”\n",
      "Warning message in `[.data.table`(ani, , `:=`(genome, genome_name)):\n",
      "“Invalid .internal.selfref detected and fixed by taking a (shallow) copy of the data.table so that := can add this new column by reference. At an earlier point, this data.table has been copied by R (or was created manually using structure() or similar). Avoid names<- and attr<- which in R currently (and oddly) may copy the whole data.table. Use set* syntax instead to avoid copying: ?set, ?setnames and ?setattr. If this message doesn't help, please report your use case to the data.table issue tracker so the root cause can be fixed or this message improved.”\n",
      "Warning message in `[.data.table`(ani, , `:=`(genome, genome_name)):\n",
      "“Invalid .internal.selfref detected and fixed by taking a (shallow) copy of the data.table so that := can add this new column by reference. At an earlier point, this data.table has been copied by R (or was created manually using structure() or similar). Avoid names<- and attr<- which in R currently (and oddly) may copy the whole data.table. Use set* syntax instead to avoid copying: ?set, ?setnames and ?setattr. If this message doesn't help, please report your use case to the data.table issue tracker so the root cause can be fixed or this message improved.”\n",
      "Warning message in `[.data.table`(ani, , `:=`(genome, genome_name)):\n",
      "“Invalid .internal.selfref detected and fixed by taking a (shallow) copy of the data.table so that := can add this new column by reference. At an earlier point, this data.table has been copied by R (or was created manually using structure() or similar). Avoid names<- and attr<- which in R currently (and oddly) may copy the whole data.table. Use set* syntax instead to avoid copying: ?set, ?setnames and ?setattr. If this message doesn't help, please report your use case to the data.table issue tracker so the root cause can be fixed or this message improved.”\n",
      "Warning message in `[.data.table`(ani, , `:=`(genome, genome_name)):\n",
      "“Invalid .internal.selfref detected and fixed by taking a (shallow) copy of the data.table so that := can add this new column by reference. At an earlier point, this data.table has been copied by R (or was created manually using structure() or similar). Avoid names<- and attr<- which in R currently (and oddly) may copy the whole data.table. Use set* syntax instead to avoid copying: ?set, ?setnames and ?setattr. If this message doesn't help, please report your use case to the data.table issue tracker so the root cause can be fixed or this message improved.”\n",
      "Warning message in `[.data.table`(ani, , `:=`(genome, genome_name)):\n",
      "“Invalid .internal.selfref detected and fixed by taking a (shallow) copy of the data.table so that := can add this new column by reference. At an earlier point, this data.table has been copied by R (or was created manually using structure() or similar). Avoid names<- and attr<- which in R currently (and oddly) may copy the whole data.table. Use set* syntax instead to avoid copying: ?set, ?setnames and ?setattr. If this message doesn't help, please report your use case to the data.table issue tracker so the root cause can be fixed or this message improved.”\n",
      "Warning message in `[.data.table`(ani, , `:=`(genome, genome_name)):\n",
      "“Invalid .internal.selfref detected and fixed by taking a (shallow) copy of the data.table so that := can add this new column by reference. At an earlier point, this data.table has been copied by R (or was created manually using structure() or similar). Avoid names<- and attr<- which in R currently (and oddly) may copy the whole data.table. Use set* syntax instead to avoid copying: ?set, ?setnames and ?setattr. If this message doesn't help, please report your use case to the data.table issue tracker so the root cause can be fixed or this message improved.”\n",
      "Warning message in `[.data.table`(ani, , `:=`(genome, genome_name)):\n",
      "“Invalid .internal.selfref detected and fixed by taking a (shallow) copy of the data.table so that := can add this new column by reference. At an earlier point, this data.table has been copied by R (or was created manually using structure() or similar). Avoid names<- and attr<- which in R currently (and oddly) may copy the whole data.table. Use set* syntax instead to avoid copying: ?set, ?setnames and ?setattr. If this message doesn't help, please report your use case to the data.table issue tracker so the root cause can be fixed or this message improved.”\n"
     ]
    },
    {
     "name": "stderr",
     "output_type": "stream",
     "text": [
      "Warning message in `[.data.table`(ani, , `:=`(genome, genome_name)):\n",
      "“Invalid .internal.selfref detected and fixed by taking a (shallow) copy of the data.table so that := can add this new column by reference. At an earlier point, this data.table has been copied by R (or was created manually using structure() or similar). Avoid names<- and attr<- which in R currently (and oddly) may copy the whole data.table. Use set* syntax instead to avoid copying: ?set, ?setnames and ?setattr. If this message doesn't help, please report your use case to the data.table issue tracker so the root cause can be fixed or this message improved.”\n",
      "Warning message in `[.data.table`(ani, , `:=`(genome, genome_name)):\n",
      "“Invalid .internal.selfref detected and fixed by taking a (shallow) copy of the data.table so that := can add this new column by reference. At an earlier point, this data.table has been copied by R (or was created manually using structure() or similar). Avoid names<- and attr<- which in R currently (and oddly) may copy the whole data.table. Use set* syntax instead to avoid copying: ?set, ?setnames and ?setattr. If this message doesn't help, please report your use case to the data.table issue tracker so the root cause can be fixed or this message improved.”\n",
      "Warning message in `[.data.table`(ani, , `:=`(genome, genome_name)):\n",
      "“Invalid .internal.selfref detected and fixed by taking a (shallow) copy of the data.table so that := can add this new column by reference. At an earlier point, this data.table has been copied by R (or was created manually using structure() or similar). Avoid names<- and attr<- which in R currently (and oddly) may copy the whole data.table. Use set* syntax instead to avoid copying: ?set, ?setnames and ?setattr. If this message doesn't help, please report your use case to the data.table issue tracker so the root cause can be fixed or this message improved.”\n",
      "Warning message in `[.data.table`(ani, , `:=`(genome, genome_name)):\n",
      "“Invalid .internal.selfref detected and fixed by taking a (shallow) copy of the data.table so that := can add this new column by reference. At an earlier point, this data.table has been copied by R (or was created manually using structure() or similar). Avoid names<- and attr<- which in R currently (and oddly) may copy the whole data.table. Use set* syntax instead to avoid copying: ?set, ?setnames and ?setattr. If this message doesn't help, please report your use case to the data.table issue tracker so the root cause can be fixed or this message improved.”\n",
      "Warning message in `[.data.table`(ani, , `:=`(genome, genome_name)):\n",
      "“Invalid .internal.selfref detected and fixed by taking a (shallow) copy of the data.table so that := can add this new column by reference. At an earlier point, this data.table has been copied by R (or was created manually using structure() or similar). Avoid names<- and attr<- which in R currently (and oddly) may copy the whole data.table. Use set* syntax instead to avoid copying: ?set, ?setnames and ?setattr. If this message doesn't help, please report your use case to the data.table issue tracker so the root cause can be fixed or this message improved.”\n",
      "Warning message in `[.data.table`(ani, , `:=`(genome, genome_name)):\n",
      "“Invalid .internal.selfref detected and fixed by taking a (shallow) copy of the data.table so that := can add this new column by reference. At an earlier point, this data.table has been copied by R (or was created manually using structure() or similar). Avoid names<- and attr<- which in R currently (and oddly) may copy the whole data.table. Use set* syntax instead to avoid copying: ?set, ?setnames and ?setattr. If this message doesn't help, please report your use case to the data.table issue tracker so the root cause can be fixed or this message improved.”\n",
      "Warning message in `[.data.table`(ani, , `:=`(genome, genome_name)):\n",
      "“Invalid .internal.selfref detected and fixed by taking a (shallow) copy of the data.table so that := can add this new column by reference. At an earlier point, this data.table has been copied by R (or was created manually using structure() or similar). Avoid names<- and attr<- which in R currently (and oddly) may copy the whole data.table. Use set* syntax instead to avoid copying: ?set, ?setnames and ?setattr. If this message doesn't help, please report your use case to the data.table issue tracker so the root cause can be fixed or this message improved.”\n",
      "Warning message in `[.data.table`(ani, , `:=`(genome, genome_name)):\n",
      "“Invalid .internal.selfref detected and fixed by taking a (shallow) copy of the data.table so that := can add this new column by reference. At an earlier point, this data.table has been copied by R (or was created manually using structure() or similar). Avoid names<- and attr<- which in R currently (and oddly) may copy the whole data.table. Use set* syntax instead to avoid copying: ?set, ?setnames and ?setattr. If this message doesn't help, please report your use case to the data.table issue tracker so the root cause can be fixed or this message improved.”\n",
      "Warning message in `[.data.table`(ani, , `:=`(genome, genome_name)):\n",
      "“Invalid .internal.selfref detected and fixed by taking a (shallow) copy of the data.table so that := can add this new column by reference. At an earlier point, this data.table has been copied by R (or was created manually using structure() or similar). Avoid names<- and attr<- which in R currently (and oddly) may copy the whole data.table. Use set* syntax instead to avoid copying: ?set, ?setnames and ?setattr. If this message doesn't help, please report your use case to the data.table issue tracker so the root cause can be fixed or this message improved.”\n",
      "Warning message in `[.data.table`(ani, , `:=`(genome, genome_name)):\n",
      "“Invalid .internal.selfref detected and fixed by taking a (shallow) copy of the data.table so that := can add this new column by reference. At an earlier point, this data.table has been copied by R (or was created manually using structure() or similar). Avoid names<- and attr<- which in R currently (and oddly) may copy the whole data.table. Use set* syntax instead to avoid copying: ?set, ?setnames and ?setattr. If this message doesn't help, please report your use case to the data.table issue tracker so the root cause can be fixed or this message improved.”\n",
      "Warning message in `[.data.table`(ani, , `:=`(genome, genome_name)):\n",
      "“Invalid .internal.selfref detected and fixed by taking a (shallow) copy of the data.table so that := can add this new column by reference. At an earlier point, this data.table has been copied by R (or was created manually using structure() or similar). Avoid names<- and attr<- which in R currently (and oddly) may copy the whole data.table. Use set* syntax instead to avoid copying: ?set, ?setnames and ?setattr. If this message doesn't help, please report your use case to the data.table issue tracker so the root cause can be fixed or this message improved.”\n",
      "Warning message in `[.data.table`(ani, , `:=`(genome, genome_name)):\n",
      "“Invalid .internal.selfref detected and fixed by taking a (shallow) copy of the data.table so that := can add this new column by reference. At an earlier point, this data.table has been copied by R (or was created manually using structure() or similar). Avoid names<- and attr<- which in R currently (and oddly) may copy the whole data.table. Use set* syntax instead to avoid copying: ?set, ?setnames and ?setattr. If this message doesn't help, please report your use case to the data.table issue tracker so the root cause can be fixed or this message improved.”\n",
      "Warning message in `[.data.table`(ani, , `:=`(genome, genome_name)):\n",
      "“Invalid .internal.selfref detected and fixed by taking a (shallow) copy of the data.table so that := can add this new column by reference. At an earlier point, this data.table has been copied by R (or was created manually using structure() or similar). Avoid names<- and attr<- which in R currently (and oddly) may copy the whole data.table. Use set* syntax instead to avoid copying: ?set, ?setnames and ?setattr. If this message doesn't help, please report your use case to the data.table issue tracker so the root cause can be fixed or this message improved.”\n"
     ]
    },
    {
     "name": "stderr",
     "output_type": "stream",
     "text": [
      "Warning message in `[.data.table`(ani, , `:=`(genome, genome_name)):\n",
      "“Invalid .internal.selfref detected and fixed by taking a (shallow) copy of the data.table so that := can add this new column by reference. At an earlier point, this data.table has been copied by R (or was created manually using structure() or similar). Avoid names<- and attr<- which in R currently (and oddly) may copy the whole data.table. Use set* syntax instead to avoid copying: ?set, ?setnames and ?setattr. If this message doesn't help, please report your use case to the data.table issue tracker so the root cause can be fixed or this message improved.”\n",
      "Warning message in `[.data.table`(ani, , `:=`(genome, genome_name)):\n",
      "“Invalid .internal.selfref detected and fixed by taking a (shallow) copy of the data.table so that := can add this new column by reference. At an earlier point, this data.table has been copied by R (or was created manually using structure() or similar). Avoid names<- and attr<- which in R currently (and oddly) may copy the whole data.table. Use set* syntax instead to avoid copying: ?set, ?setnames and ?setattr. If this message doesn't help, please report your use case to the data.table issue tracker so the root cause can be fixed or this message improved.”\n",
      "Warning message in `[.data.table`(ani, , `:=`(genome, genome_name)):\n",
      "“Invalid .internal.selfref detected and fixed by taking a (shallow) copy of the data.table so that := can add this new column by reference. At an earlier point, this data.table has been copied by R (or was created manually using structure() or similar). Avoid names<- and attr<- which in R currently (and oddly) may copy the whole data.table. Use set* syntax instead to avoid copying: ?set, ?setnames and ?setattr. If this message doesn't help, please report your use case to the data.table issue tracker so the root cause can be fixed or this message improved.”\n",
      "Warning message in `[.data.table`(ani, , `:=`(genome, genome_name)):\n",
      "“Invalid .internal.selfref detected and fixed by taking a (shallow) copy of the data.table so that := can add this new column by reference. At an earlier point, this data.table has been copied by R (or was created manually using structure() or similar). Avoid names<- and attr<- which in R currently (and oddly) may copy the whole data.table. Use set* syntax instead to avoid copying: ?set, ?setnames and ?setattr. If this message doesn't help, please report your use case to the data.table issue tracker so the root cause can be fixed or this message improved.”\n",
      "Warning message in `[.data.table`(ani, , `:=`(genome, genome_name)):\n",
      "“Invalid .internal.selfref detected and fixed by taking a (shallow) copy of the data.table so that := can add this new column by reference. At an earlier point, this data.table has been copied by R (or was created manually using structure() or similar). Avoid names<- and attr<- which in R currently (and oddly) may copy the whole data.table. Use set* syntax instead to avoid copying: ?set, ?setnames and ?setattr. If this message doesn't help, please report your use case to the data.table issue tracker so the root cause can be fixed or this message improved.”\n",
      "Warning message in `[.data.table`(ani, , `:=`(genome, genome_name)):\n",
      "“Invalid .internal.selfref detected and fixed by taking a (shallow) copy of the data.table so that := can add this new column by reference. At an earlier point, this data.table has been copied by R (or was created manually using structure() or similar). Avoid names<- and attr<- which in R currently (and oddly) may copy the whole data.table. Use set* syntax instead to avoid copying: ?set, ?setnames and ?setattr. If this message doesn't help, please report your use case to the data.table issue tracker so the root cause can be fixed or this message improved.”\n",
      "Warning message in `[.data.table`(ani, , `:=`(genome, genome_name)):\n",
      "“Invalid .internal.selfref detected and fixed by taking a (shallow) copy of the data.table so that := can add this new column by reference. At an earlier point, this data.table has been copied by R (or was created manually using structure() or similar). Avoid names<- and attr<- which in R currently (and oddly) may copy the whole data.table. Use set* syntax instead to avoid copying: ?set, ?setnames and ?setattr. If this message doesn't help, please report your use case to the data.table issue tracker so the root cause can be fixed or this message improved.”\n",
      "Warning message in `[.data.table`(ani, , `:=`(genome, genome_name)):\n",
      "“Invalid .internal.selfref detected and fixed by taking a (shallow) copy of the data.table so that := can add this new column by reference. At an earlier point, this data.table has been copied by R (or was created manually using structure() or similar). Avoid names<- and attr<- which in R currently (and oddly) may copy the whole data.table. Use set* syntax instead to avoid copying: ?set, ?setnames and ?setattr. If this message doesn't help, please report your use case to the data.table issue tracker so the root cause can be fixed or this message improved.”\n",
      "Warning message in `[.data.table`(ani, , `:=`(genome, genome_name)):\n",
      "“Invalid .internal.selfref detected and fixed by taking a (shallow) copy of the data.table so that := can add this new column by reference. At an earlier point, this data.table has been copied by R (or was created manually using structure() or similar). Avoid names<- and attr<- which in R currently (and oddly) may copy the whole data.table. Use set* syntax instead to avoid copying: ?set, ?setnames and ?setattr. If this message doesn't help, please report your use case to the data.table issue tracker so the root cause can be fixed or this message improved.”\n",
      "Warning message in `[.data.table`(ani, , `:=`(genome, genome_name)):\n",
      "“Invalid .internal.selfref detected and fixed by taking a (shallow) copy of the data.table so that := can add this new column by reference. At an earlier point, this data.table has been copied by R (or was created manually using structure() or similar). Avoid names<- and attr<- which in R currently (and oddly) may copy the whole data.table. Use set* syntax instead to avoid copying: ?set, ?setnames and ?setattr. If this message doesn't help, please report your use case to the data.table issue tracker so the root cause can be fixed or this message improved.”\n",
      "Warning message in `[.data.table`(ani, , `:=`(genome, genome_name)):\n",
      "“Invalid .internal.selfref detected and fixed by taking a (shallow) copy of the data.table so that := can add this new column by reference. At an earlier point, this data.table has been copied by R (or was created manually using structure() or similar). Avoid names<- and attr<- which in R currently (and oddly) may copy the whole data.table. Use set* syntax instead to avoid copying: ?set, ?setnames and ?setattr. If this message doesn't help, please report your use case to the data.table issue tracker so the root cause can be fixed or this message improved.”\n",
      "Warning message in `[.data.table`(ani, , `:=`(genome, genome_name)):\n",
      "“Invalid .internal.selfref detected and fixed by taking a (shallow) copy of the data.table so that := can add this new column by reference. At an earlier point, this data.table has been copied by R (or was created manually using structure() or similar). Avoid names<- and attr<- which in R currently (and oddly) may copy the whole data.table. Use set* syntax instead to avoid copying: ?set, ?setnames and ?setattr. If this message doesn't help, please report your use case to the data.table issue tracker so the root cause can be fixed or this message improved.”\n",
      "Warning message in `[.data.table`(ani, , `:=`(genome, genome_name)):\n",
      "“Invalid .internal.selfref detected and fixed by taking a (shallow) copy of the data.table so that := can add this new column by reference. At an earlier point, this data.table has been copied by R (or was created manually using structure() or similar). Avoid names<- and attr<- which in R currently (and oddly) may copy the whole data.table. Use set* syntax instead to avoid copying: ?set, ?setnames and ?setattr. If this message doesn't help, please report your use case to the data.table issue tracker so the root cause can be fixed or this message improved.”\n"
     ]
    },
    {
     "name": "stderr",
     "output_type": "stream",
     "text": [
      "Warning message in `[.data.table`(ani, , `:=`(genome, genome_name)):\n",
      "“Invalid .internal.selfref detected and fixed by taking a (shallow) copy of the data.table so that := can add this new column by reference. At an earlier point, this data.table has been copied by R (or was created manually using structure() or similar). Avoid names<- and attr<- which in R currently (and oddly) may copy the whole data.table. Use set* syntax instead to avoid copying: ?set, ?setnames and ?setattr. If this message doesn't help, please report your use case to the data.table issue tracker so the root cause can be fixed or this message improved.”\n",
      "Warning message in `[.data.table`(ani, , `:=`(genome, genome_name)):\n",
      "“Invalid .internal.selfref detected and fixed by taking a (shallow) copy of the data.table so that := can add this new column by reference. At an earlier point, this data.table has been copied by R (or was created manually using structure() or similar). Avoid names<- and attr<- which in R currently (and oddly) may copy the whole data.table. Use set* syntax instead to avoid copying: ?set, ?setnames and ?setattr. If this message doesn't help, please report your use case to the data.table issue tracker so the root cause can be fixed or this message improved.”\n",
      "Warning message in `[.data.table`(ani, , `:=`(genome, genome_name)):\n",
      "“Invalid .internal.selfref detected and fixed by taking a (shallow) copy of the data.table so that := can add this new column by reference. At an earlier point, this data.table has been copied by R (or was created manually using structure() or similar). Avoid names<- and attr<- which in R currently (and oddly) may copy the whole data.table. Use set* syntax instead to avoid copying: ?set, ?setnames and ?setattr. If this message doesn't help, please report your use case to the data.table issue tracker so the root cause can be fixed or this message improved.”\n",
      "Warning message in `[.data.table`(ani, , `:=`(genome, genome_name)):\n",
      "“Invalid .internal.selfref detected and fixed by taking a (shallow) copy of the data.table so that := can add this new column by reference. At an earlier point, this data.table has been copied by R (or was created manually using structure() or similar). Avoid names<- and attr<- which in R currently (and oddly) may copy the whole data.table. Use set* syntax instead to avoid copying: ?set, ?setnames and ?setattr. If this message doesn't help, please report your use case to the data.table issue tracker so the root cause can be fixed or this message improved.”\n",
      "Warning message in `[.data.table`(ani, , `:=`(genome, genome_name)):\n",
      "“Invalid .internal.selfref detected and fixed by taking a (shallow) copy of the data.table so that := can add this new column by reference. At an earlier point, this data.table has been copied by R (or was created manually using structure() or similar). Avoid names<- and attr<- which in R currently (and oddly) may copy the whole data.table. Use set* syntax instead to avoid copying: ?set, ?setnames and ?setattr. If this message doesn't help, please report your use case to the data.table issue tracker so the root cause can be fixed or this message improved.”\n",
      "Warning message in `[.data.table`(ani, , `:=`(genome, genome_name)):\n",
      "“Invalid .internal.selfref detected and fixed by taking a (shallow) copy of the data.table so that := can add this new column by reference. At an earlier point, this data.table has been copied by R (or was created manually using structure() or similar). Avoid names<- and attr<- which in R currently (and oddly) may copy the whole data.table. Use set* syntax instead to avoid copying: ?set, ?setnames and ?setattr. If this message doesn't help, please report your use case to the data.table issue tracker so the root cause can be fixed or this message improved.”\n",
      "Using Genome as id variables\n",
      "\n",
      "Warning message in `[.data.table`(ani, , `:=`(genome, genome_name)):\n",
      "“Invalid .internal.selfref detected and fixed by taking a (shallow) copy of the data.table so that := can add this new column by reference. At an earlier point, this data.table has been copied by R (or was created manually using structure() or similar). Avoid names<- and attr<- which in R currently (and oddly) may copy the whole data.table. Use set* syntax instead to avoid copying: ?set, ?setnames and ?setattr. If this message doesn't help, please report your use case to the data.table issue tracker so the root cause can be fixed or this message improved.”\n",
      "Warning message in `[.data.table`(ani, , `:=`(genome, genome_name)):\n",
      "“Invalid .internal.selfref detected and fixed by taking a (shallow) copy of the data.table so that := can add this new column by reference. At an earlier point, this data.table has been copied by R (or was created manually using structure() or similar). Avoid names<- and attr<- which in R currently (and oddly) may copy the whole data.table. Use set* syntax instead to avoid copying: ?set, ?setnames and ?setattr. If this message doesn't help, please report your use case to the data.table issue tracker so the root cause can be fixed or this message improved.”\n",
      "Warning message in `[.data.table`(ani, , `:=`(genome, genome_name)):\n",
      "“Invalid .internal.selfref detected and fixed by taking a (shallow) copy of the data.table so that := can add this new column by reference. At an earlier point, this data.table has been copied by R (or was created manually using structure() or similar). Avoid names<- and attr<- which in R currently (and oddly) may copy the whole data.table. Use set* syntax instead to avoid copying: ?set, ?setnames and ?setattr. If this message doesn't help, please report your use case to the data.table issue tracker so the root cause can be fixed or this message improved.”\n",
      "Warning message in `[.data.table`(ani, , `:=`(genome, genome_name)):\n",
      "“Invalid .internal.selfref detected and fixed by taking a (shallow) copy of the data.table so that := can add this new column by reference. At an earlier point, this data.table has been copied by R (or was created manually using structure() or similar). Avoid names<- and attr<- which in R currently (and oddly) may copy the whole data.table. Use set* syntax instead to avoid copying: ?set, ?setnames and ?setattr. If this message doesn't help, please report your use case to the data.table issue tracker so the root cause can be fixed or this message improved.”\n",
      "Warning message in `[.data.table`(ani, , `:=`(genome, genome_name)):\n",
      "“Invalid .internal.selfref detected and fixed by taking a (shallow) copy of the data.table so that := can add this new column by reference. At an earlier point, this data.table has been copied by R (or was created manually using structure() or similar). Avoid names<- and attr<- which in R currently (and oddly) may copy the whole data.table. Use set* syntax instead to avoid copying: ?set, ?setnames and ?setattr. If this message doesn't help, please report your use case to the data.table issue tracker so the root cause can be fixed or this message improved.”\n",
      "Warning message in `[.data.table`(ani, , `:=`(genome, genome_name)):\n",
      "“Invalid .internal.selfref detected and fixed by taking a (shallow) copy of the data.table so that := can add this new column by reference. At an earlier point, this data.table has been copied by R (or was created manually using structure() or similar). Avoid names<- and attr<- which in R currently (and oddly) may copy the whole data.table. Use set* syntax instead to avoid copying: ?set, ?setnames and ?setattr. If this message doesn't help, please report your use case to the data.table issue tracker so the root cause can be fixed or this message improved.”\n",
      "Warning message in `[.data.table`(ani, , `:=`(genome, genome_name)):\n",
      "“Invalid .internal.selfref detected and fixed by taking a (shallow) copy of the data.table so that := can add this new column by reference. At an earlier point, this data.table has been copied by R (or was created manually using structure() or similar). Avoid names<- and attr<- which in R currently (and oddly) may copy the whole data.table. Use set* syntax instead to avoid copying: ?set, ?setnames and ?setattr. If this message doesn't help, please report your use case to the data.table issue tracker so the root cause can be fixed or this message improved.”\n"
     ]
    },
    {
     "name": "stderr",
     "output_type": "stream",
     "text": [
      "Warning message in `[.data.table`(ani, , `:=`(genome, genome_name)):\n",
      "“Invalid .internal.selfref detected and fixed by taking a (shallow) copy of the data.table so that := can add this new column by reference. At an earlier point, this data.table has been copied by R (or was created manually using structure() or similar). Avoid names<- and attr<- which in R currently (and oddly) may copy the whole data.table. Use set* syntax instead to avoid copying: ?set, ?setnames and ?setattr. If this message doesn't help, please report your use case to the data.table issue tracker so the root cause can be fixed or this message improved.”\n",
      "Warning message in `[.data.table`(ani, , `:=`(genome, genome_name)):\n",
      "“Invalid .internal.selfref detected and fixed by taking a (shallow) copy of the data.table so that := can add this new column by reference. At an earlier point, this data.table has been copied by R (or was created manually using structure() or similar). Avoid names<- and attr<- which in R currently (and oddly) may copy the whole data.table. Use set* syntax instead to avoid copying: ?set, ?setnames and ?setattr. If this message doesn't help, please report your use case to the data.table issue tracker so the root cause can be fixed or this message improved.”\n",
      "Warning message in `[.data.table`(ani, , `:=`(genome, genome_name)):\n",
      "“Invalid .internal.selfref detected and fixed by taking a (shallow) copy of the data.table so that := can add this new column by reference. At an earlier point, this data.table has been copied by R (or was created manually using structure() or similar). Avoid names<- and attr<- which in R currently (and oddly) may copy the whole data.table. Use set* syntax instead to avoid copying: ?set, ?setnames and ?setattr. If this message doesn't help, please report your use case to the data.table issue tracker so the root cause can be fixed or this message improved.”\n",
      "Warning message in `[.data.table`(ani, , `:=`(genome, genome_name)):\n",
      "“Invalid .internal.selfref detected and fixed by taking a (shallow) copy of the data.table so that := can add this new column by reference. At an earlier point, this data.table has been copied by R (or was created manually using structure() or similar). Avoid names<- and attr<- which in R currently (and oddly) may copy the whole data.table. Use set* syntax instead to avoid copying: ?set, ?setnames and ?setattr. If this message doesn't help, please report your use case to the data.table issue tracker so the root cause can be fixed or this message improved.”\n",
      "Warning message in `[.data.table`(ani, , `:=`(genome, genome_name)):\n",
      "“Invalid .internal.selfref detected and fixed by taking a (shallow) copy of the data.table so that := can add this new column by reference. At an earlier point, this data.table has been copied by R (or was created manually using structure() or similar). Avoid names<- and attr<- which in R currently (and oddly) may copy the whole data.table. Use set* syntax instead to avoid copying: ?set, ?setnames and ?setattr. If this message doesn't help, please report your use case to the data.table issue tracker so the root cause can be fixed or this message improved.”\n",
      "Warning message in `[.data.table`(ani, , `:=`(genome, genome_name)):\n",
      "“Invalid .internal.selfref detected and fixed by taking a (shallow) copy of the data.table so that := can add this new column by reference. At an earlier point, this data.table has been copied by R (or was created manually using structure() or similar). Avoid names<- and attr<- which in R currently (and oddly) may copy the whole data.table. Use set* syntax instead to avoid copying: ?set, ?setnames and ?setattr. If this message doesn't help, please report your use case to the data.table issue tracker so the root cause can be fixed or this message improved.”\n",
      "Warning message in `[.data.table`(ani, , `:=`(genome, genome_name)):\n",
      "“Invalid .internal.selfref detected and fixed by taking a (shallow) copy of the data.table so that := can add this new column by reference. At an earlier point, this data.table has been copied by R (or was created manually using structure() or similar). Avoid names<- and attr<- which in R currently (and oddly) may copy the whole data.table. Use set* syntax instead to avoid copying: ?set, ?setnames and ?setattr. If this message doesn't help, please report your use case to the data.table issue tracker so the root cause can be fixed or this message improved.”\n",
      "Warning message in `[.data.table`(ani, , `:=`(genome, genome_name)):\n",
      "“Invalid .internal.selfref detected and fixed by taking a (shallow) copy of the data.table so that := can add this new column by reference. At an earlier point, this data.table has been copied by R (or was created manually using structure() or similar). Avoid names<- and attr<- which in R currently (and oddly) may copy the whole data.table. Use set* syntax instead to avoid copying: ?set, ?setnames and ?setattr. If this message doesn't help, please report your use case to the data.table issue tracker so the root cause can be fixed or this message improved.”\n",
      "Warning message in `[.data.table`(ani, , `:=`(genome, genome_name)):\n",
      "“Invalid .internal.selfref detected and fixed by taking a (shallow) copy of the data.table so that := can add this new column by reference. At an earlier point, this data.table has been copied by R (or was created manually using structure() or similar). Avoid names<- and attr<- which in R currently (and oddly) may copy the whole data.table. Use set* syntax instead to avoid copying: ?set, ?setnames and ?setattr. If this message doesn't help, please report your use case to the data.table issue tracker so the root cause can be fixed or this message improved.”\n",
      "Warning message in `[.data.table`(ani, , `:=`(genome, genome_name)):\n",
      "“Invalid .internal.selfref detected and fixed by taking a (shallow) copy of the data.table so that := can add this new column by reference. At an earlier point, this data.table has been copied by R (or was created manually using structure() or similar). Avoid names<- and attr<- which in R currently (and oddly) may copy the whole data.table. Use set* syntax instead to avoid copying: ?set, ?setnames and ?setattr. If this message doesn't help, please report your use case to the data.table issue tracker so the root cause can be fixed or this message improved.”\n",
      "Warning message in `[.data.table`(ani, , `:=`(genome, genome_name)):\n",
      "“Invalid .internal.selfref detected and fixed by taking a (shallow) copy of the data.table so that := can add this new column by reference. At an earlier point, this data.table has been copied by R (or was created manually using structure() or similar). Avoid names<- and attr<- which in R currently (and oddly) may copy the whole data.table. Use set* syntax instead to avoid copying: ?set, ?setnames and ?setattr. If this message doesn't help, please report your use case to the data.table issue tracker so the root cause can be fixed or this message improved.”\n",
      "Warning message in `[.data.table`(ani, , `:=`(genome, genome_name)):\n",
      "“Invalid .internal.selfref detected and fixed by taking a (shallow) copy of the data.table so that := can add this new column by reference. At an earlier point, this data.table has been copied by R (or was created manually using structure() or similar). Avoid names<- and attr<- which in R currently (and oddly) may copy the whole data.table. Use set* syntax instead to avoid copying: ?set, ?setnames and ?setattr. If this message doesn't help, please report your use case to the data.table issue tracker so the root cause can be fixed or this message improved.”\n",
      "Warning message in `[.data.table`(ani, , `:=`(genome, genome_name)):\n",
      "“Invalid .internal.selfref detected and fixed by taking a (shallow) copy of the data.table so that := can add this new column by reference. At an earlier point, this data.table has been copied by R (or was created manually using structure() or similar). Avoid names<- and attr<- which in R currently (and oddly) may copy the whole data.table. Use set* syntax instead to avoid copying: ?set, ?setnames and ?setattr. If this message doesn't help, please report your use case to the data.table issue tracker so the root cause can be fixed or this message improved.”\n"
     ]
    },
    {
     "name": "stderr",
     "output_type": "stream",
     "text": [
      "Warning message in `[.data.table`(ani, , `:=`(genome, genome_name)):\n",
      "“Invalid .internal.selfref detected and fixed by taking a (shallow) copy of the data.table so that := can add this new column by reference. At an earlier point, this data.table has been copied by R (or was created manually using structure() or similar). Avoid names<- and attr<- which in R currently (and oddly) may copy the whole data.table. Use set* syntax instead to avoid copying: ?set, ?setnames and ?setattr. If this message doesn't help, please report your use case to the data.table issue tracker so the root cause can be fixed or this message improved.”\n",
      "Warning message in `[.data.table`(ani, , `:=`(genome, genome_name)):\n",
      "“Invalid .internal.selfref detected and fixed by taking a (shallow) copy of the data.table so that := can add this new column by reference. At an earlier point, this data.table has been copied by R (or was created manually using structure() or similar). Avoid names<- and attr<- which in R currently (and oddly) may copy the whole data.table. Use set* syntax instead to avoid copying: ?set, ?setnames and ?setattr. If this message doesn't help, please report your use case to the data.table issue tracker so the root cause can be fixed or this message improved.”\n",
      "Warning message in `[.data.table`(ani, , `:=`(genome, genome_name)):\n",
      "“Invalid .internal.selfref detected and fixed by taking a (shallow) copy of the data.table so that := can add this new column by reference. At an earlier point, this data.table has been copied by R (or was created manually using structure() or similar). Avoid names<- and attr<- which in R currently (and oddly) may copy the whole data.table. Use set* syntax instead to avoid copying: ?set, ?setnames and ?setattr. If this message doesn't help, please report your use case to the data.table issue tracker so the root cause can be fixed or this message improved.”\n",
      "Warning message in `[.data.table`(ani, , `:=`(genome, genome_name)):\n",
      "“Invalid .internal.selfref detected and fixed by taking a (shallow) copy of the data.table so that := can add this new column by reference. At an earlier point, this data.table has been copied by R (or was created manually using structure() or similar). Avoid names<- and attr<- which in R currently (and oddly) may copy the whole data.table. Use set* syntax instead to avoid copying: ?set, ?setnames and ?setattr. If this message doesn't help, please report your use case to the data.table issue tracker so the root cause can be fixed or this message improved.”\n",
      "Warning message in `[.data.table`(ani, , `:=`(genome, genome_name)):\n",
      "“Invalid .internal.selfref detected and fixed by taking a (shallow) copy of the data.table so that := can add this new column by reference. At an earlier point, this data.table has been copied by R (or was created manually using structure() or similar). Avoid names<- and attr<- which in R currently (and oddly) may copy the whole data.table. Use set* syntax instead to avoid copying: ?set, ?setnames and ?setattr. If this message doesn't help, please report your use case to the data.table issue tracker so the root cause can be fixed or this message improved.”\n",
      "Warning message in `[.data.table`(ani, , `:=`(genome, genome_name)):\n",
      "“Invalid .internal.selfref detected and fixed by taking a (shallow) copy of the data.table so that := can add this new column by reference. At an earlier point, this data.table has been copied by R (or was created manually using structure() or similar). Avoid names<- and attr<- which in R currently (and oddly) may copy the whole data.table. Use set* syntax instead to avoid copying: ?set, ?setnames and ?setattr. If this message doesn't help, please report your use case to the data.table issue tracker so the root cause can be fixed or this message improved.”\n",
      "Warning message in `[.data.table`(ani, , `:=`(genome, genome_name)):\n",
      "“Invalid .internal.selfref detected and fixed by taking a (shallow) copy of the data.table so that := can add this new column by reference. At an earlier point, this data.table has been copied by R (or was created manually using structure() or similar). Avoid names<- and attr<- which in R currently (and oddly) may copy the whole data.table. Use set* syntax instead to avoid copying: ?set, ?setnames and ?setattr. If this message doesn't help, please report your use case to the data.table issue tracker so the root cause can be fixed or this message improved.”\n",
      "Warning message in `[.data.table`(ani, , `:=`(genome, genome_name)):\n",
      "“Invalid .internal.selfref detected and fixed by taking a (shallow) copy of the data.table so that := can add this new column by reference. At an earlier point, this data.table has been copied by R (or was created manually using structure() or similar). Avoid names<- and attr<- which in R currently (and oddly) may copy the whole data.table. Use set* syntax instead to avoid copying: ?set, ?setnames and ?setattr. If this message doesn't help, please report your use case to the data.table issue tracker so the root cause can be fixed or this message improved.”\n",
      "Warning message in `[.data.table`(ani, , `:=`(genome, genome_name)):\n",
      "“Invalid .internal.selfref detected and fixed by taking a (shallow) copy of the data.table so that := can add this new column by reference. At an earlier point, this data.table has been copied by R (or was created manually using structure() or similar). Avoid names<- and attr<- which in R currently (and oddly) may copy the whole data.table. Use set* syntax instead to avoid copying: ?set, ?setnames and ?setattr. If this message doesn't help, please report your use case to the data.table issue tracker so the root cause can be fixed or this message improved.”\n",
      "Warning message in `[.data.table`(ani, , `:=`(genome, genome_name)):\n",
      "“Invalid .internal.selfref detected and fixed by taking a (shallow) copy of the data.table so that := can add this new column by reference. At an earlier point, this data.table has been copied by R (or was created manually using structure() or similar). Avoid names<- and attr<- which in R currently (and oddly) may copy the whole data.table. Use set* syntax instead to avoid copying: ?set, ?setnames and ?setattr. If this message doesn't help, please report your use case to the data.table issue tracker so the root cause can be fixed or this message improved.”\n",
      "Warning message in `[.data.table`(ani, , `:=`(genome, genome_name)):\n",
      "“Invalid .internal.selfref detected and fixed by taking a (shallow) copy of the data.table so that := can add this new column by reference. At an earlier point, this data.table has been copied by R (or was created manually using structure() or similar). Avoid names<- and attr<- which in R currently (and oddly) may copy the whole data.table. Use set* syntax instead to avoid copying: ?set, ?setnames and ?setattr. If this message doesn't help, please report your use case to the data.table issue tracker so the root cause can be fixed or this message improved.”\n",
      "Warning message in `[.data.table`(ani, , `:=`(genome, genome_name)):\n",
      "“Invalid .internal.selfref detected and fixed by taking a (shallow) copy of the data.table so that := can add this new column by reference. At an earlier point, this data.table has been copied by R (or was created manually using structure() or similar). Avoid names<- and attr<- which in R currently (and oddly) may copy the whole data.table. Use set* syntax instead to avoid copying: ?set, ?setnames and ?setattr. If this message doesn't help, please report your use case to the data.table issue tracker so the root cause can be fixed or this message improved.”\n",
      "Warning message in `[.data.table`(ani, , `:=`(genome, genome_name)):\n",
      "“Invalid .internal.selfref detected and fixed by taking a (shallow) copy of the data.table so that := can add this new column by reference. At an earlier point, this data.table has been copied by R (or was created manually using structure() or similar). Avoid names<- and attr<- which in R currently (and oddly) may copy the whole data.table. Use set* syntax instead to avoid copying: ?set, ?setnames and ?setattr. If this message doesn't help, please report your use case to the data.table issue tracker so the root cause can be fixed or this message improved.”\n"
     ]
    },
    {
     "name": "stderr",
     "output_type": "stream",
     "text": [
      "Warning message in `[.data.table`(ani, , `:=`(genome, genome_name)):\n",
      "“Invalid .internal.selfref detected and fixed by taking a (shallow) copy of the data.table so that := can add this new column by reference. At an earlier point, this data.table has been copied by R (or was created manually using structure() or similar). Avoid names<- and attr<- which in R currently (and oddly) may copy the whole data.table. Use set* syntax instead to avoid copying: ?set, ?setnames and ?setattr. If this message doesn't help, please report your use case to the data.table issue tracker so the root cause can be fixed or this message improved.”\n",
      "Warning message in `[.data.table`(ani, , `:=`(genome, genome_name)):\n",
      "“Invalid .internal.selfref detected and fixed by taking a (shallow) copy of the data.table so that := can add this new column by reference. At an earlier point, this data.table has been copied by R (or was created manually using structure() or similar). Avoid names<- and attr<- which in R currently (and oddly) may copy the whole data.table. Use set* syntax instead to avoid copying: ?set, ?setnames and ?setattr. If this message doesn't help, please report your use case to the data.table issue tracker so the root cause can be fixed or this message improved.”\n",
      "Warning message in `[.data.table`(ani, , `:=`(genome, genome_name)):\n",
      "“Invalid .internal.selfref detected and fixed by taking a (shallow) copy of the data.table so that := can add this new column by reference. At an earlier point, this data.table has been copied by R (or was created manually using structure() or similar). Avoid names<- and attr<- which in R currently (and oddly) may copy the whole data.table. Use set* syntax instead to avoid copying: ?set, ?setnames and ?setattr. If this message doesn't help, please report your use case to the data.table issue tracker so the root cause can be fixed or this message improved.”\n",
      "Warning message in `[.data.table`(ani, , `:=`(genome, genome_name)):\n",
      "“Invalid .internal.selfref detected and fixed by taking a (shallow) copy of the data.table so that := can add this new column by reference. At an earlier point, this data.table has been copied by R (or was created manually using structure() or similar). Avoid names<- and attr<- which in R currently (and oddly) may copy the whole data.table. Use set* syntax instead to avoid copying: ?set, ?setnames and ?setattr. If this message doesn't help, please report your use case to the data.table issue tracker so the root cause can be fixed or this message improved.”\n",
      "Warning message in `[.data.table`(ani, , `:=`(genome, genome_name)):\n",
      "“Invalid .internal.selfref detected and fixed by taking a (shallow) copy of the data.table so that := can add this new column by reference. At an earlier point, this data.table has been copied by R (or was created manually using structure() or similar). Avoid names<- and attr<- which in R currently (and oddly) may copy the whole data.table. Use set* syntax instead to avoid copying: ?set, ?setnames and ?setattr. If this message doesn't help, please report your use case to the data.table issue tracker so the root cause can be fixed or this message improved.”\n",
      "Warning message in `[.data.table`(ani, , `:=`(genome, genome_name)):\n",
      "“Invalid .internal.selfref detected and fixed by taking a (shallow) copy of the data.table so that := can add this new column by reference. At an earlier point, this data.table has been copied by R (or was created manually using structure() or similar). Avoid names<- and attr<- which in R currently (and oddly) may copy the whole data.table. Use set* syntax instead to avoid copying: ?set, ?setnames and ?setattr. If this message doesn't help, please report your use case to the data.table issue tracker so the root cause can be fixed or this message improved.”\n",
      "Warning message in `[.data.table`(ani, , `:=`(genome, genome_name)):\n",
      "“Invalid .internal.selfref detected and fixed by taking a (shallow) copy of the data.table so that := can add this new column by reference. At an earlier point, this data.table has been copied by R (or was created manually using structure() or similar). Avoid names<- and attr<- which in R currently (and oddly) may copy the whole data.table. Use set* syntax instead to avoid copying: ?set, ?setnames and ?setattr. If this message doesn't help, please report your use case to the data.table issue tracker so the root cause can be fixed or this message improved.”\n",
      "Warning message in `[.data.table`(ani, , `:=`(genome, genome_name)):\n",
      "“Invalid .internal.selfref detected and fixed by taking a (shallow) copy of the data.table so that := can add this new column by reference. At an earlier point, this data.table has been copied by R (or was created manually using structure() or similar). Avoid names<- and attr<- which in R currently (and oddly) may copy the whole data.table. Use set* syntax instead to avoid copying: ?set, ?setnames and ?setattr. If this message doesn't help, please report your use case to the data.table issue tracker so the root cause can be fixed or this message improved.”\n",
      "Warning message in `[.data.table`(ani, , `:=`(genome, genome_name)):\n",
      "“Invalid .internal.selfref detected and fixed by taking a (shallow) copy of the data.table so that := can add this new column by reference. At an earlier point, this data.table has been copied by R (or was created manually using structure() or similar). Avoid names<- and attr<- which in R currently (and oddly) may copy the whole data.table. Use set* syntax instead to avoid copying: ?set, ?setnames and ?setattr. If this message doesn't help, please report your use case to the data.table issue tracker so the root cause can be fixed or this message improved.”\n",
      "Warning message in `[.data.table`(ani, , `:=`(genome, genome_name)):\n",
      "“Invalid .internal.selfref detected and fixed by taking a (shallow) copy of the data.table so that := can add this new column by reference. At an earlier point, this data.table has been copied by R (or was created manually using structure() or similar). Avoid names<- and attr<- which in R currently (and oddly) may copy the whole data.table. Use set* syntax instead to avoid copying: ?set, ?setnames and ?setattr. If this message doesn't help, please report your use case to the data.table issue tracker so the root cause can be fixed or this message improved.”\n",
      "Warning message in `[.data.table`(ani, , `:=`(genome, genome_name)):\n",
      "“Invalid .internal.selfref detected and fixed by taking a (shallow) copy of the data.table so that := can add this new column by reference. At an earlier point, this data.table has been copied by R (or was created manually using structure() or similar). Avoid names<- and attr<- which in R currently (and oddly) may copy the whole data.table. Use set* syntax instead to avoid copying: ?set, ?setnames and ?setattr. If this message doesn't help, please report your use case to the data.table issue tracker so the root cause can be fixed or this message improved.”\n",
      "Warning message in `[.data.table`(ani, , `:=`(genome, genome_name)):\n",
      "“Invalid .internal.selfref detected and fixed by taking a (shallow) copy of the data.table so that := can add this new column by reference. At an earlier point, this data.table has been copied by R (or was created manually using structure() or similar). Avoid names<- and attr<- which in R currently (and oddly) may copy the whole data.table. Use set* syntax instead to avoid copying: ?set, ?setnames and ?setattr. If this message doesn't help, please report your use case to the data.table issue tracker so the root cause can be fixed or this message improved.”\n",
      "Warning message in `[.data.table`(ani, , `:=`(genome, genome_name)):\n",
      "“Invalid .internal.selfref detected and fixed by taking a (shallow) copy of the data.table so that := can add this new column by reference. At an earlier point, this data.table has been copied by R (or was created manually using structure() or similar). Avoid names<- and attr<- which in R currently (and oddly) may copy the whole data.table. Use set* syntax instead to avoid copying: ?set, ?setnames and ?setattr. If this message doesn't help, please report your use case to the data.table issue tracker so the root cause can be fixed or this message improved.”\n"
     ]
    },
    {
     "name": "stderr",
     "output_type": "stream",
     "text": [
      "Warning message in `[.data.table`(ani, , `:=`(genome, genome_name)):\n",
      "“Invalid .internal.selfref detected and fixed by taking a (shallow) copy of the data.table so that := can add this new column by reference. At an earlier point, this data.table has been copied by R (or was created manually using structure() or similar). Avoid names<- and attr<- which in R currently (and oddly) may copy the whole data.table. Use set* syntax instead to avoid copying: ?set, ?setnames and ?setattr. If this message doesn't help, please report your use case to the data.table issue tracker so the root cause can be fixed or this message improved.”\n",
      "Warning message in `[.data.table`(ani, , `:=`(genome, genome_name)):\n",
      "“Invalid .internal.selfref detected and fixed by taking a (shallow) copy of the data.table so that := can add this new column by reference. At an earlier point, this data.table has been copied by R (or was created manually using structure() or similar). Avoid names<- and attr<- which in R currently (and oddly) may copy the whole data.table. Use set* syntax instead to avoid copying: ?set, ?setnames and ?setattr. If this message doesn't help, please report your use case to the data.table issue tracker so the root cause can be fixed or this message improved.”\n",
      "Warning message in `[.data.table`(ani, , `:=`(genome, genome_name)):\n",
      "“Invalid .internal.selfref detected and fixed by taking a (shallow) copy of the data.table so that := can add this new column by reference. At an earlier point, this data.table has been copied by R (or was created manually using structure() or similar). Avoid names<- and attr<- which in R currently (and oddly) may copy the whole data.table. Use set* syntax instead to avoid copying: ?set, ?setnames and ?setattr. If this message doesn't help, please report your use case to the data.table issue tracker so the root cause can be fixed or this message improved.”\n",
      "Warning message in `[.data.table`(ani, , `:=`(genome, genome_name)):\n",
      "“Invalid .internal.selfref detected and fixed by taking a (shallow) copy of the data.table so that := can add this new column by reference. At an earlier point, this data.table has been copied by R (or was created manually using structure() or similar). Avoid names<- and attr<- which in R currently (and oddly) may copy the whole data.table. Use set* syntax instead to avoid copying: ?set, ?setnames and ?setattr. If this message doesn't help, please report your use case to the data.table issue tracker so the root cause can be fixed or this message improved.”\n",
      "Warning message in `[.data.table`(ani, , `:=`(genome, genome_name)):\n",
      "“Invalid .internal.selfref detected and fixed by taking a (shallow) copy of the data.table so that := can add this new column by reference. At an earlier point, this data.table has been copied by R (or was created manually using structure() or similar). Avoid names<- and attr<- which in R currently (and oddly) may copy the whole data.table. Use set* syntax instead to avoid copying: ?set, ?setnames and ?setattr. If this message doesn't help, please report your use case to the data.table issue tracker so the root cause can be fixed or this message improved.”\n",
      "Warning message in `[.data.table`(ani, , `:=`(genome, genome_name)):\n",
      "“Invalid .internal.selfref detected and fixed by taking a (shallow) copy of the data.table so that := can add this new column by reference. At an earlier point, this data.table has been copied by R (or was created manually using structure() or similar). Avoid names<- and attr<- which in R currently (and oddly) may copy the whole data.table. Use set* syntax instead to avoid copying: ?set, ?setnames and ?setattr. If this message doesn't help, please report your use case to the data.table issue tracker so the root cause can be fixed or this message improved.”\n",
      "Warning message in `[.data.table`(ani, , `:=`(genome, genome_name)):\n",
      "“Invalid .internal.selfref detected and fixed by taking a (shallow) copy of the data.table so that := can add this new column by reference. At an earlier point, this data.table has been copied by R (or was created manually using structure() or similar). Avoid names<- and attr<- which in R currently (and oddly) may copy the whole data.table. Use set* syntax instead to avoid copying: ?set, ?setnames and ?setattr. If this message doesn't help, please report your use case to the data.table issue tracker so the root cause can be fixed or this message improved.”\n",
      "Warning message in `[.data.table`(ani, , `:=`(genome, genome_name)):\n",
      "“Invalid .internal.selfref detected and fixed by taking a (shallow) copy of the data.table so that := can add this new column by reference. At an earlier point, this data.table has been copied by R (or was created manually using structure() or similar). Avoid names<- and attr<- which in R currently (and oddly) may copy the whole data.table. Use set* syntax instead to avoid copying: ?set, ?setnames and ?setattr. If this message doesn't help, please report your use case to the data.table issue tracker so the root cause can be fixed or this message improved.”\n",
      "Warning message in `[.data.table`(ani, , `:=`(genome, genome_name)):\n",
      "“Invalid .internal.selfref detected and fixed by taking a (shallow) copy of the data.table so that := can add this new column by reference. At an earlier point, this data.table has been copied by R (or was created manually using structure() or similar). Avoid names<- and attr<- which in R currently (and oddly) may copy the whole data.table. Use set* syntax instead to avoid copying: ?set, ?setnames and ?setattr. If this message doesn't help, please report your use case to the data.table issue tracker so the root cause can be fixed or this message improved.”\n",
      "Using Genome as id variables\n",
      "\n"
     ]
    }
   ],
   "source": [
    "\n",
    "all_ani_values <- get_all_ani_in_directory()"
   ]
  },
  {
   "cell_type": "code",
   "execution_count": 126,
   "metadata": {},
   "outputs": [
    {
     "name": "stderr",
     "output_type": "stream",
     "text": [
      "Using Genome as id variables\n",
      "\n"
     ]
    },
    {
     "data": {
      "text/html": [
       "<table class=\"dataframe\">\n",
       "<caption>A data.table: 1265 × 28</caption>\n",
       "<thead>\n",
       "\t<tr><th scope=col>SampleID</th><th scope=col>Aved_18-Q3-R54-62</th><th scope=col>Viby_18-Q3-R106-67</th><th scope=col>Vibo_18-Q3-R45-57</th><th scope=col>Skiv_18-Q3-R9-52</th><th scope=col>Ribe_18-Q3-R11-54</th><th scope=col>Rand_18-Q3-R56-63</th><th scope=col>OdNW_18-Q3-R42-56</th><th scope=col>OdNE_18-Q3-R46-58</th><th scope=col>AalW_18-Q3-R10-53</th><th scope=col>⋯</th><th scope=col>EsbE_18-Q3-R3-47</th><th scope=col>Ejby_18-Q3-R6-50</th><th scope=col>AalE_18-Q3-R2-46</th><th scope=col>Ega_18-Q3-R5-49</th><th scope=col>Damh_18-Q3-R51-60</th><th scope=col>Bjer_18-Q3-R1-45</th><th scope=col>sra_id</th><th scope=col>sample_name</th><th scope=col>genome</th><th scope=col>value</th></tr>\n",
       "\t<tr><th scope=col>&lt;fct&gt;</th><th scope=col>&lt;dbl&gt;</th><th scope=col>&lt;dbl&gt;</th><th scope=col>&lt;dbl&gt;</th><th scope=col>&lt;dbl&gt;</th><th scope=col>&lt;dbl&gt;</th><th scope=col>&lt;dbl&gt;</th><th scope=col>&lt;dbl&gt;</th><th scope=col>&lt;dbl&gt;</th><th scope=col>&lt;dbl&gt;</th><th scope=col>⋯</th><th scope=col>&lt;dbl&gt;</th><th scope=col>&lt;dbl&gt;</th><th scope=col>&lt;dbl&gt;</th><th scope=col>&lt;dbl&gt;</th><th scope=col>&lt;dbl&gt;</th><th scope=col>&lt;dbl&gt;</th><th scope=col>&lt;chr&gt;</th><th scope=col>&lt;chr&gt;</th><th scope=col>&lt;chr&gt;</th><th scope=col>&lt;dbl&gt;</th></tr>\n",
       "</thead>\n",
       "<tbody>\n",
       "\t<tr><td>1 </td><td>1.0000000</td><td>1.0000000</td><td>1.0000000</td><td>1.0000000</td><td>1.0000000</td><td>1.0000000</td><td>1.0000000</td><td>1.0000000</td><td>1.0000000</td><td>⋯</td><td>1.0000000</td><td>1.0000000</td><td>1.0000000</td><td>1.0000000</td><td>1.0000000</td><td>1.0000000</td><td>SRR11673976</td><td>Aved_18-Q3-R54-62 </td><td>rosella_bin.1368_Kalu_18-Q3-R12-55</td><td> 0.0000000</td></tr>\n",
       "\t<tr><td>2 </td><td>1.0000000</td><td>0.9999965</td><td>0.9999975</td><td>1.0000000</td><td>1.0000000</td><td>1.0000000</td><td>1.0000000</td><td>1.0000000</td><td>1.0000000</td><td>⋯</td><td>0.9999977</td><td>0.9999991</td><td>1.0000000</td><td>1.0000000</td><td>0.9999991</td><td>0.9999991</td><td>SRR11673989</td><td>Viby_18-Q3-R106-67</td><td>rosella_bin.1368_Kalu_18-Q3-R12-55</td><td> 0.0000000</td></tr>\n",
       "\t<tr><td>3 </td><td>1.0000000</td><td>0.9999975</td><td>0.9999927</td><td>1.0000000</td><td>1.0000000</td><td>1.0000000</td><td>1.0000000</td><td>0.9999986</td><td>1.0000000</td><td>⋯</td><td>0.9999998</td><td>0.9999988</td><td>0.9999998</td><td>0.9999998</td><td>0.9999984</td><td>0.9999986</td><td>SRR11673992</td><td>Vibo_18-Q3-R45-57 </td><td>rosella_bin.1368_Kalu_18-Q3-R12-55</td><td> 0.0000000</td></tr>\n",
       "\t<tr><td>4 </td><td>1.0000000</td><td>1.0000000</td><td>1.0000000</td><td>0.9999972</td><td>1.0000000</td><td>1.0000000</td><td>1.0000000</td><td>1.0000000</td><td>1.0000000</td><td>⋯</td><td>1.0000000</td><td>1.0000000</td><td>1.0000000</td><td>1.0000000</td><td>1.0000000</td><td>1.0000000</td><td>SRR11673995</td><td>Skiv_18-Q3-R9-52  </td><td>rosella_bin.1368_Kalu_18-Q3-R12-55</td><td> 0.0000000</td></tr>\n",
       "\t<tr><td>5 </td><td>1.0000000</td><td>1.0000000</td><td>1.0000000</td><td>1.0000000</td><td>1.0000000</td><td>1.0000000</td><td>1.0000000</td><td>1.0000000</td><td>1.0000000</td><td>⋯</td><td>1.0000000</td><td>1.0000000</td><td>1.0000000</td><td>1.0000000</td><td>1.0000000</td><td>1.0000000</td><td>SRR11673999</td><td>Ribe_18-Q3-R11-54 </td><td>rosella_bin.1368_Kalu_18-Q3-R12-55</td><td> 0.0000000</td></tr>\n",
       "\t<tr><td>6 </td><td>1.0000000</td><td>1.0000000</td><td>1.0000000</td><td>1.0000000</td><td>1.0000000</td><td>0.9999995</td><td>1.0000000</td><td>1.0000000</td><td>1.0000000</td><td>⋯</td><td>1.0000000</td><td>1.0000000</td><td>1.0000000</td><td>1.0000000</td><td>1.0000000</td><td>1.0000000</td><td>SRR11674002</td><td>Rand_18-Q3-R56-63 </td><td>rosella_bin.1368_Kalu_18-Q3-R12-55</td><td> 0.6185719</td></tr>\n",
       "\t<tr><td>7 </td><td>1.0000000</td><td>1.0000000</td><td>1.0000000</td><td>1.0000000</td><td>1.0000000</td><td>1.0000000</td><td>0.9999961</td><td>1.0000000</td><td>1.0000000</td><td>⋯</td><td>1.0000000</td><td>1.0000000</td><td>1.0000000</td><td>1.0000000</td><td>1.0000000</td><td>1.0000000</td><td>SRR11674005</td><td>OdNW_18-Q3-R42-56 </td><td>rosella_bin.1368_Kalu_18-Q3-R12-55</td><td> 0.0000000</td></tr>\n",
       "\t<tr><td>8 </td><td>1.0000000</td><td>1.0000000</td><td>0.9999986</td><td>1.0000000</td><td>1.0000000</td><td>1.0000000</td><td>1.0000000</td><td>0.9999887</td><td>1.0000000</td><td>⋯</td><td>0.9999988</td><td>1.0000000</td><td>1.0000000</td><td>1.0000000</td><td>1.0000000</td><td>1.0000000</td><td>SRR11674008</td><td>OdNE_18-Q3-R46-58 </td><td>rosella_bin.1368_Kalu_18-Q3-R12-55</td><td> 0.0000000</td></tr>\n",
       "\t<tr><td>9 </td><td>1.0000000</td><td>1.0000000</td><td>1.0000000</td><td>1.0000000</td><td>1.0000000</td><td>1.0000000</td><td>1.0000000</td><td>1.0000000</td><td>0.9999995</td><td>⋯</td><td>1.0000000</td><td>0.9999988</td><td>1.0000000</td><td>1.0000000</td><td>0.9999991</td><td>0.9999991</td><td>SRR11674009</td><td>AalW_18-Q3-R10-53 </td><td>rosella_bin.1368_Kalu_18-Q3-R12-55</td><td> 0.0000000</td></tr>\n",
       "\t<tr><td>10</td><td>1.0000000</td><td>1.0000000</td><td>0.9999998</td><td>1.0000000</td><td>1.0000000</td><td>1.0000000</td><td>1.0000000</td><td>1.0000000</td><td>1.0000000</td><td>⋯</td><td>1.0000000</td><td>1.0000000</td><td>1.0000000</td><td>1.0000000</td><td>1.0000000</td><td>1.0000000</td><td>SRR11674012</td><td>Mari_18-Q3-R65-66 </td><td>rosella_bin.1368_Kalu_18-Q3-R12-55</td><td> 0.2825570</td></tr>\n",
       "\t<tr><td>11</td><td>1.0000000</td><td>1.0000000</td><td>1.0000000</td><td>1.0000000</td><td>1.0000000</td><td>0.9999998</td><td>0.9999995</td><td>0.9999995</td><td>1.0000000</td><td>⋯</td><td>1.0000000</td><td>0.9999998</td><td>0.9999995</td><td>1.0000000</td><td>1.0000000</td><td>1.0000000</td><td>SRR11674015</td><td>Lyne_18-Q3-R50-59 </td><td>rosella_bin.1368_Kalu_18-Q3-R12-55</td><td> 0.0000000</td></tr>\n",
       "\t<tr><td>12</td><td>1.0000000</td><td>0.9999965</td><td>0.9999927</td><td>0.9999972</td><td>1.0000000</td><td>0.9999995</td><td>0.9999963</td><td>0.9999887</td><td>0.9999995</td><td>⋯</td><td>0.9999949</td><td>0.9999233</td><td>0.9999977</td><td>0.9999968</td><td>0.9999959</td><td>0.9999963</td><td>SRR11674018</td><td>Kalu_18-Q3-R12-55 </td><td>rosella_bin.1368_Kalu_18-Q3-R12-55</td><td> 0.0000000</td></tr>\n",
       "\t<tr><td>13</td><td>1.0000000</td><td>1.0000000</td><td>1.0000000</td><td>1.0000000</td><td>1.0000000</td><td>1.0000000</td><td>1.0000000</td><td>1.0000000</td><td>1.0000000</td><td>⋯</td><td>1.0000000</td><td>1.0000000</td><td>1.0000000</td><td>0.9999998</td><td>1.0000000</td><td>1.0000000</td><td>SRR11674022</td><td>Hjor_18-Q3-R7-51  </td><td>rosella_bin.1368_Kalu_18-Q3-R12-55</td><td> 0.0000000</td></tr>\n",
       "\t<tr><td>14</td><td>1.0000000</td><td>1.0000000</td><td>1.0000000</td><td>1.0000000</td><td>1.0000000</td><td>1.0000000</td><td>1.0000000</td><td>1.0000000</td><td>1.0000000</td><td>⋯</td><td>1.0000000</td><td>1.0000000</td><td>1.0000000</td><td>1.0000000</td><td>1.0000000</td><td>1.0000000</td><td>SRR11674025</td><td>Hirt_18-Q3-R61-65 </td><td>rosella_bin.1368_Kalu_18-Q3-R12-55</td><td>17.4629200</td></tr>\n",
       "\t<tr><td>15</td><td>1.0000000</td><td>1.0000000</td><td>0.9999998</td><td>1.0000000</td><td>1.0000000</td><td>1.0000000</td><td>1.0000000</td><td>1.0000000</td><td>1.0000000</td><td>⋯</td><td>1.0000000</td><td>0.9999988</td><td>1.0000000</td><td>1.0000000</td><td>0.9999991</td><td>0.9999991</td><td>SRR11674031</td><td>Hade_18-Q3-R52-61 </td><td>rosella_bin.1368_Kalu_18-Q3-R12-55</td><td> 0.0000000</td></tr>\n",
       "\t<tr><td>16</td><td>1.0000000</td><td>1.0000000</td><td>1.0000000</td><td>1.0000000</td><td>1.0000000</td><td>1.0000000</td><td>1.0000000</td><td>1.0000000</td><td>1.0000000</td><td>⋯</td><td>1.0000000</td><td>0.9999979</td><td>1.0000000</td><td>1.0000000</td><td>1.0000000</td><td>1.0000000</td><td>SRR11674035</td><td>Fred_18-Q3-R57-64 </td><td>rosella_bin.1368_Kalu_18-Q3-R12-55</td><td> 0.0000000</td></tr>\n",
       "\t<tr><td>17</td><td>1.0000000</td><td>1.0000000</td><td>0.9999998</td><td>1.0000000</td><td>1.0000000</td><td>1.0000000</td><td>1.0000000</td><td>1.0000000</td><td>1.0000000</td><td>⋯</td><td>1.0000000</td><td>0.9999979</td><td>1.0000000</td><td>0.9999998</td><td>0.9999979</td><td>0.9999979</td><td>SRR11674038</td><td>EsbW_18-Q3-R4-48  </td><td>rosella_bin.1368_Kalu_18-Q3-R12-55</td><td> 0.0000000</td></tr>\n",
       "\t<tr><td>18</td><td>1.0000000</td><td>0.9999977</td><td>0.9999998</td><td>1.0000000</td><td>1.0000000</td><td>1.0000000</td><td>1.0000000</td><td>0.9999988</td><td>1.0000000</td><td>⋯</td><td>0.9999949</td><td>0.9999991</td><td>1.0000000</td><td>1.0000000</td><td>0.9999988</td><td>0.9999991</td><td>SRR11674041</td><td>EsbE_18-Q3-R3-47  </td><td>rosella_bin.1368_Kalu_18-Q3-R12-55</td><td> 0.0000000</td></tr>\n",
       "\t<tr><td>19</td><td>1.0000000</td><td>0.9999991</td><td>0.9999988</td><td>1.0000000</td><td>1.0000000</td><td>1.0000000</td><td>1.0000000</td><td>1.0000000</td><td>0.9999988</td><td>⋯</td><td>0.9999991</td><td>0.9998996</td><td>0.9999988</td><td>1.0000000</td><td>0.9999998</td><td>0.9999998</td><td>SRR11674044</td><td>Ejby_18-Q3-R6-50  </td><td>rosella_bin.1368_Kalu_18-Q3-R12-55</td><td> 0.0000000</td></tr>\n",
       "\t<tr><td>20</td><td>1.0000000</td><td>1.0000000</td><td>0.9999998</td><td>1.0000000</td><td>1.0000000</td><td>1.0000000</td><td>1.0000000</td><td>1.0000000</td><td>1.0000000</td><td>⋯</td><td>1.0000000</td><td>0.9999988</td><td>0.9999977</td><td>1.0000000</td><td>0.9999991</td><td>0.9999991</td><td>SRR11674045</td><td>AalE_18-Q3-R2-46  </td><td>rosella_bin.1368_Kalu_18-Q3-R12-55</td><td> 0.0000000</td></tr>\n",
       "\t<tr><td>21</td><td>1.0000000</td><td>1.0000000</td><td>0.9999998</td><td>1.0000000</td><td>1.0000000</td><td>1.0000000</td><td>1.0000000</td><td>1.0000000</td><td>1.0000000</td><td>⋯</td><td>1.0000000</td><td>1.0000000</td><td>1.0000000</td><td>0.9999968</td><td>1.0000000</td><td>1.0000000</td><td>SRR11674048</td><td>Ega_18-Q3-R5-49   </td><td>rosella_bin.1368_Kalu_18-Q3-R12-55</td><td> 0.0000000</td></tr>\n",
       "\t<tr><td>22</td><td>1.0000000</td><td>0.9999991</td><td>0.9999984</td><td>1.0000000</td><td>1.0000000</td><td>1.0000000</td><td>1.0000000</td><td>1.0000000</td><td>0.9999991</td><td>⋯</td><td>0.9999988</td><td>0.9999998</td><td>0.9999991</td><td>1.0000000</td><td>0.9999959</td><td>1.0000000</td><td>SRR11674051</td><td>Damh_18-Q3-R51-60 </td><td>rosella_bin.1368_Kalu_18-Q3-R12-55</td><td> 0.0000000</td></tr>\n",
       "\t<tr><td>23</td><td>1.0000000</td><td>0.9999991</td><td>0.9999986</td><td>1.0000000</td><td>1.0000000</td><td>1.0000000</td><td>1.0000000</td><td>1.0000000</td><td>0.9999991</td><td>⋯</td><td>0.9999991</td><td>0.9999998</td><td>0.9999991</td><td>1.0000000</td><td>1.0000000</td><td>0.9999963</td><td>SRR11674054</td><td>Bjer_18-Q3-R1-45  </td><td>rosella_bin.1368_Kalu_18-Q3-R12-55</td><td> 0.0000000</td></tr>\n",
       "\t<tr><td>1 </td><td>0.9995550</td><td>0.9999922</td><td>0.9999772</td><td>0.9999621</td><td>0.9999821</td><td>0.9999703</td><td>0.9999489</td><td>0.9999571</td><td>0.9999049</td><td>⋯</td><td>0.9999701</td><td>0.9999548</td><td>0.9999736</td><td>0.9999776</td><td>0.9999769</td><td>0.9999885</td><td>SRR11673976</td><td>Aved_18-Q3-R54-62 </td><td>rosella_bin.1369_Kalu_18-Q3-R12-55</td><td> 1.1418285</td></tr>\n",
       "\t<tr><td>2 </td><td>0.9999922</td><td>0.9999063</td><td>0.9999958</td><td>0.9999953</td><td>0.9999958</td><td>0.9999929</td><td>0.9999904</td><td>0.9999934</td><td>0.9999826</td><td>⋯</td><td>0.9999901</td><td>0.9999941</td><td>0.9999955</td><td>0.9999896</td><td>0.9999892</td><td>0.9999967</td><td>SRR11673989</td><td>Viby_18-Q3-R106-67</td><td>rosella_bin.1369_Kalu_18-Q3-R12-55</td><td> 0.9259212</td></tr>\n",
       "\t<tr><td>3 </td><td>0.9999772</td><td>0.9999958</td><td>0.9998969</td><td>0.9999936</td><td>0.9999929</td><td>0.9999852</td><td>0.9999748</td><td>0.9999899</td><td>0.9999548</td><td>⋯</td><td>0.9999899</td><td>0.9999805</td><td>0.9999904</td><td>0.9999951</td><td>0.9999739</td><td>0.9999941</td><td>SRR11673992</td><td>Vibo_18-Q3-R45-57 </td><td>rosella_bin.1369_Kalu_18-Q3-R12-55</td><td> 2.0078552</td></tr>\n",
       "\t<tr><td>4 </td><td>0.9999621</td><td>0.9999953</td><td>0.9999936</td><td>0.9997589</td><td>0.9999797</td><td>0.9999833</td><td>0.9999557</td><td>0.9999852</td><td>0.9999338</td><td>⋯</td><td>0.9999776</td><td>0.9999685</td><td>0.9999805</td><td>0.9999875</td><td>0.9999706</td><td>0.9999965</td><td>SRR11673995</td><td>Skiv_18-Q3-R9-52  </td><td>rosella_bin.1369_Kalu_18-Q3-R12-55</td><td> 1.8659992</td></tr>\n",
       "\t<tr><td>5 </td><td>0.9999821</td><td>0.9999958</td><td>0.9999929</td><td>0.9999797</td><td>0.9998799</td><td>0.9999866</td><td>0.9999701</td><td>0.9999746</td><td>0.9999513</td><td>⋯</td><td>0.9999870</td><td>0.9999746</td><td>0.9999786</td><td>0.9999885</td><td>0.9999769</td><td>0.9999913</td><td>SRR11673999</td><td>Ribe_18-Q3-R11-54 </td><td>rosella_bin.1369_Kalu_18-Q3-R12-55</td><td> 1.0357236</td></tr>\n",
       "\t<tr><td>6 </td><td>0.9999703</td><td>0.9999929</td><td>0.9999852</td><td>0.9999833</td><td>0.9999866</td><td>0.9998300</td><td>0.9999482</td><td>0.9999725</td><td>0.9999225</td><td>⋯</td><td>0.9999821</td><td>0.9999595</td><td>0.9999783</td><td>0.9999885</td><td>0.9999607</td><td>0.9999939</td><td>SRR11674002</td><td>Rand_18-Q3-R56-63 </td><td>rosella_bin.1369_Kalu_18-Q3-R12-55</td><td> 2.2406406</td></tr>\n",
       "\t<tr><td>7 </td><td>0.9999489</td><td>0.9999904</td><td>0.9999748</td><td>0.9999557</td><td>0.9999701</td><td>0.9999482</td><td>0.9994441</td><td>0.9999414</td><td>0.9999303</td><td>⋯</td><td>0.9999687</td><td>0.9999656</td><td>0.9999783</td><td>0.9999743</td><td>0.9999546</td><td>0.9999849</td><td>SRR11674005</td><td>OdNW_18-Q3-R42-56 </td><td>rosella_bin.1369_Kalu_18-Q3-R12-55</td><td> 2.1417820</td></tr>\n",
       "\t<tr><td>⋮</td><td>⋮</td><td>⋮</td><td>⋮</td><td>⋮</td><td>⋮</td><td>⋮</td><td>⋮</td><td>⋮</td><td>⋮</td><td>⋱</td><td>⋮</td><td>⋮</td><td>⋮</td><td>⋮</td><td>⋮</td><td>⋮</td><td>⋮</td><td>⋮</td><td>⋮</td><td>⋮</td></tr>\n",
       "\t<tr><td>17</td><td>0.9999927</td><td>0.9999973</td><td>0.9999942</td><td>1.0000000</td><td>1.0000000</td><td>1.0000000</td><td>0.9999982</td><td>0.9999997</td><td>0.9999598</td><td>⋯</td><td>0.9999973</td><td>0.9999717</td><td>0.9999684</td><td>0.9999951</td><td>0.9999912</td><td>0.9999979</td><td>SRR11674038</td><td>EsbW_18-Q3-R4-48  </td><td>rosella_bin.4086_AalW_18-Q3-R10-53   </td><td> 9.6464280</td></tr>\n",
       "\t<tr><td>18</td><td>1.0000000</td><td>0.9999991</td><td>1.0000000</td><td>1.0000000</td><td>1.0000000</td><td>1.0000000</td><td>1.0000000</td><td>1.0000000</td><td>0.9999942</td><td>⋯</td><td>0.9999939</td><td>0.9999961</td><td>0.9999985</td><td>1.0000000</td><td>1.0000000</td><td>1.0000000</td><td>SRR11674041</td><td>EsbE_18-Q3-R3-47  </td><td>rosella_bin.4086_AalW_18-Q3-R10-53   </td><td> 1.5885923</td></tr>\n",
       "\t<tr><td>19</td><td>0.9998966</td><td>0.9999477</td><td>0.9997649</td><td>1.0000000</td><td>1.0000000</td><td>0.9999866</td><td>0.9999900</td><td>0.9999723</td><td>0.9998528</td><td>⋯</td><td>0.9999961</td><td>0.9994150</td><td>0.9998838</td><td>0.9998981</td><td>0.9998588</td><td>0.9999069</td><td>SRR11674044</td><td>Ejby_18-Q3-R6-50  </td><td>rosella_bin.4086_AalW_18-Q3-R10-53   </td><td> 0.9216647</td></tr>\n",
       "\t<tr><td>20</td><td>0.9998801</td><td>0.9999498</td><td>0.9997214</td><td>1.0000000</td><td>1.0000000</td><td>0.9999805</td><td>0.9999751</td><td>0.9999672</td><td>0.9999133</td><td>⋯</td><td>0.9999985</td><td>0.9998838</td><td>0.9992979</td><td>0.9998838</td><td>0.9998400</td><td>0.9998984</td><td>SRR11674045</td><td>AalE_18-Q3-R2-46  </td><td>rosella_bin.4086_AalW_18-Q3-R10-53   </td><td> 4.1702123</td></tr>\n",
       "\t<tr><td>21</td><td>0.9999623</td><td>0.9999796</td><td>0.9998884</td><td>1.0000000</td><td>1.0000000</td><td>0.9999982</td><td>0.9999967</td><td>0.9999939</td><td>0.9998552</td><td>⋯</td><td>1.0000000</td><td>0.9998981</td><td>0.9998838</td><td>0.9996754</td><td>0.9999337</td><td>0.9999629</td><td>SRR11674048</td><td>Ega_18-Q3-R5-49   </td><td>rosella_bin.4086_AalW_18-Q3-R10-53   </td><td> 1.1055115</td></tr>\n",
       "\t<tr><td>22</td><td>0.9999571</td><td>0.9999732</td><td>0.9998914</td><td>1.0000000</td><td>1.0000000</td><td>0.9999954</td><td>0.9999796</td><td>0.9999820</td><td>0.9998239</td><td>⋯</td><td>1.0000000</td><td>0.9998588</td><td>0.9998400</td><td>0.9999337</td><td>0.9995939</td><td>0.9999580</td><td>SRR11674051</td><td>Damh_18-Q3-R51-60 </td><td>rosella_bin.4086_AalW_18-Q3-R10-53   </td><td> 0.0000000</td></tr>\n",
       "\t<tr><td>23</td><td>0.9999620</td><td>0.9999875</td><td>0.9998978</td><td>1.0000000</td><td>1.0000000</td><td>0.9999945</td><td>0.9999957</td><td>0.9999906</td><td>0.9998750</td><td>⋯</td><td>1.0000000</td><td>0.9999069</td><td>0.9998984</td><td>0.9999629</td><td>0.9999580</td><td>0.9997569</td><td>SRR11674054</td><td>Bjer_18-Q3-R1-45  </td><td>rosella_bin.4086_AalW_18-Q3-R10-53   </td><td> 0.0000000</td></tr>\n",
       "\t<tr><td>1 </td><td>0.9996717</td><td>0.9999897</td><td>0.9999880</td><td>0.9999834</td><td>0.9996757</td><td>0.9999897</td><td>0.9999884</td><td>0.9999967</td><td>0.9999932</td><td>⋯</td><td>0.9999271</td><td>0.9999989</td><td>0.9999786</td><td>0.9999795</td><td>0.9999989</td><td>0.9999939</td><td>SRR11673976</td><td>Aved_18-Q3-R54-62 </td><td>rosella_refine.1594_Ribe_18-Q3-R11-54</td><td> 0.0000000</td></tr>\n",
       "\t<tr><td>2 </td><td>0.9999897</td><td>0.9999148</td><td>0.9999900</td><td>0.9999943</td><td>0.9999174</td><td>0.9999893</td><td>0.9999906</td><td>0.9999989</td><td>0.9999932</td><td>⋯</td><td>0.9999579</td><td>0.9999991</td><td>0.9999978</td><td>0.9999908</td><td>0.9999972</td><td>0.9999889</td><td>SRR11673989</td><td>Viby_18-Q3-R106-67</td><td>rosella_refine.1594_Ribe_18-Q3-R11-54</td><td> 0.0000000</td></tr>\n",
       "\t<tr><td>3 </td><td>0.9999880</td><td>0.9999900</td><td>0.9996691</td><td>0.9999873</td><td>0.9996728</td><td>0.9999930</td><td>0.9999849</td><td>0.9999967</td><td>0.9999926</td><td>⋯</td><td>0.9999233</td><td>0.9999989</td><td>0.9999764</td><td>0.9999797</td><td>0.9999991</td><td>0.9999924</td><td>SRR11673992</td><td>Vibo_18-Q3-R45-57 </td><td>rosella_refine.1594_Ribe_18-Q3-R11-54</td><td> 0.0000000</td></tr>\n",
       "\t<tr><td>4 </td><td>0.9999834</td><td>0.9999943</td><td>0.9999873</td><td>0.9997447</td><td>0.9997484</td><td>0.9999849</td><td>0.9999875</td><td>0.9999967</td><td>0.9999948</td><td>⋯</td><td>0.9999310</td><td>0.9999998</td><td>0.9999784</td><td>0.9999779</td><td>0.9999982</td><td>0.9999873</td><td>SRR11673995</td><td>Skiv_18-Q3-R9-52  </td><td>rosella_refine.1594_Ribe_18-Q3-R11-54</td><td> 0.4027134</td></tr>\n",
       "\t<tr><td>5 </td><td>0.9996757</td><td>0.9999174</td><td>0.9996728</td><td>0.9997484</td><td>0.9996719</td><td>0.9997097</td><td>0.9998692</td><td>0.9999913</td><td>0.9999028</td><td>⋯</td><td>0.9998333</td><td>0.9999865</td><td>0.9998325</td><td>0.9997947</td><td>0.9999675</td><td>0.9998832</td><td>SRR11673999</td><td>Ribe_18-Q3-R11-54 </td><td>rosella_refine.1594_Ribe_18-Q3-R11-54</td><td> 0.4422162</td></tr>\n",
       "\t<tr><td>6 </td><td>0.9999897</td><td>0.9999893</td><td>0.9999930</td><td>0.9999849</td><td>0.9997097</td><td>0.9997060</td><td>0.9999878</td><td>0.9999967</td><td>0.9999924</td><td>⋯</td><td>0.9999292</td><td>0.9999989</td><td>0.9999775</td><td>0.9999801</td><td>0.9999991</td><td>0.9999934</td><td>SRR11674002</td><td>Rand_18-Q3-R56-63 </td><td>rosella_refine.1594_Ribe_18-Q3-R11-54</td><td> 0.2760945</td></tr>\n",
       "\t<tr><td>7 </td><td>0.9999884</td><td>0.9999906</td><td>0.9999849</td><td>0.9999875</td><td>0.9998692</td><td>0.9999878</td><td>0.9998663</td><td>0.9999976</td><td>0.9999930</td><td>⋯</td><td>0.9999461</td><td>0.9999996</td><td>0.9999897</td><td>0.9999867</td><td>0.9999961</td><td>0.9999900</td><td>SRR11674005</td><td>OdNW_18-Q3-R42-56 </td><td>rosella_refine.1594_Ribe_18-Q3-R11-54</td><td> 0.5543626</td></tr>\n",
       "\t<tr><td>8 </td><td>0.9999967</td><td>0.9999989</td><td>0.9999967</td><td>0.9999967</td><td>0.9999913</td><td>0.9999967</td><td>0.9999976</td><td>0.9999908</td><td>0.9999978</td><td>⋯</td><td>0.9999945</td><td>0.9999980</td><td>0.9999974</td><td>0.9999978</td><td>0.9999989</td><td>0.9999976</td><td>SRR11674008</td><td>OdNE_18-Q3-R46-58 </td><td>rosella_refine.1594_Ribe_18-Q3-R11-54</td><td> 0.6370767</td></tr>\n",
       "\t<tr><td>9 </td><td>0.9999932</td><td>0.9999932</td><td>0.9999926</td><td>0.9999948</td><td>0.9999028</td><td>0.9999924</td><td>0.9999930</td><td>0.9999978</td><td>0.9999006</td><td>⋯</td><td>0.9999609</td><td>0.9999993</td><td>0.9999910</td><td>0.9999917</td><td>0.9999976</td><td>0.9999934</td><td>SRR11674009</td><td>AalW_18-Q3-R10-53 </td><td>rosella_refine.1594_Ribe_18-Q3-R11-54</td><td> 0.0000000</td></tr>\n",
       "\t<tr><td>10</td><td>0.9999998</td><td>0.9999993</td><td>0.9999998</td><td>0.9999998</td><td>0.9999963</td><td>0.9999998</td><td>0.9999998</td><td>0.9999993</td><td>0.9999998</td><td>⋯</td><td>0.9999978</td><td>1.0000000</td><td>0.9999998</td><td>0.9999998</td><td>1.0000000</td><td>0.9999998</td><td>SRR11674012</td><td>Mari_18-Q3-R65-66 </td><td>rosella_refine.1594_Ribe_18-Q3-R11-54</td><td>41.8524400</td></tr>\n",
       "\t<tr><td>11</td><td>0.9999978</td><td>0.9999974</td><td>0.9999980</td><td>0.9999989</td><td>0.9999249</td><td>0.9999972</td><td>0.9999950</td><td>0.9999978</td><td>0.9999987</td><td>⋯</td><td>0.9999720</td><td>0.9999998</td><td>0.9999934</td><td>0.9999987</td><td>0.9999991</td><td>0.9999974</td><td>SRR11674015</td><td>Lyne_18-Q3-R50-59 </td><td>rosella_refine.1594_Ribe_18-Q3-R11-54</td><td> 7.1028970</td></tr>\n",
       "\t<tr><td>12</td><td>0.9999190</td><td>0.9999637</td><td>0.9999139</td><td>0.9999314</td><td>0.9997956</td><td>0.9999220</td><td>0.9999484</td><td>0.9999965</td><td>0.9999690</td><td>⋯</td><td>0.9999316</td><td>0.9999924</td><td>0.9999408</td><td>0.9999354</td><td>0.9999928</td><td>0.9999670</td><td>SRR11674018</td><td>Kalu_18-Q3-R12-55 </td><td>rosella_refine.1594_Ribe_18-Q3-R11-54</td><td> 0.0000000</td></tr>\n",
       "\t<tr><td>13</td><td>0.9999959</td><td>0.9999902</td><td>0.9999945</td><td>0.9999886</td><td>0.9998242</td><td>0.9999961</td><td>0.9999921</td><td>0.9999974</td><td>0.9999950</td><td>⋯</td><td>0.9999367</td><td>0.9999989</td><td>0.9999797</td><td>0.9999828</td><td>0.9999980</td><td>0.9999928</td><td>SRR11674022</td><td>Hjor_18-Q3-R7-51  </td><td>rosella_refine.1594_Ribe_18-Q3-R11-54</td><td> 0.0000000</td></tr>\n",
       "\t<tr><td>14</td><td>0.9999235</td><td>0.9999502</td><td>0.9999235</td><td>0.9999244</td><td>0.9999515</td><td>0.9999253</td><td>0.9999397</td><td>0.9999959</td><td>0.9999533</td><td>⋯</td><td>0.9999766</td><td>0.9999891</td><td>0.9999277</td><td>0.9999246</td><td>0.9999871</td><td>0.9999567</td><td>SRR11674025</td><td>Hirt_18-Q3-R61-65 </td><td>rosella_refine.1594_Ribe_18-Q3-R11-54</td><td> 0.6788088</td></tr>\n",
       "\t<tr><td>15</td><td>0.9997827</td><td>0.9999358</td><td>0.9997838</td><td>0.9998231</td><td>0.9959021</td><td>0.9998113</td><td>0.9998978</td><td>0.9999937</td><td>0.9999277</td><td>⋯</td><td>0.9998976</td><td>0.9999873</td><td>0.9998823</td><td>0.9998585</td><td>0.9999790</td><td>0.9999187</td><td>SRR11674031</td><td>Hade_18-Q3-R52-61 </td><td>rosella_refine.1594_Ribe_18-Q3-R11-54</td><td> 0.0000000</td></tr>\n",
       "\t<tr><td>16</td><td>0.9996927</td><td>0.9999185</td><td>0.9997025</td><td>0.9997595</td><td>0.9925721</td><td>0.9997357</td><td>0.9998775</td><td>0.9999910</td><td>0.9999030</td><td>⋯</td><td>0.9998292</td><td>0.9999847</td><td>0.9998381</td><td>0.9998028</td><td>0.9999681</td><td>0.9998869</td><td>SRR11674035</td><td>Fred_18-Q3-R57-64 </td><td>rosella_refine.1594_Ribe_18-Q3-R11-54</td><td> 0.0000000</td></tr>\n",
       "\t<tr><td>17</td><td>0.9999594</td><td>0.9999712</td><td>0.9999550</td><td>0.9999511</td><td>0.9997440</td><td>0.9999570</td><td>0.9999690</td><td>0.9999967</td><td>0.9999797</td><td>⋯</td><td>0.9999659</td><td>0.9999924</td><td>0.9999537</td><td>0.9999552</td><td>0.9999985</td><td>0.9999873</td><td>SRR11674038</td><td>EsbW_18-Q3-R4-48  </td><td>rosella_refine.1594_Ribe_18-Q3-R11-54</td><td> 0.3188973</td></tr>\n",
       "\t<tr><td>18</td><td>0.9999271</td><td>0.9999579</td><td>0.9999233</td><td>0.9999310</td><td>0.9998333</td><td>0.9999292</td><td>0.9999461</td><td>0.9999945</td><td>0.9999609</td><td>⋯</td><td>0.9998292</td><td>0.9999880</td><td>0.9999347</td><td>0.9999343</td><td>0.9999867</td><td>0.9999609</td><td>SRR11674041</td><td>EsbE_18-Q3-R3-47  </td><td>rosella_refine.1594_Ribe_18-Q3-R11-54</td><td> 0.2481659</td></tr>\n",
       "\t<tr><td>19</td><td>0.9999989</td><td>0.9999991</td><td>0.9999989</td><td>0.9999998</td><td>0.9999865</td><td>0.9999989</td><td>0.9999996</td><td>0.9999980</td><td>0.9999993</td><td>⋯</td><td>0.9999880</td><td>0.9999799</td><td>0.9999998</td><td>0.9999989</td><td>0.9999998</td><td>0.9999989</td><td>SRR11674044</td><td>Ejby_18-Q3-R6-50  </td><td>rosella_refine.1594_Ribe_18-Q3-R11-54</td><td> 0.5049206</td></tr>\n",
       "\t<tr><td>20</td><td>0.9999786</td><td>0.9999978</td><td>0.9999764</td><td>0.9999784</td><td>0.9998325</td><td>0.9999775</td><td>0.9999897</td><td>0.9999974</td><td>0.9999910</td><td>⋯</td><td>0.9999347</td><td>0.9999998</td><td>0.9998294</td><td>0.9999838</td><td>0.9999976</td><td>0.9999873</td><td>SRR11674045</td><td>AalE_18-Q3-R2-46  </td><td>rosella_refine.1594_Ribe_18-Q3-R11-54</td><td> 0.8719370</td></tr>\n",
       "\t<tr><td>21</td><td>0.9999795</td><td>0.9999908</td><td>0.9999797</td><td>0.9999779</td><td>0.9997947</td><td>0.9999801</td><td>0.9999867</td><td>0.9999978</td><td>0.9999917</td><td>⋯</td><td>0.9999343</td><td>0.9999989</td><td>0.9999838</td><td>0.9997914</td><td>0.9999972</td><td>0.9999930</td><td>SRR11674048</td><td>Ega_18-Q3-R5-49   </td><td>rosella_refine.1594_Ribe_18-Q3-R11-54</td><td> 0.0000000</td></tr>\n",
       "\t<tr><td>22</td><td>0.9999989</td><td>0.9999972</td><td>0.9999991</td><td>0.9999982</td><td>0.9999675</td><td>0.9999991</td><td>0.9999961</td><td>0.9999989</td><td>0.9999976</td><td>⋯</td><td>0.9999867</td><td>0.9999998</td><td>0.9999976</td><td>0.9999972</td><td>0.9999666</td><td>0.9999998</td><td>SRR11674051</td><td>Damh_18-Q3-R51-60 </td><td>rosella_refine.1594_Ribe_18-Q3-R11-54</td><td>51.5415150</td></tr>\n",
       "\t<tr><td>23</td><td>0.9999939</td><td>0.9999889</td><td>0.9999924</td><td>0.9999873</td><td>0.9998832</td><td>0.9999934</td><td>0.9999900</td><td>0.9999976</td><td>0.9999934</td><td>⋯</td><td>0.9999609</td><td>0.9999989</td><td>0.9999873</td><td>0.9999930</td><td>0.9999998</td><td>0.9998794</td><td>SRR11674054</td><td>Bjer_18-Q3-R1-45  </td><td>rosella_refine.1594_Ribe_18-Q3-R11-54</td><td> 0.0000000</td></tr>\n",
       "</tbody>\n",
       "</table>\n"
      ],
      "text/latex": [
       "A data.table: 1265 × 28\n",
       "\\begin{tabular}{lllllllllllllllllllll}\n",
       " SampleID & Aved\\_18-Q3-R54-62 & Viby\\_18-Q3-R106-67 & Vibo\\_18-Q3-R45-57 & Skiv\\_18-Q3-R9-52 & Ribe\\_18-Q3-R11-54 & Rand\\_18-Q3-R56-63 & OdNW\\_18-Q3-R42-56 & OdNE\\_18-Q3-R46-58 & AalW\\_18-Q3-R10-53 & ⋯ & EsbE\\_18-Q3-R3-47 & Ejby\\_18-Q3-R6-50 & AalE\\_18-Q3-R2-46 & Ega\\_18-Q3-R5-49 & Damh\\_18-Q3-R51-60 & Bjer\\_18-Q3-R1-45 & sra\\_id & sample\\_name & genome & value\\\\\n",
       " <fct> & <dbl> & <dbl> & <dbl> & <dbl> & <dbl> & <dbl> & <dbl> & <dbl> & <dbl> & ⋯ & <dbl> & <dbl> & <dbl> & <dbl> & <dbl> & <dbl> & <chr> & <chr> & <chr> & <dbl>\\\\\n",
       "\\hline\n",
       "\t 1  & 1.0000000 & 1.0000000 & 1.0000000 & 1.0000000 & 1.0000000 & 1.0000000 & 1.0000000 & 1.0000000 & 1.0000000 & ⋯ & 1.0000000 & 1.0000000 & 1.0000000 & 1.0000000 & 1.0000000 & 1.0000000 & SRR11673976 & Aved\\_18-Q3-R54-62  & rosella\\_bin.1368\\_Kalu\\_18-Q3-R12-55 &  0.0000000\\\\\n",
       "\t 2  & 1.0000000 & 0.9999965 & 0.9999975 & 1.0000000 & 1.0000000 & 1.0000000 & 1.0000000 & 1.0000000 & 1.0000000 & ⋯ & 0.9999977 & 0.9999991 & 1.0000000 & 1.0000000 & 0.9999991 & 0.9999991 & SRR11673989 & Viby\\_18-Q3-R106-67 & rosella\\_bin.1368\\_Kalu\\_18-Q3-R12-55 &  0.0000000\\\\\n",
       "\t 3  & 1.0000000 & 0.9999975 & 0.9999927 & 1.0000000 & 1.0000000 & 1.0000000 & 1.0000000 & 0.9999986 & 1.0000000 & ⋯ & 0.9999998 & 0.9999988 & 0.9999998 & 0.9999998 & 0.9999984 & 0.9999986 & SRR11673992 & Vibo\\_18-Q3-R45-57  & rosella\\_bin.1368\\_Kalu\\_18-Q3-R12-55 &  0.0000000\\\\\n",
       "\t 4  & 1.0000000 & 1.0000000 & 1.0000000 & 0.9999972 & 1.0000000 & 1.0000000 & 1.0000000 & 1.0000000 & 1.0000000 & ⋯ & 1.0000000 & 1.0000000 & 1.0000000 & 1.0000000 & 1.0000000 & 1.0000000 & SRR11673995 & Skiv\\_18-Q3-R9-52   & rosella\\_bin.1368\\_Kalu\\_18-Q3-R12-55 &  0.0000000\\\\\n",
       "\t 5  & 1.0000000 & 1.0000000 & 1.0000000 & 1.0000000 & 1.0000000 & 1.0000000 & 1.0000000 & 1.0000000 & 1.0000000 & ⋯ & 1.0000000 & 1.0000000 & 1.0000000 & 1.0000000 & 1.0000000 & 1.0000000 & SRR11673999 & Ribe\\_18-Q3-R11-54  & rosella\\_bin.1368\\_Kalu\\_18-Q3-R12-55 &  0.0000000\\\\\n",
       "\t 6  & 1.0000000 & 1.0000000 & 1.0000000 & 1.0000000 & 1.0000000 & 0.9999995 & 1.0000000 & 1.0000000 & 1.0000000 & ⋯ & 1.0000000 & 1.0000000 & 1.0000000 & 1.0000000 & 1.0000000 & 1.0000000 & SRR11674002 & Rand\\_18-Q3-R56-63  & rosella\\_bin.1368\\_Kalu\\_18-Q3-R12-55 &  0.6185719\\\\\n",
       "\t 7  & 1.0000000 & 1.0000000 & 1.0000000 & 1.0000000 & 1.0000000 & 1.0000000 & 0.9999961 & 1.0000000 & 1.0000000 & ⋯ & 1.0000000 & 1.0000000 & 1.0000000 & 1.0000000 & 1.0000000 & 1.0000000 & SRR11674005 & OdNW\\_18-Q3-R42-56  & rosella\\_bin.1368\\_Kalu\\_18-Q3-R12-55 &  0.0000000\\\\\n",
       "\t 8  & 1.0000000 & 1.0000000 & 0.9999986 & 1.0000000 & 1.0000000 & 1.0000000 & 1.0000000 & 0.9999887 & 1.0000000 & ⋯ & 0.9999988 & 1.0000000 & 1.0000000 & 1.0000000 & 1.0000000 & 1.0000000 & SRR11674008 & OdNE\\_18-Q3-R46-58  & rosella\\_bin.1368\\_Kalu\\_18-Q3-R12-55 &  0.0000000\\\\\n",
       "\t 9  & 1.0000000 & 1.0000000 & 1.0000000 & 1.0000000 & 1.0000000 & 1.0000000 & 1.0000000 & 1.0000000 & 0.9999995 & ⋯ & 1.0000000 & 0.9999988 & 1.0000000 & 1.0000000 & 0.9999991 & 0.9999991 & SRR11674009 & AalW\\_18-Q3-R10-53  & rosella\\_bin.1368\\_Kalu\\_18-Q3-R12-55 &  0.0000000\\\\\n",
       "\t 10 & 1.0000000 & 1.0000000 & 0.9999998 & 1.0000000 & 1.0000000 & 1.0000000 & 1.0000000 & 1.0000000 & 1.0000000 & ⋯ & 1.0000000 & 1.0000000 & 1.0000000 & 1.0000000 & 1.0000000 & 1.0000000 & SRR11674012 & Mari\\_18-Q3-R65-66  & rosella\\_bin.1368\\_Kalu\\_18-Q3-R12-55 &  0.2825570\\\\\n",
       "\t 11 & 1.0000000 & 1.0000000 & 1.0000000 & 1.0000000 & 1.0000000 & 0.9999998 & 0.9999995 & 0.9999995 & 1.0000000 & ⋯ & 1.0000000 & 0.9999998 & 0.9999995 & 1.0000000 & 1.0000000 & 1.0000000 & SRR11674015 & Lyne\\_18-Q3-R50-59  & rosella\\_bin.1368\\_Kalu\\_18-Q3-R12-55 &  0.0000000\\\\\n",
       "\t 12 & 1.0000000 & 0.9999965 & 0.9999927 & 0.9999972 & 1.0000000 & 0.9999995 & 0.9999963 & 0.9999887 & 0.9999995 & ⋯ & 0.9999949 & 0.9999233 & 0.9999977 & 0.9999968 & 0.9999959 & 0.9999963 & SRR11674018 & Kalu\\_18-Q3-R12-55  & rosella\\_bin.1368\\_Kalu\\_18-Q3-R12-55 &  0.0000000\\\\\n",
       "\t 13 & 1.0000000 & 1.0000000 & 1.0000000 & 1.0000000 & 1.0000000 & 1.0000000 & 1.0000000 & 1.0000000 & 1.0000000 & ⋯ & 1.0000000 & 1.0000000 & 1.0000000 & 0.9999998 & 1.0000000 & 1.0000000 & SRR11674022 & Hjor\\_18-Q3-R7-51   & rosella\\_bin.1368\\_Kalu\\_18-Q3-R12-55 &  0.0000000\\\\\n",
       "\t 14 & 1.0000000 & 1.0000000 & 1.0000000 & 1.0000000 & 1.0000000 & 1.0000000 & 1.0000000 & 1.0000000 & 1.0000000 & ⋯ & 1.0000000 & 1.0000000 & 1.0000000 & 1.0000000 & 1.0000000 & 1.0000000 & SRR11674025 & Hirt\\_18-Q3-R61-65  & rosella\\_bin.1368\\_Kalu\\_18-Q3-R12-55 & 17.4629200\\\\\n",
       "\t 15 & 1.0000000 & 1.0000000 & 0.9999998 & 1.0000000 & 1.0000000 & 1.0000000 & 1.0000000 & 1.0000000 & 1.0000000 & ⋯ & 1.0000000 & 0.9999988 & 1.0000000 & 1.0000000 & 0.9999991 & 0.9999991 & SRR11674031 & Hade\\_18-Q3-R52-61  & rosella\\_bin.1368\\_Kalu\\_18-Q3-R12-55 &  0.0000000\\\\\n",
       "\t 16 & 1.0000000 & 1.0000000 & 1.0000000 & 1.0000000 & 1.0000000 & 1.0000000 & 1.0000000 & 1.0000000 & 1.0000000 & ⋯ & 1.0000000 & 0.9999979 & 1.0000000 & 1.0000000 & 1.0000000 & 1.0000000 & SRR11674035 & Fred\\_18-Q3-R57-64  & rosella\\_bin.1368\\_Kalu\\_18-Q3-R12-55 &  0.0000000\\\\\n",
       "\t 17 & 1.0000000 & 1.0000000 & 0.9999998 & 1.0000000 & 1.0000000 & 1.0000000 & 1.0000000 & 1.0000000 & 1.0000000 & ⋯ & 1.0000000 & 0.9999979 & 1.0000000 & 0.9999998 & 0.9999979 & 0.9999979 & SRR11674038 & EsbW\\_18-Q3-R4-48   & rosella\\_bin.1368\\_Kalu\\_18-Q3-R12-55 &  0.0000000\\\\\n",
       "\t 18 & 1.0000000 & 0.9999977 & 0.9999998 & 1.0000000 & 1.0000000 & 1.0000000 & 1.0000000 & 0.9999988 & 1.0000000 & ⋯ & 0.9999949 & 0.9999991 & 1.0000000 & 1.0000000 & 0.9999988 & 0.9999991 & SRR11674041 & EsbE\\_18-Q3-R3-47   & rosella\\_bin.1368\\_Kalu\\_18-Q3-R12-55 &  0.0000000\\\\\n",
       "\t 19 & 1.0000000 & 0.9999991 & 0.9999988 & 1.0000000 & 1.0000000 & 1.0000000 & 1.0000000 & 1.0000000 & 0.9999988 & ⋯ & 0.9999991 & 0.9998996 & 0.9999988 & 1.0000000 & 0.9999998 & 0.9999998 & SRR11674044 & Ejby\\_18-Q3-R6-50   & rosella\\_bin.1368\\_Kalu\\_18-Q3-R12-55 &  0.0000000\\\\\n",
       "\t 20 & 1.0000000 & 1.0000000 & 0.9999998 & 1.0000000 & 1.0000000 & 1.0000000 & 1.0000000 & 1.0000000 & 1.0000000 & ⋯ & 1.0000000 & 0.9999988 & 0.9999977 & 1.0000000 & 0.9999991 & 0.9999991 & SRR11674045 & AalE\\_18-Q3-R2-46   & rosella\\_bin.1368\\_Kalu\\_18-Q3-R12-55 &  0.0000000\\\\\n",
       "\t 21 & 1.0000000 & 1.0000000 & 0.9999998 & 1.0000000 & 1.0000000 & 1.0000000 & 1.0000000 & 1.0000000 & 1.0000000 & ⋯ & 1.0000000 & 1.0000000 & 1.0000000 & 0.9999968 & 1.0000000 & 1.0000000 & SRR11674048 & Ega\\_18-Q3-R5-49    & rosella\\_bin.1368\\_Kalu\\_18-Q3-R12-55 &  0.0000000\\\\\n",
       "\t 22 & 1.0000000 & 0.9999991 & 0.9999984 & 1.0000000 & 1.0000000 & 1.0000000 & 1.0000000 & 1.0000000 & 0.9999991 & ⋯ & 0.9999988 & 0.9999998 & 0.9999991 & 1.0000000 & 0.9999959 & 1.0000000 & SRR11674051 & Damh\\_18-Q3-R51-60  & rosella\\_bin.1368\\_Kalu\\_18-Q3-R12-55 &  0.0000000\\\\\n",
       "\t 23 & 1.0000000 & 0.9999991 & 0.9999986 & 1.0000000 & 1.0000000 & 1.0000000 & 1.0000000 & 1.0000000 & 0.9999991 & ⋯ & 0.9999991 & 0.9999998 & 0.9999991 & 1.0000000 & 1.0000000 & 0.9999963 & SRR11674054 & Bjer\\_18-Q3-R1-45   & rosella\\_bin.1368\\_Kalu\\_18-Q3-R12-55 &  0.0000000\\\\\n",
       "\t 1  & 0.9995550 & 0.9999922 & 0.9999772 & 0.9999621 & 0.9999821 & 0.9999703 & 0.9999489 & 0.9999571 & 0.9999049 & ⋯ & 0.9999701 & 0.9999548 & 0.9999736 & 0.9999776 & 0.9999769 & 0.9999885 & SRR11673976 & Aved\\_18-Q3-R54-62  & rosella\\_bin.1369\\_Kalu\\_18-Q3-R12-55 &  1.1418285\\\\\n",
       "\t 2  & 0.9999922 & 0.9999063 & 0.9999958 & 0.9999953 & 0.9999958 & 0.9999929 & 0.9999904 & 0.9999934 & 0.9999826 & ⋯ & 0.9999901 & 0.9999941 & 0.9999955 & 0.9999896 & 0.9999892 & 0.9999967 & SRR11673989 & Viby\\_18-Q3-R106-67 & rosella\\_bin.1369\\_Kalu\\_18-Q3-R12-55 &  0.9259212\\\\\n",
       "\t 3  & 0.9999772 & 0.9999958 & 0.9998969 & 0.9999936 & 0.9999929 & 0.9999852 & 0.9999748 & 0.9999899 & 0.9999548 & ⋯ & 0.9999899 & 0.9999805 & 0.9999904 & 0.9999951 & 0.9999739 & 0.9999941 & SRR11673992 & Vibo\\_18-Q3-R45-57  & rosella\\_bin.1369\\_Kalu\\_18-Q3-R12-55 &  2.0078552\\\\\n",
       "\t 4  & 0.9999621 & 0.9999953 & 0.9999936 & 0.9997589 & 0.9999797 & 0.9999833 & 0.9999557 & 0.9999852 & 0.9999338 & ⋯ & 0.9999776 & 0.9999685 & 0.9999805 & 0.9999875 & 0.9999706 & 0.9999965 & SRR11673995 & Skiv\\_18-Q3-R9-52   & rosella\\_bin.1369\\_Kalu\\_18-Q3-R12-55 &  1.8659992\\\\\n",
       "\t 5  & 0.9999821 & 0.9999958 & 0.9999929 & 0.9999797 & 0.9998799 & 0.9999866 & 0.9999701 & 0.9999746 & 0.9999513 & ⋯ & 0.9999870 & 0.9999746 & 0.9999786 & 0.9999885 & 0.9999769 & 0.9999913 & SRR11673999 & Ribe\\_18-Q3-R11-54  & rosella\\_bin.1369\\_Kalu\\_18-Q3-R12-55 &  1.0357236\\\\\n",
       "\t 6  & 0.9999703 & 0.9999929 & 0.9999852 & 0.9999833 & 0.9999866 & 0.9998300 & 0.9999482 & 0.9999725 & 0.9999225 & ⋯ & 0.9999821 & 0.9999595 & 0.9999783 & 0.9999885 & 0.9999607 & 0.9999939 & SRR11674002 & Rand\\_18-Q3-R56-63  & rosella\\_bin.1369\\_Kalu\\_18-Q3-R12-55 &  2.2406406\\\\\n",
       "\t 7  & 0.9999489 & 0.9999904 & 0.9999748 & 0.9999557 & 0.9999701 & 0.9999482 & 0.9994441 & 0.9999414 & 0.9999303 & ⋯ & 0.9999687 & 0.9999656 & 0.9999783 & 0.9999743 & 0.9999546 & 0.9999849 & SRR11674005 & OdNW\\_18-Q3-R42-56  & rosella\\_bin.1369\\_Kalu\\_18-Q3-R12-55 &  2.1417820\\\\\n",
       "\t ⋮ & ⋮ & ⋮ & ⋮ & ⋮ & ⋮ & ⋮ & ⋮ & ⋮ & ⋮ & ⋱ & ⋮ & ⋮ & ⋮ & ⋮ & ⋮ & ⋮ & ⋮ & ⋮ & ⋮ & ⋮\\\\\n",
       "\t 17 & 0.9999927 & 0.9999973 & 0.9999942 & 1.0000000 & 1.0000000 & 1.0000000 & 0.9999982 & 0.9999997 & 0.9999598 & ⋯ & 0.9999973 & 0.9999717 & 0.9999684 & 0.9999951 & 0.9999912 & 0.9999979 & SRR11674038 & EsbW\\_18-Q3-R4-48   & rosella\\_bin.4086\\_AalW\\_18-Q3-R10-53    &  9.6464280\\\\\n",
       "\t 18 & 1.0000000 & 0.9999991 & 1.0000000 & 1.0000000 & 1.0000000 & 1.0000000 & 1.0000000 & 1.0000000 & 0.9999942 & ⋯ & 0.9999939 & 0.9999961 & 0.9999985 & 1.0000000 & 1.0000000 & 1.0000000 & SRR11674041 & EsbE\\_18-Q3-R3-47   & rosella\\_bin.4086\\_AalW\\_18-Q3-R10-53    &  1.5885923\\\\\n",
       "\t 19 & 0.9998966 & 0.9999477 & 0.9997649 & 1.0000000 & 1.0000000 & 0.9999866 & 0.9999900 & 0.9999723 & 0.9998528 & ⋯ & 0.9999961 & 0.9994150 & 0.9998838 & 0.9998981 & 0.9998588 & 0.9999069 & SRR11674044 & Ejby\\_18-Q3-R6-50   & rosella\\_bin.4086\\_AalW\\_18-Q3-R10-53    &  0.9216647\\\\\n",
       "\t 20 & 0.9998801 & 0.9999498 & 0.9997214 & 1.0000000 & 1.0000000 & 0.9999805 & 0.9999751 & 0.9999672 & 0.9999133 & ⋯ & 0.9999985 & 0.9998838 & 0.9992979 & 0.9998838 & 0.9998400 & 0.9998984 & SRR11674045 & AalE\\_18-Q3-R2-46   & rosella\\_bin.4086\\_AalW\\_18-Q3-R10-53    &  4.1702123\\\\\n",
       "\t 21 & 0.9999623 & 0.9999796 & 0.9998884 & 1.0000000 & 1.0000000 & 0.9999982 & 0.9999967 & 0.9999939 & 0.9998552 & ⋯ & 1.0000000 & 0.9998981 & 0.9998838 & 0.9996754 & 0.9999337 & 0.9999629 & SRR11674048 & Ega\\_18-Q3-R5-49    & rosella\\_bin.4086\\_AalW\\_18-Q3-R10-53    &  1.1055115\\\\\n",
       "\t 22 & 0.9999571 & 0.9999732 & 0.9998914 & 1.0000000 & 1.0000000 & 0.9999954 & 0.9999796 & 0.9999820 & 0.9998239 & ⋯ & 1.0000000 & 0.9998588 & 0.9998400 & 0.9999337 & 0.9995939 & 0.9999580 & SRR11674051 & Damh\\_18-Q3-R51-60  & rosella\\_bin.4086\\_AalW\\_18-Q3-R10-53    &  0.0000000\\\\\n",
       "\t 23 & 0.9999620 & 0.9999875 & 0.9998978 & 1.0000000 & 1.0000000 & 0.9999945 & 0.9999957 & 0.9999906 & 0.9998750 & ⋯ & 1.0000000 & 0.9999069 & 0.9998984 & 0.9999629 & 0.9999580 & 0.9997569 & SRR11674054 & Bjer\\_18-Q3-R1-45   & rosella\\_bin.4086\\_AalW\\_18-Q3-R10-53    &  0.0000000\\\\\n",
       "\t 1  & 0.9996717 & 0.9999897 & 0.9999880 & 0.9999834 & 0.9996757 & 0.9999897 & 0.9999884 & 0.9999967 & 0.9999932 & ⋯ & 0.9999271 & 0.9999989 & 0.9999786 & 0.9999795 & 0.9999989 & 0.9999939 & SRR11673976 & Aved\\_18-Q3-R54-62  & rosella\\_refine.1594\\_Ribe\\_18-Q3-R11-54 &  0.0000000\\\\\n",
       "\t 2  & 0.9999897 & 0.9999148 & 0.9999900 & 0.9999943 & 0.9999174 & 0.9999893 & 0.9999906 & 0.9999989 & 0.9999932 & ⋯ & 0.9999579 & 0.9999991 & 0.9999978 & 0.9999908 & 0.9999972 & 0.9999889 & SRR11673989 & Viby\\_18-Q3-R106-67 & rosella\\_refine.1594\\_Ribe\\_18-Q3-R11-54 &  0.0000000\\\\\n",
       "\t 3  & 0.9999880 & 0.9999900 & 0.9996691 & 0.9999873 & 0.9996728 & 0.9999930 & 0.9999849 & 0.9999967 & 0.9999926 & ⋯ & 0.9999233 & 0.9999989 & 0.9999764 & 0.9999797 & 0.9999991 & 0.9999924 & SRR11673992 & Vibo\\_18-Q3-R45-57  & rosella\\_refine.1594\\_Ribe\\_18-Q3-R11-54 &  0.0000000\\\\\n",
       "\t 4  & 0.9999834 & 0.9999943 & 0.9999873 & 0.9997447 & 0.9997484 & 0.9999849 & 0.9999875 & 0.9999967 & 0.9999948 & ⋯ & 0.9999310 & 0.9999998 & 0.9999784 & 0.9999779 & 0.9999982 & 0.9999873 & SRR11673995 & Skiv\\_18-Q3-R9-52   & rosella\\_refine.1594\\_Ribe\\_18-Q3-R11-54 &  0.4027134\\\\\n",
       "\t 5  & 0.9996757 & 0.9999174 & 0.9996728 & 0.9997484 & 0.9996719 & 0.9997097 & 0.9998692 & 0.9999913 & 0.9999028 & ⋯ & 0.9998333 & 0.9999865 & 0.9998325 & 0.9997947 & 0.9999675 & 0.9998832 & SRR11673999 & Ribe\\_18-Q3-R11-54  & rosella\\_refine.1594\\_Ribe\\_18-Q3-R11-54 &  0.4422162\\\\\n",
       "\t 6  & 0.9999897 & 0.9999893 & 0.9999930 & 0.9999849 & 0.9997097 & 0.9997060 & 0.9999878 & 0.9999967 & 0.9999924 & ⋯ & 0.9999292 & 0.9999989 & 0.9999775 & 0.9999801 & 0.9999991 & 0.9999934 & SRR11674002 & Rand\\_18-Q3-R56-63  & rosella\\_refine.1594\\_Ribe\\_18-Q3-R11-54 &  0.2760945\\\\\n",
       "\t 7  & 0.9999884 & 0.9999906 & 0.9999849 & 0.9999875 & 0.9998692 & 0.9999878 & 0.9998663 & 0.9999976 & 0.9999930 & ⋯ & 0.9999461 & 0.9999996 & 0.9999897 & 0.9999867 & 0.9999961 & 0.9999900 & SRR11674005 & OdNW\\_18-Q3-R42-56  & rosella\\_refine.1594\\_Ribe\\_18-Q3-R11-54 &  0.5543626\\\\\n",
       "\t 8  & 0.9999967 & 0.9999989 & 0.9999967 & 0.9999967 & 0.9999913 & 0.9999967 & 0.9999976 & 0.9999908 & 0.9999978 & ⋯ & 0.9999945 & 0.9999980 & 0.9999974 & 0.9999978 & 0.9999989 & 0.9999976 & SRR11674008 & OdNE\\_18-Q3-R46-58  & rosella\\_refine.1594\\_Ribe\\_18-Q3-R11-54 &  0.6370767\\\\\n",
       "\t 9  & 0.9999932 & 0.9999932 & 0.9999926 & 0.9999948 & 0.9999028 & 0.9999924 & 0.9999930 & 0.9999978 & 0.9999006 & ⋯ & 0.9999609 & 0.9999993 & 0.9999910 & 0.9999917 & 0.9999976 & 0.9999934 & SRR11674009 & AalW\\_18-Q3-R10-53  & rosella\\_refine.1594\\_Ribe\\_18-Q3-R11-54 &  0.0000000\\\\\n",
       "\t 10 & 0.9999998 & 0.9999993 & 0.9999998 & 0.9999998 & 0.9999963 & 0.9999998 & 0.9999998 & 0.9999993 & 0.9999998 & ⋯ & 0.9999978 & 1.0000000 & 0.9999998 & 0.9999998 & 1.0000000 & 0.9999998 & SRR11674012 & Mari\\_18-Q3-R65-66  & rosella\\_refine.1594\\_Ribe\\_18-Q3-R11-54 & 41.8524400\\\\\n",
       "\t 11 & 0.9999978 & 0.9999974 & 0.9999980 & 0.9999989 & 0.9999249 & 0.9999972 & 0.9999950 & 0.9999978 & 0.9999987 & ⋯ & 0.9999720 & 0.9999998 & 0.9999934 & 0.9999987 & 0.9999991 & 0.9999974 & SRR11674015 & Lyne\\_18-Q3-R50-59  & rosella\\_refine.1594\\_Ribe\\_18-Q3-R11-54 &  7.1028970\\\\\n",
       "\t 12 & 0.9999190 & 0.9999637 & 0.9999139 & 0.9999314 & 0.9997956 & 0.9999220 & 0.9999484 & 0.9999965 & 0.9999690 & ⋯ & 0.9999316 & 0.9999924 & 0.9999408 & 0.9999354 & 0.9999928 & 0.9999670 & SRR11674018 & Kalu\\_18-Q3-R12-55  & rosella\\_refine.1594\\_Ribe\\_18-Q3-R11-54 &  0.0000000\\\\\n",
       "\t 13 & 0.9999959 & 0.9999902 & 0.9999945 & 0.9999886 & 0.9998242 & 0.9999961 & 0.9999921 & 0.9999974 & 0.9999950 & ⋯ & 0.9999367 & 0.9999989 & 0.9999797 & 0.9999828 & 0.9999980 & 0.9999928 & SRR11674022 & Hjor\\_18-Q3-R7-51   & rosella\\_refine.1594\\_Ribe\\_18-Q3-R11-54 &  0.0000000\\\\\n",
       "\t 14 & 0.9999235 & 0.9999502 & 0.9999235 & 0.9999244 & 0.9999515 & 0.9999253 & 0.9999397 & 0.9999959 & 0.9999533 & ⋯ & 0.9999766 & 0.9999891 & 0.9999277 & 0.9999246 & 0.9999871 & 0.9999567 & SRR11674025 & Hirt\\_18-Q3-R61-65  & rosella\\_refine.1594\\_Ribe\\_18-Q3-R11-54 &  0.6788088\\\\\n",
       "\t 15 & 0.9997827 & 0.9999358 & 0.9997838 & 0.9998231 & 0.9959021 & 0.9998113 & 0.9998978 & 0.9999937 & 0.9999277 & ⋯ & 0.9998976 & 0.9999873 & 0.9998823 & 0.9998585 & 0.9999790 & 0.9999187 & SRR11674031 & Hade\\_18-Q3-R52-61  & rosella\\_refine.1594\\_Ribe\\_18-Q3-R11-54 &  0.0000000\\\\\n",
       "\t 16 & 0.9996927 & 0.9999185 & 0.9997025 & 0.9997595 & 0.9925721 & 0.9997357 & 0.9998775 & 0.9999910 & 0.9999030 & ⋯ & 0.9998292 & 0.9999847 & 0.9998381 & 0.9998028 & 0.9999681 & 0.9998869 & SRR11674035 & Fred\\_18-Q3-R57-64  & rosella\\_refine.1594\\_Ribe\\_18-Q3-R11-54 &  0.0000000\\\\\n",
       "\t 17 & 0.9999594 & 0.9999712 & 0.9999550 & 0.9999511 & 0.9997440 & 0.9999570 & 0.9999690 & 0.9999967 & 0.9999797 & ⋯ & 0.9999659 & 0.9999924 & 0.9999537 & 0.9999552 & 0.9999985 & 0.9999873 & SRR11674038 & EsbW\\_18-Q3-R4-48   & rosella\\_refine.1594\\_Ribe\\_18-Q3-R11-54 &  0.3188973\\\\\n",
       "\t 18 & 0.9999271 & 0.9999579 & 0.9999233 & 0.9999310 & 0.9998333 & 0.9999292 & 0.9999461 & 0.9999945 & 0.9999609 & ⋯ & 0.9998292 & 0.9999880 & 0.9999347 & 0.9999343 & 0.9999867 & 0.9999609 & SRR11674041 & EsbE\\_18-Q3-R3-47   & rosella\\_refine.1594\\_Ribe\\_18-Q3-R11-54 &  0.2481659\\\\\n",
       "\t 19 & 0.9999989 & 0.9999991 & 0.9999989 & 0.9999998 & 0.9999865 & 0.9999989 & 0.9999996 & 0.9999980 & 0.9999993 & ⋯ & 0.9999880 & 0.9999799 & 0.9999998 & 0.9999989 & 0.9999998 & 0.9999989 & SRR11674044 & Ejby\\_18-Q3-R6-50   & rosella\\_refine.1594\\_Ribe\\_18-Q3-R11-54 &  0.5049206\\\\\n",
       "\t 20 & 0.9999786 & 0.9999978 & 0.9999764 & 0.9999784 & 0.9998325 & 0.9999775 & 0.9999897 & 0.9999974 & 0.9999910 & ⋯ & 0.9999347 & 0.9999998 & 0.9998294 & 0.9999838 & 0.9999976 & 0.9999873 & SRR11674045 & AalE\\_18-Q3-R2-46   & rosella\\_refine.1594\\_Ribe\\_18-Q3-R11-54 &  0.8719370\\\\\n",
       "\t 21 & 0.9999795 & 0.9999908 & 0.9999797 & 0.9999779 & 0.9997947 & 0.9999801 & 0.9999867 & 0.9999978 & 0.9999917 & ⋯ & 0.9999343 & 0.9999989 & 0.9999838 & 0.9997914 & 0.9999972 & 0.9999930 & SRR11674048 & Ega\\_18-Q3-R5-49    & rosella\\_refine.1594\\_Ribe\\_18-Q3-R11-54 &  0.0000000\\\\\n",
       "\t 22 & 0.9999989 & 0.9999972 & 0.9999991 & 0.9999982 & 0.9999675 & 0.9999991 & 0.9999961 & 0.9999989 & 0.9999976 & ⋯ & 0.9999867 & 0.9999998 & 0.9999976 & 0.9999972 & 0.9999666 & 0.9999998 & SRR11674051 & Damh\\_18-Q3-R51-60  & rosella\\_refine.1594\\_Ribe\\_18-Q3-R11-54 & 51.5415150\\\\\n",
       "\t 23 & 0.9999939 & 0.9999889 & 0.9999924 & 0.9999873 & 0.9998832 & 0.9999934 & 0.9999900 & 0.9999976 & 0.9999934 & ⋯ & 0.9999609 & 0.9999989 & 0.9999873 & 0.9999930 & 0.9999998 & 0.9998794 & SRR11674054 & Bjer\\_18-Q3-R1-45   & rosella\\_refine.1594\\_Ribe\\_18-Q3-R11-54 &  0.0000000\\\\\n",
       "\\end{tabular}\n"
      ],
      "text/markdown": [
       "\n",
       "A data.table: 1265 × 28\n",
       "\n",
       "| SampleID &lt;fct&gt; | Aved_18-Q3-R54-62 &lt;dbl&gt; | Viby_18-Q3-R106-67 &lt;dbl&gt; | Vibo_18-Q3-R45-57 &lt;dbl&gt; | Skiv_18-Q3-R9-52 &lt;dbl&gt; | Ribe_18-Q3-R11-54 &lt;dbl&gt; | Rand_18-Q3-R56-63 &lt;dbl&gt; | OdNW_18-Q3-R42-56 &lt;dbl&gt; | OdNE_18-Q3-R46-58 &lt;dbl&gt; | AalW_18-Q3-R10-53 &lt;dbl&gt; | ⋯ ⋯ | EsbE_18-Q3-R3-47 &lt;dbl&gt; | Ejby_18-Q3-R6-50 &lt;dbl&gt; | AalE_18-Q3-R2-46 &lt;dbl&gt; | Ega_18-Q3-R5-49 &lt;dbl&gt; | Damh_18-Q3-R51-60 &lt;dbl&gt; | Bjer_18-Q3-R1-45 &lt;dbl&gt; | sra_id &lt;chr&gt; | sample_name &lt;chr&gt; | genome &lt;chr&gt; | value &lt;dbl&gt; |\n",
       "|---|---|---|---|---|---|---|---|---|---|---|---|---|---|---|---|---|---|---|---|---|\n",
       "| 1  | 1.0000000 | 1.0000000 | 1.0000000 | 1.0000000 | 1.0000000 | 1.0000000 | 1.0000000 | 1.0000000 | 1.0000000 | ⋯ | 1.0000000 | 1.0000000 | 1.0000000 | 1.0000000 | 1.0000000 | 1.0000000 | SRR11673976 | Aved_18-Q3-R54-62  | rosella_bin.1368_Kalu_18-Q3-R12-55 |  0.0000000 |\n",
       "| 2  | 1.0000000 | 0.9999965 | 0.9999975 | 1.0000000 | 1.0000000 | 1.0000000 | 1.0000000 | 1.0000000 | 1.0000000 | ⋯ | 0.9999977 | 0.9999991 | 1.0000000 | 1.0000000 | 0.9999991 | 0.9999991 | SRR11673989 | Viby_18-Q3-R106-67 | rosella_bin.1368_Kalu_18-Q3-R12-55 |  0.0000000 |\n",
       "| 3  | 1.0000000 | 0.9999975 | 0.9999927 | 1.0000000 | 1.0000000 | 1.0000000 | 1.0000000 | 0.9999986 | 1.0000000 | ⋯ | 0.9999998 | 0.9999988 | 0.9999998 | 0.9999998 | 0.9999984 | 0.9999986 | SRR11673992 | Vibo_18-Q3-R45-57  | rosella_bin.1368_Kalu_18-Q3-R12-55 |  0.0000000 |\n",
       "| 4  | 1.0000000 | 1.0000000 | 1.0000000 | 0.9999972 | 1.0000000 | 1.0000000 | 1.0000000 | 1.0000000 | 1.0000000 | ⋯ | 1.0000000 | 1.0000000 | 1.0000000 | 1.0000000 | 1.0000000 | 1.0000000 | SRR11673995 | Skiv_18-Q3-R9-52   | rosella_bin.1368_Kalu_18-Q3-R12-55 |  0.0000000 |\n",
       "| 5  | 1.0000000 | 1.0000000 | 1.0000000 | 1.0000000 | 1.0000000 | 1.0000000 | 1.0000000 | 1.0000000 | 1.0000000 | ⋯ | 1.0000000 | 1.0000000 | 1.0000000 | 1.0000000 | 1.0000000 | 1.0000000 | SRR11673999 | Ribe_18-Q3-R11-54  | rosella_bin.1368_Kalu_18-Q3-R12-55 |  0.0000000 |\n",
       "| 6  | 1.0000000 | 1.0000000 | 1.0000000 | 1.0000000 | 1.0000000 | 0.9999995 | 1.0000000 | 1.0000000 | 1.0000000 | ⋯ | 1.0000000 | 1.0000000 | 1.0000000 | 1.0000000 | 1.0000000 | 1.0000000 | SRR11674002 | Rand_18-Q3-R56-63  | rosella_bin.1368_Kalu_18-Q3-R12-55 |  0.6185719 |\n",
       "| 7  | 1.0000000 | 1.0000000 | 1.0000000 | 1.0000000 | 1.0000000 | 1.0000000 | 0.9999961 | 1.0000000 | 1.0000000 | ⋯ | 1.0000000 | 1.0000000 | 1.0000000 | 1.0000000 | 1.0000000 | 1.0000000 | SRR11674005 | OdNW_18-Q3-R42-56  | rosella_bin.1368_Kalu_18-Q3-R12-55 |  0.0000000 |\n",
       "| 8  | 1.0000000 | 1.0000000 | 0.9999986 | 1.0000000 | 1.0000000 | 1.0000000 | 1.0000000 | 0.9999887 | 1.0000000 | ⋯ | 0.9999988 | 1.0000000 | 1.0000000 | 1.0000000 | 1.0000000 | 1.0000000 | SRR11674008 | OdNE_18-Q3-R46-58  | rosella_bin.1368_Kalu_18-Q3-R12-55 |  0.0000000 |\n",
       "| 9  | 1.0000000 | 1.0000000 | 1.0000000 | 1.0000000 | 1.0000000 | 1.0000000 | 1.0000000 | 1.0000000 | 0.9999995 | ⋯ | 1.0000000 | 0.9999988 | 1.0000000 | 1.0000000 | 0.9999991 | 0.9999991 | SRR11674009 | AalW_18-Q3-R10-53  | rosella_bin.1368_Kalu_18-Q3-R12-55 |  0.0000000 |\n",
       "| 10 | 1.0000000 | 1.0000000 | 0.9999998 | 1.0000000 | 1.0000000 | 1.0000000 | 1.0000000 | 1.0000000 | 1.0000000 | ⋯ | 1.0000000 | 1.0000000 | 1.0000000 | 1.0000000 | 1.0000000 | 1.0000000 | SRR11674012 | Mari_18-Q3-R65-66  | rosella_bin.1368_Kalu_18-Q3-R12-55 |  0.2825570 |\n",
       "| 11 | 1.0000000 | 1.0000000 | 1.0000000 | 1.0000000 | 1.0000000 | 0.9999998 | 0.9999995 | 0.9999995 | 1.0000000 | ⋯ | 1.0000000 | 0.9999998 | 0.9999995 | 1.0000000 | 1.0000000 | 1.0000000 | SRR11674015 | Lyne_18-Q3-R50-59  | rosella_bin.1368_Kalu_18-Q3-R12-55 |  0.0000000 |\n",
       "| 12 | 1.0000000 | 0.9999965 | 0.9999927 | 0.9999972 | 1.0000000 | 0.9999995 | 0.9999963 | 0.9999887 | 0.9999995 | ⋯ | 0.9999949 | 0.9999233 | 0.9999977 | 0.9999968 | 0.9999959 | 0.9999963 | SRR11674018 | Kalu_18-Q3-R12-55  | rosella_bin.1368_Kalu_18-Q3-R12-55 |  0.0000000 |\n",
       "| 13 | 1.0000000 | 1.0000000 | 1.0000000 | 1.0000000 | 1.0000000 | 1.0000000 | 1.0000000 | 1.0000000 | 1.0000000 | ⋯ | 1.0000000 | 1.0000000 | 1.0000000 | 0.9999998 | 1.0000000 | 1.0000000 | SRR11674022 | Hjor_18-Q3-R7-51   | rosella_bin.1368_Kalu_18-Q3-R12-55 |  0.0000000 |\n",
       "| 14 | 1.0000000 | 1.0000000 | 1.0000000 | 1.0000000 | 1.0000000 | 1.0000000 | 1.0000000 | 1.0000000 | 1.0000000 | ⋯ | 1.0000000 | 1.0000000 | 1.0000000 | 1.0000000 | 1.0000000 | 1.0000000 | SRR11674025 | Hirt_18-Q3-R61-65  | rosella_bin.1368_Kalu_18-Q3-R12-55 | 17.4629200 |\n",
       "| 15 | 1.0000000 | 1.0000000 | 0.9999998 | 1.0000000 | 1.0000000 | 1.0000000 | 1.0000000 | 1.0000000 | 1.0000000 | ⋯ | 1.0000000 | 0.9999988 | 1.0000000 | 1.0000000 | 0.9999991 | 0.9999991 | SRR11674031 | Hade_18-Q3-R52-61  | rosella_bin.1368_Kalu_18-Q3-R12-55 |  0.0000000 |\n",
       "| 16 | 1.0000000 | 1.0000000 | 1.0000000 | 1.0000000 | 1.0000000 | 1.0000000 | 1.0000000 | 1.0000000 | 1.0000000 | ⋯ | 1.0000000 | 0.9999979 | 1.0000000 | 1.0000000 | 1.0000000 | 1.0000000 | SRR11674035 | Fred_18-Q3-R57-64  | rosella_bin.1368_Kalu_18-Q3-R12-55 |  0.0000000 |\n",
       "| 17 | 1.0000000 | 1.0000000 | 0.9999998 | 1.0000000 | 1.0000000 | 1.0000000 | 1.0000000 | 1.0000000 | 1.0000000 | ⋯ | 1.0000000 | 0.9999979 | 1.0000000 | 0.9999998 | 0.9999979 | 0.9999979 | SRR11674038 | EsbW_18-Q3-R4-48   | rosella_bin.1368_Kalu_18-Q3-R12-55 |  0.0000000 |\n",
       "| 18 | 1.0000000 | 0.9999977 | 0.9999998 | 1.0000000 | 1.0000000 | 1.0000000 | 1.0000000 | 0.9999988 | 1.0000000 | ⋯ | 0.9999949 | 0.9999991 | 1.0000000 | 1.0000000 | 0.9999988 | 0.9999991 | SRR11674041 | EsbE_18-Q3-R3-47   | rosella_bin.1368_Kalu_18-Q3-R12-55 |  0.0000000 |\n",
       "| 19 | 1.0000000 | 0.9999991 | 0.9999988 | 1.0000000 | 1.0000000 | 1.0000000 | 1.0000000 | 1.0000000 | 0.9999988 | ⋯ | 0.9999991 | 0.9998996 | 0.9999988 | 1.0000000 | 0.9999998 | 0.9999998 | SRR11674044 | Ejby_18-Q3-R6-50   | rosella_bin.1368_Kalu_18-Q3-R12-55 |  0.0000000 |\n",
       "| 20 | 1.0000000 | 1.0000000 | 0.9999998 | 1.0000000 | 1.0000000 | 1.0000000 | 1.0000000 | 1.0000000 | 1.0000000 | ⋯ | 1.0000000 | 0.9999988 | 0.9999977 | 1.0000000 | 0.9999991 | 0.9999991 | SRR11674045 | AalE_18-Q3-R2-46   | rosella_bin.1368_Kalu_18-Q3-R12-55 |  0.0000000 |\n",
       "| 21 | 1.0000000 | 1.0000000 | 0.9999998 | 1.0000000 | 1.0000000 | 1.0000000 | 1.0000000 | 1.0000000 | 1.0000000 | ⋯ | 1.0000000 | 1.0000000 | 1.0000000 | 0.9999968 | 1.0000000 | 1.0000000 | SRR11674048 | Ega_18-Q3-R5-49    | rosella_bin.1368_Kalu_18-Q3-R12-55 |  0.0000000 |\n",
       "| 22 | 1.0000000 | 0.9999991 | 0.9999984 | 1.0000000 | 1.0000000 | 1.0000000 | 1.0000000 | 1.0000000 | 0.9999991 | ⋯ | 0.9999988 | 0.9999998 | 0.9999991 | 1.0000000 | 0.9999959 | 1.0000000 | SRR11674051 | Damh_18-Q3-R51-60  | rosella_bin.1368_Kalu_18-Q3-R12-55 |  0.0000000 |\n",
       "| 23 | 1.0000000 | 0.9999991 | 0.9999986 | 1.0000000 | 1.0000000 | 1.0000000 | 1.0000000 | 1.0000000 | 0.9999991 | ⋯ | 0.9999991 | 0.9999998 | 0.9999991 | 1.0000000 | 1.0000000 | 0.9999963 | SRR11674054 | Bjer_18-Q3-R1-45   | rosella_bin.1368_Kalu_18-Q3-R12-55 |  0.0000000 |\n",
       "| 1  | 0.9995550 | 0.9999922 | 0.9999772 | 0.9999621 | 0.9999821 | 0.9999703 | 0.9999489 | 0.9999571 | 0.9999049 | ⋯ | 0.9999701 | 0.9999548 | 0.9999736 | 0.9999776 | 0.9999769 | 0.9999885 | SRR11673976 | Aved_18-Q3-R54-62  | rosella_bin.1369_Kalu_18-Q3-R12-55 |  1.1418285 |\n",
       "| 2  | 0.9999922 | 0.9999063 | 0.9999958 | 0.9999953 | 0.9999958 | 0.9999929 | 0.9999904 | 0.9999934 | 0.9999826 | ⋯ | 0.9999901 | 0.9999941 | 0.9999955 | 0.9999896 | 0.9999892 | 0.9999967 | SRR11673989 | Viby_18-Q3-R106-67 | rosella_bin.1369_Kalu_18-Q3-R12-55 |  0.9259212 |\n",
       "| 3  | 0.9999772 | 0.9999958 | 0.9998969 | 0.9999936 | 0.9999929 | 0.9999852 | 0.9999748 | 0.9999899 | 0.9999548 | ⋯ | 0.9999899 | 0.9999805 | 0.9999904 | 0.9999951 | 0.9999739 | 0.9999941 | SRR11673992 | Vibo_18-Q3-R45-57  | rosella_bin.1369_Kalu_18-Q3-R12-55 |  2.0078552 |\n",
       "| 4  | 0.9999621 | 0.9999953 | 0.9999936 | 0.9997589 | 0.9999797 | 0.9999833 | 0.9999557 | 0.9999852 | 0.9999338 | ⋯ | 0.9999776 | 0.9999685 | 0.9999805 | 0.9999875 | 0.9999706 | 0.9999965 | SRR11673995 | Skiv_18-Q3-R9-52   | rosella_bin.1369_Kalu_18-Q3-R12-55 |  1.8659992 |\n",
       "| 5  | 0.9999821 | 0.9999958 | 0.9999929 | 0.9999797 | 0.9998799 | 0.9999866 | 0.9999701 | 0.9999746 | 0.9999513 | ⋯ | 0.9999870 | 0.9999746 | 0.9999786 | 0.9999885 | 0.9999769 | 0.9999913 | SRR11673999 | Ribe_18-Q3-R11-54  | rosella_bin.1369_Kalu_18-Q3-R12-55 |  1.0357236 |\n",
       "| 6  | 0.9999703 | 0.9999929 | 0.9999852 | 0.9999833 | 0.9999866 | 0.9998300 | 0.9999482 | 0.9999725 | 0.9999225 | ⋯ | 0.9999821 | 0.9999595 | 0.9999783 | 0.9999885 | 0.9999607 | 0.9999939 | SRR11674002 | Rand_18-Q3-R56-63  | rosella_bin.1369_Kalu_18-Q3-R12-55 |  2.2406406 |\n",
       "| 7  | 0.9999489 | 0.9999904 | 0.9999748 | 0.9999557 | 0.9999701 | 0.9999482 | 0.9994441 | 0.9999414 | 0.9999303 | ⋯ | 0.9999687 | 0.9999656 | 0.9999783 | 0.9999743 | 0.9999546 | 0.9999849 | SRR11674005 | OdNW_18-Q3-R42-56  | rosella_bin.1369_Kalu_18-Q3-R12-55 |  2.1417820 |\n",
       "| ⋮ | ⋮ | ⋮ | ⋮ | ⋮ | ⋮ | ⋮ | ⋮ | ⋮ | ⋮ | ⋱ | ⋮ | ⋮ | ⋮ | ⋮ | ⋮ | ⋮ | ⋮ | ⋮ | ⋮ | ⋮ |\n",
       "| 17 | 0.9999927 | 0.9999973 | 0.9999942 | 1.0000000 | 1.0000000 | 1.0000000 | 0.9999982 | 0.9999997 | 0.9999598 | ⋯ | 0.9999973 | 0.9999717 | 0.9999684 | 0.9999951 | 0.9999912 | 0.9999979 | SRR11674038 | EsbW_18-Q3-R4-48   | rosella_bin.4086_AalW_18-Q3-R10-53    |  9.6464280 |\n",
       "| 18 | 1.0000000 | 0.9999991 | 1.0000000 | 1.0000000 | 1.0000000 | 1.0000000 | 1.0000000 | 1.0000000 | 0.9999942 | ⋯ | 0.9999939 | 0.9999961 | 0.9999985 | 1.0000000 | 1.0000000 | 1.0000000 | SRR11674041 | EsbE_18-Q3-R3-47   | rosella_bin.4086_AalW_18-Q3-R10-53    |  1.5885923 |\n",
       "| 19 | 0.9998966 | 0.9999477 | 0.9997649 | 1.0000000 | 1.0000000 | 0.9999866 | 0.9999900 | 0.9999723 | 0.9998528 | ⋯ | 0.9999961 | 0.9994150 | 0.9998838 | 0.9998981 | 0.9998588 | 0.9999069 | SRR11674044 | Ejby_18-Q3-R6-50   | rosella_bin.4086_AalW_18-Q3-R10-53    |  0.9216647 |\n",
       "| 20 | 0.9998801 | 0.9999498 | 0.9997214 | 1.0000000 | 1.0000000 | 0.9999805 | 0.9999751 | 0.9999672 | 0.9999133 | ⋯ | 0.9999985 | 0.9998838 | 0.9992979 | 0.9998838 | 0.9998400 | 0.9998984 | SRR11674045 | AalE_18-Q3-R2-46   | rosella_bin.4086_AalW_18-Q3-R10-53    |  4.1702123 |\n",
       "| 21 | 0.9999623 | 0.9999796 | 0.9998884 | 1.0000000 | 1.0000000 | 0.9999982 | 0.9999967 | 0.9999939 | 0.9998552 | ⋯ | 1.0000000 | 0.9998981 | 0.9998838 | 0.9996754 | 0.9999337 | 0.9999629 | SRR11674048 | Ega_18-Q3-R5-49    | rosella_bin.4086_AalW_18-Q3-R10-53    |  1.1055115 |\n",
       "| 22 | 0.9999571 | 0.9999732 | 0.9998914 | 1.0000000 | 1.0000000 | 0.9999954 | 0.9999796 | 0.9999820 | 0.9998239 | ⋯ | 1.0000000 | 0.9998588 | 0.9998400 | 0.9999337 | 0.9995939 | 0.9999580 | SRR11674051 | Damh_18-Q3-R51-60  | rosella_bin.4086_AalW_18-Q3-R10-53    |  0.0000000 |\n",
       "| 23 | 0.9999620 | 0.9999875 | 0.9998978 | 1.0000000 | 1.0000000 | 0.9999945 | 0.9999957 | 0.9999906 | 0.9998750 | ⋯ | 1.0000000 | 0.9999069 | 0.9998984 | 0.9999629 | 0.9999580 | 0.9997569 | SRR11674054 | Bjer_18-Q3-R1-45   | rosella_bin.4086_AalW_18-Q3-R10-53    |  0.0000000 |\n",
       "| 1  | 0.9996717 | 0.9999897 | 0.9999880 | 0.9999834 | 0.9996757 | 0.9999897 | 0.9999884 | 0.9999967 | 0.9999932 | ⋯ | 0.9999271 | 0.9999989 | 0.9999786 | 0.9999795 | 0.9999989 | 0.9999939 | SRR11673976 | Aved_18-Q3-R54-62  | rosella_refine.1594_Ribe_18-Q3-R11-54 |  0.0000000 |\n",
       "| 2  | 0.9999897 | 0.9999148 | 0.9999900 | 0.9999943 | 0.9999174 | 0.9999893 | 0.9999906 | 0.9999989 | 0.9999932 | ⋯ | 0.9999579 | 0.9999991 | 0.9999978 | 0.9999908 | 0.9999972 | 0.9999889 | SRR11673989 | Viby_18-Q3-R106-67 | rosella_refine.1594_Ribe_18-Q3-R11-54 |  0.0000000 |\n",
       "| 3  | 0.9999880 | 0.9999900 | 0.9996691 | 0.9999873 | 0.9996728 | 0.9999930 | 0.9999849 | 0.9999967 | 0.9999926 | ⋯ | 0.9999233 | 0.9999989 | 0.9999764 | 0.9999797 | 0.9999991 | 0.9999924 | SRR11673992 | Vibo_18-Q3-R45-57  | rosella_refine.1594_Ribe_18-Q3-R11-54 |  0.0000000 |\n",
       "| 4  | 0.9999834 | 0.9999943 | 0.9999873 | 0.9997447 | 0.9997484 | 0.9999849 | 0.9999875 | 0.9999967 | 0.9999948 | ⋯ | 0.9999310 | 0.9999998 | 0.9999784 | 0.9999779 | 0.9999982 | 0.9999873 | SRR11673995 | Skiv_18-Q3-R9-52   | rosella_refine.1594_Ribe_18-Q3-R11-54 |  0.4027134 |\n",
       "| 5  | 0.9996757 | 0.9999174 | 0.9996728 | 0.9997484 | 0.9996719 | 0.9997097 | 0.9998692 | 0.9999913 | 0.9999028 | ⋯ | 0.9998333 | 0.9999865 | 0.9998325 | 0.9997947 | 0.9999675 | 0.9998832 | SRR11673999 | Ribe_18-Q3-R11-54  | rosella_refine.1594_Ribe_18-Q3-R11-54 |  0.4422162 |\n",
       "| 6  | 0.9999897 | 0.9999893 | 0.9999930 | 0.9999849 | 0.9997097 | 0.9997060 | 0.9999878 | 0.9999967 | 0.9999924 | ⋯ | 0.9999292 | 0.9999989 | 0.9999775 | 0.9999801 | 0.9999991 | 0.9999934 | SRR11674002 | Rand_18-Q3-R56-63  | rosella_refine.1594_Ribe_18-Q3-R11-54 |  0.2760945 |\n",
       "| 7  | 0.9999884 | 0.9999906 | 0.9999849 | 0.9999875 | 0.9998692 | 0.9999878 | 0.9998663 | 0.9999976 | 0.9999930 | ⋯ | 0.9999461 | 0.9999996 | 0.9999897 | 0.9999867 | 0.9999961 | 0.9999900 | SRR11674005 | OdNW_18-Q3-R42-56  | rosella_refine.1594_Ribe_18-Q3-R11-54 |  0.5543626 |\n",
       "| 8  | 0.9999967 | 0.9999989 | 0.9999967 | 0.9999967 | 0.9999913 | 0.9999967 | 0.9999976 | 0.9999908 | 0.9999978 | ⋯ | 0.9999945 | 0.9999980 | 0.9999974 | 0.9999978 | 0.9999989 | 0.9999976 | SRR11674008 | OdNE_18-Q3-R46-58  | rosella_refine.1594_Ribe_18-Q3-R11-54 |  0.6370767 |\n",
       "| 9  | 0.9999932 | 0.9999932 | 0.9999926 | 0.9999948 | 0.9999028 | 0.9999924 | 0.9999930 | 0.9999978 | 0.9999006 | ⋯ | 0.9999609 | 0.9999993 | 0.9999910 | 0.9999917 | 0.9999976 | 0.9999934 | SRR11674009 | AalW_18-Q3-R10-53  | rosella_refine.1594_Ribe_18-Q3-R11-54 |  0.0000000 |\n",
       "| 10 | 0.9999998 | 0.9999993 | 0.9999998 | 0.9999998 | 0.9999963 | 0.9999998 | 0.9999998 | 0.9999993 | 0.9999998 | ⋯ | 0.9999978 | 1.0000000 | 0.9999998 | 0.9999998 | 1.0000000 | 0.9999998 | SRR11674012 | Mari_18-Q3-R65-66  | rosella_refine.1594_Ribe_18-Q3-R11-54 | 41.8524400 |\n",
       "| 11 | 0.9999978 | 0.9999974 | 0.9999980 | 0.9999989 | 0.9999249 | 0.9999972 | 0.9999950 | 0.9999978 | 0.9999987 | ⋯ | 0.9999720 | 0.9999998 | 0.9999934 | 0.9999987 | 0.9999991 | 0.9999974 | SRR11674015 | Lyne_18-Q3-R50-59  | rosella_refine.1594_Ribe_18-Q3-R11-54 |  7.1028970 |\n",
       "| 12 | 0.9999190 | 0.9999637 | 0.9999139 | 0.9999314 | 0.9997956 | 0.9999220 | 0.9999484 | 0.9999965 | 0.9999690 | ⋯ | 0.9999316 | 0.9999924 | 0.9999408 | 0.9999354 | 0.9999928 | 0.9999670 | SRR11674018 | Kalu_18-Q3-R12-55  | rosella_refine.1594_Ribe_18-Q3-R11-54 |  0.0000000 |\n",
       "| 13 | 0.9999959 | 0.9999902 | 0.9999945 | 0.9999886 | 0.9998242 | 0.9999961 | 0.9999921 | 0.9999974 | 0.9999950 | ⋯ | 0.9999367 | 0.9999989 | 0.9999797 | 0.9999828 | 0.9999980 | 0.9999928 | SRR11674022 | Hjor_18-Q3-R7-51   | rosella_refine.1594_Ribe_18-Q3-R11-54 |  0.0000000 |\n",
       "| 14 | 0.9999235 | 0.9999502 | 0.9999235 | 0.9999244 | 0.9999515 | 0.9999253 | 0.9999397 | 0.9999959 | 0.9999533 | ⋯ | 0.9999766 | 0.9999891 | 0.9999277 | 0.9999246 | 0.9999871 | 0.9999567 | SRR11674025 | Hirt_18-Q3-R61-65  | rosella_refine.1594_Ribe_18-Q3-R11-54 |  0.6788088 |\n",
       "| 15 | 0.9997827 | 0.9999358 | 0.9997838 | 0.9998231 | 0.9959021 | 0.9998113 | 0.9998978 | 0.9999937 | 0.9999277 | ⋯ | 0.9998976 | 0.9999873 | 0.9998823 | 0.9998585 | 0.9999790 | 0.9999187 | SRR11674031 | Hade_18-Q3-R52-61  | rosella_refine.1594_Ribe_18-Q3-R11-54 |  0.0000000 |\n",
       "| 16 | 0.9996927 | 0.9999185 | 0.9997025 | 0.9997595 | 0.9925721 | 0.9997357 | 0.9998775 | 0.9999910 | 0.9999030 | ⋯ | 0.9998292 | 0.9999847 | 0.9998381 | 0.9998028 | 0.9999681 | 0.9998869 | SRR11674035 | Fred_18-Q3-R57-64  | rosella_refine.1594_Ribe_18-Q3-R11-54 |  0.0000000 |\n",
       "| 17 | 0.9999594 | 0.9999712 | 0.9999550 | 0.9999511 | 0.9997440 | 0.9999570 | 0.9999690 | 0.9999967 | 0.9999797 | ⋯ | 0.9999659 | 0.9999924 | 0.9999537 | 0.9999552 | 0.9999985 | 0.9999873 | SRR11674038 | EsbW_18-Q3-R4-48   | rosella_refine.1594_Ribe_18-Q3-R11-54 |  0.3188973 |\n",
       "| 18 | 0.9999271 | 0.9999579 | 0.9999233 | 0.9999310 | 0.9998333 | 0.9999292 | 0.9999461 | 0.9999945 | 0.9999609 | ⋯ | 0.9998292 | 0.9999880 | 0.9999347 | 0.9999343 | 0.9999867 | 0.9999609 | SRR11674041 | EsbE_18-Q3-R3-47   | rosella_refine.1594_Ribe_18-Q3-R11-54 |  0.2481659 |\n",
       "| 19 | 0.9999989 | 0.9999991 | 0.9999989 | 0.9999998 | 0.9999865 | 0.9999989 | 0.9999996 | 0.9999980 | 0.9999993 | ⋯ | 0.9999880 | 0.9999799 | 0.9999998 | 0.9999989 | 0.9999998 | 0.9999989 | SRR11674044 | Ejby_18-Q3-R6-50   | rosella_refine.1594_Ribe_18-Q3-R11-54 |  0.5049206 |\n",
       "| 20 | 0.9999786 | 0.9999978 | 0.9999764 | 0.9999784 | 0.9998325 | 0.9999775 | 0.9999897 | 0.9999974 | 0.9999910 | ⋯ | 0.9999347 | 0.9999998 | 0.9998294 | 0.9999838 | 0.9999976 | 0.9999873 | SRR11674045 | AalE_18-Q3-R2-46   | rosella_refine.1594_Ribe_18-Q3-R11-54 |  0.8719370 |\n",
       "| 21 | 0.9999795 | 0.9999908 | 0.9999797 | 0.9999779 | 0.9997947 | 0.9999801 | 0.9999867 | 0.9999978 | 0.9999917 | ⋯ | 0.9999343 | 0.9999989 | 0.9999838 | 0.9997914 | 0.9999972 | 0.9999930 | SRR11674048 | Ega_18-Q3-R5-49    | rosella_refine.1594_Ribe_18-Q3-R11-54 |  0.0000000 |\n",
       "| 22 | 0.9999989 | 0.9999972 | 0.9999991 | 0.9999982 | 0.9999675 | 0.9999991 | 0.9999961 | 0.9999989 | 0.9999976 | ⋯ | 0.9999867 | 0.9999998 | 0.9999976 | 0.9999972 | 0.9999666 | 0.9999998 | SRR11674051 | Damh_18-Q3-R51-60  | rosella_refine.1594_Ribe_18-Q3-R11-54 | 51.5415150 |\n",
       "| 23 | 0.9999939 | 0.9999889 | 0.9999924 | 0.9999873 | 0.9998832 | 0.9999934 | 0.9999900 | 0.9999976 | 0.9999934 | ⋯ | 0.9999609 | 0.9999989 | 0.9999873 | 0.9999930 | 0.9999998 | 0.9998794 | SRR11674054 | Bjer_18-Q3-R1-45   | rosella_refine.1594_Ribe_18-Q3-R11-54 |  0.0000000 |\n",
       "\n"
      ],
      "text/plain": [
       "     SampleID Aved_18-Q3-R54-62 Viby_18-Q3-R106-67 Vibo_18-Q3-R45-57\n",
       "1    1        1.0000000         1.0000000          1.0000000        \n",
       "2    2        1.0000000         0.9999965          0.9999975        \n",
       "3    3        1.0000000         0.9999975          0.9999927        \n",
       "4    4        1.0000000         1.0000000          1.0000000        \n",
       "5    5        1.0000000         1.0000000          1.0000000        \n",
       "6    6        1.0000000         1.0000000          1.0000000        \n",
       "7    7        1.0000000         1.0000000          1.0000000        \n",
       "8    8        1.0000000         1.0000000          0.9999986        \n",
       "9    9        1.0000000         1.0000000          1.0000000        \n",
       "10   10       1.0000000         1.0000000          0.9999998        \n",
       "11   11       1.0000000         1.0000000          1.0000000        \n",
       "12   12       1.0000000         0.9999965          0.9999927        \n",
       "13   13       1.0000000         1.0000000          1.0000000        \n",
       "14   14       1.0000000         1.0000000          1.0000000        \n",
       "15   15       1.0000000         1.0000000          0.9999998        \n",
       "16   16       1.0000000         1.0000000          1.0000000        \n",
       "17   17       1.0000000         1.0000000          0.9999998        \n",
       "18   18       1.0000000         0.9999977          0.9999998        \n",
       "19   19       1.0000000         0.9999991          0.9999988        \n",
       "20   20       1.0000000         1.0000000          0.9999998        \n",
       "21   21       1.0000000         1.0000000          0.9999998        \n",
       "22   22       1.0000000         0.9999991          0.9999984        \n",
       "23   23       1.0000000         0.9999991          0.9999986        \n",
       "24   1        0.9995550         0.9999922          0.9999772        \n",
       "25   2        0.9999922         0.9999063          0.9999958        \n",
       "26   3        0.9999772         0.9999958          0.9998969        \n",
       "27   4        0.9999621         0.9999953          0.9999936        \n",
       "28   5        0.9999821         0.9999958          0.9999929        \n",
       "29   6        0.9999703         0.9999929          0.9999852        \n",
       "30   7        0.9999489         0.9999904          0.9999748        \n",
       "⋮    ⋮        ⋮                 ⋮                  ⋮                \n",
       "1236 17       0.9999927         0.9999973          0.9999942        \n",
       "1237 18       1.0000000         0.9999991          1.0000000        \n",
       "1238 19       0.9998966         0.9999477          0.9997649        \n",
       "1239 20       0.9998801         0.9999498          0.9997214        \n",
       "1240 21       0.9999623         0.9999796          0.9998884        \n",
       "1241 22       0.9999571         0.9999732          0.9998914        \n",
       "1242 23       0.9999620         0.9999875          0.9998978        \n",
       "1243 1        0.9996717         0.9999897          0.9999880        \n",
       "1244 2        0.9999897         0.9999148          0.9999900        \n",
       "1245 3        0.9999880         0.9999900          0.9996691        \n",
       "1246 4        0.9999834         0.9999943          0.9999873        \n",
       "1247 5        0.9996757         0.9999174          0.9996728        \n",
       "1248 6        0.9999897         0.9999893          0.9999930        \n",
       "1249 7        0.9999884         0.9999906          0.9999849        \n",
       "1250 8        0.9999967         0.9999989          0.9999967        \n",
       "1251 9        0.9999932         0.9999932          0.9999926        \n",
       "1252 10       0.9999998         0.9999993          0.9999998        \n",
       "1253 11       0.9999978         0.9999974          0.9999980        \n",
       "1254 12       0.9999190         0.9999637          0.9999139        \n",
       "1255 13       0.9999959         0.9999902          0.9999945        \n",
       "1256 14       0.9999235         0.9999502          0.9999235        \n",
       "1257 15       0.9997827         0.9999358          0.9997838        \n",
       "1258 16       0.9996927         0.9999185          0.9997025        \n",
       "1259 17       0.9999594         0.9999712          0.9999550        \n",
       "1260 18       0.9999271         0.9999579          0.9999233        \n",
       "1261 19       0.9999989         0.9999991          0.9999989        \n",
       "1262 20       0.9999786         0.9999978          0.9999764        \n",
       "1263 21       0.9999795         0.9999908          0.9999797        \n",
       "1264 22       0.9999989         0.9999972          0.9999991        \n",
       "1265 23       0.9999939         0.9999889          0.9999924        \n",
       "     Skiv_18-Q3-R9-52 Ribe_18-Q3-R11-54 Rand_18-Q3-R56-63 OdNW_18-Q3-R42-56\n",
       "1    1.0000000        1.0000000         1.0000000         1.0000000        \n",
       "2    1.0000000        1.0000000         1.0000000         1.0000000        \n",
       "3    1.0000000        1.0000000         1.0000000         1.0000000        \n",
       "4    0.9999972        1.0000000         1.0000000         1.0000000        \n",
       "5    1.0000000        1.0000000         1.0000000         1.0000000        \n",
       "6    1.0000000        1.0000000         0.9999995         1.0000000        \n",
       "7    1.0000000        1.0000000         1.0000000         0.9999961        \n",
       "8    1.0000000        1.0000000         1.0000000         1.0000000        \n",
       "9    1.0000000        1.0000000         1.0000000         1.0000000        \n",
       "10   1.0000000        1.0000000         1.0000000         1.0000000        \n",
       "11   1.0000000        1.0000000         0.9999998         0.9999995        \n",
       "12   0.9999972        1.0000000         0.9999995         0.9999963        \n",
       "13   1.0000000        1.0000000         1.0000000         1.0000000        \n",
       "14   1.0000000        1.0000000         1.0000000         1.0000000        \n",
       "15   1.0000000        1.0000000         1.0000000         1.0000000        \n",
       "16   1.0000000        1.0000000         1.0000000         1.0000000        \n",
       "17   1.0000000        1.0000000         1.0000000         1.0000000        \n",
       "18   1.0000000        1.0000000         1.0000000         1.0000000        \n",
       "19   1.0000000        1.0000000         1.0000000         1.0000000        \n",
       "20   1.0000000        1.0000000         1.0000000         1.0000000        \n",
       "21   1.0000000        1.0000000         1.0000000         1.0000000        \n",
       "22   1.0000000        1.0000000         1.0000000         1.0000000        \n",
       "23   1.0000000        1.0000000         1.0000000         1.0000000        \n",
       "24   0.9999621        0.9999821         0.9999703         0.9999489        \n",
       "25   0.9999953        0.9999958         0.9999929         0.9999904        \n",
       "26   0.9999936        0.9999929         0.9999852         0.9999748        \n",
       "27   0.9997589        0.9999797         0.9999833         0.9999557        \n",
       "28   0.9999797        0.9998799         0.9999866         0.9999701        \n",
       "29   0.9999833        0.9999866         0.9998300         0.9999482        \n",
       "30   0.9999557        0.9999701         0.9999482         0.9994441        \n",
       "⋮    ⋮                ⋮                 ⋮                 ⋮                \n",
       "1236 1.0000000        1.0000000         1.0000000         0.9999982        \n",
       "1237 1.0000000        1.0000000         1.0000000         1.0000000        \n",
       "1238 1.0000000        1.0000000         0.9999866         0.9999900        \n",
       "1239 1.0000000        1.0000000         0.9999805         0.9999751        \n",
       "1240 1.0000000        1.0000000         0.9999982         0.9999967        \n",
       "1241 1.0000000        1.0000000         0.9999954         0.9999796        \n",
       "1242 1.0000000        1.0000000         0.9999945         0.9999957        \n",
       "1243 0.9999834        0.9996757         0.9999897         0.9999884        \n",
       "1244 0.9999943        0.9999174         0.9999893         0.9999906        \n",
       "1245 0.9999873        0.9996728         0.9999930         0.9999849        \n",
       "1246 0.9997447        0.9997484         0.9999849         0.9999875        \n",
       "1247 0.9997484        0.9996719         0.9997097         0.9998692        \n",
       "1248 0.9999849        0.9997097         0.9997060         0.9999878        \n",
       "1249 0.9999875        0.9998692         0.9999878         0.9998663        \n",
       "1250 0.9999967        0.9999913         0.9999967         0.9999976        \n",
       "1251 0.9999948        0.9999028         0.9999924         0.9999930        \n",
       "1252 0.9999998        0.9999963         0.9999998         0.9999998        \n",
       "1253 0.9999989        0.9999249         0.9999972         0.9999950        \n",
       "1254 0.9999314        0.9997956         0.9999220         0.9999484        \n",
       "1255 0.9999886        0.9998242         0.9999961         0.9999921        \n",
       "1256 0.9999244        0.9999515         0.9999253         0.9999397        \n",
       "1257 0.9998231        0.9959021         0.9998113         0.9998978        \n",
       "1258 0.9997595        0.9925721         0.9997357         0.9998775        \n",
       "1259 0.9999511        0.9997440         0.9999570         0.9999690        \n",
       "1260 0.9999310        0.9998333         0.9999292         0.9999461        \n",
       "1261 0.9999998        0.9999865         0.9999989         0.9999996        \n",
       "1262 0.9999784        0.9998325         0.9999775         0.9999897        \n",
       "1263 0.9999779        0.9997947         0.9999801         0.9999867        \n",
       "1264 0.9999982        0.9999675         0.9999991         0.9999961        \n",
       "1265 0.9999873        0.9998832         0.9999934         0.9999900        \n",
       "     OdNE_18-Q3-R46-58 AalW_18-Q3-R10-53 ⋯ EsbE_18-Q3-R3-47 Ejby_18-Q3-R6-50\n",
       "1    1.0000000         1.0000000         ⋯ 1.0000000        1.0000000       \n",
       "2    1.0000000         1.0000000         ⋯ 0.9999977        0.9999991       \n",
       "3    0.9999986         1.0000000         ⋯ 0.9999998        0.9999988       \n",
       "4    1.0000000         1.0000000         ⋯ 1.0000000        1.0000000       \n",
       "5    1.0000000         1.0000000         ⋯ 1.0000000        1.0000000       \n",
       "6    1.0000000         1.0000000         ⋯ 1.0000000        1.0000000       \n",
       "7    1.0000000         1.0000000         ⋯ 1.0000000        1.0000000       \n",
       "8    0.9999887         1.0000000         ⋯ 0.9999988        1.0000000       \n",
       "9    1.0000000         0.9999995         ⋯ 1.0000000        0.9999988       \n",
       "10   1.0000000         1.0000000         ⋯ 1.0000000        1.0000000       \n",
       "11   0.9999995         1.0000000         ⋯ 1.0000000        0.9999998       \n",
       "12   0.9999887         0.9999995         ⋯ 0.9999949        0.9999233       \n",
       "13   1.0000000         1.0000000         ⋯ 1.0000000        1.0000000       \n",
       "14   1.0000000         1.0000000         ⋯ 1.0000000        1.0000000       \n",
       "15   1.0000000         1.0000000         ⋯ 1.0000000        0.9999988       \n",
       "16   1.0000000         1.0000000         ⋯ 1.0000000        0.9999979       \n",
       "17   1.0000000         1.0000000         ⋯ 1.0000000        0.9999979       \n",
       "18   0.9999988         1.0000000         ⋯ 0.9999949        0.9999991       \n",
       "19   1.0000000         0.9999988         ⋯ 0.9999991        0.9998996       \n",
       "20   1.0000000         1.0000000         ⋯ 1.0000000        0.9999988       \n",
       "21   1.0000000         1.0000000         ⋯ 1.0000000        1.0000000       \n",
       "22   1.0000000         0.9999991         ⋯ 0.9999988        0.9999998       \n",
       "23   1.0000000         0.9999991         ⋯ 0.9999991        0.9999998       \n",
       "24   0.9999571         0.9999049         ⋯ 0.9999701        0.9999548       \n",
       "25   0.9999934         0.9999826         ⋯ 0.9999901        0.9999941       \n",
       "26   0.9999899         0.9999548         ⋯ 0.9999899        0.9999805       \n",
       "27   0.9999852         0.9999338         ⋯ 0.9999776        0.9999685       \n",
       "28   0.9999746         0.9999513         ⋯ 0.9999870        0.9999746       \n",
       "29   0.9999725         0.9999225         ⋯ 0.9999821        0.9999595       \n",
       "30   0.9999414         0.9999303         ⋯ 0.9999687        0.9999656       \n",
       "⋮    ⋮                 ⋮                 ⋱ ⋮                ⋮               \n",
       "1236 0.9999997         0.9999598         ⋯ 0.9999973        0.9999717       \n",
       "1237 1.0000000         0.9999942         ⋯ 0.9999939        0.9999961       \n",
       "1238 0.9999723         0.9998528         ⋯ 0.9999961        0.9994150       \n",
       "1239 0.9999672         0.9999133         ⋯ 0.9999985        0.9998838       \n",
       "1240 0.9999939         0.9998552         ⋯ 1.0000000        0.9998981       \n",
       "1241 0.9999820         0.9998239         ⋯ 1.0000000        0.9998588       \n",
       "1242 0.9999906         0.9998750         ⋯ 1.0000000        0.9999069       \n",
       "1243 0.9999967         0.9999932         ⋯ 0.9999271        0.9999989       \n",
       "1244 0.9999989         0.9999932         ⋯ 0.9999579        0.9999991       \n",
       "1245 0.9999967         0.9999926         ⋯ 0.9999233        0.9999989       \n",
       "1246 0.9999967         0.9999948         ⋯ 0.9999310        0.9999998       \n",
       "1247 0.9999913         0.9999028         ⋯ 0.9998333        0.9999865       \n",
       "1248 0.9999967         0.9999924         ⋯ 0.9999292        0.9999989       \n",
       "1249 0.9999976         0.9999930         ⋯ 0.9999461        0.9999996       \n",
       "1250 0.9999908         0.9999978         ⋯ 0.9999945        0.9999980       \n",
       "1251 0.9999978         0.9999006         ⋯ 0.9999609        0.9999993       \n",
       "1252 0.9999993         0.9999998         ⋯ 0.9999978        1.0000000       \n",
       "1253 0.9999978         0.9999987         ⋯ 0.9999720        0.9999998       \n",
       "1254 0.9999965         0.9999690         ⋯ 0.9999316        0.9999924       \n",
       "1255 0.9999974         0.9999950         ⋯ 0.9999367        0.9999989       \n",
       "1256 0.9999959         0.9999533         ⋯ 0.9999766        0.9999891       \n",
       "1257 0.9999937         0.9999277         ⋯ 0.9998976        0.9999873       \n",
       "1258 0.9999910         0.9999030         ⋯ 0.9998292        0.9999847       \n",
       "1259 0.9999967         0.9999797         ⋯ 0.9999659        0.9999924       \n",
       "1260 0.9999945         0.9999609         ⋯ 0.9998292        0.9999880       \n",
       "1261 0.9999980         0.9999993         ⋯ 0.9999880        0.9999799       \n",
       "1262 0.9999974         0.9999910         ⋯ 0.9999347        0.9999998       \n",
       "1263 0.9999978         0.9999917         ⋯ 0.9999343        0.9999989       \n",
       "1264 0.9999989         0.9999976         ⋯ 0.9999867        0.9999998       \n",
       "1265 0.9999976         0.9999934         ⋯ 0.9999609        0.9999989       \n",
       "     AalE_18-Q3-R2-46 Ega_18-Q3-R5-49 Damh_18-Q3-R51-60 Bjer_18-Q3-R1-45\n",
       "1    1.0000000        1.0000000       1.0000000         1.0000000       \n",
       "2    1.0000000        1.0000000       0.9999991         0.9999991       \n",
       "3    0.9999998        0.9999998       0.9999984         0.9999986       \n",
       "4    1.0000000        1.0000000       1.0000000         1.0000000       \n",
       "5    1.0000000        1.0000000       1.0000000         1.0000000       \n",
       "6    1.0000000        1.0000000       1.0000000         1.0000000       \n",
       "7    1.0000000        1.0000000       1.0000000         1.0000000       \n",
       "8    1.0000000        1.0000000       1.0000000         1.0000000       \n",
       "9    1.0000000        1.0000000       0.9999991         0.9999991       \n",
       "10   1.0000000        1.0000000       1.0000000         1.0000000       \n",
       "11   0.9999995        1.0000000       1.0000000         1.0000000       \n",
       "12   0.9999977        0.9999968       0.9999959         0.9999963       \n",
       "13   1.0000000        0.9999998       1.0000000         1.0000000       \n",
       "14   1.0000000        1.0000000       1.0000000         1.0000000       \n",
       "15   1.0000000        1.0000000       0.9999991         0.9999991       \n",
       "16   1.0000000        1.0000000       1.0000000         1.0000000       \n",
       "17   1.0000000        0.9999998       0.9999979         0.9999979       \n",
       "18   1.0000000        1.0000000       0.9999988         0.9999991       \n",
       "19   0.9999988        1.0000000       0.9999998         0.9999998       \n",
       "20   0.9999977        1.0000000       0.9999991         0.9999991       \n",
       "21   1.0000000        0.9999968       1.0000000         1.0000000       \n",
       "22   0.9999991        1.0000000       0.9999959         1.0000000       \n",
       "23   0.9999991        1.0000000       1.0000000         0.9999963       \n",
       "24   0.9999736        0.9999776       0.9999769         0.9999885       \n",
       "25   0.9999955        0.9999896       0.9999892         0.9999967       \n",
       "26   0.9999904        0.9999951       0.9999739         0.9999941       \n",
       "27   0.9999805        0.9999875       0.9999706         0.9999965       \n",
       "28   0.9999786        0.9999885       0.9999769         0.9999913       \n",
       "29   0.9999783        0.9999885       0.9999607         0.9999939       \n",
       "30   0.9999783        0.9999743       0.9999546         0.9999849       \n",
       "⋮    ⋮                ⋮               ⋮                 ⋮               \n",
       "1236 0.9999684        0.9999951       0.9999912         0.9999979       \n",
       "1237 0.9999985        1.0000000       1.0000000         1.0000000       \n",
       "1238 0.9998838        0.9998981       0.9998588         0.9999069       \n",
       "1239 0.9992979        0.9998838       0.9998400         0.9998984       \n",
       "1240 0.9998838        0.9996754       0.9999337         0.9999629       \n",
       "1241 0.9998400        0.9999337       0.9995939         0.9999580       \n",
       "1242 0.9998984        0.9999629       0.9999580         0.9997569       \n",
       "1243 0.9999786        0.9999795       0.9999989         0.9999939       \n",
       "1244 0.9999978        0.9999908       0.9999972         0.9999889       \n",
       "1245 0.9999764        0.9999797       0.9999991         0.9999924       \n",
       "1246 0.9999784        0.9999779       0.9999982         0.9999873       \n",
       "1247 0.9998325        0.9997947       0.9999675         0.9998832       \n",
       "1248 0.9999775        0.9999801       0.9999991         0.9999934       \n",
       "1249 0.9999897        0.9999867       0.9999961         0.9999900       \n",
       "1250 0.9999974        0.9999978       0.9999989         0.9999976       \n",
       "1251 0.9999910        0.9999917       0.9999976         0.9999934       \n",
       "1252 0.9999998        0.9999998       1.0000000         0.9999998       \n",
       "1253 0.9999934        0.9999987       0.9999991         0.9999974       \n",
       "1254 0.9999408        0.9999354       0.9999928         0.9999670       \n",
       "1255 0.9999797        0.9999828       0.9999980         0.9999928       \n",
       "1256 0.9999277        0.9999246       0.9999871         0.9999567       \n",
       "1257 0.9998823        0.9998585       0.9999790         0.9999187       \n",
       "1258 0.9998381        0.9998028       0.9999681         0.9998869       \n",
       "1259 0.9999537        0.9999552       0.9999985         0.9999873       \n",
       "1260 0.9999347        0.9999343       0.9999867         0.9999609       \n",
       "1261 0.9999998        0.9999989       0.9999998         0.9999989       \n",
       "1262 0.9998294        0.9999838       0.9999976         0.9999873       \n",
       "1263 0.9999838        0.9997914       0.9999972         0.9999930       \n",
       "1264 0.9999976        0.9999972       0.9999666         0.9999998       \n",
       "1265 0.9999873        0.9999930       0.9999998         0.9998794       \n",
       "     sra_id      sample_name        genome                               \n",
       "1    SRR11673976 Aved_18-Q3-R54-62  rosella_bin.1368_Kalu_18-Q3-R12-55   \n",
       "2    SRR11673989 Viby_18-Q3-R106-67 rosella_bin.1368_Kalu_18-Q3-R12-55   \n",
       "3    SRR11673992 Vibo_18-Q3-R45-57  rosella_bin.1368_Kalu_18-Q3-R12-55   \n",
       "4    SRR11673995 Skiv_18-Q3-R9-52   rosella_bin.1368_Kalu_18-Q3-R12-55   \n",
       "5    SRR11673999 Ribe_18-Q3-R11-54  rosella_bin.1368_Kalu_18-Q3-R12-55   \n",
       "6    SRR11674002 Rand_18-Q3-R56-63  rosella_bin.1368_Kalu_18-Q3-R12-55   \n",
       "7    SRR11674005 OdNW_18-Q3-R42-56  rosella_bin.1368_Kalu_18-Q3-R12-55   \n",
       "8    SRR11674008 OdNE_18-Q3-R46-58  rosella_bin.1368_Kalu_18-Q3-R12-55   \n",
       "9    SRR11674009 AalW_18-Q3-R10-53  rosella_bin.1368_Kalu_18-Q3-R12-55   \n",
       "10   SRR11674012 Mari_18-Q3-R65-66  rosella_bin.1368_Kalu_18-Q3-R12-55   \n",
       "11   SRR11674015 Lyne_18-Q3-R50-59  rosella_bin.1368_Kalu_18-Q3-R12-55   \n",
       "12   SRR11674018 Kalu_18-Q3-R12-55  rosella_bin.1368_Kalu_18-Q3-R12-55   \n",
       "13   SRR11674022 Hjor_18-Q3-R7-51   rosella_bin.1368_Kalu_18-Q3-R12-55   \n",
       "14   SRR11674025 Hirt_18-Q3-R61-65  rosella_bin.1368_Kalu_18-Q3-R12-55   \n",
       "15   SRR11674031 Hade_18-Q3-R52-61  rosella_bin.1368_Kalu_18-Q3-R12-55   \n",
       "16   SRR11674035 Fred_18-Q3-R57-64  rosella_bin.1368_Kalu_18-Q3-R12-55   \n",
       "17   SRR11674038 EsbW_18-Q3-R4-48   rosella_bin.1368_Kalu_18-Q3-R12-55   \n",
       "18   SRR11674041 EsbE_18-Q3-R3-47   rosella_bin.1368_Kalu_18-Q3-R12-55   \n",
       "19   SRR11674044 Ejby_18-Q3-R6-50   rosella_bin.1368_Kalu_18-Q3-R12-55   \n",
       "20   SRR11674045 AalE_18-Q3-R2-46   rosella_bin.1368_Kalu_18-Q3-R12-55   \n",
       "21   SRR11674048 Ega_18-Q3-R5-49    rosella_bin.1368_Kalu_18-Q3-R12-55   \n",
       "22   SRR11674051 Damh_18-Q3-R51-60  rosella_bin.1368_Kalu_18-Q3-R12-55   \n",
       "23   SRR11674054 Bjer_18-Q3-R1-45   rosella_bin.1368_Kalu_18-Q3-R12-55   \n",
       "24   SRR11673976 Aved_18-Q3-R54-62  rosella_bin.1369_Kalu_18-Q3-R12-55   \n",
       "25   SRR11673989 Viby_18-Q3-R106-67 rosella_bin.1369_Kalu_18-Q3-R12-55   \n",
       "26   SRR11673992 Vibo_18-Q3-R45-57  rosella_bin.1369_Kalu_18-Q3-R12-55   \n",
       "27   SRR11673995 Skiv_18-Q3-R9-52   rosella_bin.1369_Kalu_18-Q3-R12-55   \n",
       "28   SRR11673999 Ribe_18-Q3-R11-54  rosella_bin.1369_Kalu_18-Q3-R12-55   \n",
       "29   SRR11674002 Rand_18-Q3-R56-63  rosella_bin.1369_Kalu_18-Q3-R12-55   \n",
       "30   SRR11674005 OdNW_18-Q3-R42-56  rosella_bin.1369_Kalu_18-Q3-R12-55   \n",
       "⋮    ⋮           ⋮                  ⋮                                    \n",
       "1236 SRR11674038 EsbW_18-Q3-R4-48   rosella_bin.4086_AalW_18-Q3-R10-53   \n",
       "1237 SRR11674041 EsbE_18-Q3-R3-47   rosella_bin.4086_AalW_18-Q3-R10-53   \n",
       "1238 SRR11674044 Ejby_18-Q3-R6-50   rosella_bin.4086_AalW_18-Q3-R10-53   \n",
       "1239 SRR11674045 AalE_18-Q3-R2-46   rosella_bin.4086_AalW_18-Q3-R10-53   \n",
       "1240 SRR11674048 Ega_18-Q3-R5-49    rosella_bin.4086_AalW_18-Q3-R10-53   \n",
       "1241 SRR11674051 Damh_18-Q3-R51-60  rosella_bin.4086_AalW_18-Q3-R10-53   \n",
       "1242 SRR11674054 Bjer_18-Q3-R1-45   rosella_bin.4086_AalW_18-Q3-R10-53   \n",
       "1243 SRR11673976 Aved_18-Q3-R54-62  rosella_refine.1594_Ribe_18-Q3-R11-54\n",
       "1244 SRR11673989 Viby_18-Q3-R106-67 rosella_refine.1594_Ribe_18-Q3-R11-54\n",
       "1245 SRR11673992 Vibo_18-Q3-R45-57  rosella_refine.1594_Ribe_18-Q3-R11-54\n",
       "1246 SRR11673995 Skiv_18-Q3-R9-52   rosella_refine.1594_Ribe_18-Q3-R11-54\n",
       "1247 SRR11673999 Ribe_18-Q3-R11-54  rosella_refine.1594_Ribe_18-Q3-R11-54\n",
       "1248 SRR11674002 Rand_18-Q3-R56-63  rosella_refine.1594_Ribe_18-Q3-R11-54\n",
       "1249 SRR11674005 OdNW_18-Q3-R42-56  rosella_refine.1594_Ribe_18-Q3-R11-54\n",
       "1250 SRR11674008 OdNE_18-Q3-R46-58  rosella_refine.1594_Ribe_18-Q3-R11-54\n",
       "1251 SRR11674009 AalW_18-Q3-R10-53  rosella_refine.1594_Ribe_18-Q3-R11-54\n",
       "1252 SRR11674012 Mari_18-Q3-R65-66  rosella_refine.1594_Ribe_18-Q3-R11-54\n",
       "1253 SRR11674015 Lyne_18-Q3-R50-59  rosella_refine.1594_Ribe_18-Q3-R11-54\n",
       "1254 SRR11674018 Kalu_18-Q3-R12-55  rosella_refine.1594_Ribe_18-Q3-R11-54\n",
       "1255 SRR11674022 Hjor_18-Q3-R7-51   rosella_refine.1594_Ribe_18-Q3-R11-54\n",
       "1256 SRR11674025 Hirt_18-Q3-R61-65  rosella_refine.1594_Ribe_18-Q3-R11-54\n",
       "1257 SRR11674031 Hade_18-Q3-R52-61  rosella_refine.1594_Ribe_18-Q3-R11-54\n",
       "1258 SRR11674035 Fred_18-Q3-R57-64  rosella_refine.1594_Ribe_18-Q3-R11-54\n",
       "1259 SRR11674038 EsbW_18-Q3-R4-48   rosella_refine.1594_Ribe_18-Q3-R11-54\n",
       "1260 SRR11674041 EsbE_18-Q3-R3-47   rosella_refine.1594_Ribe_18-Q3-R11-54\n",
       "1261 SRR11674044 Ejby_18-Q3-R6-50   rosella_refine.1594_Ribe_18-Q3-R11-54\n",
       "1262 SRR11674045 AalE_18-Q3-R2-46   rosella_refine.1594_Ribe_18-Q3-R11-54\n",
       "1263 SRR11674048 Ega_18-Q3-R5-49    rosella_refine.1594_Ribe_18-Q3-R11-54\n",
       "1264 SRR11674051 Damh_18-Q3-R51-60  rosella_refine.1594_Ribe_18-Q3-R11-54\n",
       "1265 SRR11674054 Bjer_18-Q3-R1-45   rosella_refine.1594_Ribe_18-Q3-R11-54\n",
       "     value     \n",
       "1     0.0000000\n",
       "2     0.0000000\n",
       "3     0.0000000\n",
       "4     0.0000000\n",
       "5     0.0000000\n",
       "6     0.6185719\n",
       "7     0.0000000\n",
       "8     0.0000000\n",
       "9     0.0000000\n",
       "10    0.2825570\n",
       "11    0.0000000\n",
       "12    0.0000000\n",
       "13    0.0000000\n",
       "14   17.4629200\n",
       "15    0.0000000\n",
       "16    0.0000000\n",
       "17    0.0000000\n",
       "18    0.0000000\n",
       "19    0.0000000\n",
       "20    0.0000000\n",
       "21    0.0000000\n",
       "22    0.0000000\n",
       "23    0.0000000\n",
       "24    1.1418285\n",
       "25    0.9259212\n",
       "26    2.0078552\n",
       "27    1.8659992\n",
       "28    1.0357236\n",
       "29    2.2406406\n",
       "30    2.1417820\n",
       "⋮    ⋮         \n",
       "1236  9.6464280\n",
       "1237  1.5885923\n",
       "1238  0.9216647\n",
       "1239  4.1702123\n",
       "1240  1.1055115\n",
       "1241  0.0000000\n",
       "1242  0.0000000\n",
       "1243  0.0000000\n",
       "1244  0.0000000\n",
       "1245  0.0000000\n",
       "1246  0.4027134\n",
       "1247  0.4422162\n",
       "1248  0.2760945\n",
       "1249  0.5543626\n",
       "1250  0.6370767\n",
       "1251  0.0000000\n",
       "1252 41.8524400\n",
       "1253  7.1028970\n",
       "1254  0.0000000\n",
       "1255  0.0000000\n",
       "1256  0.6788088\n",
       "1257  0.0000000\n",
       "1258  0.0000000\n",
       "1259  0.3188973\n",
       "1260  0.2481659\n",
       "1261  0.5049206\n",
       "1262  0.8719370\n",
       "1263  0.0000000\n",
       "1264 51.5415150\n",
       "1265  0.0000000"
      ]
     },
     "metadata": {},
     "output_type": "display_data"
    }
   ],
   "source": [
    "sample_to_sra <- fread(\"/mnt/hpccs01/scratch/microbiome/n10853499/00-rosella_testing/02-activated_sludge/assembly/00-singleton_analysis/sample_to_sra.tsv\", header=FALSE)\n",
    "abundances <- fread(\"/mnt/hpccs01/scratch/microbiome/n10853499/00-rosella_testing/02-activated_sludge/assembly/00-singleton_analysis/singleton_abundances.tsv\")\n",
    "colnames(abundances) <- c(\"Genome\", sample_to_sra$V1)\n",
    "abundances_melt <- as.data.table(melt(abundances[Genome != \"unmapped\"]))\n",
    "abundances_melt[, plot:=\"abundance\"]\n",
    "# a_plot <- ggplot(abundances_melt, aes(fill=value, y=Genome, x=variable)) + \n",
    "#     geom_tile() + \n",
    "#     labs(fill=\"Relative\\nabundance (%)\", x = \"Sample\", y = \"Genome\") + \n",
    "#     scale_fill_viridis(option=\"magma\") + \n",
    "# #     geom_text(aes(y=assembly_size + 3500000, x=assembler, label=max_contig_size), size=2) + \n",
    "#     theme(panel.grid.major = element_blank(),\n",
    "#           panel.grid.minor = element_blank(),\n",
    "#           legend.position=\"right\",\n",
    "#           legend.direction=\"vertical\", \n",
    "#           legend.text=element_text(size=10),\n",
    "#           axis.text.x=element_blank(),\n",
    "#           axis.title.x=element_blank()\n",
    "#         )\n",
    "\n",
    "# coverages <- fread(\"/mnt/hpccs01/scratch/microbiome/n10853499/00-rosella_testing/02-activated_sludge/assembly/00-singleton_analysis/singleton_coverages.tsv\")\n",
    "# colnames(coverages) <- c(\"Genome\", sample_to_sra$V1)\n",
    "# coverages_melt <- as.data.table(melt(coverages[Genome != \"unmapped\"]))\n",
    "# coverages_melt[, plot:=\"coverage\"]\n",
    "# c_plot <- ggplot(coverages_melt, aes(fill=value, y=Genome, x=variable)) + \n",
    "#     geom_tile() + \n",
    "#     labs(fill=\"Coverage         \", x = \"Sample\", y = \"Genome\") + \n",
    "#     scale_fill_viridis(option=\"magma\") + \n",
    "# #     geom_text(aes(y=assembly_size + 3500000, x=assembler, label=max_contig_size), size=2) + \n",
    "#     theme(panel.grid.major = element_blank(),\n",
    "#           panel.grid.minor = element_blank(),\n",
    "#           legend.position=\"right\",\n",
    "#           legend.direction=\"vertical\", \n",
    "#           legend.text=element_text(size=10),\n",
    "#           axis.text.x=element_text(angle=45, hjust=1, vjust=1)\n",
    "#          )\n",
    "\n",
    "# ?scale_fill_viridis\n",
    "# ggarrange(a_plot, c_plot, nrow=2, heights=c(0.43, 0.57))\n",
    "# ggsave(\"singleton_abundances_coverages.png\", width=8, height=12, dpi=60\n",
    "# lapply(unique(all_ani_values$con$genome), function(x) {\n",
    "#     print(x)\n",
    "#     print(all_ani_values$con[genome==x])\n",
    "#     }\n",
    "#       )\n",
    "all_ani_values$con\n",
    "# melt(coverages)"
   ]
  },
  {
   "cell_type": "code",
   "execution_count": 25,
   "metadata": {},
   "outputs": [
    {
     "name": "stderr",
     "output_type": "stream",
     "text": [
      "Using SampleID, sra_id, sample_name, genome as id variables\n",
      "\n"
     ]
    },
    {
     "data": {
      "text/html": [
       "<table class=\"dataframe\">\n",
       "<caption>A data.frame: 58190 × 6</caption>\n",
       "<thead>\n",
       "\t<tr><th scope=col>SampleID</th><th scope=col>sra_id</th><th scope=col>sample_name</th><th scope=col>genome</th><th scope=col>variable</th><th scope=col>value</th></tr>\n",
       "\t<tr><th scope=col>&lt;fct&gt;</th><th scope=col>&lt;chr&gt;</th><th scope=col>&lt;chr&gt;</th><th scope=col>&lt;chr&gt;</th><th scope=col>&lt;fct&gt;</th><th scope=col>&lt;dbl&gt;</th></tr>\n",
       "</thead>\n",
       "<tbody>\n",
       "\t<tr><td>1 </td><td>SRR11673976</td><td>Aved_18-Q3-R54-62 </td><td>rosella_bin.1368_Kalu_18-Q3-R12-55</td><td>Aved_18-Q3-R54-62.x</td><td>1.0000000</td></tr>\n",
       "\t<tr><td>2 </td><td>SRR11673989</td><td>Viby_18-Q3-R106-67</td><td>rosella_bin.1368_Kalu_18-Q3-R12-55</td><td>Aved_18-Q3-R54-62.x</td><td>1.0000000</td></tr>\n",
       "\t<tr><td>3 </td><td>SRR11673992</td><td>Vibo_18-Q3-R45-57 </td><td>rosella_bin.1368_Kalu_18-Q3-R12-55</td><td>Aved_18-Q3-R54-62.x</td><td>1.0000000</td></tr>\n",
       "\t<tr><td>4 </td><td>SRR11673995</td><td>Skiv_18-Q3-R9-52  </td><td>rosella_bin.1368_Kalu_18-Q3-R12-55</td><td>Aved_18-Q3-R54-62.x</td><td>1.0000000</td></tr>\n",
       "\t<tr><td>5 </td><td>SRR11673999</td><td>Ribe_18-Q3-R11-54 </td><td>rosella_bin.1368_Kalu_18-Q3-R12-55</td><td>Aved_18-Q3-R54-62.x</td><td>1.0000000</td></tr>\n",
       "\t<tr><td>6 </td><td>SRR11674002</td><td>Rand_18-Q3-R56-63 </td><td>rosella_bin.1368_Kalu_18-Q3-R12-55</td><td>Aved_18-Q3-R54-62.x</td><td>1.0000000</td></tr>\n",
       "\t<tr><td>7 </td><td>SRR11674005</td><td>OdNW_18-Q3-R42-56 </td><td>rosella_bin.1368_Kalu_18-Q3-R12-55</td><td>Aved_18-Q3-R54-62.x</td><td>1.0000000</td></tr>\n",
       "\t<tr><td>8 </td><td>SRR11674008</td><td>OdNE_18-Q3-R46-58 </td><td>rosella_bin.1368_Kalu_18-Q3-R12-55</td><td>Aved_18-Q3-R54-62.x</td><td>1.0000000</td></tr>\n",
       "\t<tr><td>9 </td><td>SRR11674009</td><td>AalW_18-Q3-R10-53 </td><td>rosella_bin.1368_Kalu_18-Q3-R12-55</td><td>Aved_18-Q3-R54-62.x</td><td>1.0000000</td></tr>\n",
       "\t<tr><td>10</td><td>SRR11674012</td><td>Mari_18-Q3-R65-66 </td><td>rosella_bin.1368_Kalu_18-Q3-R12-55</td><td>Aved_18-Q3-R54-62.x</td><td>1.0000000</td></tr>\n",
       "\t<tr><td>11</td><td>SRR11674015</td><td>Lyne_18-Q3-R50-59 </td><td>rosella_bin.1368_Kalu_18-Q3-R12-55</td><td>Aved_18-Q3-R54-62.x</td><td>1.0000000</td></tr>\n",
       "\t<tr><td>12</td><td>SRR11674018</td><td>Kalu_18-Q3-R12-55 </td><td>rosella_bin.1368_Kalu_18-Q3-R12-55</td><td>Aved_18-Q3-R54-62.x</td><td>1.0000000</td></tr>\n",
       "\t<tr><td>13</td><td>SRR11674022</td><td>Hjor_18-Q3-R7-51  </td><td>rosella_bin.1368_Kalu_18-Q3-R12-55</td><td>Aved_18-Q3-R54-62.x</td><td>1.0000000</td></tr>\n",
       "\t<tr><td>14</td><td>SRR11674025</td><td>Hirt_18-Q3-R61-65 </td><td>rosella_bin.1368_Kalu_18-Q3-R12-55</td><td>Aved_18-Q3-R54-62.x</td><td>1.0000000</td></tr>\n",
       "\t<tr><td>15</td><td>SRR11674031</td><td>Hade_18-Q3-R52-61 </td><td>rosella_bin.1368_Kalu_18-Q3-R12-55</td><td>Aved_18-Q3-R54-62.x</td><td>1.0000000</td></tr>\n",
       "\t<tr><td>16</td><td>SRR11674035</td><td>Fred_18-Q3-R57-64 </td><td>rosella_bin.1368_Kalu_18-Q3-R12-55</td><td>Aved_18-Q3-R54-62.x</td><td>1.0000000</td></tr>\n",
       "\t<tr><td>17</td><td>SRR11674038</td><td>EsbW_18-Q3-R4-48  </td><td>rosella_bin.1368_Kalu_18-Q3-R12-55</td><td>Aved_18-Q3-R54-62.x</td><td>1.0000000</td></tr>\n",
       "\t<tr><td>18</td><td>SRR11674041</td><td>EsbE_18-Q3-R3-47  </td><td>rosella_bin.1368_Kalu_18-Q3-R12-55</td><td>Aved_18-Q3-R54-62.x</td><td>1.0000000</td></tr>\n",
       "\t<tr><td>19</td><td>SRR11674044</td><td>Ejby_18-Q3-R6-50  </td><td>rosella_bin.1368_Kalu_18-Q3-R12-55</td><td>Aved_18-Q3-R54-62.x</td><td>1.0000000</td></tr>\n",
       "\t<tr><td>20</td><td>SRR11674045</td><td>AalE_18-Q3-R2-46  </td><td>rosella_bin.1368_Kalu_18-Q3-R12-55</td><td>Aved_18-Q3-R54-62.x</td><td>1.0000000</td></tr>\n",
       "\t<tr><td>21</td><td>SRR11674048</td><td>Ega_18-Q3-R5-49   </td><td>rosella_bin.1368_Kalu_18-Q3-R12-55</td><td>Aved_18-Q3-R54-62.x</td><td>1.0000000</td></tr>\n",
       "\t<tr><td>22</td><td>SRR11674051</td><td>Damh_18-Q3-R51-60 </td><td>rosella_bin.1368_Kalu_18-Q3-R12-55</td><td>Aved_18-Q3-R54-62.x</td><td>1.0000000</td></tr>\n",
       "\t<tr><td>23</td><td>SRR11674054</td><td>Bjer_18-Q3-R1-45  </td><td>rosella_bin.1368_Kalu_18-Q3-R12-55</td><td>Aved_18-Q3-R54-62.x</td><td>1.0000000</td></tr>\n",
       "\t<tr><td>1 </td><td>SRR11673976</td><td>Aved_18-Q3-R54-62 </td><td>rosella_bin.1369_Kalu_18-Q3-R12-55</td><td>Aved_18-Q3-R54-62.x</td><td>0.9995550</td></tr>\n",
       "\t<tr><td>2 </td><td>SRR11673989</td><td>Viby_18-Q3-R106-67</td><td>rosella_bin.1369_Kalu_18-Q3-R12-55</td><td>Aved_18-Q3-R54-62.x</td><td>0.9999922</td></tr>\n",
       "\t<tr><td>3 </td><td>SRR11673992</td><td>Vibo_18-Q3-R45-57 </td><td>rosella_bin.1369_Kalu_18-Q3-R12-55</td><td>Aved_18-Q3-R54-62.x</td><td>0.9999772</td></tr>\n",
       "\t<tr><td>4 </td><td>SRR11673995</td><td>Skiv_18-Q3-R9-52  </td><td>rosella_bin.1369_Kalu_18-Q3-R12-55</td><td>Aved_18-Q3-R54-62.x</td><td>0.9999621</td></tr>\n",
       "\t<tr><td>5 </td><td>SRR11673999</td><td>Ribe_18-Q3-R11-54 </td><td>rosella_bin.1369_Kalu_18-Q3-R12-55</td><td>Aved_18-Q3-R54-62.x</td><td>0.9999821</td></tr>\n",
       "\t<tr><td>6 </td><td>SRR11674002</td><td>Rand_18-Q3-R56-63 </td><td>rosella_bin.1369_Kalu_18-Q3-R12-55</td><td>Aved_18-Q3-R54-62.x</td><td>0.9999703</td></tr>\n",
       "\t<tr><td>7 </td><td>SRR11674005</td><td>OdNW_18-Q3-R42-56 </td><td>rosella_bin.1369_Kalu_18-Q3-R12-55</td><td>Aved_18-Q3-R54-62.x</td><td>0.9999489</td></tr>\n",
       "\t<tr><td>⋮</td><td>⋮</td><td>⋮</td><td>⋮</td><td>⋮</td><td>⋮</td></tr>\n",
       "\t<tr><td>17</td><td>SRR11674038</td><td>EsbW_18-Q3-R4-48  </td><td>rosella_bin.4086_AalW_18-Q3-R10-53   </td><td>Viby_18-Q3-R106-67.y</td><td>3.349489</td></tr>\n",
       "\t<tr><td>18</td><td>SRR11674041</td><td>EsbE_18-Q3-R3-47  </td><td>rosella_bin.4086_AalW_18-Q3-R10-53   </td><td>Viby_18-Q3-R106-67.y</td><td>3.349489</td></tr>\n",
       "\t<tr><td>19</td><td>SRR11674044</td><td>Ejby_18-Q3-R6-50  </td><td>rosella_bin.4086_AalW_18-Q3-R10-53   </td><td>Viby_18-Q3-R106-67.y</td><td>3.349489</td></tr>\n",
       "\t<tr><td>20</td><td>SRR11674045</td><td>AalE_18-Q3-R2-46  </td><td>rosella_bin.4086_AalW_18-Q3-R10-53   </td><td>Viby_18-Q3-R106-67.y</td><td>3.349489</td></tr>\n",
       "\t<tr><td>21</td><td>SRR11674048</td><td>Ega_18-Q3-R5-49   </td><td>rosella_bin.4086_AalW_18-Q3-R10-53   </td><td>Viby_18-Q3-R106-67.y</td><td>3.349489</td></tr>\n",
       "\t<tr><td>22</td><td>SRR11674051</td><td>Damh_18-Q3-R51-60 </td><td>rosella_bin.4086_AalW_18-Q3-R10-53   </td><td>Viby_18-Q3-R106-67.y</td><td>3.349489</td></tr>\n",
       "\t<tr><td>23</td><td>SRR11674054</td><td>Bjer_18-Q3-R1-45  </td><td>rosella_bin.4086_AalW_18-Q3-R10-53   </td><td>Viby_18-Q3-R106-67.y</td><td>3.349489</td></tr>\n",
       "\t<tr><td>1 </td><td>SRR11673976</td><td>Aved_18-Q3-R54-62 </td><td>rosella_refine.1594_Ribe_18-Q3-R11-54</td><td>Viby_18-Q3-R106-67.y</td><td>0.000000</td></tr>\n",
       "\t<tr><td>2 </td><td>SRR11673989</td><td>Viby_18-Q3-R106-67</td><td>rosella_refine.1594_Ribe_18-Q3-R11-54</td><td>Viby_18-Q3-R106-67.y</td><td>0.000000</td></tr>\n",
       "\t<tr><td>3 </td><td>SRR11673992</td><td>Vibo_18-Q3-R45-57 </td><td>rosella_refine.1594_Ribe_18-Q3-R11-54</td><td>Viby_18-Q3-R106-67.y</td><td>0.000000</td></tr>\n",
       "\t<tr><td>4 </td><td>SRR11673995</td><td>Skiv_18-Q3-R9-52  </td><td>rosella_refine.1594_Ribe_18-Q3-R11-54</td><td>Viby_18-Q3-R106-67.y</td><td>0.000000</td></tr>\n",
       "\t<tr><td>5 </td><td>SRR11673999</td><td>Ribe_18-Q3-R11-54 </td><td>rosella_refine.1594_Ribe_18-Q3-R11-54</td><td>Viby_18-Q3-R106-67.y</td><td>0.000000</td></tr>\n",
       "\t<tr><td>6 </td><td>SRR11674002</td><td>Rand_18-Q3-R56-63 </td><td>rosella_refine.1594_Ribe_18-Q3-R11-54</td><td>Viby_18-Q3-R106-67.y</td><td>0.000000</td></tr>\n",
       "\t<tr><td>7 </td><td>SRR11674005</td><td>OdNW_18-Q3-R42-56 </td><td>rosella_refine.1594_Ribe_18-Q3-R11-54</td><td>Viby_18-Q3-R106-67.y</td><td>0.000000</td></tr>\n",
       "\t<tr><td>8 </td><td>SRR11674008</td><td>OdNE_18-Q3-R46-58 </td><td>rosella_refine.1594_Ribe_18-Q3-R11-54</td><td>Viby_18-Q3-R106-67.y</td><td>0.000000</td></tr>\n",
       "\t<tr><td>9 </td><td>SRR11674009</td><td>AalW_18-Q3-R10-53 </td><td>rosella_refine.1594_Ribe_18-Q3-R11-54</td><td>Viby_18-Q3-R106-67.y</td><td>0.000000</td></tr>\n",
       "\t<tr><td>10</td><td>SRR11674012</td><td>Mari_18-Q3-R65-66 </td><td>rosella_refine.1594_Ribe_18-Q3-R11-54</td><td>Viby_18-Q3-R106-67.y</td><td>0.000000</td></tr>\n",
       "\t<tr><td>11</td><td>SRR11674015</td><td>Lyne_18-Q3-R50-59 </td><td>rosella_refine.1594_Ribe_18-Q3-R11-54</td><td>Viby_18-Q3-R106-67.y</td><td>0.000000</td></tr>\n",
       "\t<tr><td>12</td><td>SRR11674018</td><td>Kalu_18-Q3-R12-55 </td><td>rosella_refine.1594_Ribe_18-Q3-R11-54</td><td>Viby_18-Q3-R106-67.y</td><td>0.000000</td></tr>\n",
       "\t<tr><td>13</td><td>SRR11674022</td><td>Hjor_18-Q3-R7-51  </td><td>rosella_refine.1594_Ribe_18-Q3-R11-54</td><td>Viby_18-Q3-R106-67.y</td><td>0.000000</td></tr>\n",
       "\t<tr><td>14</td><td>SRR11674025</td><td>Hirt_18-Q3-R61-65 </td><td>rosella_refine.1594_Ribe_18-Q3-R11-54</td><td>Viby_18-Q3-R106-67.y</td><td>0.000000</td></tr>\n",
       "\t<tr><td>15</td><td>SRR11674031</td><td>Hade_18-Q3-R52-61 </td><td>rosella_refine.1594_Ribe_18-Q3-R11-54</td><td>Viby_18-Q3-R106-67.y</td><td>0.000000</td></tr>\n",
       "\t<tr><td>16</td><td>SRR11674035</td><td>Fred_18-Q3-R57-64 </td><td>rosella_refine.1594_Ribe_18-Q3-R11-54</td><td>Viby_18-Q3-R106-67.y</td><td>0.000000</td></tr>\n",
       "\t<tr><td>17</td><td>SRR11674038</td><td>EsbW_18-Q3-R4-48  </td><td>rosella_refine.1594_Ribe_18-Q3-R11-54</td><td>Viby_18-Q3-R106-67.y</td><td>0.000000</td></tr>\n",
       "\t<tr><td>18</td><td>SRR11674041</td><td>EsbE_18-Q3-R3-47  </td><td>rosella_refine.1594_Ribe_18-Q3-R11-54</td><td>Viby_18-Q3-R106-67.y</td><td>0.000000</td></tr>\n",
       "\t<tr><td>19</td><td>SRR11674044</td><td>Ejby_18-Q3-R6-50  </td><td>rosella_refine.1594_Ribe_18-Q3-R11-54</td><td>Viby_18-Q3-R106-67.y</td><td>0.000000</td></tr>\n",
       "\t<tr><td>20</td><td>SRR11674045</td><td>AalE_18-Q3-R2-46  </td><td>rosella_refine.1594_Ribe_18-Q3-R11-54</td><td>Viby_18-Q3-R106-67.y</td><td>0.000000</td></tr>\n",
       "\t<tr><td>21</td><td>SRR11674048</td><td>Ega_18-Q3-R5-49   </td><td>rosella_refine.1594_Ribe_18-Q3-R11-54</td><td>Viby_18-Q3-R106-67.y</td><td>0.000000</td></tr>\n",
       "\t<tr><td>22</td><td>SRR11674051</td><td>Damh_18-Q3-R51-60 </td><td>rosella_refine.1594_Ribe_18-Q3-R11-54</td><td>Viby_18-Q3-R106-67.y</td><td>0.000000</td></tr>\n",
       "\t<tr><td>23</td><td>SRR11674054</td><td>Bjer_18-Q3-R1-45  </td><td>rosella_refine.1594_Ribe_18-Q3-R11-54</td><td>Viby_18-Q3-R106-67.y</td><td>0.000000</td></tr>\n",
       "</tbody>\n",
       "</table>\n"
      ],
      "text/latex": [
       "A data.frame: 58190 × 6\n",
       "\\begin{tabular}{llllll}\n",
       " SampleID & sra\\_id & sample\\_name & genome & variable & value\\\\\n",
       " <fct> & <chr> & <chr> & <chr> & <fct> & <dbl>\\\\\n",
       "\\hline\n",
       "\t 1  & SRR11673976 & Aved\\_18-Q3-R54-62  & rosella\\_bin.1368\\_Kalu\\_18-Q3-R12-55 & Aved\\_18-Q3-R54-62.x & 1.0000000\\\\\n",
       "\t 2  & SRR11673989 & Viby\\_18-Q3-R106-67 & rosella\\_bin.1368\\_Kalu\\_18-Q3-R12-55 & Aved\\_18-Q3-R54-62.x & 1.0000000\\\\\n",
       "\t 3  & SRR11673992 & Vibo\\_18-Q3-R45-57  & rosella\\_bin.1368\\_Kalu\\_18-Q3-R12-55 & Aved\\_18-Q3-R54-62.x & 1.0000000\\\\\n",
       "\t 4  & SRR11673995 & Skiv\\_18-Q3-R9-52   & rosella\\_bin.1368\\_Kalu\\_18-Q3-R12-55 & Aved\\_18-Q3-R54-62.x & 1.0000000\\\\\n",
       "\t 5  & SRR11673999 & Ribe\\_18-Q3-R11-54  & rosella\\_bin.1368\\_Kalu\\_18-Q3-R12-55 & Aved\\_18-Q3-R54-62.x & 1.0000000\\\\\n",
       "\t 6  & SRR11674002 & Rand\\_18-Q3-R56-63  & rosella\\_bin.1368\\_Kalu\\_18-Q3-R12-55 & Aved\\_18-Q3-R54-62.x & 1.0000000\\\\\n",
       "\t 7  & SRR11674005 & OdNW\\_18-Q3-R42-56  & rosella\\_bin.1368\\_Kalu\\_18-Q3-R12-55 & Aved\\_18-Q3-R54-62.x & 1.0000000\\\\\n",
       "\t 8  & SRR11674008 & OdNE\\_18-Q3-R46-58  & rosella\\_bin.1368\\_Kalu\\_18-Q3-R12-55 & Aved\\_18-Q3-R54-62.x & 1.0000000\\\\\n",
       "\t 9  & SRR11674009 & AalW\\_18-Q3-R10-53  & rosella\\_bin.1368\\_Kalu\\_18-Q3-R12-55 & Aved\\_18-Q3-R54-62.x & 1.0000000\\\\\n",
       "\t 10 & SRR11674012 & Mari\\_18-Q3-R65-66  & rosella\\_bin.1368\\_Kalu\\_18-Q3-R12-55 & Aved\\_18-Q3-R54-62.x & 1.0000000\\\\\n",
       "\t 11 & SRR11674015 & Lyne\\_18-Q3-R50-59  & rosella\\_bin.1368\\_Kalu\\_18-Q3-R12-55 & Aved\\_18-Q3-R54-62.x & 1.0000000\\\\\n",
       "\t 12 & SRR11674018 & Kalu\\_18-Q3-R12-55  & rosella\\_bin.1368\\_Kalu\\_18-Q3-R12-55 & Aved\\_18-Q3-R54-62.x & 1.0000000\\\\\n",
       "\t 13 & SRR11674022 & Hjor\\_18-Q3-R7-51   & rosella\\_bin.1368\\_Kalu\\_18-Q3-R12-55 & Aved\\_18-Q3-R54-62.x & 1.0000000\\\\\n",
       "\t 14 & SRR11674025 & Hirt\\_18-Q3-R61-65  & rosella\\_bin.1368\\_Kalu\\_18-Q3-R12-55 & Aved\\_18-Q3-R54-62.x & 1.0000000\\\\\n",
       "\t 15 & SRR11674031 & Hade\\_18-Q3-R52-61  & rosella\\_bin.1368\\_Kalu\\_18-Q3-R12-55 & Aved\\_18-Q3-R54-62.x & 1.0000000\\\\\n",
       "\t 16 & SRR11674035 & Fred\\_18-Q3-R57-64  & rosella\\_bin.1368\\_Kalu\\_18-Q3-R12-55 & Aved\\_18-Q3-R54-62.x & 1.0000000\\\\\n",
       "\t 17 & SRR11674038 & EsbW\\_18-Q3-R4-48   & rosella\\_bin.1368\\_Kalu\\_18-Q3-R12-55 & Aved\\_18-Q3-R54-62.x & 1.0000000\\\\\n",
       "\t 18 & SRR11674041 & EsbE\\_18-Q3-R3-47   & rosella\\_bin.1368\\_Kalu\\_18-Q3-R12-55 & Aved\\_18-Q3-R54-62.x & 1.0000000\\\\\n",
       "\t 19 & SRR11674044 & Ejby\\_18-Q3-R6-50   & rosella\\_bin.1368\\_Kalu\\_18-Q3-R12-55 & Aved\\_18-Q3-R54-62.x & 1.0000000\\\\\n",
       "\t 20 & SRR11674045 & AalE\\_18-Q3-R2-46   & rosella\\_bin.1368\\_Kalu\\_18-Q3-R12-55 & Aved\\_18-Q3-R54-62.x & 1.0000000\\\\\n",
       "\t 21 & SRR11674048 & Ega\\_18-Q3-R5-49    & rosella\\_bin.1368\\_Kalu\\_18-Q3-R12-55 & Aved\\_18-Q3-R54-62.x & 1.0000000\\\\\n",
       "\t 22 & SRR11674051 & Damh\\_18-Q3-R51-60  & rosella\\_bin.1368\\_Kalu\\_18-Q3-R12-55 & Aved\\_18-Q3-R54-62.x & 1.0000000\\\\\n",
       "\t 23 & SRR11674054 & Bjer\\_18-Q3-R1-45   & rosella\\_bin.1368\\_Kalu\\_18-Q3-R12-55 & Aved\\_18-Q3-R54-62.x & 1.0000000\\\\\n",
       "\t 1  & SRR11673976 & Aved\\_18-Q3-R54-62  & rosella\\_bin.1369\\_Kalu\\_18-Q3-R12-55 & Aved\\_18-Q3-R54-62.x & 0.9995550\\\\\n",
       "\t 2  & SRR11673989 & Viby\\_18-Q3-R106-67 & rosella\\_bin.1369\\_Kalu\\_18-Q3-R12-55 & Aved\\_18-Q3-R54-62.x & 0.9999922\\\\\n",
       "\t 3  & SRR11673992 & Vibo\\_18-Q3-R45-57  & rosella\\_bin.1369\\_Kalu\\_18-Q3-R12-55 & Aved\\_18-Q3-R54-62.x & 0.9999772\\\\\n",
       "\t 4  & SRR11673995 & Skiv\\_18-Q3-R9-52   & rosella\\_bin.1369\\_Kalu\\_18-Q3-R12-55 & Aved\\_18-Q3-R54-62.x & 0.9999621\\\\\n",
       "\t 5  & SRR11673999 & Ribe\\_18-Q3-R11-54  & rosella\\_bin.1369\\_Kalu\\_18-Q3-R12-55 & Aved\\_18-Q3-R54-62.x & 0.9999821\\\\\n",
       "\t 6  & SRR11674002 & Rand\\_18-Q3-R56-63  & rosella\\_bin.1369\\_Kalu\\_18-Q3-R12-55 & Aved\\_18-Q3-R54-62.x & 0.9999703\\\\\n",
       "\t 7  & SRR11674005 & OdNW\\_18-Q3-R42-56  & rosella\\_bin.1369\\_Kalu\\_18-Q3-R12-55 & Aved\\_18-Q3-R54-62.x & 0.9999489\\\\\n",
       "\t ⋮ & ⋮ & ⋮ & ⋮ & ⋮ & ⋮\\\\\n",
       "\t 17 & SRR11674038 & EsbW\\_18-Q3-R4-48   & rosella\\_bin.4086\\_AalW\\_18-Q3-R10-53    & Viby\\_18-Q3-R106-67.y & 3.349489\\\\\n",
       "\t 18 & SRR11674041 & EsbE\\_18-Q3-R3-47   & rosella\\_bin.4086\\_AalW\\_18-Q3-R10-53    & Viby\\_18-Q3-R106-67.y & 3.349489\\\\\n",
       "\t 19 & SRR11674044 & Ejby\\_18-Q3-R6-50   & rosella\\_bin.4086\\_AalW\\_18-Q3-R10-53    & Viby\\_18-Q3-R106-67.y & 3.349489\\\\\n",
       "\t 20 & SRR11674045 & AalE\\_18-Q3-R2-46   & rosella\\_bin.4086\\_AalW\\_18-Q3-R10-53    & Viby\\_18-Q3-R106-67.y & 3.349489\\\\\n",
       "\t 21 & SRR11674048 & Ega\\_18-Q3-R5-49    & rosella\\_bin.4086\\_AalW\\_18-Q3-R10-53    & Viby\\_18-Q3-R106-67.y & 3.349489\\\\\n",
       "\t 22 & SRR11674051 & Damh\\_18-Q3-R51-60  & rosella\\_bin.4086\\_AalW\\_18-Q3-R10-53    & Viby\\_18-Q3-R106-67.y & 3.349489\\\\\n",
       "\t 23 & SRR11674054 & Bjer\\_18-Q3-R1-45   & rosella\\_bin.4086\\_AalW\\_18-Q3-R10-53    & Viby\\_18-Q3-R106-67.y & 3.349489\\\\\n",
       "\t 1  & SRR11673976 & Aved\\_18-Q3-R54-62  & rosella\\_refine.1594\\_Ribe\\_18-Q3-R11-54 & Viby\\_18-Q3-R106-67.y & 0.000000\\\\\n",
       "\t 2  & SRR11673989 & Viby\\_18-Q3-R106-67 & rosella\\_refine.1594\\_Ribe\\_18-Q3-R11-54 & Viby\\_18-Q3-R106-67.y & 0.000000\\\\\n",
       "\t 3  & SRR11673992 & Vibo\\_18-Q3-R45-57  & rosella\\_refine.1594\\_Ribe\\_18-Q3-R11-54 & Viby\\_18-Q3-R106-67.y & 0.000000\\\\\n",
       "\t 4  & SRR11673995 & Skiv\\_18-Q3-R9-52   & rosella\\_refine.1594\\_Ribe\\_18-Q3-R11-54 & Viby\\_18-Q3-R106-67.y & 0.000000\\\\\n",
       "\t 5  & SRR11673999 & Ribe\\_18-Q3-R11-54  & rosella\\_refine.1594\\_Ribe\\_18-Q3-R11-54 & Viby\\_18-Q3-R106-67.y & 0.000000\\\\\n",
       "\t 6  & SRR11674002 & Rand\\_18-Q3-R56-63  & rosella\\_refine.1594\\_Ribe\\_18-Q3-R11-54 & Viby\\_18-Q3-R106-67.y & 0.000000\\\\\n",
       "\t 7  & SRR11674005 & OdNW\\_18-Q3-R42-56  & rosella\\_refine.1594\\_Ribe\\_18-Q3-R11-54 & Viby\\_18-Q3-R106-67.y & 0.000000\\\\\n",
       "\t 8  & SRR11674008 & OdNE\\_18-Q3-R46-58  & rosella\\_refine.1594\\_Ribe\\_18-Q3-R11-54 & Viby\\_18-Q3-R106-67.y & 0.000000\\\\\n",
       "\t 9  & SRR11674009 & AalW\\_18-Q3-R10-53  & rosella\\_refine.1594\\_Ribe\\_18-Q3-R11-54 & Viby\\_18-Q3-R106-67.y & 0.000000\\\\\n",
       "\t 10 & SRR11674012 & Mari\\_18-Q3-R65-66  & rosella\\_refine.1594\\_Ribe\\_18-Q3-R11-54 & Viby\\_18-Q3-R106-67.y & 0.000000\\\\\n",
       "\t 11 & SRR11674015 & Lyne\\_18-Q3-R50-59  & rosella\\_refine.1594\\_Ribe\\_18-Q3-R11-54 & Viby\\_18-Q3-R106-67.y & 0.000000\\\\\n",
       "\t 12 & SRR11674018 & Kalu\\_18-Q3-R12-55  & rosella\\_refine.1594\\_Ribe\\_18-Q3-R11-54 & Viby\\_18-Q3-R106-67.y & 0.000000\\\\\n",
       "\t 13 & SRR11674022 & Hjor\\_18-Q3-R7-51   & rosella\\_refine.1594\\_Ribe\\_18-Q3-R11-54 & Viby\\_18-Q3-R106-67.y & 0.000000\\\\\n",
       "\t 14 & SRR11674025 & Hirt\\_18-Q3-R61-65  & rosella\\_refine.1594\\_Ribe\\_18-Q3-R11-54 & Viby\\_18-Q3-R106-67.y & 0.000000\\\\\n",
       "\t 15 & SRR11674031 & Hade\\_18-Q3-R52-61  & rosella\\_refine.1594\\_Ribe\\_18-Q3-R11-54 & Viby\\_18-Q3-R106-67.y & 0.000000\\\\\n",
       "\t 16 & SRR11674035 & Fred\\_18-Q3-R57-64  & rosella\\_refine.1594\\_Ribe\\_18-Q3-R11-54 & Viby\\_18-Q3-R106-67.y & 0.000000\\\\\n",
       "\t 17 & SRR11674038 & EsbW\\_18-Q3-R4-48   & rosella\\_refine.1594\\_Ribe\\_18-Q3-R11-54 & Viby\\_18-Q3-R106-67.y & 0.000000\\\\\n",
       "\t 18 & SRR11674041 & EsbE\\_18-Q3-R3-47   & rosella\\_refine.1594\\_Ribe\\_18-Q3-R11-54 & Viby\\_18-Q3-R106-67.y & 0.000000\\\\\n",
       "\t 19 & SRR11674044 & Ejby\\_18-Q3-R6-50   & rosella\\_refine.1594\\_Ribe\\_18-Q3-R11-54 & Viby\\_18-Q3-R106-67.y & 0.000000\\\\\n",
       "\t 20 & SRR11674045 & AalE\\_18-Q3-R2-46   & rosella\\_refine.1594\\_Ribe\\_18-Q3-R11-54 & Viby\\_18-Q3-R106-67.y & 0.000000\\\\\n",
       "\t 21 & SRR11674048 & Ega\\_18-Q3-R5-49    & rosella\\_refine.1594\\_Ribe\\_18-Q3-R11-54 & Viby\\_18-Q3-R106-67.y & 0.000000\\\\\n",
       "\t 22 & SRR11674051 & Damh\\_18-Q3-R51-60  & rosella\\_refine.1594\\_Ribe\\_18-Q3-R11-54 & Viby\\_18-Q3-R106-67.y & 0.000000\\\\\n",
       "\t 23 & SRR11674054 & Bjer\\_18-Q3-R1-45   & rosella\\_refine.1594\\_Ribe\\_18-Q3-R11-54 & Viby\\_18-Q3-R106-67.y & 0.000000\\\\\n",
       "\\end{tabular}\n"
      ],
      "text/markdown": [
       "\n",
       "A data.frame: 58190 × 6\n",
       "\n",
       "| SampleID &lt;fct&gt; | sra_id &lt;chr&gt; | sample_name &lt;chr&gt; | genome &lt;chr&gt; | variable &lt;fct&gt; | value &lt;dbl&gt; |\n",
       "|---|---|---|---|---|---|\n",
       "| 1  | SRR11673976 | Aved_18-Q3-R54-62  | rosella_bin.1368_Kalu_18-Q3-R12-55 | Aved_18-Q3-R54-62.x | 1.0000000 |\n",
       "| 2  | SRR11673989 | Viby_18-Q3-R106-67 | rosella_bin.1368_Kalu_18-Q3-R12-55 | Aved_18-Q3-R54-62.x | 1.0000000 |\n",
       "| 3  | SRR11673992 | Vibo_18-Q3-R45-57  | rosella_bin.1368_Kalu_18-Q3-R12-55 | Aved_18-Q3-R54-62.x | 1.0000000 |\n",
       "| 4  | SRR11673995 | Skiv_18-Q3-R9-52   | rosella_bin.1368_Kalu_18-Q3-R12-55 | Aved_18-Q3-R54-62.x | 1.0000000 |\n",
       "| 5  | SRR11673999 | Ribe_18-Q3-R11-54  | rosella_bin.1368_Kalu_18-Q3-R12-55 | Aved_18-Q3-R54-62.x | 1.0000000 |\n",
       "| 6  | SRR11674002 | Rand_18-Q3-R56-63  | rosella_bin.1368_Kalu_18-Q3-R12-55 | Aved_18-Q3-R54-62.x | 1.0000000 |\n",
       "| 7  | SRR11674005 | OdNW_18-Q3-R42-56  | rosella_bin.1368_Kalu_18-Q3-R12-55 | Aved_18-Q3-R54-62.x | 1.0000000 |\n",
       "| 8  | SRR11674008 | OdNE_18-Q3-R46-58  | rosella_bin.1368_Kalu_18-Q3-R12-55 | Aved_18-Q3-R54-62.x | 1.0000000 |\n",
       "| 9  | SRR11674009 | AalW_18-Q3-R10-53  | rosella_bin.1368_Kalu_18-Q3-R12-55 | Aved_18-Q3-R54-62.x | 1.0000000 |\n",
       "| 10 | SRR11674012 | Mari_18-Q3-R65-66  | rosella_bin.1368_Kalu_18-Q3-R12-55 | Aved_18-Q3-R54-62.x | 1.0000000 |\n",
       "| 11 | SRR11674015 | Lyne_18-Q3-R50-59  | rosella_bin.1368_Kalu_18-Q3-R12-55 | Aved_18-Q3-R54-62.x | 1.0000000 |\n",
       "| 12 | SRR11674018 | Kalu_18-Q3-R12-55  | rosella_bin.1368_Kalu_18-Q3-R12-55 | Aved_18-Q3-R54-62.x | 1.0000000 |\n",
       "| 13 | SRR11674022 | Hjor_18-Q3-R7-51   | rosella_bin.1368_Kalu_18-Q3-R12-55 | Aved_18-Q3-R54-62.x | 1.0000000 |\n",
       "| 14 | SRR11674025 | Hirt_18-Q3-R61-65  | rosella_bin.1368_Kalu_18-Q3-R12-55 | Aved_18-Q3-R54-62.x | 1.0000000 |\n",
       "| 15 | SRR11674031 | Hade_18-Q3-R52-61  | rosella_bin.1368_Kalu_18-Q3-R12-55 | Aved_18-Q3-R54-62.x | 1.0000000 |\n",
       "| 16 | SRR11674035 | Fred_18-Q3-R57-64  | rosella_bin.1368_Kalu_18-Q3-R12-55 | Aved_18-Q3-R54-62.x | 1.0000000 |\n",
       "| 17 | SRR11674038 | EsbW_18-Q3-R4-48   | rosella_bin.1368_Kalu_18-Q3-R12-55 | Aved_18-Q3-R54-62.x | 1.0000000 |\n",
       "| 18 | SRR11674041 | EsbE_18-Q3-R3-47   | rosella_bin.1368_Kalu_18-Q3-R12-55 | Aved_18-Q3-R54-62.x | 1.0000000 |\n",
       "| 19 | SRR11674044 | Ejby_18-Q3-R6-50   | rosella_bin.1368_Kalu_18-Q3-R12-55 | Aved_18-Q3-R54-62.x | 1.0000000 |\n",
       "| 20 | SRR11674045 | AalE_18-Q3-R2-46   | rosella_bin.1368_Kalu_18-Q3-R12-55 | Aved_18-Q3-R54-62.x | 1.0000000 |\n",
       "| 21 | SRR11674048 | Ega_18-Q3-R5-49    | rosella_bin.1368_Kalu_18-Q3-R12-55 | Aved_18-Q3-R54-62.x | 1.0000000 |\n",
       "| 22 | SRR11674051 | Damh_18-Q3-R51-60  | rosella_bin.1368_Kalu_18-Q3-R12-55 | Aved_18-Q3-R54-62.x | 1.0000000 |\n",
       "| 23 | SRR11674054 | Bjer_18-Q3-R1-45   | rosella_bin.1368_Kalu_18-Q3-R12-55 | Aved_18-Q3-R54-62.x | 1.0000000 |\n",
       "| 1  | SRR11673976 | Aved_18-Q3-R54-62  | rosella_bin.1369_Kalu_18-Q3-R12-55 | Aved_18-Q3-R54-62.x | 0.9995550 |\n",
       "| 2  | SRR11673989 | Viby_18-Q3-R106-67 | rosella_bin.1369_Kalu_18-Q3-R12-55 | Aved_18-Q3-R54-62.x | 0.9999922 |\n",
       "| 3  | SRR11673992 | Vibo_18-Q3-R45-57  | rosella_bin.1369_Kalu_18-Q3-R12-55 | Aved_18-Q3-R54-62.x | 0.9999772 |\n",
       "| 4  | SRR11673995 | Skiv_18-Q3-R9-52   | rosella_bin.1369_Kalu_18-Q3-R12-55 | Aved_18-Q3-R54-62.x | 0.9999621 |\n",
       "| 5  | SRR11673999 | Ribe_18-Q3-R11-54  | rosella_bin.1369_Kalu_18-Q3-R12-55 | Aved_18-Q3-R54-62.x | 0.9999821 |\n",
       "| 6  | SRR11674002 | Rand_18-Q3-R56-63  | rosella_bin.1369_Kalu_18-Q3-R12-55 | Aved_18-Q3-R54-62.x | 0.9999703 |\n",
       "| 7  | SRR11674005 | OdNW_18-Q3-R42-56  | rosella_bin.1369_Kalu_18-Q3-R12-55 | Aved_18-Q3-R54-62.x | 0.9999489 |\n",
       "| ⋮ | ⋮ | ⋮ | ⋮ | ⋮ | ⋮ |\n",
       "| 17 | SRR11674038 | EsbW_18-Q3-R4-48   | rosella_bin.4086_AalW_18-Q3-R10-53    | Viby_18-Q3-R106-67.y | 3.349489 |\n",
       "| 18 | SRR11674041 | EsbE_18-Q3-R3-47   | rosella_bin.4086_AalW_18-Q3-R10-53    | Viby_18-Q3-R106-67.y | 3.349489 |\n",
       "| 19 | SRR11674044 | Ejby_18-Q3-R6-50   | rosella_bin.4086_AalW_18-Q3-R10-53    | Viby_18-Q3-R106-67.y | 3.349489 |\n",
       "| 20 | SRR11674045 | AalE_18-Q3-R2-46   | rosella_bin.4086_AalW_18-Q3-R10-53    | Viby_18-Q3-R106-67.y | 3.349489 |\n",
       "| 21 | SRR11674048 | Ega_18-Q3-R5-49    | rosella_bin.4086_AalW_18-Q3-R10-53    | Viby_18-Q3-R106-67.y | 3.349489 |\n",
       "| 22 | SRR11674051 | Damh_18-Q3-R51-60  | rosella_bin.4086_AalW_18-Q3-R10-53    | Viby_18-Q3-R106-67.y | 3.349489 |\n",
       "| 23 | SRR11674054 | Bjer_18-Q3-R1-45   | rosella_bin.4086_AalW_18-Q3-R10-53    | Viby_18-Q3-R106-67.y | 3.349489 |\n",
       "| 1  | SRR11673976 | Aved_18-Q3-R54-62  | rosella_refine.1594_Ribe_18-Q3-R11-54 | Viby_18-Q3-R106-67.y | 0.000000 |\n",
       "| 2  | SRR11673989 | Viby_18-Q3-R106-67 | rosella_refine.1594_Ribe_18-Q3-R11-54 | Viby_18-Q3-R106-67.y | 0.000000 |\n",
       "| 3  | SRR11673992 | Vibo_18-Q3-R45-57  | rosella_refine.1594_Ribe_18-Q3-R11-54 | Viby_18-Q3-R106-67.y | 0.000000 |\n",
       "| 4  | SRR11673995 | Skiv_18-Q3-R9-52   | rosella_refine.1594_Ribe_18-Q3-R11-54 | Viby_18-Q3-R106-67.y | 0.000000 |\n",
       "| 5  | SRR11673999 | Ribe_18-Q3-R11-54  | rosella_refine.1594_Ribe_18-Q3-R11-54 | Viby_18-Q3-R106-67.y | 0.000000 |\n",
       "| 6  | SRR11674002 | Rand_18-Q3-R56-63  | rosella_refine.1594_Ribe_18-Q3-R11-54 | Viby_18-Q3-R106-67.y | 0.000000 |\n",
       "| 7  | SRR11674005 | OdNW_18-Q3-R42-56  | rosella_refine.1594_Ribe_18-Q3-R11-54 | Viby_18-Q3-R106-67.y | 0.000000 |\n",
       "| 8  | SRR11674008 | OdNE_18-Q3-R46-58  | rosella_refine.1594_Ribe_18-Q3-R11-54 | Viby_18-Q3-R106-67.y | 0.000000 |\n",
       "| 9  | SRR11674009 | AalW_18-Q3-R10-53  | rosella_refine.1594_Ribe_18-Q3-R11-54 | Viby_18-Q3-R106-67.y | 0.000000 |\n",
       "| 10 | SRR11674012 | Mari_18-Q3-R65-66  | rosella_refine.1594_Ribe_18-Q3-R11-54 | Viby_18-Q3-R106-67.y | 0.000000 |\n",
       "| 11 | SRR11674015 | Lyne_18-Q3-R50-59  | rosella_refine.1594_Ribe_18-Q3-R11-54 | Viby_18-Q3-R106-67.y | 0.000000 |\n",
       "| 12 | SRR11674018 | Kalu_18-Q3-R12-55  | rosella_refine.1594_Ribe_18-Q3-R11-54 | Viby_18-Q3-R106-67.y | 0.000000 |\n",
       "| 13 | SRR11674022 | Hjor_18-Q3-R7-51   | rosella_refine.1594_Ribe_18-Q3-R11-54 | Viby_18-Q3-R106-67.y | 0.000000 |\n",
       "| 14 | SRR11674025 | Hirt_18-Q3-R61-65  | rosella_refine.1594_Ribe_18-Q3-R11-54 | Viby_18-Q3-R106-67.y | 0.000000 |\n",
       "| 15 | SRR11674031 | Hade_18-Q3-R52-61  | rosella_refine.1594_Ribe_18-Q3-R11-54 | Viby_18-Q3-R106-67.y | 0.000000 |\n",
       "| 16 | SRR11674035 | Fred_18-Q3-R57-64  | rosella_refine.1594_Ribe_18-Q3-R11-54 | Viby_18-Q3-R106-67.y | 0.000000 |\n",
       "| 17 | SRR11674038 | EsbW_18-Q3-R4-48   | rosella_refine.1594_Ribe_18-Q3-R11-54 | Viby_18-Q3-R106-67.y | 0.000000 |\n",
       "| 18 | SRR11674041 | EsbE_18-Q3-R3-47   | rosella_refine.1594_Ribe_18-Q3-R11-54 | Viby_18-Q3-R106-67.y | 0.000000 |\n",
       "| 19 | SRR11674044 | Ejby_18-Q3-R6-50   | rosella_refine.1594_Ribe_18-Q3-R11-54 | Viby_18-Q3-R106-67.y | 0.000000 |\n",
       "| 20 | SRR11674045 | AalE_18-Q3-R2-46   | rosella_refine.1594_Ribe_18-Q3-R11-54 | Viby_18-Q3-R106-67.y | 0.000000 |\n",
       "| 21 | SRR11674048 | Ega_18-Q3-R5-49    | rosella_refine.1594_Ribe_18-Q3-R11-54 | Viby_18-Q3-R106-67.y | 0.000000 |\n",
       "| 22 | SRR11674051 | Damh_18-Q3-R51-60  | rosella_refine.1594_Ribe_18-Q3-R11-54 | Viby_18-Q3-R106-67.y | 0.000000 |\n",
       "| 23 | SRR11674054 | Bjer_18-Q3-R1-45   | rosella_refine.1594_Ribe_18-Q3-R11-54 | Viby_18-Q3-R106-67.y | 0.000000 |\n",
       "\n"
      ],
      "text/plain": [
       "      SampleID sra_id      sample_name       \n",
       "1     1        SRR11673976 Aved_18-Q3-R54-62 \n",
       "2     2        SRR11673989 Viby_18-Q3-R106-67\n",
       "3     3        SRR11673992 Vibo_18-Q3-R45-57 \n",
       "4     4        SRR11673995 Skiv_18-Q3-R9-52  \n",
       "5     5        SRR11673999 Ribe_18-Q3-R11-54 \n",
       "6     6        SRR11674002 Rand_18-Q3-R56-63 \n",
       "7     7        SRR11674005 OdNW_18-Q3-R42-56 \n",
       "8     8        SRR11674008 OdNE_18-Q3-R46-58 \n",
       "9     9        SRR11674009 AalW_18-Q3-R10-53 \n",
       "10    10       SRR11674012 Mari_18-Q3-R65-66 \n",
       "11    11       SRR11674015 Lyne_18-Q3-R50-59 \n",
       "12    12       SRR11674018 Kalu_18-Q3-R12-55 \n",
       "13    13       SRR11674022 Hjor_18-Q3-R7-51  \n",
       "14    14       SRR11674025 Hirt_18-Q3-R61-65 \n",
       "15    15       SRR11674031 Hade_18-Q3-R52-61 \n",
       "16    16       SRR11674035 Fred_18-Q3-R57-64 \n",
       "17    17       SRR11674038 EsbW_18-Q3-R4-48  \n",
       "18    18       SRR11674041 EsbE_18-Q3-R3-47  \n",
       "19    19       SRR11674044 Ejby_18-Q3-R6-50  \n",
       "20    20       SRR11674045 AalE_18-Q3-R2-46  \n",
       "21    21       SRR11674048 Ega_18-Q3-R5-49   \n",
       "22    22       SRR11674051 Damh_18-Q3-R51-60 \n",
       "23    23       SRR11674054 Bjer_18-Q3-R1-45  \n",
       "24    1        SRR11673976 Aved_18-Q3-R54-62 \n",
       "25    2        SRR11673989 Viby_18-Q3-R106-67\n",
       "26    3        SRR11673992 Vibo_18-Q3-R45-57 \n",
       "27    4        SRR11673995 Skiv_18-Q3-R9-52  \n",
       "28    5        SRR11673999 Ribe_18-Q3-R11-54 \n",
       "29    6        SRR11674002 Rand_18-Q3-R56-63 \n",
       "30    7        SRR11674005 OdNW_18-Q3-R42-56 \n",
       "⋮     ⋮        ⋮           ⋮                 \n",
       "58161 17       SRR11674038 EsbW_18-Q3-R4-48  \n",
       "58162 18       SRR11674041 EsbE_18-Q3-R3-47  \n",
       "58163 19       SRR11674044 Ejby_18-Q3-R6-50  \n",
       "58164 20       SRR11674045 AalE_18-Q3-R2-46  \n",
       "58165 21       SRR11674048 Ega_18-Q3-R5-49   \n",
       "58166 22       SRR11674051 Damh_18-Q3-R51-60 \n",
       "58167 23       SRR11674054 Bjer_18-Q3-R1-45  \n",
       "58168 1        SRR11673976 Aved_18-Q3-R54-62 \n",
       "58169 2        SRR11673989 Viby_18-Q3-R106-67\n",
       "58170 3        SRR11673992 Vibo_18-Q3-R45-57 \n",
       "58171 4        SRR11673995 Skiv_18-Q3-R9-52  \n",
       "58172 5        SRR11673999 Ribe_18-Q3-R11-54 \n",
       "58173 6        SRR11674002 Rand_18-Q3-R56-63 \n",
       "58174 7        SRR11674005 OdNW_18-Q3-R42-56 \n",
       "58175 8        SRR11674008 OdNE_18-Q3-R46-58 \n",
       "58176 9        SRR11674009 AalW_18-Q3-R10-53 \n",
       "58177 10       SRR11674012 Mari_18-Q3-R65-66 \n",
       "58178 11       SRR11674015 Lyne_18-Q3-R50-59 \n",
       "58179 12       SRR11674018 Kalu_18-Q3-R12-55 \n",
       "58180 13       SRR11674022 Hjor_18-Q3-R7-51  \n",
       "58181 14       SRR11674025 Hirt_18-Q3-R61-65 \n",
       "58182 15       SRR11674031 Hade_18-Q3-R52-61 \n",
       "58183 16       SRR11674035 Fred_18-Q3-R57-64 \n",
       "58184 17       SRR11674038 EsbW_18-Q3-R4-48  \n",
       "58185 18       SRR11674041 EsbE_18-Q3-R3-47  \n",
       "58186 19       SRR11674044 Ejby_18-Q3-R6-50  \n",
       "58187 20       SRR11674045 AalE_18-Q3-R2-46  \n",
       "58188 21       SRR11674048 Ega_18-Q3-R5-49   \n",
       "58189 22       SRR11674051 Damh_18-Q3-R51-60 \n",
       "58190 23       SRR11674054 Bjer_18-Q3-R1-45  \n",
       "      genome                                variable             value    \n",
       "1     rosella_bin.1368_Kalu_18-Q3-R12-55    Aved_18-Q3-R54-62.x  1.0000000\n",
       "2     rosella_bin.1368_Kalu_18-Q3-R12-55    Aved_18-Q3-R54-62.x  1.0000000\n",
       "3     rosella_bin.1368_Kalu_18-Q3-R12-55    Aved_18-Q3-R54-62.x  1.0000000\n",
       "4     rosella_bin.1368_Kalu_18-Q3-R12-55    Aved_18-Q3-R54-62.x  1.0000000\n",
       "5     rosella_bin.1368_Kalu_18-Q3-R12-55    Aved_18-Q3-R54-62.x  1.0000000\n",
       "6     rosella_bin.1368_Kalu_18-Q3-R12-55    Aved_18-Q3-R54-62.x  1.0000000\n",
       "7     rosella_bin.1368_Kalu_18-Q3-R12-55    Aved_18-Q3-R54-62.x  1.0000000\n",
       "8     rosella_bin.1368_Kalu_18-Q3-R12-55    Aved_18-Q3-R54-62.x  1.0000000\n",
       "9     rosella_bin.1368_Kalu_18-Q3-R12-55    Aved_18-Q3-R54-62.x  1.0000000\n",
       "10    rosella_bin.1368_Kalu_18-Q3-R12-55    Aved_18-Q3-R54-62.x  1.0000000\n",
       "11    rosella_bin.1368_Kalu_18-Q3-R12-55    Aved_18-Q3-R54-62.x  1.0000000\n",
       "12    rosella_bin.1368_Kalu_18-Q3-R12-55    Aved_18-Q3-R54-62.x  1.0000000\n",
       "13    rosella_bin.1368_Kalu_18-Q3-R12-55    Aved_18-Q3-R54-62.x  1.0000000\n",
       "14    rosella_bin.1368_Kalu_18-Q3-R12-55    Aved_18-Q3-R54-62.x  1.0000000\n",
       "15    rosella_bin.1368_Kalu_18-Q3-R12-55    Aved_18-Q3-R54-62.x  1.0000000\n",
       "16    rosella_bin.1368_Kalu_18-Q3-R12-55    Aved_18-Q3-R54-62.x  1.0000000\n",
       "17    rosella_bin.1368_Kalu_18-Q3-R12-55    Aved_18-Q3-R54-62.x  1.0000000\n",
       "18    rosella_bin.1368_Kalu_18-Q3-R12-55    Aved_18-Q3-R54-62.x  1.0000000\n",
       "19    rosella_bin.1368_Kalu_18-Q3-R12-55    Aved_18-Q3-R54-62.x  1.0000000\n",
       "20    rosella_bin.1368_Kalu_18-Q3-R12-55    Aved_18-Q3-R54-62.x  1.0000000\n",
       "21    rosella_bin.1368_Kalu_18-Q3-R12-55    Aved_18-Q3-R54-62.x  1.0000000\n",
       "22    rosella_bin.1368_Kalu_18-Q3-R12-55    Aved_18-Q3-R54-62.x  1.0000000\n",
       "23    rosella_bin.1368_Kalu_18-Q3-R12-55    Aved_18-Q3-R54-62.x  1.0000000\n",
       "24    rosella_bin.1369_Kalu_18-Q3-R12-55    Aved_18-Q3-R54-62.x  0.9995550\n",
       "25    rosella_bin.1369_Kalu_18-Q3-R12-55    Aved_18-Q3-R54-62.x  0.9999922\n",
       "26    rosella_bin.1369_Kalu_18-Q3-R12-55    Aved_18-Q3-R54-62.x  0.9999772\n",
       "27    rosella_bin.1369_Kalu_18-Q3-R12-55    Aved_18-Q3-R54-62.x  0.9999621\n",
       "28    rosella_bin.1369_Kalu_18-Q3-R12-55    Aved_18-Q3-R54-62.x  0.9999821\n",
       "29    rosella_bin.1369_Kalu_18-Q3-R12-55    Aved_18-Q3-R54-62.x  0.9999703\n",
       "30    rosella_bin.1369_Kalu_18-Q3-R12-55    Aved_18-Q3-R54-62.x  0.9999489\n",
       "⋮     ⋮                                     ⋮                    ⋮        \n",
       "58161 rosella_bin.4086_AalW_18-Q3-R10-53    Viby_18-Q3-R106-67.y 3.349489 \n",
       "58162 rosella_bin.4086_AalW_18-Q3-R10-53    Viby_18-Q3-R106-67.y 3.349489 \n",
       "58163 rosella_bin.4086_AalW_18-Q3-R10-53    Viby_18-Q3-R106-67.y 3.349489 \n",
       "58164 rosella_bin.4086_AalW_18-Q3-R10-53    Viby_18-Q3-R106-67.y 3.349489 \n",
       "58165 rosella_bin.4086_AalW_18-Q3-R10-53    Viby_18-Q3-R106-67.y 3.349489 \n",
       "58166 rosella_bin.4086_AalW_18-Q3-R10-53    Viby_18-Q3-R106-67.y 3.349489 \n",
       "58167 rosella_bin.4086_AalW_18-Q3-R10-53    Viby_18-Q3-R106-67.y 3.349489 \n",
       "58168 rosella_refine.1594_Ribe_18-Q3-R11-54 Viby_18-Q3-R106-67.y 0.000000 \n",
       "58169 rosella_refine.1594_Ribe_18-Q3-R11-54 Viby_18-Q3-R106-67.y 0.000000 \n",
       "58170 rosella_refine.1594_Ribe_18-Q3-R11-54 Viby_18-Q3-R106-67.y 0.000000 \n",
       "58171 rosella_refine.1594_Ribe_18-Q3-R11-54 Viby_18-Q3-R106-67.y 0.000000 \n",
       "58172 rosella_refine.1594_Ribe_18-Q3-R11-54 Viby_18-Q3-R106-67.y 0.000000 \n",
       "58173 rosella_refine.1594_Ribe_18-Q3-R11-54 Viby_18-Q3-R106-67.y 0.000000 \n",
       "58174 rosella_refine.1594_Ribe_18-Q3-R11-54 Viby_18-Q3-R106-67.y 0.000000 \n",
       "58175 rosella_refine.1594_Ribe_18-Q3-R11-54 Viby_18-Q3-R106-67.y 0.000000 \n",
       "58176 rosella_refine.1594_Ribe_18-Q3-R11-54 Viby_18-Q3-R106-67.y 0.000000 \n",
       "58177 rosella_refine.1594_Ribe_18-Q3-R11-54 Viby_18-Q3-R106-67.y 0.000000 \n",
       "58178 rosella_refine.1594_Ribe_18-Q3-R11-54 Viby_18-Q3-R106-67.y 0.000000 \n",
       "58179 rosella_refine.1594_Ribe_18-Q3-R11-54 Viby_18-Q3-R106-67.y 0.000000 \n",
       "58180 rosella_refine.1594_Ribe_18-Q3-R11-54 Viby_18-Q3-R106-67.y 0.000000 \n",
       "58181 rosella_refine.1594_Ribe_18-Q3-R11-54 Viby_18-Q3-R106-67.y 0.000000 \n",
       "58182 rosella_refine.1594_Ribe_18-Q3-R11-54 Viby_18-Q3-R106-67.y 0.000000 \n",
       "58183 rosella_refine.1594_Ribe_18-Q3-R11-54 Viby_18-Q3-R106-67.y 0.000000 \n",
       "58184 rosella_refine.1594_Ribe_18-Q3-R11-54 Viby_18-Q3-R106-67.y 0.000000 \n",
       "58185 rosella_refine.1594_Ribe_18-Q3-R11-54 Viby_18-Q3-R106-67.y 0.000000 \n",
       "58186 rosella_refine.1594_Ribe_18-Q3-R11-54 Viby_18-Q3-R106-67.y 0.000000 \n",
       "58187 rosella_refine.1594_Ribe_18-Q3-R11-54 Viby_18-Q3-R106-67.y 0.000000 \n",
       "58188 rosella_refine.1594_Ribe_18-Q3-R11-54 Viby_18-Q3-R106-67.y 0.000000 \n",
       "58189 rosella_refine.1594_Ribe_18-Q3-R11-54 Viby_18-Q3-R106-67.y 0.000000 \n",
       "58190 rosella_refine.1594_Ribe_18-Q3-R11-54 Viby_18-Q3-R106-67.y 0.000000 "
      ]
     },
     "metadata": {},
     "output_type": "display_data"
    }
   ],
   "source": [
    "sample_to_sra <- fread(\"/mnt/hpccs01/scratch/microbiome/n10853499/00-rosella_testing/02-activated_sludge/assembly/00-singleton_analysis/sample_to_sra.tsv\", header=FALSE)\n",
    "header <- fread(\"/mnt/hpccs01/scratch/microbiome/n10853499/00-rosella_testing/02-activated_sludge/assembly/00-singleton_analysis/sample_ids.txt\")\n",
    "header[, SampleID:=factor(V1)]\n",
    "\n",
    "header[, V1:=NULL]\n",
    "header[, sample_name:=V2]\n",
    "header[, V2:=NULL]\n",
    "\n",
    "# inner_join(header, sample_to_sra, by=c(\"sample_name\" = \"V2\"))\n",
    "melt(all_ani_values$con)"
   ]
  },
  {
   "cell_type": "code",
   "execution_count": 243,
   "metadata": {},
   "outputs": [],
   "source": [
    "generate_heatmap_single_genome <-function(input_table, to_select=seq(1,23), current=\"rosella_bin.1368_Kalu_18-Q3-R12-55\") {\n",
    "    min_ani <- min(input_table$con[genome==current, to_select + 1, with=FALSE], input_table$pop[genome==current, to_select + 1, with=FALSE], input_table$sub[genome==current, to_select + 1, with=FALSE])\n",
    "    print(current)\n",
    "    print(min_ani)\n",
    "    col_fun <- colorRamp2(c(min_ani, (1 + min_ani) / 2, 1), c(\"#2c7fb8\", \"#7fcdbb\", \"#edf8b1\"))\n",
    "    con <- input_table$con[genome==current]\n",
    "    con <- as.matrix(con[to_select, to_select + 1, with=FALSE])\n",
    "#     con \n",
    "#     print(input_table$con[genome==genome]$sra_id[to_select])\n",
    "    rownames(con) <- input_table$con[genome==current]$sra_id[to_select]\n",
    "    colnames(con) <- input_table$con[genome==current]$sra_id[to_select]\n",
    "\n",
    "    row_loc <- rowAnnotation(`Log10(Cov.)`=anno_barplot(log10(input_table$con[genome==current]$value[to_select] + 1)), annotation_name_rot = 90)\n",
    "    ha_con <- Heatmap(con, name=\"ANI\", left_annotation=row_loc, column_title=\"conANI\", col=col_fun, row_order=rownames(con))\n",
    "    \n",
    "    # population\n",
    "    pop <- input_table$pop[genome==current]\n",
    "    pop <- as.matrix(pop[to_select, to_select + 1, with=FALSE])\n",
    "    rownames(pop) <- input_table$pop[genome==current]$sra_id[to_select]\n",
    "    colnames(pop) <- input_table$pop[genome==current]$sra_id[to_select]\n",
    "    \n",
    "    ha_pop <- Heatmap(pop, name=\"ANI\", column_title=\"popANI\", col=col_fun, row_order=rownames(pop))\n",
    "    \n",
    "    # sub population\n",
    "    sub_pop <- input_table$sub[genome==current]\n",
    "    sub_pop <- as.matrix(sub_pop[to_select, to_select + 1, with=FALSE])\n",
    "    rownames(sub_pop) <- input_table$sub[genome==current]$sra_id[to_select]\n",
    "    colnames(sub_pop) <- input_table$sub[genome==current]$sra_id[to_select]\n",
    "\n",
    "    ha_sub_pop <- Heatmap(sub_pop, name=\"ANI\", column_title=\"subpopANI\", col=col_fun, row_names_side=\"right\", row_order=rownames(sub_pop))\n",
    "    ht_list = ha_con + ha_pop + ha_sub_pop\n",
    "#     ht_list <- Heatmap(con, name=\"ANI\", left_annotation=row_loc, column_title=\"conANI\", col=col_fun, \n",
    "#                        right_annotation=rowAnnotation(popANI = pop, subpopANI=sub_pop,\n",
    "#                                             col=list(\n",
    "#                                             `popANI`=col_fun,\n",
    "#                                             `subpopANI`=col_fun\n",
    "#                                             ), show_legend = c(FALSE, FALSE), border=c(TRUE, TRUE)\n",
    "#                                             ))\n",
    "    return(ht_list)\n",
    "}\n",
    "\n",
    "generate_heatmap <- function(input_table, to_select=seq(1,23)) {\n",
    "    # Consensus heatmap\n",
    "    min_ani <- min(input_table$con[, to_select + 1, with=FALSE], input_table$pop[, to_select + 1, with=FALSE], input_table$sub[, to_select + 1, with=FALSE])\n",
    "    col_fun <- colorRamp2(c(min_ani, (1 + min_ani) / 2, 1), c(\"#2c7fb8\", \"#7fcdbb\", \"#edf8b1\"))\n",
    "    \n",
    "    genomes <- unique(input_table$con$genome)\n",
    "#     print(genomes)\n",
    "    all_con <- NULL\n",
    "    all_pop <- NULL\n",
    "    all_sub <- NULL\n",
    "    all_not_concat <- list()\n",
    "    i <- 1\n",
    "#     for (genome in genomes) {\n",
    "#         current_hm <- generate_heatmap_single_genome(input_table, to_select, genome=genome)\n",
    "# #         all_con <- all_con %v% current_hm[[1]]\n",
    "# #         all_pop <- all_pop %v% current_hm[[2]]\n",
    "# #         all_sub <- all_sub %v% current_hm[[3]]\n",
    "# #         combined <- current_hm[[1]] + current_hm[[2]] + current_hm[[3]]\n",
    "#         all_not_concat[[i]] <- current_hm\n",
    "#         i <- i + 1\n",
    "#     }\n",
    "#     lapply(genomes, function(x)  {\n",
    "#             combined <- generate_heatmap_single_genome(input_table, to_select, current=x)\n",
    "#             png(paste0(\"activated_sludge_plots/\", x, \"_ani.png\"), width=13, height=6, units=\"in\", res=1200)\n",
    "#             draw(combined, merge_legend=T, column_title=paste(\"ANI distributions\", x), heatmap_legend_side = \"right\", annotation_legend_side = \"bottom\")\n",
    "#             dev.off()\n",
    "#         }\n",
    "#     )\n",
    "    all_hm <- lapply(genomes, function(x)\n",
    "            generate_heatmap_single_genome(input_table, to_select, current=x)\n",
    "    )\n",
    "    return(all_hm)\n",
    "}\n"
   ]
  },
  {
   "cell_type": "code",
   "execution_count": 244,
   "metadata": {},
   "outputs": [
    {
     "name": "stdout",
     "output_type": "stream",
     "text": [
      "[1] \"rosella_bin.1368_Kalu_18-Q3-R12-55\"\n",
      "[1] 0.9983402\n"
     ]
    },
    {
     "name": "stderr",
     "output_type": "stream",
     "text": [
      "Warning message:\n",
      "“Heatmap/annotation names are duplicated: ANI”\n",
      "Warning message:\n",
      "“Heatmap/annotation names are duplicated: ANI, ANI”\n"
     ]
    },
    {
     "name": "stdout",
     "output_type": "stream",
     "text": [
      "[1] \"rosella_bin.1369_Kalu_18-Q3-R12-55\"\n",
      "[1] 0.9988864\n"
     ]
    },
    {
     "name": "stderr",
     "output_type": "stream",
     "text": [
      "Warning message:\n",
      "“Heatmap/annotation names are duplicated: ANI”\n",
      "Warning message:\n",
      "“Heatmap/annotation names are duplicated: ANI, ANI”\n"
     ]
    },
    {
     "name": "stdout",
     "output_type": "stream",
     "text": [
      "[1] \"rosella_bin.1370_Kalu_18-Q3-R12-55\"\n",
      "[1] 0.9996703\n"
     ]
    },
    {
     "name": "stderr",
     "output_type": "stream",
     "text": [
      "Warning message:\n",
      "“Heatmap/annotation names are duplicated: ANI”\n",
      "Warning message:\n",
      "“Heatmap/annotation names are duplicated: ANI, ANI”\n"
     ]
    },
    {
     "name": "stdout",
     "output_type": "stream",
     "text": [
      "[1] \"rosella_bin.1372_Kalu_18-Q3-R12-55\"\n",
      "[1] 0.9994047\n"
     ]
    },
    {
     "name": "stderr",
     "output_type": "stream",
     "text": [
      "Warning message:\n",
      "“Heatmap/annotation names are duplicated: ANI”\n",
      "Warning message:\n",
      "“Heatmap/annotation names are duplicated: ANI, ANI”\n"
     ]
    },
    {
     "name": "stdout",
     "output_type": "stream",
     "text": [
      "[1] \"rosella_bin.1374_Kalu_18-Q3-R12-55\"\n",
      "[1] 0.9997057\n"
     ]
    },
    {
     "name": "stderr",
     "output_type": "stream",
     "text": [
      "Warning message:\n",
      "“Heatmap/annotation names are duplicated: ANI”\n",
      "Warning message:\n",
      "“Heatmap/annotation names are duplicated: ANI, ANI”\n"
     ]
    },
    {
     "name": "stdout",
     "output_type": "stream",
     "text": [
      "[1] \"rosella_bin.1376_Kalu_18-Q3-R12-55\"\n",
      "[1] 0.9977331\n"
     ]
    },
    {
     "name": "stderr",
     "output_type": "stream",
     "text": [
      "Warning message:\n",
      "“Heatmap/annotation names are duplicated: ANI”\n",
      "Warning message:\n",
      "“Heatmap/annotation names are duplicated: ANI, ANI”\n"
     ]
    },
    {
     "name": "stdout",
     "output_type": "stream",
     "text": [
      "[1] \"rosella_bin.1377_Kalu_18-Q3-R12-55\"\n",
      "[1] 0.9990499\n"
     ]
    },
    {
     "name": "stderr",
     "output_type": "stream",
     "text": [
      "Warning message:\n",
      "“Heatmap/annotation names are duplicated: ANI”\n",
      "Warning message:\n",
      "“Heatmap/annotation names are duplicated: ANI, ANI”\n"
     ]
    },
    {
     "name": "stdout",
     "output_type": "stream",
     "text": [
      "[1] \"rosella_bin.1378_Kalu_18-Q3-R12-55\"\n",
      "[1] 0.9997024\n"
     ]
    },
    {
     "name": "stderr",
     "output_type": "stream",
     "text": [
      "Warning message:\n",
      "“Heatmap/annotation names are duplicated: ANI”\n",
      "Warning message:\n",
      "“Heatmap/annotation names are duplicated: ANI, ANI”\n"
     ]
    },
    {
     "name": "stdout",
     "output_type": "stream",
     "text": [
      "[1] \"rosella_bin.1379_Kalu_18-Q3-R12-55\"\n",
      "[1] 0.999967\n"
     ]
    },
    {
     "name": "stderr",
     "output_type": "stream",
     "text": [
      "Warning message:\n",
      "“Heatmap/annotation names are duplicated: ANI”\n",
      "Warning message:\n",
      "“Heatmap/annotation names are duplicated: ANI, ANI”\n"
     ]
    },
    {
     "name": "stdout",
     "output_type": "stream",
     "text": [
      "[1] \"rosella_bin.1380_Kalu_18-Q3-R12-55\"\n",
      "[1] 0.9993912\n"
     ]
    },
    {
     "name": "stderr",
     "output_type": "stream",
     "text": [
      "Warning message:\n",
      "“Heatmap/annotation names are duplicated: ANI”\n",
      "Warning message:\n",
      "“Heatmap/annotation names are duplicated: ANI, ANI”\n"
     ]
    },
    {
     "name": "stdout",
     "output_type": "stream",
     "text": [
      "[1] \"rosella_bin.1383_Kalu_18-Q3-R12-55\"\n",
      "[1] 0.9998053\n"
     ]
    },
    {
     "name": "stderr",
     "output_type": "stream",
     "text": [
      "Warning message:\n",
      "“Heatmap/annotation names are duplicated: ANI”\n",
      "Warning message:\n",
      "“Heatmap/annotation names are duplicated: ANI, ANI”\n"
     ]
    },
    {
     "name": "stdout",
     "output_type": "stream",
     "text": [
      "[1] \"rosella_bin.1384_Kalu_18-Q3-R12-55\"\n",
      "[1] 0.9991465\n"
     ]
    },
    {
     "name": "stderr",
     "output_type": "stream",
     "text": [
      "Warning message:\n",
      "“Heatmap/annotation names are duplicated: ANI”\n",
      "Warning message:\n",
      "“Heatmap/annotation names are duplicated: ANI, ANI”\n"
     ]
    },
    {
     "name": "stdout",
     "output_type": "stream",
     "text": [
      "[1] \"rosella_bin.1385_Kalu_18-Q3-R12-55\"\n",
      "[1] 0.9988946\n"
     ]
    },
    {
     "name": "stderr",
     "output_type": "stream",
     "text": [
      "Warning message:\n",
      "“Heatmap/annotation names are duplicated: ANI”\n",
      "Warning message:\n",
      "“Heatmap/annotation names are duplicated: ANI, ANI”\n"
     ]
    },
    {
     "name": "stdout",
     "output_type": "stream",
     "text": [
      "[1] \"rosella_bin.1387_Kalu_18-Q3-R12-55\"\n",
      "[1] 0.9976132\n"
     ]
    },
    {
     "name": "stderr",
     "output_type": "stream",
     "text": [
      "Warning message:\n",
      "“Heatmap/annotation names are duplicated: ANI”\n",
      "Warning message:\n",
      "“Heatmap/annotation names are duplicated: ANI, ANI”\n"
     ]
    },
    {
     "name": "stdout",
     "output_type": "stream",
     "text": [
      "[1] \"rosella_bin.1388_Kalu_18-Q3-R12-55\"\n",
      "[1] 0.9986736\n"
     ]
    },
    {
     "name": "stderr",
     "output_type": "stream",
     "text": [
      "Warning message:\n",
      "“Heatmap/annotation names are duplicated: ANI”\n",
      "Warning message:\n",
      "“Heatmap/annotation names are duplicated: ANI, ANI”\n"
     ]
    },
    {
     "name": "stdout",
     "output_type": "stream",
     "text": [
      "[1] \"rosella_bin.1391_Kalu_18-Q3-R12-55\"\n",
      "[1] 0.9995215\n"
     ]
    },
    {
     "name": "stderr",
     "output_type": "stream",
     "text": [
      "Warning message:\n",
      "“Heatmap/annotation names are duplicated: ANI”\n",
      "Warning message:\n",
      "“Heatmap/annotation names are duplicated: ANI, ANI”\n"
     ]
    },
    {
     "name": "stdout",
     "output_type": "stream",
     "text": [
      "[1] \"rosella_bin.1421_Kalu_18-Q3-R12-55\"\n",
      "[1] 0.9975455\n"
     ]
    },
    {
     "name": "stderr",
     "output_type": "stream",
     "text": [
      "Warning message:\n",
      "“Heatmap/annotation names are duplicated: ANI”\n",
      "Warning message:\n",
      "“Heatmap/annotation names are duplicated: ANI, ANI”\n"
     ]
    },
    {
     "name": "stdout",
     "output_type": "stream",
     "text": [
      "[1] \"rosella_bin.1519_EsbE_18-Q3-R3-47\"\n",
      "[1] 0.9994022\n"
     ]
    },
    {
     "name": "stderr",
     "output_type": "stream",
     "text": [
      "Warning message:\n",
      "“Heatmap/annotation names are duplicated: ANI”\n",
      "Warning message:\n",
      "“Heatmap/annotation names are duplicated: ANI, ANI”\n"
     ]
    },
    {
     "name": "stdout",
     "output_type": "stream",
     "text": [
      "[1] \"rosella_bin.1520_EsbE_18-Q3-R3-47\"\n",
      "[1] 0.9935616\n"
     ]
    },
    {
     "name": "stderr",
     "output_type": "stream",
     "text": [
      "Warning message:\n",
      "“Heatmap/annotation names are duplicated: ANI”\n",
      "Warning message:\n",
      "“Heatmap/annotation names are duplicated: ANI, ANI”\n"
     ]
    },
    {
     "name": "stdout",
     "output_type": "stream",
     "text": [
      "[1] \"rosella_bin.1536_EsbE_18-Q3-R3-47\"\n",
      "[1] 0.9992939\n"
     ]
    },
    {
     "name": "stderr",
     "output_type": "stream",
     "text": [
      "Warning message:\n",
      "“Heatmap/annotation names are duplicated: ANI”\n",
      "Warning message:\n",
      "“Heatmap/annotation names are duplicated: ANI, ANI”\n"
     ]
    },
    {
     "name": "stdout",
     "output_type": "stream",
     "text": [
      "[1] \"rosella_bin.1648_Vibo_18-Q3-R45-57\"\n",
      "[1] 0.9891516\n"
     ]
    },
    {
     "name": "stderr",
     "output_type": "stream",
     "text": [
      "Warning message:\n",
      "“Heatmap/annotation names are duplicated: ANI”\n",
      "Warning message:\n",
      "“Heatmap/annotation names are duplicated: ANI, ANI”\n"
     ]
    },
    {
     "name": "stdout",
     "output_type": "stream",
     "text": [
      "[1] \"rosella_bin.1773_Ega_18-Q3-R5-49\"\n",
      "[1] 0.9985333\n"
     ]
    },
    {
     "name": "stderr",
     "output_type": "stream",
     "text": [
      "Warning message:\n",
      "“Heatmap/annotation names are duplicated: ANI”\n",
      "Warning message:\n",
      "“Heatmap/annotation names are duplicated: ANI, ANI”\n"
     ]
    },
    {
     "name": "stdout",
     "output_type": "stream",
     "text": [
      "[1] \"rosella_bin.1774_Ega_18-Q3-R5-49\"\n",
      "[1] 0.9989625\n"
     ]
    },
    {
     "name": "stderr",
     "output_type": "stream",
     "text": [
      "Warning message:\n",
      "“Heatmap/annotation names are duplicated: ANI”\n",
      "Warning message:\n",
      "“Heatmap/annotation names are duplicated: ANI, ANI”\n"
     ]
    },
    {
     "name": "stdout",
     "output_type": "stream",
     "text": [
      "[1] \"rosella_bin.1904_Bjer_18-Q3-R1-45\"\n",
      "[1] 0.9941652\n"
     ]
    },
    {
     "name": "stderr",
     "output_type": "stream",
     "text": [
      "Warning message:\n",
      "“Heatmap/annotation names are duplicated: ANI”\n",
      "Warning message:\n",
      "“Heatmap/annotation names are duplicated: ANI, ANI”\n"
     ]
    },
    {
     "name": "stdout",
     "output_type": "stream",
     "text": [
      "[1] \"rosella_bin.1934_Viby_18-Q3-R106-67\"\n",
      "[1] 0.9957916\n"
     ]
    },
    {
     "name": "stderr",
     "output_type": "stream",
     "text": [
      "Warning message:\n",
      "“Heatmap/annotation names are duplicated: ANI”\n",
      "Warning message:\n",
      "“Heatmap/annotation names are duplicated: ANI, ANI”\n"
     ]
    },
    {
     "name": "stdout",
     "output_type": "stream",
     "text": [
      "[1] \"rosella_bin.1940_Rand_18-Q3-R56-63\"\n",
      "[1] 0.9979233\n"
     ]
    },
    {
     "name": "stderr",
     "output_type": "stream",
     "text": [
      "Warning message:\n",
      "“Heatmap/annotation names are duplicated: ANI”\n",
      "Warning message:\n",
      "“Heatmap/annotation names are duplicated: ANI, ANI”\n"
     ]
    },
    {
     "name": "stdout",
     "output_type": "stream",
     "text": [
      "[1] \"rosella_bin.1960_Damh_18-Q3-R51-60\"\n",
      "[1] 0.9988362\n"
     ]
    },
    {
     "name": "stderr",
     "output_type": "stream",
     "text": [
      "Warning message:\n",
      "“Heatmap/annotation names are duplicated: ANI”\n",
      "Warning message:\n",
      "“Heatmap/annotation names are duplicated: ANI, ANI”\n"
     ]
    },
    {
     "name": "stdout",
     "output_type": "stream",
     "text": [
      "[1] \"rosella_bin.1965_Mari_18-Q3-R65-66\"\n",
      "[1] 0.996542\n"
     ]
    },
    {
     "name": "stderr",
     "output_type": "stream",
     "text": [
      "Warning message:\n",
      "“Heatmap/annotation names are duplicated: ANI”\n",
      "Warning message:\n",
      "“Heatmap/annotation names are duplicated: ANI, ANI”\n"
     ]
    },
    {
     "name": "stdout",
     "output_type": "stream",
     "text": [
      "[1] \"rosella_bin.2060_Damh_18-Q3-R51-60\"\n",
      "[1] 0.9949752\n"
     ]
    },
    {
     "name": "stderr",
     "output_type": "stream",
     "text": [
      "Warning message:\n",
      "“Heatmap/annotation names are duplicated: ANI”\n",
      "Warning message:\n",
      "“Heatmap/annotation names are duplicated: ANI, ANI”\n"
     ]
    },
    {
     "name": "stdout",
     "output_type": "stream",
     "text": [
      "[1] \"rosella_bin.2135_OdNW_18-Q3-R42-56\"\n",
      "[1] 0.9987849\n"
     ]
    },
    {
     "name": "stderr",
     "output_type": "stream",
     "text": [
      "Warning message:\n",
      "“Heatmap/annotation names are duplicated: ANI”\n",
      "Warning message:\n",
      "“Heatmap/annotation names are duplicated: ANI, ANI”\n"
     ]
    },
    {
     "name": "stdout",
     "output_type": "stream",
     "text": [
      "[1] \"rosella_bin.2262_EsbW_18-Q3-R4-48\"\n",
      "[1] 0.998944\n"
     ]
    },
    {
     "name": "stderr",
     "output_type": "stream",
     "text": [
      "Warning message:\n",
      "“Heatmap/annotation names are duplicated: ANI”\n",
      "Warning message:\n",
      "“Heatmap/annotation names are duplicated: ANI, ANI”\n"
     ]
    },
    {
     "name": "stdout",
     "output_type": "stream",
     "text": [
      "[1] \"rosella_bin.2265_EsbW_18-Q3-R4-48\"\n",
      "[1] 0.9983936\n"
     ]
    },
    {
     "name": "stderr",
     "output_type": "stream",
     "text": [
      "Warning message:\n",
      "“Heatmap/annotation names are duplicated: ANI”\n",
      "Warning message:\n",
      "“Heatmap/annotation names are duplicated: ANI, ANI”\n"
     ]
    },
    {
     "name": "stdout",
     "output_type": "stream",
     "text": [
      "[1] \"rosella_bin.2299_EsbW_18-Q3-R4-48\"\n",
      "[1] 0.9988807\n"
     ]
    },
    {
     "name": "stderr",
     "output_type": "stream",
     "text": [
      "Warning message:\n",
      "“Heatmap/annotation names are duplicated: ANI”\n",
      "Warning message:\n",
      "“Heatmap/annotation names are duplicated: ANI, ANI”\n"
     ]
    },
    {
     "name": "stdout",
     "output_type": "stream",
     "text": [
      "[1] \"rosella_bin.2384_Ribe_18-Q3-R11-54\"\n",
      "[1] 0.9995096\n"
     ]
    },
    {
     "name": "stderr",
     "output_type": "stream",
     "text": [
      "Warning message:\n",
      "“Heatmap/annotation names are duplicated: ANI”\n",
      "Warning message:\n",
      "“Heatmap/annotation names are duplicated: ANI, ANI”\n"
     ]
    },
    {
     "name": "stdout",
     "output_type": "stream",
     "text": [
      "[1] \"rosella_bin.2550_OdNE_18-Q3-R46-58\"\n",
      "[1] 0.9958489\n"
     ]
    },
    {
     "name": "stderr",
     "output_type": "stream",
     "text": [
      "Warning message:\n",
      "“Heatmap/annotation names are duplicated: ANI”\n",
      "Warning message:\n",
      "“Heatmap/annotation names are duplicated: ANI, ANI”\n"
     ]
    },
    {
     "name": "stdout",
     "output_type": "stream",
     "text": [
      "[1] \"rosella_bin.2714_Skiv_18-Q3-R9-52\"\n",
      "[1] 0.9877578\n"
     ]
    },
    {
     "name": "stderr",
     "output_type": "stream",
     "text": [
      "Warning message:\n",
      "“Heatmap/annotation names are duplicated: ANI”\n",
      "Warning message:\n",
      "“Heatmap/annotation names are duplicated: ANI, ANI”\n"
     ]
    },
    {
     "name": "stdout",
     "output_type": "stream",
     "text": [
      "[1] \"rosella_bin.3014_Lyne_18-Q3-R50-59\"\n",
      "[1] 0.9832587\n"
     ]
    },
    {
     "name": "stderr",
     "output_type": "stream",
     "text": [
      "Warning message:\n",
      "“Heatmap/annotation names are duplicated: ANI”\n",
      "Warning message:\n",
      "“Heatmap/annotation names are duplicated: ANI, ANI”\n"
     ]
    },
    {
     "name": "stdout",
     "output_type": "stream",
     "text": [
      "[1] \"rosella_bin.3015_Lyne_18-Q3-R50-59\"\n",
      "[1] 0.9994307\n"
     ]
    },
    {
     "name": "stderr",
     "output_type": "stream",
     "text": [
      "Warning message:\n",
      "“Heatmap/annotation names are duplicated: ANI”\n",
      "Warning message:\n",
      "“Heatmap/annotation names are duplicated: ANI, ANI”\n"
     ]
    },
    {
     "name": "stdout",
     "output_type": "stream",
     "text": [
      "[1] \"rosella_bin.3019_Lyne_18-Q3-R50-59\"\n",
      "[1] 0.9955521\n"
     ]
    },
    {
     "name": "stderr",
     "output_type": "stream",
     "text": [
      "Warning message:\n",
      "“Heatmap/annotation names are duplicated: ANI”\n",
      "Warning message:\n",
      "“Heatmap/annotation names are duplicated: ANI, ANI”\n"
     ]
    },
    {
     "name": "stdout",
     "output_type": "stream",
     "text": [
      "[1] \"rosella_bin.3021_Lyne_18-Q3-R50-59\"\n",
      "[1] 0.9972446\n"
     ]
    },
    {
     "name": "stderr",
     "output_type": "stream",
     "text": [
      "Warning message:\n",
      "“Heatmap/annotation names are duplicated: ANI”\n",
      "Warning message:\n",
      "“Heatmap/annotation names are duplicated: ANI, ANI”\n"
     ]
    },
    {
     "name": "stdout",
     "output_type": "stream",
     "text": [
      "[1] \"rosella_bin.3273_Hade_18-Q3-R52-61\"\n",
      "[1] 0.9997638\n"
     ]
    },
    {
     "name": "stderr",
     "output_type": "stream",
     "text": [
      "Warning message:\n",
      "“Heatmap/annotation names are duplicated: ANI”\n",
      "Warning message:\n",
      "“Heatmap/annotation names are duplicated: ANI, ANI”\n"
     ]
    },
    {
     "name": "stdout",
     "output_type": "stream",
     "text": [
      "[1] \"rosella_bin.3491_Aved_18-Q3-R54-62\"\n",
      "[1] 0.9974781\n"
     ]
    },
    {
     "name": "stderr",
     "output_type": "stream",
     "text": [
      "Warning message:\n",
      "“Heatmap/annotation names are duplicated: ANI”\n",
      "Warning message:\n",
      "“Heatmap/annotation names are duplicated: ANI, ANI”\n"
     ]
    },
    {
     "name": "stdout",
     "output_type": "stream",
     "text": [
      "[1] \"rosella_bin.3603_Fred_18-Q3-R57-64\"\n",
      "[1] 0.9894311\n"
     ]
    },
    {
     "name": "stderr",
     "output_type": "stream",
     "text": [
      "Warning message:\n",
      "“Heatmap/annotation names are duplicated: ANI”\n",
      "Warning message:\n",
      "“Heatmap/annotation names are duplicated: ANI, ANI”\n"
     ]
    },
    {
     "name": "stdout",
     "output_type": "stream",
     "text": [
      "[1] \"rosella_bin.3608_Fred_18-Q3-R57-64\"\n",
      "[1] 0.9981238\n"
     ]
    },
    {
     "name": "stderr",
     "output_type": "stream",
     "text": [
      "Warning message:\n",
      "“Heatmap/annotation names are duplicated: ANI”\n",
      "Warning message:\n",
      "“Heatmap/annotation names are duplicated: ANI, ANI”\n"
     ]
    },
    {
     "name": "stdout",
     "output_type": "stream",
     "text": [
      "[1] \"rosella_bin.3609_Fred_18-Q3-R57-64\"\n",
      "[1] 0.9980894\n"
     ]
    },
    {
     "name": "stderr",
     "output_type": "stream",
     "text": [
      "Warning message:\n",
      "“Heatmap/annotation names are duplicated: ANI”\n",
      "Warning message:\n",
      "“Heatmap/annotation names are duplicated: ANI, ANI”\n"
     ]
    },
    {
     "name": "stdout",
     "output_type": "stream",
     "text": [
      "[1] \"rosella_bin.3611_Fred_18-Q3-R57-64\"\n",
      "[1] 0.9986979\n"
     ]
    },
    {
     "name": "stderr",
     "output_type": "stream",
     "text": [
      "Warning message:\n",
      "“Heatmap/annotation names are duplicated: ANI”\n",
      "Warning message:\n",
      "“Heatmap/annotation names are duplicated: ANI, ANI”\n"
     ]
    },
    {
     "name": "stdout",
     "output_type": "stream",
     "text": [
      "[1] \"rosella_bin.3612_Fred_18-Q3-R57-64\"\n",
      "[1] 0.9998542\n"
     ]
    },
    {
     "name": "stderr",
     "output_type": "stream",
     "text": [
      "Warning message:\n",
      "“Heatmap/annotation names are duplicated: ANI”\n",
      "Warning message:\n",
      "“Heatmap/annotation names are duplicated: ANI, ANI”\n"
     ]
    },
    {
     "name": "stdout",
     "output_type": "stream",
     "text": [
      "[1] \"rosella_bin.3614_Fred_18-Q3-R57-64\"\n",
      "[1] 0.9994869\n"
     ]
    },
    {
     "name": "stderr",
     "output_type": "stream",
     "text": [
      "Warning message:\n",
      "“Heatmap/annotation names are duplicated: ANI”\n",
      "Warning message:\n",
      "“Heatmap/annotation names are duplicated: ANI, ANI”\n"
     ]
    },
    {
     "name": "stdout",
     "output_type": "stream",
     "text": [
      "[1] \"rosella_bin.3616_Fred_18-Q3-R57-64\"\n",
      "[1] 0.9992197\n"
     ]
    },
    {
     "name": "stderr",
     "output_type": "stream",
     "text": [
      "Warning message:\n",
      "“Heatmap/annotation names are duplicated: ANI”\n",
      "Warning message:\n",
      "“Heatmap/annotation names are duplicated: ANI, ANI”\n"
     ]
    },
    {
     "name": "stdout",
     "output_type": "stream",
     "text": [
      "[1] \"rosella_bin.3618_Fred_18-Q3-R57-64\"\n",
      "[1] 0.9891919\n"
     ]
    },
    {
     "name": "stderr",
     "output_type": "stream",
     "text": [
      "Warning message:\n",
      "“Heatmap/annotation names are duplicated: ANI”\n",
      "Warning message:\n",
      "“Heatmap/annotation names are duplicated: ANI, ANI”\n"
     ]
    },
    {
     "name": "stdout",
     "output_type": "stream",
     "text": [
      "[1] \"rosella_bin.3620_Fred_18-Q3-R57-64\"\n",
      "[1] 0.9997397\n"
     ]
    },
    {
     "name": "stderr",
     "output_type": "stream",
     "text": [
      "Warning message:\n",
      "“Heatmap/annotation names are duplicated: ANI”\n",
      "Warning message:\n",
      "“Heatmap/annotation names are duplicated: ANI, ANI”\n"
     ]
    },
    {
     "name": "stdout",
     "output_type": "stream",
     "text": [
      "[1] \"rosella_bin.3621_Fred_18-Q3-R57-64\"\n",
      "[1] 0.9999476\n"
     ]
    },
    {
     "name": "stderr",
     "output_type": "stream",
     "text": [
      "Warning message:\n",
      "“Heatmap/annotation names are duplicated: ANI”\n",
      "Warning message:\n",
      "“Heatmap/annotation names are duplicated: ANI, ANI”\n"
     ]
    },
    {
     "name": "stdout",
     "output_type": "stream",
     "text": [
      "[1] \"rosella_bin.3622_Fred_18-Q3-R57-64\"\n",
      "[1] 0.9982475\n"
     ]
    },
    {
     "name": "stderr",
     "output_type": "stream",
     "text": [
      "Warning message:\n",
      "“Heatmap/annotation names are duplicated: ANI”\n",
      "Warning message:\n",
      "“Heatmap/annotation names are duplicated: ANI, ANI”\n"
     ]
    },
    {
     "name": "stdout",
     "output_type": "stream",
     "text": [
      "[1] \"rosella_bin.4086_AalW_18-Q3-R10-53\"\n",
      "[1] 0.9991974\n"
     ]
    },
    {
     "name": "stderr",
     "output_type": "stream",
     "text": [
      "Warning message:\n",
      "“Heatmap/annotation names are duplicated: ANI”\n",
      "Warning message:\n",
      "“Heatmap/annotation names are duplicated: ANI, ANI”\n"
     ]
    },
    {
     "name": "stdout",
     "output_type": "stream",
     "text": [
      "[1] \"rosella_refine.1594_Ribe_18-Q3-R11-54\"\n",
      "[1] 0.9924011\n"
     ]
    },
    {
     "name": "stderr",
     "output_type": "stream",
     "text": [
      "Warning message:\n",
      "“Heatmap/annotation names are duplicated: ANI”\n",
      "Warning message:\n",
      "“Heatmap/annotation names are duplicated: ANI, ANI”\n"
     ]
    }
   ],
   "source": [
    "heatmaps <- generate_heatmap(all_ani_values)"
   ]
  },
  {
   "cell_type": "code",
   "execution_count": 246,
   "metadata": {},
   "outputs": [
    {
     "ename": "ERROR",
     "evalue": "Error in `$<-`(`*tmp*`, wrapvp, value = vp): no method for assigning subsets of this S4 class\n",
     "output_type": "error",
     "traceback": [
      "Error in `$<-`(`*tmp*`, wrapvp, value = vp): no method for assigning subsets of this S4 class\nTraceback:\n",
      "1. grid.arrange(heatmaps[[1]], heatmaps[[2]], heatmaps[[3]], heatmaps[[4]], \n .     ncol = 4)",
      "2. grid.draw(g)",
      "3. grid.draw.gTree(g)",
      "4. recordGraphics(drawGTree(x), list(x = x), getNamespace(\"grid\"))",
      "5. drawGTree(x)",
      "6. makeContent(x)",
      "7. makeContent.gtable(x)",
      "8. mapply(wrap_gtableChild, x$grobs, children_vps, SIMPLIFY = FALSE)",
      "9. (function (grob, vp) \n . {\n .     grob$wrapvp <- vp\n .     grob$name <- vp$name\n .     class(grob) <- c(\"gTableChild\", class(grob))\n .     grob\n . })(dots[[1L]][[1L]], dots[[2L]][[1L]])"
     ]
    }
   ],
   "source": [
    "grid.arrange(heatmaps[[1]], heatmaps[[2]], heatmaps[[3]], heatmaps[[4]], ncol=4)"
   ]
  },
  {
   "cell_type": "code",
   "execution_count": 211,
   "metadata": {},
   "outputs": [
    {
     "ename": "ERROR",
     "evalue": "Error in h(simpleError(msg, call)): error in evaluating the argument 'object' in selecting a method for function 'draw': this S4 class is not subsettable\n",
     "output_type": "error",
     "traceback": [
      "Error in h(simpleError(msg, call)): error in evaluating the argument 'object' in selecting a method for function 'draw': this S4 class is not subsettable\nTraceback:\n",
      "1. draw(heatmaps[[4]][[1]])",
      "2. .handleSimpleError(function (cond) \n . .Internal(C_tryCatchHelper(addr, 1L, cond)), \"this S4 class is not subsettable\", \n .     base::quote(heatmaps[[4]][[1]]))",
      "3. h(simpleError(msg, call))"
     ]
    }
   ],
   "source": [
    "# test <- heatmaps[[1]] %v% heatmaps[[2]]\n",
    "draw(heatmaps[[4]])"
   ]
  },
  {
   "cell_type": "code",
   "execution_count": 240,
   "metadata": {},
   "outputs": [
    {
     "data": {
      "text/html": [
       "<strong>png:</strong> 2"
      ],
      "text/latex": [
       "\\textbf{png:} 2"
      ],
      "text/markdown": [
       "**png:** 2"
      ],
      "text/plain": [
       "png \n",
       "  2 "
      ]
     },
     "metadata": {},
     "output_type": "display_data"
    }
   ],
   "source": [
    "png(\"activated_sludge_heatmaps.png\",width=13,height=6,units=\"in\",res=1200)\n",
    "draw(heatmaps[[2]], merge_legend=T, column_title=\"ANI distributions (AS)\", heatmap_legend_side = \"right\", annotation_legend_side = \"bottom\")\n",
    "dev.off()"
   ]
  },
  {
   "cell_type": "code",
   "execution_count": 45,
   "metadata": {},
   "outputs": [
    {
     "name": "stderr",
     "output_type": "stream",
     "text": [
      "Warning message in melt.data.table(all_ani_values$con):\n",
      "“To be consistent with reshape2's melt, id.vars and measure.vars are internally guessed when both are 'NULL'. All non-numeric/integer/logical type columns are considered id.vars, which in this case are columns [SampleID, sra_id, sample_name, genome]. Consider providing at least one of 'id' or 'measure' vars in future.”"
     ]
    }
   ],
   "source": [
    "con_long <- melt(all_ani_values$con)\n",
    "batch_1 <- unique(con_long$genome)[1:20]\n",
    "batch_2 <- unique(con_long$genome)[21:40]\n",
    "batch_3 <- unique(con_long$genome)[41:55]\n",
    "\n",
    "con_long_p_1 <- ggplot(data=con_long[genome %in% batch_1], aes(x=factor(sample_name), y=factor(variable), fill=value)) +\n",
    "    geom_tile() +\n",
    "    labs(x=\"Sample name\", y=\"Sample Name\") +\n",
    "    theme(\n",
    "        axis.text.x = element_text(angle=90, vjust=0.5, hjust=0.5),\n",
    "        axis.title.x = element_blank(),\n",
    "        axis.title.y = element_blank()\n",
    "    ) + facet_wrap(~genome) +\n",
    "    scico::scale_fill_scico(palette=\"bilbao\", direction = -1, name=\"conANI\")\n",
    "\n",
    "ggsave(\"singleton_genomes_consensus_ani_1.png\", width=14, height=12, dpi=600)\n",
    "\n",
    "con_long_p_2 <- ggplot(data=con_long[genome %in% batch_2], aes(x=factor(sample_name), y=factor(variable), fill=value)) +\n",
    "    geom_tile() +\n",
    "    labs(x=\"Sample name\", y=\"Sample Name\") +\n",
    "    theme(\n",
    "        axis.text.x = element_text(angle=90, vjust=0.5, hjust=0.5),\n",
    "        axis.title.x = element_blank(),\n",
    "        axis.title.y = element_blank()\n",
    "    ) + facet_wrap(~genome) +\n",
    "    scico::scale_fill_scico(palette=\"bilbao\", direction = -1, name=\"conANI\")\n",
    "\n",
    "ggsave(\"singleton_genomes_consensus_ani_2.png\", width=14, height=12, dpi=600)\n",
    "\n",
    "con_long_p_3 <- ggplot(data=con_long[genome %in% batch_3], aes(x=factor(sample_name), y=factor(variable), fill=value)) +\n",
    "    geom_tile() +\n",
    "    labs(x=\"Sample name\", y=\"Sample Name\") +\n",
    "    theme(\n",
    "        axis.text.x = element_text(angle=90, vjust=0.5, hjust=0.5),\n",
    "        axis.title.x = element_blank(),\n",
    "        axis.title.y = element_blank()\n",
    "    ) + facet_wrap(~genome) +\n",
    "    scico::scale_fill_scico(palette=\"bilbao\", direction = -1, name=\"conANI\")\n",
    "\n",
    "ggsave(\"singleton_genomes_consensus_ani_3.png\", width=14, height=12, dpi=600)\n"
   ]
  },
  {
   "cell_type": "code",
   "execution_count": 44,
   "metadata": {},
   "outputs": [
    {
     "name": "stderr",
     "output_type": "stream",
     "text": [
      "Warning message in melt.data.table(all_ani_values$pop):\n",
      "“To be consistent with reshape2's melt, id.vars and measure.vars are internally guessed when both are 'NULL'. All non-numeric/integer/logical type columns are considered id.vars, which in this case are columns [SampleID, sra_id, sample_name, genome]. Consider providing at least one of 'id' or 'measure' vars in future.”"
     ]
    },
    {
     "data": {
      "image/png": "[encoded data removed]",
      "text/plain": [
       "plot without title"
      ]
     },
     "metadata": {},
     "output_type": "display_data"
    }
   ],
   "source": [
    "pop_long <- melt(all_ani_values$pop)\n",
    "batch_1 <- unique(pop_long$genome)[1:20]\n",
    "batch_2 <- unique(pop_long$genome)[21:40]\n",
    "batch_3 <- unique(pop_long$genome)[41:55]\n",
    "\n",
    "pop_long_p_1 <- ggplot(data=pop_long[genome %in% batch_1], aes(x=factor(sample_name), y=factor(variable), fill=value)) +\n",
    "    geom_tile() +\n",
    "    labs(x=\"Sample name\", y=\"Sample Name\") +\n",
    "    theme(\n",
    "        axis.text.x = element_text(angle=90, vjust=0.5, hjust=0.5),\n",
    "        axis.title.x = element_blank(),\n",
    "        axis.title.y = element_blank()\n",
    "    ) + \n",
    "    facet_wrap(~genome) +\n",
    "    scico::scale_fill_scico(palette=\"bilbao\", direction = -1, name=\"popANI\")\n",
    "\n",
    "pop_long_p_1\n",
    "ggsave(\"singleton_genomes_population_ani_1.png\", width=14, height=12, dpi=600)\n",
    "\n",
    "pop_long_p_2 <- ggplot(data=pop_long[genome %in% batch_2], aes(x=factor(sample_name), y=factor(variable), fill=value)) +\n",
    "    geom_tile() +\n",
    "    labs(x=\"Sample name\", y=\"Sample Name\") +\n",
    "    theme(\n",
    "        axis.text.x = element_text(angle=90, vjust=0.5, hjust=0.5),\n",
    "        axis.title.x = element_blank(),\n",
    "        axis.title.y = element_blank()\n",
    "    ) + facet_wrap(~genome) +\n",
    "    scico::scale_fill_scico(palette=\"bilbao\", direction = -1, name=\"popANI\")\n",
    "\n",
    "ggsave(\"singleton_genomes_population_ani_2.png\", width=14, height=12, dpi=600)\n",
    "\n",
    "pop_long_p_3 <- ggplot(data=pop_long[genome %in% batch_3], aes(x=factor(sample_name), y=factor(variable), fill=value)) +\n",
    "    geom_tile() +\n",
    "    labs(x=\"Sample name\", y=\"Sample Name\") +\n",
    "    theme(\n",
    "        axis.text.x = element_text(angle=90, vjust=0.5, hjust=0.5),\n",
    "        axis.title.x = element_blank(),\n",
    "        axis.title.y = element_blank()\n",
    "    ) + facet_wrap(~genome) +\n",
    "    scico::scale_fill_scico(palette=\"bilbao\", direction = -1, name=\"popANI\")\n",
    "\n",
    "ggsave(\"singleton_genomes_population_ani_3.png\", width=14, height=12, dpi=600)"
   ]
  },
  {
   "cell_type": "code",
   "execution_count": 46,
   "metadata": {},
   "outputs": [
    {
     "name": "stderr",
     "output_type": "stream",
     "text": [
      "Warning message in melt.data.table(all_ani_values$sub):\n",
      "“To be consistent with reshape2's melt, id.vars and measure.vars are internally guessed when both are 'NULL'. All non-numeric/integer/logical type columns are considered id.vars, which in this case are columns [SampleID, sra_id, sample_name, genome]. Consider providing at least one of 'id' or 'measure' vars in future.”"
     ]
    }
   ],
   "source": [
    "sub_long <- melt(all_ani_values$sub)\n",
    "batch_1 <- unique(sub_long$genome)[1:20]\n",
    "batch_2 <- unique(sub_long$genome)[21:40]\n",
    "batch_3 <- unique(sub_long$genome)[41:55]\n",
    "\n",
    "sub_long_p_1 <- ggplot(data=sub_long[genome %in% batch_1], aes(x=factor(sample_name), y=factor(variable), fill=value)) +\n",
    "    geom_tile() +\n",
    "    labs(x=\"Sample name\", y=\"Sample Name\") +\n",
    "    theme(\n",
    "        axis.text.x = element_text(angle=90, vjust=0.5, hjust=0.5),\n",
    "        axis.title.x = element_blank(),\n",
    "        axis.title.y = element_blank()\n",
    "    ) + facet_wrap(~genome) +\n",
    "    scico::scale_fill_scico(palette=\"bilbao\", direction = -1, name=\"subPopANI\")\n",
    "\n",
    "ggsave(\"singleton_genomes_sub_population_ani_1.png\", width=14, height=12, dpi=600)\n",
    "\n",
    "sub_long_p_2 <- ggplot(data=sub_long[genome %in% batch_2], aes(x=factor(sample_name), y=factor(variable), fill=value)) +\n",
    "    geom_tile() +\n",
    "    labs(x=\"Sample name\", y=\"Sample Name\") +\n",
    "    theme(\n",
    "        axis.text.x = element_text(angle=90, vjust=0.5, hjust=0.5),\n",
    "        axis.title.x = element_blank(),\n",
    "        axis.title.y = element_blank()\n",
    "    ) + facet_wrap(~genome) +\n",
    "    scico::scale_fill_scico(palette=\"bilbao\", direction = -1, name=\"subPopANI\")\n",
    "\n",
    "ggsave(\"singleton_genomes_sub_population_ani_2.png\", width=14, height=12, dpi=600)\n",
    "\n",
    "sub_long_p_3 <- ggplot(data=sub_long[genome %in% batch_3], aes(x=factor(sample_name), y=factor(variable), fill=value)) +\n",
    "    geom_tile() +\n",
    "    labs(x=\"Sample name\", y=\"Sample Name\") +\n",
    "    theme(\n",
    "        axis.text.x = element_text(angle=90, vjust=0.5, hjust=0.5),\n",
    "        axis.title.x = element_blank(),\n",
    "        axis.title.y = element_blank()\n",
    "    ) + facet_wrap(~genome) +\n",
    "    scico::scale_fill_scico(palette=\"bilbao\", direction = -1, name=\"subPopANI\")\n",
    "\n",
    "ggsave(\"singleton_genomes_sub_population_ani_3.png\", width=14, height=12, dpi=600)"
   ]
  }
 ],
 "metadata": {
  "kernelspec": {
   "display_name": "R",
   "language": "R",
   "name": "ir"
  },
  "language_info": {
   "codemirror_mode": "r",
   "file_extension": ".r",
   "mimetype": "text/x-r-source",
   "name": "R",
   "pygments_lexer": "r",
   "version": "4.1.3"
  }
 },
 "nbformat": 4,
 "nbformat_minor": 4
}
