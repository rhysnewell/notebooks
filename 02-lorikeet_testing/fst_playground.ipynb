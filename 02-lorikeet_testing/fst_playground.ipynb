{
 "cells": [
  {
   "cell_type": "code",
   "execution_count": 1,
   "id": "91629e4b",
   "metadata": {},
   "outputs": [],
   "source": [
    "import pandas as pd\n",
    "import allel\n",
    "import numpy as np\n",
    "import scipy.special\n",
    "import polars as pr"
   ]
  },
  {
   "cell_type": "code",
   "execution_count": 2,
   "id": "8150dffb",
   "metadata": {
    "scrolled": true
   },
   "outputs": [
    {
     "data": {
      "text/plain": [
       "(387, 3)"
      ]
     },
     "execution_count": 2,
     "metadata": {},
     "output_type": "execute_result"
    }
   ],
   "source": [
    "test_vcf = allel.read_vcf('/mnt/hpccs01/scratch/microbiome/n10853499/02-lorikeet_testing/04-instrain_zymo/test/Bacillus_subtilis_complete_genome/Bacillus_subtilis_complete_genome.vcf', \n",
    "                          fields=['variants/CHROM', 'variants/POS', 'variants/DP', 'calldata/GT', 'calldata/AD', 'calldata/DP'])\n",
    "# test_vcf = allel.read_vcf('sample.vcf')\n",
    "# test_vcf = allel.read_vcf('/mnt/hpccs01/scratch/microbiome/n10853499/02-lorikeet_testing/02-mflorens_variant_test/03-lorikeet_out/GCA_003139855.1_20110800_S2M_genomic/GCA_003139855.1_20110800_S2M_genomic.vcf.gz')\n",
    "# test_vcf = allel.read_vcf('/mnt/hpccs01/scratch/microbiome/n10853499/02-lorikeet_testing/02-mflorens_variant_test/test/GCA_003139855.1_20110800_S2M_genomic/GCA_003139855.1_20110800_S2M_genomic.vcf')\n",
    "test_vcf['calldata/DP'].shape"
   ]
  },
  {
   "cell_type": "code",
   "execution_count": 64,
   "id": "936b5684",
   "metadata": {},
   "outputs": [
    {
     "name": "stderr",
     "output_type": "stream",
     "text": [
      "/tmp/ipykernel_17939/3611294761.py:62: RuntimeWarning: invalid value encountered in true_divide\n",
      "  fst = (num / den)\n",
      "/tmp/ipykernel_17939/3611294761.py:67: RuntimeWarning: Mean of empty slice.\n",
      "  mean_fst_df[sample1, sample2] = fst.mean()\n",
      "/home/n10853499/.conda/envs/r-4.1/lib/python3.10/site-packages/numpy/core/_methods.py:189: RuntimeWarning: invalid value encountered in double_scalars\n",
      "  ret = ret.dtype.type(ret / rcount)\n",
      "/tmp/ipykernel_17939/3611294761.py:68: RuntimeWarning: Mean of empty slice.\n",
      "  mean_fst_df[sample2, sample1] = fst.mean()\n",
      "/tmp/ipykernel_17939/3611294761.py:62: RuntimeWarning: divide by zero encountered in true_divide\n",
      "  fst = (num / den)\n"
     ]
    },
    {
     "name": "stdout",
     "output_type": "stream",
     "text": [
      "shape: (208, 209)\n",
      "┌───────┬────────────┬───────────┬───────────┬─────┬───────────┬───────────┬───────────┬───────────┐\n",
      "│ Sampl ┆ 1          ┆ 2         ┆ 3         ┆ ... ┆ 205       ┆ 206       ┆ 207       ┆ 208       │\n",
      "│ eID   ┆ ---        ┆ ---       ┆ ---       ┆     ┆ ---       ┆ ---       ┆ ---       ┆ ---       │\n",
      "│ ---   ┆ f64        ┆ f64       ┆ f64       ┆     ┆ f64       ┆ f64       ┆ f64       ┆ f64       │\n",
      "│ f64   ┆            ┆           ┆           ┆     ┆           ┆           ┆           ┆           │\n",
      "╞═══════╪════════════╪═══════════╪═══════════╪═════╪═══════════╪═══════════╪═══════════╪═══════════╡\n",
      "│ 1.0   ┆ 0.0        ┆ 0.011684  ┆ 0.020747  ┆ ... ┆ 0.405678  ┆ 0.244444  ┆ 0.548979  ┆ 0.355556  │\n",
      "├╌╌╌╌╌╌╌┼╌╌╌╌╌╌╌╌╌╌╌╌┼╌╌╌╌╌╌╌╌╌╌╌┼╌╌╌╌╌╌╌╌╌╌╌┼╌╌╌╌╌┼╌╌╌╌╌╌╌╌╌╌╌┼╌╌╌╌╌╌╌╌╌╌╌┼╌╌╌╌╌╌╌╌╌╌╌┼╌╌╌╌╌╌╌╌╌╌╌┤\n",
      "│ 2.0   ┆ 0.011684   ┆ 0.0       ┆ 0.006323  ┆ ... ┆ 0.483333  ┆ 0.25      ┆ 0.693878  ┆ 0.0       │\n",
      "├╌╌╌╌╌╌╌┼╌╌╌╌╌╌╌╌╌╌╌╌┼╌╌╌╌╌╌╌╌╌╌╌┼╌╌╌╌╌╌╌╌╌╌╌┼╌╌╌╌╌┼╌╌╌╌╌╌╌╌╌╌╌┼╌╌╌╌╌╌╌╌╌╌╌┼╌╌╌╌╌╌╌╌╌╌╌┼╌╌╌╌╌╌╌╌╌╌╌┤\n",
      "│ 3.0   ┆ 0.020747   ┆ 0.006323  ┆ 0.0       ┆ ... ┆ 0.588889  ┆ 0.333333  ┆ 0.669725  ┆ 0.6       │\n",
      "├╌╌╌╌╌╌╌┼╌╌╌╌╌╌╌╌╌╌╌╌┼╌╌╌╌╌╌╌╌╌╌╌┼╌╌╌╌╌╌╌╌╌╌╌┼╌╌╌╌╌┼╌╌╌╌╌╌╌╌╌╌╌┼╌╌╌╌╌╌╌╌╌╌╌┼╌╌╌╌╌╌╌╌╌╌╌┼╌╌╌╌╌╌╌╌╌╌╌┤\n",
      "│ 4.0   ┆ 0.008578   ┆ 0.024009  ┆ 0.044386  ┆ ... ┆ 0.0       ┆ 0.0       ┆ 0.472161  ┆ 0.0       │\n",
      "├╌╌╌╌╌╌╌┼╌╌╌╌╌╌╌╌╌╌╌╌┼╌╌╌╌╌╌╌╌╌╌╌┼╌╌╌╌╌╌╌╌╌╌╌┼╌╌╌╌╌┼╌╌╌╌╌╌╌╌╌╌╌┼╌╌╌╌╌╌╌╌╌╌╌┼╌╌╌╌╌╌╌╌╌╌╌┼╌╌╌╌╌╌╌╌╌╌╌┤\n",
      "│ ...   ┆ ...        ┆ ...       ┆ ...       ┆ ... ┆ ...       ┆ ...       ┆ ...       ┆ ...       │\n",
      "├╌╌╌╌╌╌╌┼╌╌╌╌╌╌╌╌╌╌╌╌┼╌╌╌╌╌╌╌╌╌╌╌┼╌╌╌╌╌╌╌╌╌╌╌┼╌╌╌╌╌┼╌╌╌╌╌╌╌╌╌╌╌┼╌╌╌╌╌╌╌╌╌╌╌┼╌╌╌╌╌╌╌╌╌╌╌┼╌╌╌╌╌╌╌╌╌╌╌┤\n",
      "│ 205.0 ┆ 0.405678   ┆ 0.483333  ┆ 0.588889  ┆ ... ┆ 0.0       ┆ 0.0       ┆ 0.550214  ┆ 0.066667  │\n",
      "├╌╌╌╌╌╌╌┼╌╌╌╌╌╌╌╌╌╌╌╌┼╌╌╌╌╌╌╌╌╌╌╌┼╌╌╌╌╌╌╌╌╌╌╌┼╌╌╌╌╌┼╌╌╌╌╌╌╌╌╌╌╌┼╌╌╌╌╌╌╌╌╌╌╌┼╌╌╌╌╌╌╌╌╌╌╌┼╌╌╌╌╌╌╌╌╌╌╌┤\n",
      "│ 206.0 ┆ 0.244444   ┆ 0.25      ┆ 0.333333  ┆ ... ┆ 0.0       ┆ 0.0       ┆ 0.363636  ┆ 0.041667  │\n",
      "├╌╌╌╌╌╌╌┼╌╌╌╌╌╌╌╌╌╌╌╌┼╌╌╌╌╌╌╌╌╌╌╌┼╌╌╌╌╌╌╌╌╌╌╌┼╌╌╌╌╌┼╌╌╌╌╌╌╌╌╌╌╌┼╌╌╌╌╌╌╌╌╌╌╌┼╌╌╌╌╌╌╌╌╌╌╌┼╌╌╌╌╌╌╌╌╌╌╌┤\n",
      "│ 207.0 ┆ 0.548979   ┆ 0.693878  ┆ 0.669725  ┆ ... ┆ 0.550214  ┆ 0.363636  ┆ 0.0       ┆ 1.0       │\n",
      "├╌╌╌╌╌╌╌┼╌╌╌╌╌╌╌╌╌╌╌╌┼╌╌╌╌╌╌╌╌╌╌╌┼╌╌╌╌╌╌╌╌╌╌╌┼╌╌╌╌╌┼╌╌╌╌╌╌╌╌╌╌╌┼╌╌╌╌╌╌╌╌╌╌╌┼╌╌╌╌╌╌╌╌╌╌╌┼╌╌╌╌╌╌╌╌╌╌╌┤\n",
      "│ 208.0 ┆ 0.355556   ┆ 0.0       ┆ 0.6       ┆ ... ┆ 0.066667  ┆ 0.041667  ┆ 1.0       ┆ 0.0       │\n",
      "└───────┴────────────┴───────────┴───────────┴─────┴───────────┴───────────┴───────────┴───────────┘\n"
     ]
    }
   ],
   "source": [
    "# hudson fst for haploid individual using allele depth as population size\n",
    "output_prefix = \"/mnt/hpccs01/scratch/microbiome/n10853499/02-lorikeet_testing/02-mflorens_variant_test/03.3-lorikeet_fst/GCA_003139855.1_20110800_S2M_genomic/\"\n",
    "genome_name = \"GCA_003139855.1_20110800_S2M_genomic\"\n",
    "vcf = allel.read_vcf(f'{output_prefix}/{genome_name}.vcf.gz', \n",
    "                          fields=['variants/CHROM', 'variants/POS', 'variants/DP', 'variants/QF', 'calldata/GT', 'calldata/AD', 'calldata/DP'])\n",
    "\n",
    "# print(vcf['calldata/AD'][vcf['variants/QF'] == 'true'])\n",
    "\n",
    "depth_per_sample = int(\"3\")\n",
    "col_dict = ['sample_1', 'sample_2']\n",
    "n_variants = 0\n",
    "for variant_i in range(vcf['calldata/AD'].shape[0]):\n",
    "#     if vcf['variants/QF'][variant_i] == 'false':\n",
    "#             continue # do not include unqualified variants\n",
    "    col_dict.append(f'variant_{variant_i}')\n",
    "    n_variants += 1\n",
    "\n",
    "# fst_df = np.zeros(shape=(int(scipy.special.binom(vcf['calldata/DP'].shape[1], 2)), n_variants + 2))\n",
    "mean_fst_df = np.zeros(shape=(vcf['calldata/DP'].shape[1], vcf['calldata/DP'].shape[1]))\n",
    "row = 0\n",
    "\n",
    "allele_counts = vcf['calldata/AD'][vcf['variants/QF'] == 'true']\n",
    "population_size = vcf['calldata/DP'][vcf['variants/QF'] == 'true']\n",
    "\n",
    "def hudson_fst_op(df, x, y):  \n",
    "    h1 = allel.HaplotypeArray([df[:, x][df[:, x] != -1]])\n",
    "# #         print(h1)\n",
    "    h2 = allel.HaplotypeArray([df[:, y][df[:, y] != -1]])\n",
    "    num, den = allel.hudson_fst(h1, h2)\n",
    "    fst = (num / den)\n",
    "\n",
    "    np.nan_to_num(fst, copy=False, nan=0.0, posinf=None, neginf=None)\n",
    "    fst[fst < 0] = 0\n",
    "\n",
    "    mean_fst = max(fst_df[row, 2:].mean(), 0)\n",
    "    \n",
    "    return (fst, mean_fst)\n",
    "\n",
    "\n",
    "for sample1 in range(vcf['calldata/DP'].shape[1]):\n",
    "    for sample2 in range(sample1+1):\n",
    "        if sample1 == sample2:\n",
    "            continue\n",
    "\n",
    "        # sample1_depths = np.rot90(np.repeat([population_size[:, sample1]], 2, axis=0))\n",
    "        sample1_depths = population_size[:, sample1]\n",
    "        sample1_allele_counts = allele_counts[:, sample1, (allele_counts!=-1)[:, sample1].all(axis=0)]\n",
    "        # sample2_depths = np.rot90(np.repeat([population_size[:, sample2]], 2, axis=0))\n",
    "        sample2_depths = population_size[:, sample2]\n",
    "        sample2_allele_counts = allele_counts[:, sample2, (allele_counts!=-1)[:, sample2].all(axis=0)]\n",
    "        \n",
    "        variants_to_include_1 = (sample1_depths > depth_per_sample) #+ ((sample1_allele_counts / sample1_depths) > 0.01)\n",
    "        variants_to_include_2 = (sample2_depths > depth_per_sample) #+ ((sample2_allele_counts / sample2_depths) > 0.01)\n",
    "        variants_to_include = np.array([variants_to_include_1, variants_to_include_2]).all(axis=0)\n",
    "        \n",
    "        # print(sample1_allele_counts[variants_to_include].shape)\n",
    "        # print(sample2_allele_counts[variants_to_include].shape)\n",
    "        h1 = allel.HaplotypeArray(sample1_allele_counts[variants_to_include])\n",
    "        h2 = allel.HaplotypeArray(sample2_allele_counts[variants_to_include])\n",
    "        \n",
    "        num, den = allel.hudson_fst(h1, h2)\n",
    "        fst = (num / den)\n",
    "        # print(fst)\n",
    "        np.nan_to_num(fst, copy=False, nan=0.0, posinf=None, neginf=None)\n",
    "        fst[fst < 0] = 0\n",
    "\n",
    "        mean_fst_df[sample1, sample2] = fst.mean()\n",
    "        mean_fst_df[sample2, sample1] = fst.mean()\n",
    "        row += 1\n",
    "\n",
    "\n",
    "\n",
    "samples = [str(i + 1) for i in range(vcf['calldata/DP'].shape[1])]\n",
    "np.nan_to_num(mean_fst_df, copy=False, nan=0, posinf=0, neginf=0)\n",
    "mean_fst_df = np.insert(mean_fst_df, 0, np.array([i + 1 for i in range(vcf['calldata/DP'].shape[1])]), axis=1)\n",
    "samples.insert(0, \"SampleID\")\n",
    "mean_fst_df = pr.DataFrame(mean_fst_df, columns=samples)\n",
    "print(mean_fst_df)\n"
   ]
  },
  {
   "cell_type": "code",
   "execution_count": null,
   "id": "f7362783",
   "metadata": {},
   "outputs": [],
   "source": [
    "mean_fst_df.to_csv()"
   ]
  },
  {
   "cell_type": "code",
   "execution_count": 36,
   "id": "a732334d",
   "metadata": {},
   "outputs": [
    {
     "ename": "NotImplementedError",
     "evalue": "",
     "output_type": "error",
     "traceback": [
      "\u001b[0;31m---------------------------------------------------------------------------\u001b[0m",
      "\u001b[0;31mNotImplementedError\u001b[0m                       Traceback (most recent call last)",
      "\u001b[1;32m/home/n10853499/00-jupyter/02-lorikeet_testing/fst_playground.ipynb Cell 4\u001b[0m in \u001b[0;36m<cell line: 1>\u001b[0;34m()\u001b[0m\n\u001b[0;32m----> <a href='vscode-notebook-cell://ssh-remote%2Bn06/home/n10853499/00-jupyter/02-lorikeet_testing/fst_playground.ipynb#X23sdnNjb2RlLXJlbW90ZQ%3D%3D?line=0'>1</a>\u001b[0m mean_fst_df[mean_fst_df \u001b[39m>\u001b[39;49m \u001b[39m0.25\u001b[39;49m]\n",
      "File \u001b[0;32m~/.conda/envs/r-4.1/lib/python3.10/site-packages/polars/internals/frame.py:1995\u001b[0m, in \u001b[0;36mDataFrame.__getitem__\u001b[0;34m(self, item)\u001b[0m\n\u001b[1;32m   1990\u001b[0m         \u001b[39mreturn\u001b[39;00m \u001b[39mself\u001b[39m\u001b[39m.\u001b[39m_from_pydf(\n\u001b[1;32m   1991\u001b[0m             \u001b[39mself\u001b[39m\u001b[39m.\u001b[39m_df\u001b[39m.\u001b[39mtake_with_series(\u001b[39mself\u001b[39m\u001b[39m.\u001b[39m_pos_idxs(item, dim\u001b[39m=\u001b[39m\u001b[39m0\u001b[39m)\u001b[39m.\u001b[39minner())\n\u001b[1;32m   1992\u001b[0m         )\n\u001b[1;32m   1994\u001b[0m \u001b[39m# if no data has been returned, the operation is not supported\u001b[39;00m\n\u001b[0;32m-> 1995\u001b[0m \u001b[39mraise\u001b[39;00m \u001b[39mNotImplementedError\u001b[39;00m\n",
      "\u001b[0;31mNotImplementedError\u001b[0m: "
     ]
    }
   ],
   "source": [
    "# mean_fst_df[mean_fst_df > 0.25]"
   ]
  },
  {
   "cell_type": "code",
   "execution_count": 26,
   "id": "c028f94a",
   "metadata": {},
   "outputs": [
    {
     "name": "stdout",
     "output_type": "stream",
     "text": [
      "(25050, 4)\n",
      "[ True  True False False]\n",
      "(51014,)\n"
     ]
    }
   ],
   "source": [
    "from glob import glob\n",
    "glob(\"/mnt/hpccs01/scratch/microbiome/n10853499/02-lorikeet_testing/02-mflorens_variant_test/01-sra_samples/SRR12951261_1*\")\n",
    "print(allele_counts[:, sample1].shape)\n",
    "print((allele_counts!=-1)[:, sample1].all(axis=0))\n",
    "print(sample1_allele_counts.shape)"
   ]
  },
  {
   "cell_type": "code",
   "execution_count": 57,
   "id": "91a7a3cc",
   "metadata": {},
   "outputs": [
    {
     "name": "stdout",
     "output_type": "stream",
     "text": [
      "50 120\n",
      "[ True  True  True ...  True  True  True]\n",
      "[ True  True  True ... False False False]\n",
      "[[ 0 34]\n",
      " [ 0 36]\n",
      " [ 0 34]\n",
      " ...\n",
      " [11 71]\n",
      " [16 80]\n",
      " [18 80]]\n",
      "[[ 0  7]\n",
      " [ 0  8]\n",
      " [ 0  7]\n",
      " ...\n",
      " [ 0 15]\n",
      " [ 0 21]\n",
      " [ 0 21]]\n"
     ]
    }
   ],
   "source": [
    "# pr_df.write_csv(file=f\"{output_prefix}/{genome_name}_fst_values.tsv\", sep='\\t')\n",
    "# print(np.rot90(np.repeat(np.array([vcf['calldata/DP'][vcf['variants/QF'] == 'true', sample1]]), 4, axis=0)).shape)\n",
    "# print((allele_counts[:, sample1] != -1))\n",
    "# sample1_depths = np.rot90(np.repeat([population_size[:, sample1]], 2, axis=0))\n",
    "sample1 = 50\n",
    "sample2 = 120\n",
    "print(sample1, sample2)\n",
    "sample1_depths = population_size[:, sample1]\n",
    "sample1_allele_counts = allele_counts[:, sample1, (allele_counts!=-1)[:, sample1].all(axis=0)]\n",
    "\n",
    "# sample2_depths = np.rot90(np.repeat([population_size[:, sample2]], 2, axis=0))\n",
    "sample2_depths = population_size[:, sample2]\n",
    "sample2_allele_counts = allele_counts[:, sample2, (allele_counts!=-1)[:, sample2].all(axis=0)]\n",
    "\n",
    "# print(sample1_depths[sample1_depths >= 5])\n",
    "# print(sample1_allele_counts[(sample1_allele_counts / sample1_depths) > 0.01])\n",
    "variants_to_include_1 = (sample1_depths > 5) #+ ((sample1_allele_counts / sample1_depths) > 0.01)\n",
    "print(variants_to_include_1)\n",
    "variants_to_include_2 = (sample2_depths > 5) #+ ((sample2_allele_counts / sample2_depths) > 0.01)\n",
    "print(variants_to_include_2)\n",
    "print(sample1_allele_counts[np.array([variants_to_include_1, variants_to_include_2]).all(axis=0)])\n",
    "print(sample2_allele_counts[np.array([variants_to_include_1, variants_to_include_2]).all(axis=0)])"
   ]
  },
  {
   "cell_type": "code",
   "execution_count": 117,
   "id": "e1ccd3d2",
   "metadata": {},
   "outputs": [
    {
     "name": "stderr",
     "output_type": "stream",
     "text": [
      "/tmp/ipykernel_17862/2743789114.py:11: RuntimeWarning: invalid value encountered in true_divide\n",
      "  fst = (num / den)\n",
      "/tmp/ipykernel_17862/2743789114.py:16: RuntimeWarning: invalid value encountered in true_divide\n",
      "  fst = (num / den)\n"
     ]
    },
    {
     "name": "stdout",
     "output_type": "stream",
     "text": [
      "0.00104318834857757\n",
      "[0.00201789]\n"
     ]
    }
   ],
   "source": [
    "total_fst = 0\n",
    "for i in range(allele_counts.shape[0]):\n",
    "    h1 = allel.HaplotypeArray([allele_counts[i, 150][allele_counts[i, 150] != -1]])\n",
    "    a1 = allel.AlleleCountsArray([allele_counts[i, 150][allele_counts[i, 150] != -1]])\n",
    "    #         print(h1)\n",
    "    h2 = allel.HaplotypeArray([allele_counts[i, 60][allele_counts[i, 60] != -1]])\n",
    "    a2 = allel.AlleleCountsArray([allele_counts[i, 60][allele_counts[i, 60] != -1]])\n",
    "    #     print(h1)\n",
    "    #     print(h2)\n",
    "    num, den = allel.hudson_fst(h1, h2)\n",
    "    fst = (num / den)\n",
    "    #     print(fst)\n",
    "\n",
    "\n",
    "    num, den = allel.hudson_fst(a1, a2)\n",
    "    fst = (num / den)\n",
    "#     print(fst)\n",
    "    np.nan_to_num(fst, copy=False, nan=0.0, posinf=None, neginf=None)\n",
    "    total_fst += fst[0]\n",
    "print(total_fst / allele_counts.shape[0])\n",
    "\n",
    "h1 = allel.HaplotypeArray([allele_counts[:, 150][allele_counts[:, 150] != -1]])\n",
    "#         print(h1)\n",
    "h2 = allel.HaplotypeArray([allele_counts[:, 60][allele_counts[:, 60] != -1]])\n",
    "#     print(h1)\n",
    "#     print(h2)\n",
    "num, den = allel.hudson_fst(h1, h2)\n",
    "fst = (num / den)\n",
    "\n",
    "print(fst)\n",
    "# hudson_fst_op(20, 30)"
   ]
  },
  {
   "cell_type": "code",
   "execution_count": 112,
   "id": "e809a07c",
   "metadata": {},
   "outputs": [
    {
     "name": "stdout",
     "output_type": "stream",
     "text": [
      " 1  0  0  0  0 ...  0  0  0  0  0\n",
      "\n",
      "36429  5073  2361  1568  1314 ...     0     0     1     0     1\n",
      "\n",
      " 1  0  0  0  0 ...  0  0  0  0  0\n",
      "\n"
     ]
    }
   ],
   "source": [
    "a1 = allel.AlleleCountsArray([allele_counts[:, 150][allele_counts[:, 150] != -1]])\n",
    "print(a1)\n",
    "print(h1.count_alleles())\n",
    "print(h1)"
   ]
  },
  {
   "cell_type": "code",
   "execution_count": 68,
   "id": "e813e7d6",
   "metadata": {},
   "outputs": [],
   "source": [
    "import os\n",
    "os.makedirs('tests/', exist_ok=True)\n",
    "os.symlink('../../../01-projects/', 'tests/projects', target_is_directory=True)"
   ]
  },
  {
   "cell_type": "code",
   "execution_count": 80,
   "id": "c3e607d7",
   "metadata": {},
   "outputs": [
    {
     "name": "stdout",
     "output_type": "stream",
     "text": [
      "/mnt/hpccs01/scratch/microbiome/n10853499/00-rosella_testing/00-CAMI_I/00-low_complexity/binning/test_dag/bins/final_bins/semibin_refined_bins.tsv.024.fna\n",
      "test_dag_semibin_refined_bins.tsv.024_RL|S1|C1198\n",
      "test_dag_semibin_refined_bins.tsv.024_RL|S1|C3912\n",
      "test_dag_semibin_refined_bins.tsv.024_RL|S1|C10907\n",
      "test_dag_semibin_refined_bins.tsv.024_RL|S1|C13173\n",
      "test_dag_semibin_refined_bins.tsv.024_RL|S1|C13963\n",
      "test_dag_semibin_refined_bins.tsv.024_RL|S1|C14639\n",
      "test_dag_semibin_refined_bins.tsv.024_RL|S1|C15554\n",
      "test_dag_semibin_refined_bins.tsv.024_RL|S1|C16754\n",
      "/mnt/hpccs01/scratch/microbiome/n10853499/00-rosella_testing/00-CAMI_I/00-low_complexity/binning/test_dag/bins/final_bins/semibin_refined_bins.tsv.025.fna\n",
      "test_dag_semibin_refined_bins.tsv.025_RL|S1|C1222\n",
      "test_dag_semibin_refined_bins.tsv.025_RL|S1|C1432\n",
      "test_dag_semibin_refined_bins.tsv.025_RL|S1|C2544\n",
      "test_dag_semibin_refined_bins.tsv.025_RL|S1|C3352\n",
      "test_dag_semibin_refined_bins.tsv.025_RL|S1|C3428\n",
      "test_dag_semibin_refined_bins.tsv.025_RL|S1|C3649\n",
      "test_dag_semibin_refined_bins.tsv.025_RL|S1|C4333\n",
      "test_dag_semibin_refined_bins.tsv.025_RL|S1|C5844\n",
      "test_dag_semibin_refined_bins.tsv.025_RL|S1|C5859\n",
      "test_dag_semibin_refined_bins.tsv.025_RL|S1|C6418\n",
      "test_dag_semibin_refined_bins.tsv.025_RL|S1|C6649\n",
      "test_dag_semibin_refined_bins.tsv.025_RL|S1|C7605\n",
      "test_dag_semibin_refined_bins.tsv.025_RL|S1|C7943\n",
      "test_dag_semibin_refined_bins.tsv.025_RL|S1|C8808\n",
      "test_dag_semibin_refined_bins.tsv.025_RL|S1|C9122\n",
      "test_dag_semibin_refined_bins.tsv.025_RL|S1|C9902\n",
      "test_dag_semibin_refined_bins.tsv.025_RL|S1|C10454\n",
      "test_dag_semibin_refined_bins.tsv.025_RL|S1|C11104\n",
      "test_dag_semibin_refined_bins.tsv.025_RL|S1|C11804\n",
      "test_dag_semibin_refined_bins.tsv.025_RL|S1|C13106\n",
      "test_dag_semibin_refined_bins.tsv.025_RL|S1|C14147\n",
      "test_dag_semibin_refined_bins.tsv.025_RL|S1|C14198\n",
      "test_dag_semibin_refined_bins.tsv.025_RL|S1|C14481\n",
      "test_dag_semibin_refined_bins.tsv.025_RL|S1|C14852\n",
      "test_dag_semibin_refined_bins.tsv.025_RL|S1|C15674\n",
      "test_dag_semibin_refined_bins.tsv.025_RL|S1|C18343\n",
      "test_dag_semibin_refined_bins.tsv.025_RL|S1|C18930\n",
      "test_dag_semibin_refined_bins.tsv.025_RL|S1|C19208\n",
      "test_dag_semibin_refined_bins.tsv.025_RL|S1|C19362\n",
      "/mnt/hpccs01/scratch/microbiome/n10853499/00-rosella_testing/00-CAMI_I/00-low_complexity/binning/test_dag/bins/final_bins/semibin_refined_bins.tsv.010_sub.fna\n"
     ]
    },
    {
     "ename": "FileNotFoundError",
     "evalue": "[Errno 2] No such file or directory: '/mnt/hpccs01/scratch/microbiome/n10853499/00-rosella_testing/00-CAMI_I/00-low_complexity/binning/test_dag/bins/final_bins/semibin_refined_bins.tsv.010_sub.fna'",
     "output_type": "error",
     "traceback": [
      "\u001b[0;31m---------------------------------------------------------------------------\u001b[0m",
      "\u001b[0;31mFileNotFoundError\u001b[0m                         Traceback (most recent call last)",
      "Input \u001b[0;32mIn [80]\u001b[0m, in \u001b[0;36m<cell line: 9>\u001b[0;34m()\u001b[0m\n\u001b[1;32m     23\u001b[0m sample_name \u001b[38;5;241m=\u001b[39m prev_cluster\u001b[38;5;241m.\u001b[39msplit(\u001b[38;5;124m\"\u001b[39m\u001b[38;5;124m/\u001b[39m\u001b[38;5;124m\"\u001b[39m)[\u001b[38;5;241m-\u001b[39m\u001b[38;5;241m4\u001b[39m]\n\u001b[1;32m     24\u001b[0m name \u001b[38;5;241m=\u001b[39m prev_cluster\u001b[38;5;241m.\u001b[39msplit(\u001b[38;5;124m\"\u001b[39m\u001b[38;5;124m/\u001b[39m\u001b[38;5;124m\"\u001b[39m)[\u001b[38;5;241m-\u001b[39m\u001b[38;5;241m1\u001b[39m]\u001b[38;5;241m.\u001b[39mstrip(\u001b[38;5;124m\"\u001b[39m\u001b[38;5;124m.fna\u001b[39m\u001b[38;5;124m\"\u001b[39m)\n\u001b[0;32m---> 25\u001b[0m \u001b[38;5;28;01mfor\u001b[39;00m record \u001b[38;5;129;01min\u001b[39;00m \u001b[43mSeqIO\u001b[49m\u001b[38;5;241;43m.\u001b[39;49m\u001b[43mparse\u001b[49m\u001b[43m(\u001b[49m\u001b[43mdereplicated_clusters\u001b[49m\u001b[38;5;241;43m.\u001b[39;49m\u001b[43miloc\u001b[49m\u001b[43m[\u001b[49m\u001b[43mi\u001b[49m\u001b[43m,\u001b[49m\u001b[43m \u001b[49m\u001b[38;5;241;43m1\u001b[39;49m\u001b[43m]\u001b[49m\u001b[43m,\u001b[49m\u001b[43m \u001b[49m\u001b[38;5;124;43m\"\u001b[39;49m\u001b[38;5;124;43mfasta\u001b[39;49m\u001b[38;5;124;43m\"\u001b[39;49m\u001b[43m)\u001b[49m:\n\u001b[1;32m     26\u001b[0m     \u001b[38;5;28mprint\u001b[39m(\u001b[38;5;124mf\u001b[39m\u001b[38;5;124m\"\u001b[39m\u001b[38;5;132;01m{\u001b[39;00msample_name\u001b[38;5;132;01m}\u001b[39;00m\u001b[38;5;124m_\u001b[39m\u001b[38;5;132;01m{\u001b[39;00mname\u001b[38;5;132;01m}\u001b[39;00m\u001b[38;5;124m_\u001b[39m\u001b[38;5;132;01m{\u001b[39;00mrecord\u001b[38;5;241m.\u001b[39mid\u001b[38;5;132;01m}\u001b[39;00m\u001b[38;5;124m\"\u001b[39m)\n",
      "File \u001b[0;32m~/.conda/envs/r-4.1/lib/python3.10/site-packages/Bio/SeqIO/__init__.py:605\u001b[0m, in \u001b[0;36mparse\u001b[0;34m(handle, format, alphabet)\u001b[0m\n\u001b[1;32m    603\u001b[0m iterator_generator \u001b[38;5;241m=\u001b[39m _FormatToIterator\u001b[38;5;241m.\u001b[39mget(\u001b[38;5;28mformat\u001b[39m)\n\u001b[1;32m    604\u001b[0m \u001b[38;5;28;01mif\u001b[39;00m iterator_generator:\n\u001b[0;32m--> 605\u001b[0m     \u001b[38;5;28;01mreturn\u001b[39;00m \u001b[43miterator_generator\u001b[49m\u001b[43m(\u001b[49m\u001b[43mhandle\u001b[49m\u001b[43m)\u001b[49m\n\u001b[1;32m    606\u001b[0m \u001b[38;5;28;01mif\u001b[39;00m \u001b[38;5;28mformat\u001b[39m \u001b[38;5;129;01min\u001b[39;00m AlignIO\u001b[38;5;241m.\u001b[39m_FormatToIterator:\n\u001b[1;32m    607\u001b[0m     \u001b[38;5;66;03m# Use Bio.AlignIO to read in the alignments\u001b[39;00m\n\u001b[1;32m    608\u001b[0m     \u001b[38;5;28;01mreturn\u001b[39;00m (r \u001b[38;5;28;01mfor\u001b[39;00m alignment \u001b[38;5;129;01min\u001b[39;00m AlignIO\u001b[38;5;241m.\u001b[39mparse(handle, \u001b[38;5;28mformat\u001b[39m) \u001b[38;5;28;01mfor\u001b[39;00m r \u001b[38;5;129;01min\u001b[39;00m alignment)\n",
      "File \u001b[0;32m~/.conda/envs/r-4.1/lib/python3.10/site-packages/Bio/SeqIO/FastaIO.py:183\u001b[0m, in \u001b[0;36mFastaIterator.__init__\u001b[0;34m(self, source, alphabet, title2ids)\u001b[0m\n\u001b[1;32m    181\u001b[0m     \u001b[38;5;28;01mraise\u001b[39;00m \u001b[38;5;167;01mValueError\u001b[39;00m(\u001b[38;5;124m\"\u001b[39m\u001b[38;5;124mThe alphabet argument is no longer supported\u001b[39m\u001b[38;5;124m\"\u001b[39m)\n\u001b[1;32m    182\u001b[0m \u001b[38;5;28mself\u001b[39m\u001b[38;5;241m.\u001b[39mtitle2ids \u001b[38;5;241m=\u001b[39m title2ids\n\u001b[0;32m--> 183\u001b[0m \u001b[38;5;28;43msuper\u001b[39;49m\u001b[43m(\u001b[49m\u001b[43m)\u001b[49m\u001b[38;5;241;43m.\u001b[39;49m\u001b[38;5;21;43m__init__\u001b[39;49m\u001b[43m(\u001b[49m\u001b[43msource\u001b[49m\u001b[43m,\u001b[49m\u001b[43m \u001b[49m\u001b[43mmode\u001b[49m\u001b[38;5;241;43m=\u001b[39;49m\u001b[38;5;124;43m\"\u001b[39;49m\u001b[38;5;124;43mt\u001b[39;49m\u001b[38;5;124;43m\"\u001b[39;49m\u001b[43m,\u001b[49m\u001b[43m \u001b[49m\u001b[43mfmt\u001b[49m\u001b[38;5;241;43m=\u001b[39;49m\u001b[38;5;124;43m\"\u001b[39;49m\u001b[38;5;124;43mFasta\u001b[39;49m\u001b[38;5;124;43m\"\u001b[39;49m\u001b[43m)\u001b[49m\n",
      "File \u001b[0;32m~/.conda/envs/r-4.1/lib/python3.10/site-packages/Bio/SeqIO/Interfaces.py:48\u001b[0m, in \u001b[0;36mSequenceIterator.__init__\u001b[0;34m(self, source, alphabet, mode, fmt)\u001b[0m\n\u001b[1;32m     46\u001b[0m     \u001b[38;5;28;01mraise\u001b[39;00m \u001b[38;5;167;01mValueError\u001b[39;00m(\u001b[38;5;124m\"\u001b[39m\u001b[38;5;124mThe alphabet argument is no longer supported\u001b[39m\u001b[38;5;124m\"\u001b[39m)\n\u001b[1;32m     47\u001b[0m \u001b[38;5;28;01mtry\u001b[39;00m:\n\u001b[0;32m---> 48\u001b[0m     \u001b[38;5;28mself\u001b[39m\u001b[38;5;241m.\u001b[39mstream \u001b[38;5;241m=\u001b[39m \u001b[38;5;28;43mopen\u001b[39;49m\u001b[43m(\u001b[49m\u001b[43msource\u001b[49m\u001b[43m,\u001b[49m\u001b[43m \u001b[49m\u001b[38;5;124;43m\"\u001b[39;49m\u001b[38;5;124;43mr\u001b[39;49m\u001b[38;5;124;43m\"\u001b[39;49m\u001b[43m \u001b[49m\u001b[38;5;241;43m+\u001b[39;49m\u001b[43m \u001b[49m\u001b[43mmode\u001b[49m\u001b[43m)\u001b[49m\n\u001b[1;32m     49\u001b[0m     \u001b[38;5;28mself\u001b[39m\u001b[38;5;241m.\u001b[39mshould_close_stream \u001b[38;5;241m=\u001b[39m \u001b[38;5;28;01mTrue\u001b[39;00m\n\u001b[1;32m     50\u001b[0m \u001b[38;5;28;01mexcept\u001b[39;00m \u001b[38;5;167;01mTypeError\u001b[39;00m:  \u001b[38;5;66;03m# not a path, assume we received a stream\u001b[39;00m\n",
      "\u001b[0;31mFileNotFoundError\u001b[0m: [Errno 2] No such file or directory: '/mnt/hpccs01/scratch/microbiome/n10853499/00-rosella_testing/00-CAMI_I/00-low_complexity/binning/test_dag/bins/final_bins/semibin_refined_bins.tsv.010_sub.fna'"
     ]
    }
   ],
   "source": [
    "from Bio import SeqIO\n",
    "\n",
    "dereplicated_clusters = pd.read_csv('/mnt/hpccs01/scratch/microbiome/n10853499/00-rosella_testing/00-CAMI_I/00-low_complexity/binning/test_cluster/data/dereplicated_clusters.txt', sep='\\t', header=None)\n",
    "bin_info = pd.read_csv('/mnt/hpccs01/scratch/microbiome/n10853499/00-rosella_testing/00-CAMI_I/00-low_complexity/binning/test_cluster/data/representative_checkm_full.tsv', sep='\\t')\n",
    "\n",
    "prev_cluster = \"\"\n",
    "taxonomy = \"\"\n",
    "sequences = []\n",
    "for i in range(dereplicated_clusters.shape[0]):\n",
    "    print(dereplicated_clusters.iloc[i, 1])\n",
    "    if prev_cluster != dereplicated_clusters.iloc[i, 0]:\n",
    "        if len(sequences) != 0:\n",
    "            # print the fasta file\n",
    "            representative_sample_name = prev_cluster.split(\"/\")[-4]\n",
    "            representative_name = prev_cluster.split(\"/\")[-1].strip(\".fna\")\n",
    "            representative_name = f\"{representative_sample_name}/{representative_name}\"\n",
    "            print(representative_name)\n",
    "            SeqIO.write(sequences, f\"data/sequences_{representative_name}\", \"fasta\")\n",
    "        taxonomy = bin_info[bin_info['Bin Id'] == prev_cluster]['classification']\n",
    "        prev_cluster = dereplicated_clusters.iloc[i, 0]\n",
    "        sequences = []\n",
    "    \n",
    "    sample_name = prev_cluster.split(\"/\")[-4]\n",
    "    name = prev_cluster.split(\"/\")[-1].strip(\".fna\")\n",
    "    for record in SeqIO.parse(dereplicated_clusters.iloc[i, 1], \"fasta\"):\n",
    "        record.id = f\"{sample_name}_{name}_{record.id}\"\n",
    "        sequences.append(record)\n",
    "        \n",
    "        "
   ]
  },
  {
   "cell_type": "code",
   "execution_count": 135,
   "id": "9bb1814c",
   "metadata": {},
   "outputs": [
    {
     "ename": "ValueError",
     "evalue": "g must have three dimensions",
     "output_type": "error",
     "traceback": [
      "\u001b[0;31m---------------------------------------------------------------------------\u001b[0m",
      "\u001b[0;31mValueError\u001b[0m                                Traceback (most recent call last)",
      "Input \u001b[0;32mIn [135]\u001b[0m, in \u001b[0;36m<cell line: 1>\u001b[0;34m()\u001b[0m\n\u001b[0;32m----> 1\u001b[0m a, b, c \u001b[38;5;241m=\u001b[39m \u001b[43mallel\u001b[49m\u001b[38;5;241;43m.\u001b[39;49m\u001b[43mweir_cockerham_fst\u001b[49m\u001b[43m(\u001b[49m\u001b[43mtest_vcf\u001b[49m\u001b[43m[\u001b[49m\u001b[38;5;124;43m'\u001b[39;49m\u001b[38;5;124;43mcalldata/GT\u001b[39;49m\u001b[38;5;124;43m'\u001b[39;49m\u001b[43m]\u001b[49m\u001b[43m[\u001b[49m\u001b[43m:\u001b[49m\u001b[43m,\u001b[49m\u001b[43m \u001b[49m\u001b[43m:\u001b[49m\u001b[43m,\u001b[49m\u001b[43m \u001b[49m\u001b[38;5;241;43m0\u001b[39;49m\u001b[43m]\u001b[49m\u001b[43m,\u001b[49m\u001b[43m \u001b[49m\u001b[43msubpops\u001b[49m\u001b[38;5;241;43m=\u001b[39;49m\u001b[43m[\u001b[49m\u001b[43m[\u001b[49m\u001b[38;5;241;43m0\u001b[39;49m\u001b[43m,\u001b[49m\u001b[43m \u001b[49m\u001b[38;5;241;43m1\u001b[39;49m\u001b[43m]\u001b[49m\u001b[43m,\u001b[49m\u001b[43m \u001b[49m\u001b[43m[\u001b[49m\u001b[38;5;241;43m1\u001b[39;49m\u001b[43m,\u001b[49m\u001b[43m \u001b[49m\u001b[38;5;241;43m2\u001b[39;49m\u001b[43m]\u001b[49m\u001b[43m]\u001b[49m\u001b[43m)\u001b[49m\n\u001b[1;32m      2\u001b[0m \u001b[38;5;28mprint\u001b[39m(a)\n\u001b[1;32m      3\u001b[0m \u001b[38;5;28mprint\u001b[39m(b)\n",
      "File \u001b[0;32m~/.conda/envs/r-4.1/lib/python3.10/site-packages/allel/stats/fst.py:109\u001b[0m, in \u001b[0;36mweir_cockerham_fst\u001b[0;34m(g, subpops, max_allele, blen)\u001b[0m\n\u001b[1;32m    107\u001b[0m     g \u001b[38;5;241m=\u001b[39m GenotypeArray(g, copy\u001b[38;5;241m=\u001b[39m\u001b[38;5;28;01mFalse\u001b[39;00m)\n\u001b[1;32m    108\u001b[0m \u001b[38;5;28;01mif\u001b[39;00m g\u001b[38;5;241m.\u001b[39mndim \u001b[38;5;241m!=\u001b[39m \u001b[38;5;241m3\u001b[39m:\n\u001b[0;32m--> 109\u001b[0m     \u001b[38;5;28;01mraise\u001b[39;00m \u001b[38;5;167;01mValueError\u001b[39;00m(\u001b[38;5;124m'\u001b[39m\u001b[38;5;124mg must have three dimensions\u001b[39m\u001b[38;5;124m'\u001b[39m)\n\u001b[1;32m    110\u001b[0m \u001b[38;5;28;01mif\u001b[39;00m g\u001b[38;5;241m.\u001b[39mshape[\u001b[38;5;241m2\u001b[39m] \u001b[38;5;241m!=\u001b[39m \u001b[38;5;241m2\u001b[39m:\n\u001b[1;32m    111\u001b[0m     \u001b[38;5;28;01mraise\u001b[39;00m \u001b[38;5;167;01mNotImplementedError\u001b[39;00m(\u001b[38;5;124m'\u001b[39m\u001b[38;5;124monly diploid genotypes are supported\u001b[39m\u001b[38;5;124m'\u001b[39m)\n",
      "\u001b[0;31mValueError\u001b[0m: g must have three dimensions"
     ]
    }
   ],
   "source": [
    "a, b, c = allel.weir_cockerham_fst(test_vcf['calldata/GT'][:, :, 0], subpops=[[0, 1], [1, 2]])\n",
    "print(a)\n",
    "print(b)\n",
    "print(c)\n",
    "# a / (a + b + c)"
   ]
  },
  {
   "cell_type": "code",
   "execution_count": 189,
   "id": "24a0a18d",
   "metadata": {},
   "outputs": [
    {
     "data": {
      "text/html": [
       "<div class=\"allel allel-DisplayAs2D\"><span>&lt;HaplotypeArray shape=(3, 4) dtype=int64&gt;</span><table><thead><tr><th></th><th style=\"text-align: center\">0</th><th style=\"text-align: center\">1</th><th style=\"text-align: center\">2</th><th style=\"text-align: center\">3</th></tr></thead><tbody><tr><th style=\"text-align: center; background-color: white; border-right: 1px solid black; \">0</th><td style=\"text-align: center\">1</td><td style=\"text-align: center\">1</td><td style=\"text-align: center\">1</td><td style=\"text-align: center\">1</td></tr><tr><th style=\"text-align: center; background-color: white; border-right: 1px solid black; \">1</th><td style=\"text-align: center\">0</td><td style=\"text-align: center\">0</td><td style=\"text-align: center\">0</td><td style=\"text-align: center\">0</td></tr><tr><th style=\"text-align: center; background-color: white; border-right: 1px solid black; \">2</th><td style=\"text-align: center\">.</td><td style=\"text-align: center\">.</td><td style=\"text-align: center\">.</td><td style=\"text-align: center\">.</td></tr></tbody></table></div>"
      ],
      "text/plain": [
       "<HaplotypeArray shape=(3, 4) dtype=int64>\n",
       "1 1 1 1\n",
       "0 0 0 0\n",
       ". . . ."
      ]
     },
     "execution_count": 189,
     "metadata": {},
     "output_type": "execute_result"
    }
   ],
   "source": [
    "allel.HaplotypeArray([[1, 1, 1, 1], [0, 0, 0, 0], [-1, -1, -1, -1]])"
   ]
  },
  {
   "cell_type": "code",
   "execution_count": 147,
   "id": "f8ce713e",
   "metadata": {},
   "outputs": [
    {
     "name": "stdout",
     "output_type": "stream",
     "text": [
      "0 2\n",
      "0 2\n",
      "0 2\n",
      "...\n",
      "0 2\n",
      "0 2\n",
      "0 2\n",
      "\n",
      "0 2\n",
      "0 2\n",
      "0 2\n",
      "...\n",
      "0 2\n",
      "0 2\n",
      "0 2\n",
      "\n"
     ]
    },
    {
     "data": {
      "text/plain": [
       "array([ 0.,  0.,  0.,  0.,  0.,  0.,  0.,  0.,  0.,  0.,  0.,  0.,  0.,\n",
       "       nan, nan,  0.,  0.,  0.,  0.,  1.,  0.,  0.,  0.,  0.,  0.,  1.,\n",
       "        0.,  0.,  0.,  0.,  0.,  0.,  0.,  0.,  0.,  0.,  0.,  0.,  0.,\n",
       "        0.,  0.,  0.,  0.,  0.,  0.,  0.,  0.,  1.,  1.,  1.,  1.,  1.,\n",
       "        1.,  0.,  0.,  1.,  0.,  0.,  1.,  0.,  1.,  0.,  1.,  1.,  0.,\n",
       "        1.,  1.,  1.,  0., nan, nan, nan, nan, nan, nan, nan, nan, nan,\n",
       "       nan, nan, nan, nan, nan, nan, nan, nan, nan, nan, nan, nan, nan,\n",
       "       nan, nan,  0.,  0.,  0.,  0.,  0.,  0.,  0.,  0.,  0.,  0.,  0.,\n",
       "        0.,  0.,  0.,  0.,  0.,  0.,  0.,  0.,  0.,  0.,  0., nan, nan,\n",
       "       nan, nan, nan, nan, nan, nan, nan, nan, nan, nan, nan, nan, nan,\n",
       "       nan, nan, nan, nan, nan, nan, nan, nan, nan, nan, nan, nan, nan,\n",
       "       nan, nan, nan, nan, nan, nan, nan, nan, nan, nan, nan, nan, nan,\n",
       "       nan, nan, nan, nan, nan, nan, nan, nan, nan, nan, nan, nan, nan,\n",
       "       nan, nan, nan, nan, nan, nan, nan, nan, nan, nan, nan, nan, nan,\n",
       "       nan, nan, nan, nan, nan, nan, nan, nan, nan, nan, nan, nan, nan,\n",
       "       nan, nan, nan, nan, nan, nan, nan, nan, nan, nan, nan, nan, nan,\n",
       "       nan, nan, nan, nan,  0.,  0.,  0.,  0.,  0.,  0.,  0.,  0.,  0.,\n",
       "        1.,  1.,  1.,  1.,  1.,  1.,  0.,  0.,  0.,  0.,  0.,  0.,  0.,\n",
       "        0.,  0.,  0.,  0.,  0.,  0.,  0.,  0.,  0.,  0.,  0.,  1.,  0.,\n",
       "        0.,  0.,  0.,  0.,  0.,  0.,  0.,  0.,  0.,  0.,  0.,  0.,  0.,\n",
       "       nan, nan, nan, nan, nan, nan, nan, nan, nan, nan, nan, nan, nan,\n",
       "       nan, nan, nan, nan, nan, nan, nan,  0., nan, nan, nan, nan, nan,\n",
       "       nan, nan, nan, nan, nan, nan, nan, nan, nan, nan, nan, nan, nan,\n",
       "       nan, nan, nan, nan, nan,  0.,  0.,  0.,  0.,  0.,  0.,  0.,  0.,\n",
       "        0.,  0.,  0.,  0.,  0.,  0.,  0.,  0.,  0.,  0.,  0.,  0.,  0.,\n",
       "        0.,  1.,  0., nan, nan, nan,  1.,  0.,  0.,  0.,  0.,  0.,  0.,\n",
       "        0.,  0.,  0., nan, nan, nan, nan, nan, nan, nan, nan, nan, nan,\n",
       "       nan, nan, nan, nan, nan, nan, nan, nan, nan, nan, nan, nan, nan,\n",
       "       nan,  0.,  0.,  0.,  0.,  0.,  0.,  0.,  0.,  0.,  0.,  0.,  0.,\n",
       "        0.,  0.,  0.,  0.,  0.,  0.,  0.,  0.,  0.,  0.])"
      ]
     },
     "execution_count": 147,
     "metadata": {},
     "output_type": "execute_result"
    }
   ],
   "source": [
    "subpops = [[0, 0], [1, 1], [2, 2]]\n",
    "g = allel.HaplotypeArray(test_vcf['calldata/GT'][:, :, 0])\n",
    "ac1 = g.count_alleles(subpop=subpops[0])\n",
    "ac2 = g.count_alleles(subpop=subpops[1])\n",
    "print(ac1)\n",
    "print(ac2)\n",
    "# print(ac1 == ac2)\n",
    "allel.hudson_fst(ac1, ac2)[1]"
   ]
  },
  {
   "cell_type": "code",
   "execution_count": 127,
   "id": "63903ba9",
   "metadata": {},
   "outputs": [
    {
     "data": {
      "text/plain": [
       "nan"
      ]
     },
     "execution_count": 127,
     "metadata": {},
     "output_type": "execute_result"
    }
   ],
   "source": [
    "fst = np.sum(a) / (np.sum(a) + np.sum(b) + np.sum(c))\n",
    "fst.sum()"
   ]
  },
  {
   "cell_type": "code",
   "execution_count": 58,
   "id": "609395a8",
   "metadata": {},
   "outputs": [
    {
     "name": "stderr",
     "output_type": "stream",
     "text": [
      "/tmp/ipykernel_95597/879179919.py:7: RuntimeWarning: invalid value encountered in true_divide\n",
      "  a / (a + b + c)\n"
     ]
    },
    {
     "data": {
      "text/plain": [
       "array([[ 1. ,  1. ,  nan],\n",
       "       [ 0. ,  0. ,  nan],\n",
       "       [ nan,  nan,  nan],\n",
       "       [ 0. , -0.5, -0.5],\n",
       "       [-1.8, -1.8,  nan]])"
      ]
     },
     "execution_count": 58,
     "metadata": {},
     "output_type": "execute_result"
    }
   ],
   "source": [
    "g = np.array([[[0, 0], [0, 0], [1, 1], [1, 1]],\n",
    "     [[0, 1], [0, 1], [0, 1], [0, 1]],\n",
    "     [[0, 0], [0, 0], [0, 0], [0, 0]],\n",
    "     [[0, 1], [1, 2], [1, 1], [2, 2]],\n",
    "     [[0, 0], [1, 1], [0, 1], [-1, -1]]])\n",
    "a, b, c = allel.weir_cockerham_fst(g, subpops=[[0, 1], [2, 3]])\n",
    "a / (a + b + c)"
   ]
  },
  {
   "cell_type": "code",
   "execution_count": 26,
   "id": "0c3ab0a8",
   "metadata": {},
   "outputs": [
    {
     "name": "stdout",
     "output_type": "stream",
     "text": [
      "Processing sample_1\n",
      "sample_1 ['pe1.fq.gz'] ['pe2.fq.gz'] ['nanopore.fq.gz'] None\n",
      "Processing sample_2\n",
      "sample_2 ['interleaved.fq.gz'] None ['pacbio.fq.gz'] None\n",
      "Processing sample_3\n",
      "sample_3 ['pe1.1.fq.gz', 'pe1.2.fq.gz'] ['pe2.1.fq.gz', 'pe2.2.fq.gz'] ['n1.fq.gz', 'n2.fq.gz', 'n3.fq.gz'] None\n",
      "Processing sample_4\n",
      "sample_4 ['pe1.1.fq.gz', 'pe1.2.fq.gz'] ['pe2.1.fq.gz', 'pe2.2.fq.gz'] ['n1.fq.gz', 'n2.fq.gz', 'n3.fq.gz'] assembly.fasta\n"
     ]
    },
    {
     "name": "stderr",
     "output_type": "stream",
     "text": [
      "/tmp/ipykernel_17862/4291521788.py:1: ParserWarning: Falling back to the 'python' engine because the 'c' engine does not support sep=None with delim_whitespace=False; you can avoid this warning by specifying engine='python'.\n",
      "  batch = pd.read_csv(\"example_batch.tsv\", sep=None)\n"
     ]
    }
   ],
   "source": [
    "batch = pd.read_csv(\"example_batch.tsv\", sep=None)\n",
    "# batch = pd.read_csv(\"batch2.txt\", sep=None)\n",
    "\n",
    "for i in range(batch.shape[0]):\n",
    "    print(f\"Processing {batch.iloc[i, 0]}\")\n",
    "    \n",
    "    sample = batch.iloc[i, 0]\n",
    "    if isinstance(sample, str):\n",
    "        sample = sample.strip()\n",
    "    else:\n",
    "        sample = None\n",
    "    \n",
    "    s1 = batch.iloc[i, 1]\n",
    "    if isinstance(s1, str):\n",
    "        s1 = s1.strip().split(',')\n",
    "    else:\n",
    "        s1 = None\n",
    "        \n",
    "    s2 = batch.iloc[i, 2]\n",
    "    if isinstance(s2, str):\n",
    "        s2 = s2.strip().split(',')\n",
    "    else:\n",
    "        s2 = None\n",
    "    \n",
    "    l = batch.iloc[i, 3]\n",
    "    if isinstance(l, str):\n",
    "        l = l.strip().split(',')\n",
    "    else:\n",
    "        l = None\n",
    "    \n",
    "    l_type = batch.iloc[i, 4].strip()\n",
    "    assembly = batch.iloc[i, 5]\n",
    "    \n",
    "    if isinstance(assembly, str):\n",
    "        assembly = assembly.strip()\n",
    "    else:\n",
    "        assembly = None\n",
    "    \n",
    "    print(f\"{sample} {s1} {s2} {l} {assembly}\")"
   ]
  },
  {
   "cell_type": "code",
   "execution_count": 36,
   "id": "557c0b19",
   "metadata": {},
   "outputs": [
    {
     "name": "stdout",
     "output_type": "stream",
     "text": [
      "[2, 3, 0, 4, 5]\n"
     ]
    }
   ],
   "source": [
    "# any(i in [1, 2, 3] for i in [3, 4, 5, 6])\n",
    "test = [2, 3, 4, 5]\n",
    "inds = [idx for idx, i in enumerate([1, 3, 4, 5]) if i in [2, 3]]\n",
    "test.insert(inds[0] + 1, 0)\n",
    "print(test)"
   ]
  },
  {
   "cell_type": "code",
   "execution_count": 46,
   "id": "53a93d65",
   "metadata": {},
   "outputs": [
    {
     "name": "stdout",
     "output_type": "stream",
     "text": [
      "['data/short_reads.racon.1.fastq.gz']\n"
     ]
    },
    {
     "data": {
      "text/plain": [
       "False"
      ]
     },
     "execution_count": 46,
     "metadata": {},
     "output_type": "execute_result"
    }
   ],
   "source": [
    "reads = \"data/short_reads.racon.1.fastq.gz \".strip().split(\",\")\n",
    "print(reads)\n",
    "reads[-3::] == \".gz\""
   ]
  }
 ],
 "metadata": {
  "kernelspec": {
   "display_name": "Python 3 (ipykernel)",
   "language": "python",
   "name": "python3"
  },
  "language_info": {
   "codemirror_mode": {
    "name": "ipython",
    "version": 3
   },
   "file_extension": ".py",
   "mimetype": "text/x-python",
   "name": "python",
   "nbconvert_exporter": "python",
   "pygments_lexer": "ipython3",
   "version": "3.10.5"
  }
 },
 "nbformat": 4,
 "nbformat_minor": 5
}
